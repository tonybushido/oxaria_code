{
 "cells": [
  {
   "cell_type": "code",
   "execution_count": 1,
   "metadata": {
    "ExecuteTime": {
     "end_time": "2021-06-29T09:16:07.854165Z",
     "start_time": "2021-06-29T09:16:07.516097Z"
    }
   },
   "outputs": [],
   "source": [
    "# Imports\n",
    "#---------\n",
    "import sys\n",
    "import pandas as pd\n",
    "import numpy as np\n",
    "import feather\n",
    "import os\n",
    "import gc\n",
    "import datetime as dt\n",
    "import matplotlib.pyplot as plt\n",
    "import matplotlib.dates as mdates\n",
    "from pandas.plotting import register_matplotlib_converters\n",
    "import matplotlib.ticker as ticker\n",
    "from matplotlib.dates import DateFormatter\n",
    "import matplotlib as mpl\n",
    "from datetime import timezone\n",
    "\n",
    "register_matplotlib_converters()\n",
    "\n",
    "# File locations\n",
    "#----------------\n",
    "the_gases = './oxaria/data/raw/2oxaria/json/gap_filling/'\n",
    "pngs = './oxaria/data/pngs/gap_filling/'\n"
   ]
  },
  {
   "cell_type": "code",
   "execution_count": 2,
   "metadata": {
    "ExecuteTime": {
     "end_time": "2021-06-29T09:16:09.690561Z",
     "start_time": "2021-06-29T09:16:07.855445Z"
    }
   },
   "outputs": [],
   "source": [
    "# Load the df \n",
    "#-------------\n",
    "oxaria2_climate = pd.read_feather(the_gases+'oxaria2_climate_gf.ftr').set_index(['tag','rec'])\n",
    "oxaria2_climate_lt = oxaria2_climate.iloc[:,[0,1,3]]\n"
   ]
  },
  {
   "cell_type": "code",
   "execution_count": 3,
   "metadata": {
    "ExecuteTime": {
     "end_time": "2021-06-29T09:16:09.699948Z",
     "start_time": "2021-06-29T09:16:09.692882Z"
    }
   },
   "outputs": [
    {
     "name": "stdout",
     "output_type": "stream",
     "text": [
      "\n",
      "Loading Oxaria2 climate...\n",
      "\n",
      "<class 'pandas.core.frame.DataFrame'>\n",
      "MultiIndex: 4137653 entries, ('scs-bgx-550', Timestamp('2020-03-09 10:31:40+0000', tz='UTC')) to ('scs-bgx-559', Timestamp('2021-02-28 23:59:30+0000', tz='UTC'))\n",
      "Data columns (total 3 columns):\n",
      " #   Column   Dtype  \n",
      "---  ------   -----  \n",
      " 0   val.hmd  float32\n",
      " 1   val.tmp  float32\n",
      " 2   name     object \n",
      "dtypes: float32(2), object(1)\n",
      "memory usage: 269.5+ MB\n"
     ]
    }
   ],
   "source": [
    "# Checking out the data types \n",
    "#-----------------------------\n",
    "print('\\n'+'Loading Oxaria2 climate...\\n')\n",
    "oxaria2_climate_lt.info()\n"
   ]
  },
  {
   "cell_type": "code",
   "execution_count": 4,
   "metadata": {
    "ExecuteTime": {
     "end_time": "2021-06-29T09:16:21.153656Z",
     "start_time": "2021-06-29T09:16:09.702191Z"
    }
   },
   "outputs": [
    {
     "name": "stdout",
     "output_type": "stream",
     "text": [
      "\n",
      " Cleaning duplicates & NAs in index (if any)...\n",
      "\n"
     ]
    }
   ],
   "source": [
    "# Some cleaning incase have missed anything\n",
    "#-------------------------------------------\n",
    "oxaria2_climate_lt = oxaria2_climate_lt[~oxaria2_climate.index.duplicated(keep='last')]\n",
    "oxaria2_climate_lt = oxaria2_climate_lt.reset_index()\n",
    "oxaria2_climate = oxaria2_climate_lt.dropna(axis=0,subset=['tag']).set_index(['tag','rec'])\n",
    "oxaria2_climate_lt.sort_index()\n",
    "print('\\n Cleaning duplicates & NAs in index (if any)...\\n')"
   ]
  },
  {
   "cell_type": "code",
   "execution_count": 5,
   "metadata": {
    "ExecuteTime": {
     "end_time": "2021-06-29T09:16:21.320036Z",
     "start_time": "2021-06-29T09:16:21.155631Z"
    }
   },
   "outputs": [
    {
     "name": "stdout",
     "output_type": "stream",
     "text": [
      "\n",
      " Unique tags loaded...\n",
      " \n",
      " Index(['scs-bgx-550', 'scs-bgx-551', 'scs-bgx-552', 'scs-bgx-553',\n",
      "       'scs-bgx-554', 'scs-bgx-555', 'scs-bgx-556', 'scs-bgx-557',\n",
      "       'scs-bgx-558', 'scs-bgx-559'],\n",
      "      dtype='object', name='tag')\n"
     ]
    }
   ],
   "source": [
    "# Get a list of unique tags\n",
    "#---------------------------\n",
    "tags = oxaria2_climate.index.get_level_values(0).unique()\n",
    "print('\\n Unique tags loaded...\\n \\n', tags)\n"
   ]
  },
  {
   "cell_type": "code",
   "execution_count": 6,
   "metadata": {
    "ExecuteTime": {
     "end_time": "2021-06-29T09:16:21.324860Z",
     "start_time": "2021-06-29T09:16:21.321834Z"
    }
   },
   "outputs": [
    {
     "name": "stdout",
     "output_type": "stream",
     "text": [
      "\n",
      " Applying variable start date filters of each sensor...\n",
      " \n",
      "{'scs-bgx-550': datetime.datetime(2020, 12, 15, 0, 0, tzinfo=datetime.timezone.utc), 'scs-bgx-551': datetime.datetime(2020, 7, 20, 0, 0, tzinfo=datetime.timezone.utc), 'scs-bgx-552': datetime.datetime(2020, 12, 15, 0, 0, tzinfo=datetime.timezone.utc), 'scs-bgx-553': datetime.datetime(2020, 7, 1, 0, 0, tzinfo=datetime.timezone.utc), 'scs-bgx-554': datetime.datetime(2020, 7, 1, 0, 0, tzinfo=datetime.timezone.utc), 'scs-bgx-555': datetime.datetime(2020, 12, 15, 0, 0, tzinfo=datetime.timezone.utc), 'scs-bgx-556': datetime.datetime(2020, 7, 20, 0, 0, tzinfo=datetime.timezone.utc), 'scs-bgx-557': datetime.datetime(2020, 7, 1, 0, 0, tzinfo=datetime.timezone.utc), 'scs-bgx-558': datetime.datetime(2020, 12, 15, 0, 0, tzinfo=datetime.timezone.utc), 'scs-bgx-559': datetime.datetime(2020, 12, 15, 0, 0, tzinfo=datetime.timezone.utc)}\n"
     ]
    }
   ],
   "source": [
    "# Define the start dates for stable operation\n",
    "#---------------------------------------------\n",
    "start_dates = ['2020-12-15T00:00:00','2020-07-20T00:00:00','2020-12-15T00:00:00','2020-07-01T00:00:00', \\\n",
    "               '2020-07-01T00:00:00','2020-12-15T00:00:00','2020-07-20T00:00:00','2020-07-01T00:00:00', \\\n",
    "               '2020-12-15T00:00:00','2020-12-15T00:00:00']\n",
    "\n",
    "dates_list = [dt.datetime.fromisoformat(date).replace(tzinfo=timezone.utc) for date in start_dates]\n",
    "dates_dict = dict(zip(tags,dates_list))\n",
    "print('\\n Applying variable start date filters of each sensor...\\n \\n'+str(dates_dict))"
   ]
  },
  {
   "cell_type": "code",
   "execution_count": 9,
   "metadata": {
    "ExecuteTime": {
     "end_time": "2021-06-29T12:16:40.984497Z",
     "start_time": "2021-06-29T12:16:38.764846Z"
    }
   },
   "outputs": [
    {
     "name": "stdout",
     "output_type": "stream",
     "text": [
      "\n",
      " Applying start date filters...\n",
      "\n",
      "<class 'pandas.core.frame.DataFrame'>\n",
      "Int64Index: 2000303 entries, 353407 to 4137652\n",
      "Data columns (total 5 columns):\n",
      " #   Column   Dtype              \n",
      "---  ------   -----              \n",
      " 0   tag      object             \n",
      " 1   rec      datetime64[ns, UTC]\n",
      " 2   val.hmd  float32            \n",
      " 3   val.tmp  float32            \n",
      " 4   name     object             \n",
      "dtypes: datetime64[ns, UTC](1), float32(2), object(2)\n",
      "memory usage: 76.3+ MB\n",
      "None\n",
      "\n",
      " Writing to  ./oxaria/data/raw/2oxaria/json/gap_filling/oxaria2_climate_stable_356_2feb21/.ftr\n",
      "\n",
      "All done! 😀\n"
     ]
    }
   ],
   "source": [
    "# Select periods of stable operation from the df of all gases sesnor data\n",
    "#-------------------------------------------------------------------------\n",
    "print('\\n Applying start date filters...\\n')\n",
    "\n",
    "tmp = []\n",
    "\n",
    "for k,v in dates_dict.items():\n",
    "    df = oxaria2_climate_lt.query('tag == @k & rec >= @v')\n",
    "    tmp.append(df)\n",
    "tmpdf = pd.concat(tmp)\n",
    "print(tmpdf.info())\n",
    "\n",
    "# Save the df \n",
    "#-------------\n",
    "print('\\n Writing to  '+the_gases+'oxaria2_climate_stable_356_2feb21/.ftr\\n')\n",
    "tmpdf.reset_index().to_feather(the_gases+'oxaria2_climate_stable_356_2feb21/.ftr')\n",
    "print('All done! \\U0001F600')"
   ]
  }
 ],
 "metadata": {
  "kernelspec": {
   "display_name": "Python [conda env:qoax] *",
   "language": "python",
   "name": "conda-env-qoax-py"
  },
  "language_info": {
   "codemirror_mode": {
    "name": "ipython",
    "version": 3
   },
   "file_extension": ".py",
   "mimetype": "text/x-python",
   "name": "python",
   "nbconvert_exporter": "python",
   "pygments_lexer": "ipython3",
   "version": "3.8.6"
  },
  "toc": {
   "base_numbering": 1,
   "nav_menu": {},
   "number_sections": true,
   "sideBar": true,
   "skip_h1_title": false,
   "title_cell": "Table of Contents",
   "title_sidebar": "Contents",
   "toc_cell": false,
   "toc_position": {},
   "toc_section_display": true,
   "toc_window_display": false
  },
  "varInspector": {
   "cols": {
    "lenName": 16,
    "lenType": 16,
    "lenVar": 40
   },
   "kernels_config": {
    "python": {
     "delete_cmd_postfix": "",
     "delete_cmd_prefix": "del ",
     "library": "var_list.py",
     "varRefreshCmd": "print(var_dic_list())"
    },
    "r": {
     "delete_cmd_postfix": ") ",
     "delete_cmd_prefix": "rm(",
     "library": "var_list.r",
     "varRefreshCmd": "cat(var_dic_list()) "
    }
   },
   "types_to_exclude": [
    "module",
    "function",
    "builtin_function_or_method",
    "instance",
    "_Feature"
   ],
   "window_display": false
  }
 },
 "nbformat": 4,
 "nbformat_minor": 4
}
