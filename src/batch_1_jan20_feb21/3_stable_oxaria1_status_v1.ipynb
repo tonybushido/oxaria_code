{
 "cells": [
  {
   "cell_type": "code",
   "execution_count": 1,
   "metadata": {
    "ExecuteTime": {
     "end_time": "2021-06-29T09:50:10.536247Z",
     "start_time": "2021-06-29T09:50:10.205383Z"
    }
   },
   "outputs": [],
   "source": [
    "# Imports\n",
    "#---------\n",
    "import sys\n",
    "import pandas as pd\n",
    "import numpy as np\n",
    "import feather\n",
    "import os\n",
    "import gc\n",
    "import datetime as dt\n",
    "import matplotlib.pyplot as plt\n",
    "import matplotlib.dates as mdates\n",
    "from pandas.plotting import register_matplotlib_converters\n",
    "import matplotlib.ticker as ticker\n",
    "from matplotlib.dates import DateFormatter\n",
    "import matplotlib as mpl\n",
    "from datetime import timezone\n",
    "\n",
    "register_matplotlib_converters()\n",
    "\n",
    "# File locations\n",
    "#----------------\n",
    "the_gases = './oxaria/data/raw/1oxaria/json/gap_filling/'\n",
    "pngs = './oxaria/data/pngs/gap_filling/'\n"
   ]
  },
  {
   "cell_type": "code",
   "execution_count": 2,
   "metadata": {
    "ExecuteTime": {
     "end_time": "2021-06-29T09:50:13.815980Z",
     "start_time": "2021-06-29T09:50:10.537764Z"
    }
   },
   "outputs": [],
   "source": [
    "# Load the df \n",
    "#-------------\n",
    "oxaria1_status = pd.read_feather(the_gases+'oxaria1_status_gf.ftr').set_index(['tag','rec'])\n",
    "oxaria1_status_lt = oxaria1_status.iloc[:,[12,13,14,15,16,17,18,19,20,21,22,23,24,25,26,27,29]]\n",
    "del oxaria1_status"
   ]
  },
  {
   "cell_type": "code",
   "execution_count": 3,
   "metadata": {
    "ExecuteTime": {
     "end_time": "2021-06-29T09:50:13.826563Z",
     "start_time": "2021-06-29T09:50:13.817811Z"
    }
   },
   "outputs": [
    {
     "name": "stdout",
     "output_type": "stream",
     "text": [
      "\n",
      "Loading Oxaria1 status...\n",
      "\n",
      "<class 'pandas.core.frame.DataFrame'>\n",
      "MultiIndex: 4137083 entries, ('scs-bgx-536', Timestamp('2020-01-04 09:46:25+0000', tz='UTC')) to ('scs-bgx-543', Timestamp('2021-02-28 23:59:50+0000', tz='UTC'))\n",
      "Data columns (total 17 columns):\n",
      " #   Column             Dtype  \n",
      "---  ------             -----  \n",
      " 0   val.up.load.av15   float32\n",
      " 1   val.up.load.av1    float32\n",
      " 2   val.up.load.av5    float32\n",
      " 3   val.up.period      object \n",
      " 4   val.up.users       float32\n",
      " 5   val.psu.prot-batt  float32\n",
      " 6   val.psu.rst        float32\n",
      " 7   val.psu.chg        float32\n",
      " 8   val.psu.standby    object \n",
      " 9   val.psu.pwr-in     float32\n",
      " 10  val.psu.host-3v3   float32\n",
      " 11  val.psu.batt-flt   object \n",
      " 12  val.tz.name        object \n",
      " 13  val.tz.utc-offset  object \n",
      " 14  val.tmp.brd        float32\n",
      " 15  val.psu.in         object \n",
      " 16  name               object \n",
      "dtypes: float32(10), object(7)\n",
      "memory usage: 589.4+ MB\n"
     ]
    }
   ],
   "source": [
    "# Checking out the data types \n",
    "#-----------------------------\n",
    "print('\\n'+'Loading Oxaria1 status...\\n')\n",
    "\n",
    "oxaria1_status_lt.info()\n"
   ]
  },
  {
   "cell_type": "code",
   "execution_count": 4,
   "metadata": {
    "ExecuteTime": {
     "end_time": "2021-06-29T09:50:27.913381Z",
     "start_time": "2021-06-29T09:50:13.828447Z"
    }
   },
   "outputs": [
    {
     "name": "stdout",
     "output_type": "stream",
     "text": [
      "\n",
      " Cleaning duplicates & NAs in index (if any)...\n",
      "\n"
     ]
    }
   ],
   "source": [
    "# Some cleaning incase have missed anything\n",
    "#-------------------------------------------\n",
    "oxaria1_status_lt = oxaria1_status_lt[~oxaria1_status_lt.index.duplicated(keep='last')]\n",
    "oxaria1_status_lt = oxaria1_status_lt.reset_index()\n",
    "oxaria1_status_lt = oxaria1_status_lt.dropna(axis=0,subset=['tag']).set_index(['tag','rec'])\n",
    "oxaria1_status_lt.sort_index()\n",
    "print('\\n Cleaning duplicates & NAs in index (if any)...\\n')"
   ]
  },
  {
   "cell_type": "code",
   "execution_count": 5,
   "metadata": {
    "ExecuteTime": {
     "end_time": "2021-06-29T09:50:28.069375Z",
     "start_time": "2021-06-29T09:50:27.914766Z"
    }
   },
   "outputs": [
    {
     "name": "stdout",
     "output_type": "stream",
     "text": [
      "\n",
      " Unique tags loaded...\n",
      " \n",
      " Index(['scs-bgx-536', 'scs-bgx-537', 'scs-bgx-538', 'scs-bgx-539',\n",
      "       'scs-bgx-540', 'scs-bgx-541', 'scs-bgx-542', 'scs-bgx-543'],\n",
      "      dtype='object', name='tag')\n"
     ]
    }
   ],
   "source": [
    "# Get a list of unique tags\n",
    "#---------------------------\n",
    "tags = oxaria1_status_lt.index.get_level_values(0).unique()\n",
    "print('\\n Unique tags loaded...\\n \\n', tags)"
   ]
  },
  {
   "cell_type": "code",
   "execution_count": 6,
   "metadata": {
    "ExecuteTime": {
     "end_time": "2021-06-29T09:50:28.073954Z",
     "start_time": "2021-06-29T09:50:28.070942Z"
    }
   },
   "outputs": [
    {
     "name": "stdout",
     "output_type": "stream",
     "text": [
      "\n",
      " Applying variable start date filters of each sensor...\n",
      " \n",
      "{'scs-bgx-536': datetime.datetime(2020, 9, 25, 0, 0, tzinfo=datetime.timezone.utc), 'scs-bgx-537': datetime.datetime(2020, 8, 1, 0, 0, tzinfo=datetime.timezone.utc), 'scs-bgx-538': datetime.datetime(2020, 6, 5, 0, 0, tzinfo=datetime.timezone.utc), 'scs-bgx-539': datetime.datetime(2020, 1, 25, 0, 0, tzinfo=datetime.timezone.utc), 'scs-bgx-540': datetime.datetime(2020, 5, 1, 0, 0, tzinfo=datetime.timezone.utc), 'scs-bgx-541': datetime.datetime(2020, 3, 5, 0, 0, tzinfo=datetime.timezone.utc), 'scs-bgx-542': datetime.datetime(2020, 2, 6, 0, 0, tzinfo=datetime.timezone.utc), 'scs-bgx-543': datetime.datetime(2020, 12, 7, 0, 0, tzinfo=datetime.timezone.utc)}\n"
     ]
    }
   ],
   "source": [
    "# Define the start dates for stable operation\n",
    "# ---------------------------------------------\n",
    "start_dates = ['2020-09-25T00:00:00','2020-08-01T00:00:00','2020-06-05T00:00:00','2020-01-25T00:00:00', \\\n",
    "               '2020-05-01T00:00:00','2020-03-05T00:00:00','2020-02-06T00:00:00','2020-12-07T00:00:00']\n",
    "dates_list = [dt.datetime.fromisoformat(date).replace(tzinfo=timezone.utc) for date in start_dates]\n",
    "dates_dict = dict(zip(tags,dates_list))\n",
    "print('\\n Applying variable start date filters of each sensor...\\n \\n'+str(dates_dict))"
   ]
  },
  {
   "cell_type": "code",
   "execution_count": 7,
   "metadata": {
    "ExecuteTime": {
     "end_time": "2021-06-29T09:50:33.136670Z",
     "start_time": "2021-06-29T09:50:28.075486Z"
    },
    "scrolled": false
   },
   "outputs": [
    {
     "name": "stdout",
     "output_type": "stream",
     "text": [
      "\n",
      " Applying start date filters...\n",
      "\n",
      "<class 'pandas.core.frame.DataFrame'>\n",
      "MultiIndex: 3114028 entries, ('scs-bgx-536', Timestamp('2020-09-25 00:00:19+0000', tz='UTC')) to ('scs-bgx-543', Timestamp('2021-02-28 23:59:50+0000', tz='UTC'))\n",
      "Data columns (total 17 columns):\n",
      " #   Column             Non-Null Count    Dtype  \n",
      "---  ------             --------------    -----  \n",
      " 0   val.up.load.av15   3114028 non-null  float32\n",
      " 1   val.up.load.av1    3114028 non-null  float32\n",
      " 2   val.up.load.av5    3114028 non-null  float32\n",
      " 3   val.up.period      3114028 non-null  object \n",
      " 4   val.up.users       3114028 non-null  float32\n",
      " 5   val.psu.prot-batt  3114027 non-null  float32\n",
      " 6   val.psu.rst        3114027 non-null  float32\n",
      " 7   val.psu.chg        3114027 non-null  float32\n",
      " 8   val.psu.standby    3114027 non-null  object \n",
      " 9   val.psu.pwr-in     3114027 non-null  float32\n",
      " 10  val.psu.host-3v3   3114027 non-null  float32\n",
      " 11  val.psu.batt-flt   3114027 non-null  object \n",
      " 12  val.tz.name        3114028 non-null  object \n",
      " 13  val.tz.utc-offset  3114028 non-null  object \n",
      " 14  val.tmp.brd        3114028 non-null  float32\n",
      " 15  val.psu.in         133604 non-null   object \n",
      " 16  name               3114028 non-null  object \n",
      "dtypes: float32(10), object(7)\n",
      "memory usage: 403.5+ MB\n",
      "\n",
      " Writing to  ./oxaria/data/raw/1oxaria/json/gap_filling/oxaria1_status_stable_536_feb21/.ftr\n",
      "\n",
      "All done! 😀\n"
     ]
    }
   ],
   "source": [
    "# Select periods of stable operation from the df of all gases sensor data\n",
    "# -------------------------------------------------------------------------\n",
    "print('\\n Applying start date filters...\\n')\n",
    "\n",
    "tmp = []\n",
    "\n",
    "for k, v in dates_dict.items():\n",
    "    df = oxaria1_status_lt.query('tag == @k & rec >= @v')\n",
    "    tmp.append(df)\n",
    "tmpdf = pd.concat(tmp)\n",
    "tmpdf.info(null_counts=True)\n",
    "\n",
    "# Save to feather\n",
    "# -----------------\n",
    "print('\\n Writing to  '+the_gases+'oxaria1_status_stable_536_feb21/.ftr\\n')\n",
    "tmpdf.reset_index().to_feather(the_gases+'oxaria1_status_stable_536_2feb21/.ftr')\n",
    "print('All done! \\U0001F600')\n"
   ]
  }
 ],
 "metadata": {
  "kernelspec": {
   "display_name": "Python [conda env:qoax] *",
   "language": "python",
   "name": "conda-env-qoax-py"
  },
  "language_info": {
   "codemirror_mode": {
    "name": "ipython",
    "version": 3
   },
   "file_extension": ".py",
   "mimetype": "text/x-python",
   "name": "python",
   "nbconvert_exporter": "python",
   "pygments_lexer": "ipython3",
   "version": "3.8.6"
  },
  "toc": {
   "base_numbering": 1,
   "nav_menu": {},
   "number_sections": true,
   "sideBar": true,
   "skip_h1_title": false,
   "title_cell": "Table of Contents",
   "title_sidebar": "Contents",
   "toc_cell": false,
   "toc_position": {},
   "toc_section_display": true,
   "toc_window_display": false
  },
  "varInspector": {
   "cols": {
    "lenName": 16,
    "lenType": 16,
    "lenVar": 40
   },
   "kernels_config": {
    "python": {
     "delete_cmd_postfix": "",
     "delete_cmd_prefix": "del ",
     "library": "var_list.py",
     "varRefreshCmd": "print(var_dic_list())"
    },
    "r": {
     "delete_cmd_postfix": ") ",
     "delete_cmd_prefix": "rm(",
     "library": "var_list.r",
     "varRefreshCmd": "cat(var_dic_list()) "
    }
   },
   "types_to_exclude": [
    "module",
    "function",
    "builtin_function_or_method",
    "instance",
    "_Feature"
   ],
   "window_display": false
  }
 },
 "nbformat": 4,
 "nbformat_minor": 4
}
