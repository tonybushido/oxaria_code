{
 "cells": [
  {
   "cell_type": "code",
   "execution_count": 1,
   "metadata": {
    "ExecuteTime": {
     "end_time": "2021-07-05T17:23:18.212755Z",
     "start_time": "2021-07-05T17:23:17.896737Z"
    }
   },
   "outputs": [],
   "source": [
    "# Imports\n",
    "#---------\n",
    "import sys\n",
    "import pandas as pd\n",
    "import numpy as np\n",
    "import feather\n",
    "import os\n",
    "import gc\n",
    "import datetime as dt\n",
    "import matplotlib.pyplot as plt\n",
    "import matplotlib.dates as mdates\n",
    "from pandas.plotting import register_matplotlib_converters\n",
    "import matplotlib.ticker as ticker\n",
    "from matplotlib.dates import DateFormatter\n",
    "import matplotlib as mpl\n",
    "from datetime import timezone\n",
    "import pickle\n",
    "\n",
    "register_matplotlib_converters()\n",
    "\n",
    "# File locations\n",
    "#----------------\n",
    "the_gases = './oxaria/data/raw/0oxaria/'\n",
    "aurn = './oxaria/data/aurn/'\n",
    "pngs = './oxaria/data/pngs/'\n"
   ]
  },
  {
   "cell_type": "code",
   "execution_count": 2,
   "metadata": {
    "ExecuteTime": {
     "end_time": "2021-07-05T17:23:18.267700Z",
     "start_time": "2021-07-05T17:23:18.215103Z"
    }
   },
   "outputs": [
    {
     "data": {
      "text/html": [
       "<div>\n",
       "<style scoped>\n",
       "    .dataframe tbody tr th:only-of-type {\n",
       "        vertical-align: middle;\n",
       "    }\n",
       "\n",
       "    .dataframe tbody tr th {\n",
       "        vertical-align: top;\n",
       "    }\n",
       "\n",
       "    .dataframe thead th {\n",
       "        text-align: right;\n",
       "    }\n",
       "</style>\n",
       "<table border=\"1\" class=\"dataframe\">\n",
       "  <thead>\n",
       "    <tr style=\"text-align: right;\">\n",
       "      <th></th>\n",
       "      <th>sitecode</th>\n",
       "      <th>name</th>\n",
       "      <th>rec</th>\n",
       "      <th>no_ppb</th>\n",
       "      <th>no2_ppb</th>\n",
       "      <th>pm10_ugg</th>\n",
       "      <th>o3_ppb</th>\n",
       "      <th>pm25_ugg</th>\n",
       "      <th>fidas_t</th>\n",
       "      <th>fidas_rh</th>\n",
       "    </tr>\n",
       "  </thead>\n",
       "  <tbody>\n",
       "    <tr>\n",
       "      <th>0</th>\n",
       "      <td>OX</td>\n",
       "      <td>Oxford Centre Roadside</td>\n",
       "      <td>2019-01-01 00:15:00+00:00</td>\n",
       "      <td>6.930000</td>\n",
       "      <td>11.450000</td>\n",
       "      <td>NaN</td>\n",
       "      <td>NaN</td>\n",
       "      <td>NaN</td>\n",
       "      <td>NaN</td>\n",
       "      <td>NaN</td>\n",
       "    </tr>\n",
       "    <tr>\n",
       "      <th>1</th>\n",
       "      <td>OX</td>\n",
       "      <td>Oxford Centre Roadside</td>\n",
       "      <td>2019-01-01 00:30:00+00:00</td>\n",
       "      <td>16.469999</td>\n",
       "      <td>20.299999</td>\n",
       "      <td>NaN</td>\n",
       "      <td>NaN</td>\n",
       "      <td>NaN</td>\n",
       "      <td>NaN</td>\n",
       "      <td>NaN</td>\n",
       "    </tr>\n",
       "    <tr>\n",
       "      <th>2</th>\n",
       "      <td>OX</td>\n",
       "      <td>Oxford Centre Roadside</td>\n",
       "      <td>2019-01-01 00:45:00+00:00</td>\n",
       "      <td>7.370000</td>\n",
       "      <td>16.110001</td>\n",
       "      <td>NaN</td>\n",
       "      <td>NaN</td>\n",
       "      <td>NaN</td>\n",
       "      <td>NaN</td>\n",
       "      <td>NaN</td>\n",
       "    </tr>\n",
       "    <tr>\n",
       "      <th>3</th>\n",
       "      <td>OX</td>\n",
       "      <td>Oxford Centre Roadside</td>\n",
       "      <td>2019-01-01 01:00:00+00:00</td>\n",
       "      <td>NaN</td>\n",
       "      <td>NaN</td>\n",
       "      <td>NaN</td>\n",
       "      <td>NaN</td>\n",
       "      <td>NaN</td>\n",
       "      <td>NaN</td>\n",
       "      <td>NaN</td>\n",
       "    </tr>\n",
       "    <tr>\n",
       "      <th>4</th>\n",
       "      <td>OX</td>\n",
       "      <td>Oxford Centre Roadside</td>\n",
       "      <td>2019-01-01 01:15:00+00:00</td>\n",
       "      <td>NaN</td>\n",
       "      <td>NaN</td>\n",
       "      <td>NaN</td>\n",
       "      <td>NaN</td>\n",
       "      <td>NaN</td>\n",
       "      <td>NaN</td>\n",
       "      <td>NaN</td>\n",
       "    </tr>\n",
       "  </tbody>\n",
       "</table>\n",
       "</div>"
      ],
      "text/plain": [
       "  sitecode                    name                       rec     no_ppb  \\\n",
       "0       OX  Oxford Centre Roadside 2019-01-01 00:15:00+00:00   6.930000   \n",
       "1       OX  Oxford Centre Roadside 2019-01-01 00:30:00+00:00  16.469999   \n",
       "2       OX  Oxford Centre Roadside 2019-01-01 00:45:00+00:00   7.370000   \n",
       "3       OX  Oxford Centre Roadside 2019-01-01 01:00:00+00:00        NaN   \n",
       "4       OX  Oxford Centre Roadside 2019-01-01 01:15:00+00:00        NaN   \n",
       "\n",
       "     no2_ppb  pm10_ugg  o3_ppb  pm25_ugg  fidas_t  fidas_rh  \n",
       "0  11.450000       NaN     NaN       NaN      NaN       NaN  \n",
       "1  20.299999       NaN     NaN       NaN      NaN       NaN  \n",
       "2  16.110001       NaN     NaN       NaN      NaN       NaN  \n",
       "3        NaN       NaN     NaN       NaN      NaN       NaN  \n",
       "4        NaN       NaN     NaN       NaN      NaN       NaN  "
      ]
     },
     "execution_count": 2,
     "metadata": {},
     "output_type": "execute_result"
    }
   ],
   "source": [
    "aurn_dat = pd.read_feather(aurn+'ox_auto_no2_pm_2019_2020_15m_last_ratified.ftr')\n",
    "aurn_dat.head()"
   ]
  },
  {
   "cell_type": "code",
   "execution_count": 3,
   "metadata": {
    "ExecuteTime": {
     "end_time": "2021-07-05T17:23:18.325948Z",
     "start_time": "2021-07-05T17:23:18.271128Z"
    }
   },
   "outputs": [],
   "source": [
    "# Load 15-minute data from Brian\n",
    "sebbes = pd.read_feather(aurn+'ox_auto_no2_pm_2019_2020_15m_last_ratified.ftr')\n",
    "\n",
    "# Get St Ebbes 2020 only \n",
    "sebbes = aurn_dat[(aurn_dat['sitecode'] == 'OX8') & \\\n",
    "                (aurn_dat['rec'] >= dt.datetime(2020,1,1,tzinfo=dt.timezone.utc))]\n",
    "\n",
    "# Load 5-minute data from Brian\n",
    "highst = pd.read_feather(aurn+'ox_auto_no2_pm_2019_2020_15m_last_ratified.ftr')\n",
    "\n",
    "# Get High St 2020 only \n",
    "highst = aurn_dat[(aurn_dat['sitecode'] == 'OX6') & \\\n",
    "                (aurn_dat['rec'] >= dt.datetime(2020,1,1,tzinfo=dt.timezone.utc))]\n"
   ]
  },
  {
   "cell_type": "code",
   "execution_count": 4,
   "metadata": {
    "ExecuteTime": {
     "end_time": "2021-07-05T17:23:18.336401Z",
     "start_time": "2021-07-05T17:23:18.327062Z"
    }
   },
   "outputs": [
    {
     "data": {
      "text/html": [
       "<div>\n",
       "<style scoped>\n",
       "    .dataframe tbody tr th:only-of-type {\n",
       "        vertical-align: middle;\n",
       "    }\n",
       "\n",
       "    .dataframe tbody tr th {\n",
       "        vertical-align: top;\n",
       "    }\n",
       "\n",
       "    .dataframe thead th {\n",
       "        text-align: right;\n",
       "    }\n",
       "</style>\n",
       "<table border=\"1\" class=\"dataframe\">\n",
       "  <thead>\n",
       "    <tr style=\"text-align: right;\">\n",
       "      <th></th>\n",
       "      <th>sitecode</th>\n",
       "      <th>name</th>\n",
       "      <th>rec</th>\n",
       "      <th>no_ppb</th>\n",
       "      <th>no2_ppb</th>\n",
       "      <th>pm10_ugg</th>\n",
       "      <th>o3_ppb</th>\n",
       "      <th>pm25_ugg</th>\n",
       "      <th>fidas_t</th>\n",
       "      <th>fidas_rh</th>\n",
       "    </tr>\n",
       "  </thead>\n",
       "  <tbody>\n",
       "    <tr>\n",
       "      <th>175389</th>\n",
       "      <td>OX8</td>\n",
       "      <td>Oxford St Ebbes</td>\n",
       "      <td>2020-01-01 00:15:00+00:00</td>\n",
       "      <td>0.67</td>\n",
       "      <td>12.28</td>\n",
       "      <td>36.299999</td>\n",
       "      <td>15.73</td>\n",
       "      <td>29.056700</td>\n",
       "      <td>6.2</td>\n",
       "      <td>91.500000</td>\n",
       "    </tr>\n",
       "    <tr>\n",
       "      <th>175390</th>\n",
       "      <td>OX8</td>\n",
       "      <td>Oxford St Ebbes</td>\n",
       "      <td>2020-01-01 00:30:00+00:00</td>\n",
       "      <td>0.86</td>\n",
       "      <td>12.76</td>\n",
       "      <td>38.700001</td>\n",
       "      <td>13.41</td>\n",
       "      <td>33.113300</td>\n",
       "      <td>6.1</td>\n",
       "      <td>92.000000</td>\n",
       "    </tr>\n",
       "    <tr>\n",
       "      <th>175391</th>\n",
       "      <td>OX8</td>\n",
       "      <td>Oxford St Ebbes</td>\n",
       "      <td>2020-01-01 00:45:00+00:00</td>\n",
       "      <td>0.67</td>\n",
       "      <td>12.95</td>\n",
       "      <td>40.700001</td>\n",
       "      <td>10.52</td>\n",
       "      <td>35.000099</td>\n",
       "      <td>6.1</td>\n",
       "      <td>91.900002</td>\n",
       "    </tr>\n",
       "    <tr>\n",
       "      <th>175392</th>\n",
       "      <td>OX8</td>\n",
       "      <td>Oxford St Ebbes</td>\n",
       "      <td>2020-01-01 01:00:00+00:00</td>\n",
       "      <td>NaN</td>\n",
       "      <td>NaN</td>\n",
       "      <td>36.099998</td>\n",
       "      <td>9.17</td>\n",
       "      <td>30.660500</td>\n",
       "      <td>6.1</td>\n",
       "      <td>91.099998</td>\n",
       "    </tr>\n",
       "    <tr>\n",
       "      <th>175393</th>\n",
       "      <td>OX8</td>\n",
       "      <td>Oxford St Ebbes</td>\n",
       "      <td>2020-01-01 01:15:00+00:00</td>\n",
       "      <td>NaN</td>\n",
       "      <td>NaN</td>\n",
       "      <td>36.900002</td>\n",
       "      <td>8.78</td>\n",
       "      <td>31.415199</td>\n",
       "      <td>5.9</td>\n",
       "      <td>90.699997</td>\n",
       "    </tr>\n",
       "  </tbody>\n",
       "</table>\n",
       "</div>"
      ],
      "text/plain": [
       "       sitecode             name                       rec  no_ppb  no2_ppb  \\\n",
       "175389      OX8  Oxford St Ebbes 2020-01-01 00:15:00+00:00    0.67    12.28   \n",
       "175390      OX8  Oxford St Ebbes 2020-01-01 00:30:00+00:00    0.86    12.76   \n",
       "175391      OX8  Oxford St Ebbes 2020-01-01 00:45:00+00:00    0.67    12.95   \n",
       "175392      OX8  Oxford St Ebbes 2020-01-01 01:00:00+00:00     NaN      NaN   \n",
       "175393      OX8  Oxford St Ebbes 2020-01-01 01:15:00+00:00     NaN      NaN   \n",
       "\n",
       "         pm10_ugg  o3_ppb   pm25_ugg  fidas_t   fidas_rh  \n",
       "175389  36.299999   15.73  29.056700      6.2  91.500000  \n",
       "175390  38.700001   13.41  33.113300      6.1  92.000000  \n",
       "175391  40.700001   10.52  35.000099      6.1  91.900002  \n",
       "175392  36.099998    9.17  30.660500      6.1  91.099998  \n",
       "175393  36.900002    8.78  31.415199      5.9  90.699997  "
      ]
     },
     "execution_count": 4,
     "metadata": {},
     "output_type": "execute_result"
    }
   ],
   "source": [
    "sebbes.head()"
   ]
  },
  {
   "cell_type": "code",
   "execution_count": 5,
   "metadata": {
    "ExecuteTime": {
     "end_time": "2021-07-05T17:23:18.347764Z",
     "start_time": "2021-07-05T17:23:18.337842Z"
    }
   },
   "outputs": [
    {
     "data": {
      "text/html": [
       "<div>\n",
       "<style scoped>\n",
       "    .dataframe tbody tr th:only-of-type {\n",
       "        vertical-align: middle;\n",
       "    }\n",
       "\n",
       "    .dataframe tbody tr th {\n",
       "        vertical-align: top;\n",
       "    }\n",
       "\n",
       "    .dataframe thead th {\n",
       "        text-align: right;\n",
       "    }\n",
       "</style>\n",
       "<table border=\"1\" class=\"dataframe\">\n",
       "  <thead>\n",
       "    <tr style=\"text-align: right;\">\n",
       "      <th></th>\n",
       "      <th>sitecode</th>\n",
       "      <th>name</th>\n",
       "      <th>rec</th>\n",
       "      <th>no_ppb</th>\n",
       "      <th>no2_ppb</th>\n",
       "      <th>pm10_ugg</th>\n",
       "      <th>o3_ppb</th>\n",
       "      <th>pm25_ugg</th>\n",
       "      <th>fidas_t</th>\n",
       "      <th>fidas_rh</th>\n",
       "    </tr>\n",
       "  </thead>\n",
       "  <tbody>\n",
       "    <tr>\n",
       "      <th>105214</th>\n",
       "      <td>OX6</td>\n",
       "      <td>Oxford High St</td>\n",
       "      <td>2020-01-01 00:15:00+00:00</td>\n",
       "      <td>3.37</td>\n",
       "      <td>14.36</td>\n",
       "      <td>47.400002</td>\n",
       "      <td>NaN</td>\n",
       "      <td>NaN</td>\n",
       "      <td>NaN</td>\n",
       "      <td>NaN</td>\n",
       "    </tr>\n",
       "    <tr>\n",
       "      <th>105215</th>\n",
       "      <td>OX6</td>\n",
       "      <td>Oxford High St</td>\n",
       "      <td>2020-01-01 00:30:00+00:00</td>\n",
       "      <td>6.23</td>\n",
       "      <td>16.76</td>\n",
       "      <td>47.700001</td>\n",
       "      <td>NaN</td>\n",
       "      <td>NaN</td>\n",
       "      <td>NaN</td>\n",
       "      <td>NaN</td>\n",
       "    </tr>\n",
       "    <tr>\n",
       "      <th>105216</th>\n",
       "      <td>OX6</td>\n",
       "      <td>Oxford High St</td>\n",
       "      <td>2020-01-01 00:45:00+00:00</td>\n",
       "      <td>7.56</td>\n",
       "      <td>18.07</td>\n",
       "      <td>35.799999</td>\n",
       "      <td>NaN</td>\n",
       "      <td>NaN</td>\n",
       "      <td>NaN</td>\n",
       "      <td>NaN</td>\n",
       "    </tr>\n",
       "    <tr>\n",
       "      <th>105217</th>\n",
       "      <td>OX6</td>\n",
       "      <td>Oxford High St</td>\n",
       "      <td>2020-01-01 01:00:00+00:00</td>\n",
       "      <td>NaN</td>\n",
       "      <td>NaN</td>\n",
       "      <td>32.799999</td>\n",
       "      <td>NaN</td>\n",
       "      <td>NaN</td>\n",
       "      <td>NaN</td>\n",
       "      <td>NaN</td>\n",
       "    </tr>\n",
       "    <tr>\n",
       "      <th>105218</th>\n",
       "      <td>OX6</td>\n",
       "      <td>Oxford High St</td>\n",
       "      <td>2020-01-01 01:15:00+00:00</td>\n",
       "      <td>NaN</td>\n",
       "      <td>NaN</td>\n",
       "      <td>32.400002</td>\n",
       "      <td>NaN</td>\n",
       "      <td>NaN</td>\n",
       "      <td>NaN</td>\n",
       "      <td>NaN</td>\n",
       "    </tr>\n",
       "  </tbody>\n",
       "</table>\n",
       "</div>"
      ],
      "text/plain": [
       "       sitecode            name                       rec  no_ppb  no2_ppb  \\\n",
       "105214      OX6  Oxford High St 2020-01-01 00:15:00+00:00    3.37    14.36   \n",
       "105215      OX6  Oxford High St 2020-01-01 00:30:00+00:00    6.23    16.76   \n",
       "105216      OX6  Oxford High St 2020-01-01 00:45:00+00:00    7.56    18.07   \n",
       "105217      OX6  Oxford High St 2020-01-01 01:00:00+00:00     NaN      NaN   \n",
       "105218      OX6  Oxford High St 2020-01-01 01:15:00+00:00     NaN      NaN   \n",
       "\n",
       "         pm10_ugg  o3_ppb  pm25_ugg  fidas_t  fidas_rh  \n",
       "105214  47.400002     NaN       NaN      NaN       NaN  \n",
       "105215  47.700001     NaN       NaN      NaN       NaN  \n",
       "105216  35.799999     NaN       NaN      NaN       NaN  \n",
       "105217  32.799999     NaN       NaN      NaN       NaN  \n",
       "105218  32.400002     NaN       NaN      NaN       NaN  "
      ]
     },
     "execution_count": 5,
     "metadata": {},
     "output_type": "execute_result"
    }
   ],
   "source": [
    "highst.head()"
   ]
  },
  {
   "cell_type": "code",
   "execution_count": 6,
   "metadata": {
    "ExecuteTime": {
     "end_time": "2021-07-05T17:23:18.679191Z",
     "start_time": "2021-07-05T17:23:18.349262Z"
    }
   },
   "outputs": [
    {
     "data": {
      "image/png": "[encoded data removed]",
      "text/plain": [
       "<Figure size 504x504 with 1 Axes>"
      ]
     },
     "metadata": {
      "needs_background": "light"
     },
     "output_type": "display_data"
    }
   ],
   "source": [
    "# Plotting just to compare high st vs st ebbes\n",
    "#----------------------------------------------\n",
    "plt.figure(figsize=(7,7))\n",
    "plt.scatter(sebbes.no2_ppb, highst.no2_ppb)\n",
    "plt.title('NO2 High St vs. St Ebbes 2020')\n",
    "plt.ylabel('NO2 High St (ppb)')\n",
    "plt.xlabel('St Ebbes (ppb)')\n",
    "plt.ylim(-10,100)\n",
    "plt.xlim(-10,100)\n",
    "plt.savefig(pngs+'highst_vs_sebbes_2020_ratified.png')"
   ]
  },
  {
   "cell_type": "code",
   "execution_count": 7,
   "metadata": {
    "ExecuteTime": {
     "end_time": "2021-07-05T17:23:18.683107Z",
     "start_time": "2021-07-05T17:23:18.680890Z"
    }
   },
   "outputs": [],
   "source": [
    "# Plotting just to compare high st vs st ebbes\n",
    "#----------------------------------------------\n",
    "#plt.figure(figsize=(7,7))\n",
    "#plt.scatter(sebbes.no2_ppb, highst.no2_ppb)\n",
    "#plt.title('NO2 High St vs. St Ebbes 2020')\n",
    "#plt.ylabel('NO2 High St (ppb)')\n",
    "#plt.xlabel('St Ebbes (ppb)')\n",
    "#plt.ylim(-10,100)\n",
    "#plt.xlim(-10,100)\n",
    "#plt.savefig(pngs+'highst_vs_sebbes_2020.png')"
   ]
  },
  {
   "cell_type": "code",
   "execution_count": 8,
   "metadata": {
    "ExecuteTime": {
     "end_time": "2021-07-05T17:23:18.691548Z",
     "start_time": "2021-07-05T17:23:18.684373Z"
    }
   },
   "outputs": [],
   "source": [
    "# Merge St Ebbes & High St auto datasets & calc diff in no2 & pm10\n",
    "#------------------------------------------------------------------\n",
    "\n",
    "# Merge\n",
    "#auto_merged = sebbes.merge(highst,on='rec',copy=True,suffixes=('_s','_h'))\n",
    "# Calc absolute diffs of no2 & pm10\n",
    "#auto_merged['abs_no2_diff'] = abs(auto_merged['no2_ppb_s']-auto_merged['no2_ppb_h'])\n",
    "#auto_merged['abs_pm10_diff'] = abs(auto_merged['pm10_ugg_s']-auto_merged['pm10_ugg_h'])\n",
    "# Get list of dates when diffs <=1ppb & 2ugm-3 respectively\n",
    "#convergent_no2 = list(auto_merged.query('abs_no2_diff <= 1')['rec'])\n",
    "#convergent_pm10 = list(auto_merged.query('abs_pm10_diff <= 2')['rec'])\n",
    "#auto_merged.to_feather(the_gases+'auto_merged_ratified.ftr')\n",
    "\n",
    "# Save lists as pickle files to be used later\n",
    "#with open(the_gases+'convergent_datelist_no2_ratified.pkl', 'wb') as f:\n",
    "#    pickle.dump(convergent_no2, f)\n",
    "    \n",
    "#with open(the_gases+'convergent_datelist_pm10_ratified.pkl', 'wb') as f:\n",
    "#    pickle.dump(convergent_pm10, f)\n",
    "\n",
    "# For info\n",
    "#print('No.of 15min periods across Oxaria network where no2 diff is <= 2ugm-3: '+str(len(convergent_no2)))\n",
    "#print('No.of 15min periods across Oxaria network where pm10 diff is <= 2ugm-3: '+str(len(convergent_pm10)))\n"
   ]
  },
  {
   "cell_type": "code",
   "execution_count": 9,
   "metadata": {
    "ExecuteTime": {
     "end_time": "2021-07-05T17:23:18.740347Z",
     "start_time": "2021-07-05T17:23:18.692473Z"
    }
   },
   "outputs": [
    {
     "name": "stdout",
     "output_type": "stream",
     "text": [
      "No.of 15min periods across Oxaria network where no2 diff is <= 2ugm-3: 2474\n",
      "No.of 15min periods across Oxaria network where pm10 diff is <= 2ugm-3: 5996\n"
     ]
    }
   ],
   "source": [
    "# Merge St Ebbes & High St auto datasets & calc diff in no2 & pm10\n",
    "#------------------------------------------------------------------\n",
    "\n",
    "# Merge\n",
    "auto_merged = sebbes.merge(highst,on='rec',copy=True,suffixes=('_s','_h'))\n",
    "# Calc absolute diffs of no2 & pm10\n",
    "auto_merged['abs_no2_diff'] = abs(auto_merged['no2_ppb_s']-auto_merged['no2_ppb_h'])\n",
    "auto_merged['abs_pm10_diff'] = abs(auto_merged['pm10_ugg_s']-auto_merged['pm10_ugg_h'])\n",
    "# Get list of dates when diffs <=1ppb & 2ugm-3 respectively\n",
    "convergent_no2 = list(auto_merged.query('abs_no2_diff <= 1')['rec'])\n",
    "convergent_pm10 = list(auto_merged.query('abs_pm10_diff <= 2')['rec'])\n",
    "auto_merged.to_feather(the_gases+'auto_merged_ratified.ftr')\n",
    "\n",
    "# Save lists as pickle files to be used later\n",
    "with open(the_gases+'convergent_datelist_no2_ratified.pkl', 'wb') as f:\n",
    "    pickle.dump(convergent_no2, f)\n",
    "    \n",
    "with open(the_gases+'convergent_datelist_pm10_ratified.pkl', 'wb') as f:\n",
    "    pickle.dump(convergent_pm10, f)\n",
    "\n",
    "# For info\n",
    "print('No.of 15min periods across Oxaria network where no2 diff is <= 2ugm-3: '+str(len(convergent_no2)))\n",
    "print('No.of 15min periods across Oxaria network where pm10 diff is <= 2ugm-3: '+str(len(convergent_pm10)))\n"
   ]
  }
 ],
 "metadata": {
  "kernelspec": {
   "display_name": "Python [conda env:qoax] *",
   "language": "python",
   "name": "conda-env-qoax-py"
  },
  "language_info": {
   "codemirror_mode": {
    "name": "ipython",
    "version": 3
   },
   "file_extension": ".py",
   "mimetype": "text/x-python",
   "name": "python",
   "nbconvert_exporter": "python",
   "pygments_lexer": "ipython3",
   "version": "3.8.6"
  },
  "toc": {
   "base_numbering": 1,
   "nav_menu": {},
   "number_sections": true,
   "sideBar": true,
   "skip_h1_title": false,
   "title_cell": "Table of Contents",
   "title_sidebar": "Contents",
   "toc_cell": false,
   "toc_position": {},
   "toc_section_display": true,
   "toc_window_display": false
  }
 },
 "nbformat": 4,
 "nbformat_minor": 4
}
