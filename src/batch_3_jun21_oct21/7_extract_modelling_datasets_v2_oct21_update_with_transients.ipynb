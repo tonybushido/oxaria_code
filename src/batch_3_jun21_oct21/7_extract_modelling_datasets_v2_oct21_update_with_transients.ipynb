{
 "cells": [
  {
   "cell_type": "code",
   "execution_count": 1,
   "metadata": {
    "ExecuteTime": {
     "end_time": "2021-10-01T15:13:42.288297Z",
     "start_time": "2021-10-01T15:13:41.868417Z"
    },
    "execution": {
     "iopub.execute_input": "2022-05-04T23:29:14.066315Z",
     "iopub.status.busy": "2022-05-04T23:29:14.066156Z",
     "iopub.status.idle": "2022-05-04T23:29:14.631592Z",
     "shell.execute_reply": "2022-05-04T23:29:14.631011Z",
     "shell.execute_reply.started": "2022-05-04T23:29:14.066255Z"
    }
   },
   "outputs": [],
   "source": [
    "# Imports\n",
    "# ---------\n",
    "import sys\n",
    "import pandas as pd\n",
    "import numpy as np\n",
    "import feather\n",
    "import os\n",
    "import gc\n",
    "import datetime as dt\n",
    "import matplotlib.pyplot as plt\n",
    "import matplotlib.dates as mdates\n",
    "from pandas.plotting import register_matplotlib_converters\n",
    "import matplotlib.ticker as ticker\n",
    "from matplotlib.dates import DateFormatter\n",
    "import matplotlib as mpl\n",
    "from datetime import timezone\n",
    "import pickle\n",
    "\n",
    "register_matplotlib_converters()\n",
    "\n",
    "# File locations\n",
    "# ----------------\n",
    "folder0 = './oxaria/processed/batch_3_jun21_oct21/'\n",
    "\n",
    "aurn = './oxaria/processed/aurn/'\n",
    "pngs = './oxaria/pngs/'"
   ]
  },
  {
   "cell_type": "code",
   "execution_count": 2,
   "metadata": {
    "ExecuteTime": {
     "end_time": "2021-10-01T15:13:45.723891Z",
     "start_time": "2021-10-01T15:13:45.283696Z"
    },
    "execution": {
     "iopub.execute_input": "2022-05-04T23:29:14.632935Z",
     "iopub.status.busy": "2022-05-04T23:29:14.632640Z",
     "iopub.status.idle": "2022-05-04T23:29:15.229933Z",
     "shell.execute_reply": "2022-05-04T23:29:15.229401Z",
     "shell.execute_reply.started": "2022-05-04T23:29:14.632907Z"
    }
   },
   "outputs": [],
   "source": [
    "# Read in stable 15min operational data Jan - Nov 2020\n",
    "# ------------------------------------------------------\n",
    "oxaria_gases_s15 = pd.read_feather(folder0 +\n",
    "                                   'oxaria_gases_536_stable15_transients.ftr').set_index(\n",
    "                                       ['tag', 'rec']).sort_index()\n",
    "oxaria_pm_s15 = pd.read_feather(folder0 +\n",
    "                                'oxaria_pm_536_stable15_transients.ftr').set_index(\n",
    "                                    ['tag', 'rec']).sort_index()\n",
    "oxaria_climate_s15 = pd.read_feather(folder0 +\n",
    "                                     'oxaria_climate_536_stable15_transients.ftr').set_index(\n",
    "                                         ['tag', 'rec']).sort_index()\n",
    "oxaria_status_s15 = pd.read_feather(folder0 +\n",
    "                                    'oxaria_status_stable15.ftr').set_index(\n",
    "                                        ['tag', 'rec']).sort_index()"
   ]
  },
  {
   "cell_type": "code",
   "execution_count": 3,
   "metadata": {
    "ExecuteTime": {
     "end_time": "2021-10-01T15:23:13.614334Z",
     "start_time": "2021-10-01T15:23:13.377444Z"
    },
    "execution": {
     "iopub.execute_input": "2022-05-04T23:29:15.231091Z",
     "iopub.status.busy": "2022-05-04T23:29:15.230915Z",
     "iopub.status.idle": "2022-05-04T23:29:15.574835Z",
     "shell.execute_reply": "2022-05-04T23:29:15.574335Z",
     "shell.execute_reply.started": "2022-05-04T23:29:15.231076Z"
    }
   },
   "outputs": [],
   "source": [
    "# Read in stable 15min operational data Jan - June 2021\n",
    "#------------------------------------------------------\n",
    "oxaria_gases_s15_q12021 = pd.read_feather(folder0 +\n",
    "                                   'q12021/oxaria_gases_536_stable15_q12021_transients_v2.ftr').set_index(\n",
    "                                      ['tag', 'rec']).sort_index()\n",
    "oxaria_pm_s15_q12021 = pd.read_feather(folder0 +\n",
    "                                'q12021/oxaria_pm_536_stable15_q12021_transients.ftr').set_index(\n",
    "                                    ['tag', 'rec']).sort_index()\n",
    "oxaria_climate_s15_q12021 = pd.read_feather(folder0 +\n",
    "                                     'q12021/oxaria_climate_536_stable15_q12021_transients.ftr').set_index(\n",
    "                                         ['tag', 'rec']).sort_index()\n",
    "oxaria_status_s15_q12021 = pd.read_feather(folder0 +\n",
    "                                    'q12021/oxaria_status_536_stable15_q12021_transients.ftr').set_index(\n",
    "                                        ['tag', 'rec']).sort_index()"
   ]
  },
  {
   "cell_type": "code",
   "execution_count": 4,
   "metadata": {
    "execution": {
     "iopub.execute_input": "2022-05-04T23:29:15.575492Z",
     "iopub.status.busy": "2022-05-04T23:29:15.575394Z",
     "iopub.status.idle": "2022-05-04T23:29:15.866259Z",
     "shell.execute_reply": "2022-05-04T23:29:15.865574Z",
     "shell.execute_reply.started": "2022-05-04T23:29:15.575481Z"
    }
   },
   "outputs": [],
   "source": [
    "# Read in stable 15min operational data Jan - June 2021\n",
    "#------------------------------------------------------\n",
    "oxaria_gases_s15_oct21 = pd.read_feather(folder0 +\n",
    "                                   'jun_to_sept_2021/oxaria_gases_stable15_oct21_transients.ftr').set_index(\n",
    "                                      ['tag', 'rec']).sort_index()\n",
    "oxaria_pm_s15_oct21 = pd.read_feather(folder0 +\n",
    "                                'jun_to_sept_2021/oxaria_pm_stable15_oct21_transients.ftr').set_index(\n",
    "                                    ['tag', 'rec']).sort_index()\n",
    "oxaria_climate_s15_oct21 = pd.read_feather(folder0 +\n",
    "                                     'jun_to_sept_2021/oxaria_climate_stable15_oct21_transients.ftr').set_index(\n",
    "                                         ['tag', 'rec']).sort_index()\n",
    "oxaria_status_s15_oct21 = pd.read_feather(folder0 +\n",
    "                                    'jun_to_sept_2021/oxaria_status_stable15_oct21_transients.ftr').set_index(\n",
    "                                        ['tag', 'rec']).sort_index()"
   ]
  },
  {
   "cell_type": "code",
   "execution_count": 5,
   "metadata": {
    "execution": {
     "iopub.execute_input": "2022-05-04T23:29:15.866754Z",
     "iopub.status.busy": "2022-05-04T23:29:15.866665Z",
     "iopub.status.idle": "2022-05-04T23:29:15.894758Z",
     "shell.execute_reply": "2022-05-04T23:29:15.893961Z",
     "shell.execute_reply.started": "2022-05-04T23:29:15.866742Z"
    }
   },
   "outputs": [
    {
     "name": "stdout",
     "output_type": "stream",
     "text": [
      "<class 'pandas.core.frame.DataFrame'>\n",
      "MultiIndex: 186302 entries, ('scs-bgx-536', Timestamp('2021-06-01 00:15:00+0000', tz='UTC')) to ('scs-bgx-559', Timestamp('2021-10-01 00:00:00+0000', tz='UTC'))\n",
      "Data columns (total 9 columns):\n",
      " #   Column         Non-Null Count   Dtype  \n",
      "---  ------         --------------   -----  \n",
      " 0   val.hmd        186302 non-null  float32\n",
      " 1   val.tmp        186302 non-null  float32\n",
      " 2   name_x         186302 non-null  object \n",
      " 3   mag_hmd_s20c   186300 non-null  float32\n",
      " 4   mag_tmp_s20c   186300 non-null  float32\n",
      " 5   mean_hmd_s20c  186300 non-null  float32\n",
      " 6   mean_tmp_s20c  186300 non-null  float32\n",
      " 7   max_hmd_s20c   186300 non-null  float32\n",
      " 8   name_y         186302 non-null  object \n",
      "dtypes: float32(7), object(2)\n",
      "memory usage: 8.7+ MB\n"
     ]
    }
   ],
   "source": [
    "oxaria_climate_s15_oct21.info()"
   ]
  },
  {
   "cell_type": "code",
   "execution_count": 6,
   "metadata": {
    "ExecuteTime": {
     "end_time": "2021-10-01T15:23:15.800628Z",
     "start_time": "2021-10-01T15:23:15.573304Z"
    },
    "execution": {
     "iopub.execute_input": "2022-05-04T23:29:15.896365Z",
     "iopub.status.busy": "2022-05-04T23:29:15.895904Z",
     "iopub.status.idle": "2022-05-04T23:29:16.333560Z",
     "shell.execute_reply": "2022-05-04T23:29:16.332754Z",
     "shell.execute_reply.started": "2022-05-04T23:29:15.896327Z"
    }
   },
   "outputs": [],
   "source": [
    "# Combine 2020 and 2021\n",
    "#-----------------------\n",
    "oxaria_gases_s15_2021 = pd.concat([oxaria_gases_s15,oxaria_gases_s15_q12021,oxaria_gases_s15_oct21])\n",
    "oxaria_pm_s15_2021 = pd.concat([oxaria_pm_s15,oxaria_pm_s15_q12021,oxaria_pm_s15_oct21])\n",
    "oxaria_climate_s15_2021 = pd.concat([oxaria_climate_s15,oxaria_climate_s15_q12021,oxaria_climate_s15_oct21])\n",
    "oxaria_status_s15_2021 = pd.concat([oxaria_status_s15,oxaria_status_s15_q12021,oxaria_status_s15_oct21])\n"
   ]
  },
  {
   "cell_type": "code",
   "execution_count": 7,
   "metadata": {
    "execution": {
     "iopub.execute_input": "2022-05-04T23:29:16.334309Z",
     "iopub.status.busy": "2022-05-04T23:29:16.334207Z",
     "iopub.status.idle": "2022-05-04T23:29:16.418904Z",
     "shell.execute_reply": "2022-05-04T23:29:16.418157Z",
     "shell.execute_reply.started": "2022-05-04T23:29:16.334297Z"
    }
   },
   "outputs": [
    {
     "name": "stdout",
     "output_type": "stream",
     "text": [
      "<class 'pandas.core.frame.DataFrame'>\n",
      "MultiIndex: 756885 entries, ('scs-bgx-536', Timestamp('2020-09-25 00:15:00+0000', tz='UTC')) to ('scs-bgx-559', Timestamp('2021-10-01 00:00:00+0000', tz='UTC'))\n",
      "Data columns (total 24 columns):\n",
      " #   Column          Non-Null Count   Dtype  \n",
      "---  ------          --------------   -----  \n",
      " 0   val.mtf1        756885 non-null  float32\n",
      " 1   val.pm1         756885 non-null  float32\n",
      " 2   val.mtf5        756885 non-null  float32\n",
      " 3   val.pm2p5       756885 non-null  float32\n",
      " 4   val.mtf3        756885 non-null  float32\n",
      " 5   val.pm10        756885 non-null  float32\n",
      " 6   val.mtf7        756885 non-null  float32\n",
      " 7   val.per         756885 non-null  float32\n",
      " 8   val.sfr         756885 non-null  float32\n",
      " 9   val.sht.hmd     756885 non-null  float32\n",
      " 10  val.sht.tmp     756885 non-null  float32\n",
      " 11  val.pm10_1      556892 non-null  float32\n",
      " 12  val.pm2p5_1     556892 non-null  float32\n",
      " 13  val.pm1_1       556892 non-null  float32\n",
      " 14  name            341622 non-null  object \n",
      " 15  mag_hmd_s20     756885 non-null  float32\n",
      " 16  mag_tmp_s20     756885 non-null  float32\n",
      " 17  mean_hmd_s20    756885 non-null  float32\n",
      " 18  mean_tmp_s20    756885 non-null  float32\n",
      " 19  name_x          415263 non-null  object \n",
      " 20  name_y          415263 non-null  object \n",
      " 21  exg.rn20.pm10   177577 non-null  float32\n",
      " 22  exg.rn20.pm1    177577 non-null  float32\n",
      " 23  exg.rn20.pm2p5  177577 non-null  float32\n",
      "dtypes: float32(21), object(3)\n",
      "memory usage: 84.0+ MB\n"
     ]
    }
   ],
   "source": [
    "oxaria_pm_s15_2021.info()"
   ]
  },
  {
   "cell_type": "code",
   "execution_count": 8,
   "metadata": {
    "execution": {
     "iopub.execute_input": "2022-05-04T23:29:16.419642Z",
     "iopub.status.busy": "2022-05-04T23:29:16.419548Z",
     "iopub.status.idle": "2022-05-04T23:29:16.770728Z",
     "shell.execute_reply": "2022-05-04T23:29:16.769820Z",
     "shell.execute_reply.started": "2022-05-04T23:29:16.419630Z"
    }
   },
   "outputs": [],
   "source": [
    "# Some housekeeping needed to avoid warning messages later on \n",
    "#-------------------------------------------------------------\n",
    "oxaria_gases_s15_2021['name'] =  np.where(oxaria_gases_s15_2021['name'],np.nan,oxaria_gases_s15_2021['name_x'])\n",
    "oxaria_pm_s15_2021['name'] =  np.where(oxaria_pm_s15_2021['name'],np.nan,oxaria_pm_s15_2021['name_x'])\n",
    "#oxaria_status_s15_2021['name'] =  np.where(oxaria_status_s15_2021['name'],np.nan,oxaria_status_s15_2021['name_x'])\n",
    "oxaria_climate_s15_2021['name'] =  np.where(oxaria_climate_s15_2021['name'],np.nan,oxaria_climate_s15_2021['name_x'])\n",
    "\n",
    "oxaria_gases_s15_2021.drop(columns=['name_x','name_y'], inplace=True)\n",
    "oxaria_pm_s15_2021.drop(columns=['name_x','name_y'], inplace=True)\n",
    "#oxaria_status_s15_2021.drop(columns=['name_x','name_y'], inplace=True)\n",
    "oxaria_climate_s15_2021.drop(columns=['name_x','name_y'], inplace=True)\n"
   ]
  },
  {
   "cell_type": "code",
   "execution_count": 9,
   "metadata": {
    "ExecuteTime": {
     "end_time": "2021-10-01T15:23:19.423061Z",
     "start_time": "2021-10-01T15:23:19.246403Z"
    },
    "execution": {
     "iopub.execute_input": "2022-05-04T23:29:16.771348Z",
     "iopub.status.busy": "2022-05-04T23:29:16.771255Z",
     "iopub.status.idle": "2022-05-04T23:29:17.017472Z",
     "shell.execute_reply": "2022-05-04T23:29:17.016867Z",
     "shell.execute_reply.started": "2022-05-04T23:29:16.771336Z"
    }
   },
   "outputs": [],
   "source": [
    "# Get colocated sensor data - St Ebbes\n",
    "# --------------------------------------\n",
    "# Gases\n",
    "oxaria_sebbes_gases_s15_2021 = oxaria_gases_s15_2021.query(\n",
    "    'tag == \"scs-bgx-538\"')\n",
    "oxaria_sebbes_gases_s15_2021.reset_index().to_feather(\n",
    "    folder0 + 'oxaria_sebbes_gases_s15_2021_transients.ftr')\n",
    "# PM\n",
    "oxaria_sebbes_pm_s15_2021 = oxaria_pm_s15_2021.query(\n",
    "    'tag == \"scs-bgx-538\"')\n",
    "oxaria_sebbes_pm_s15_2021.reset_index().to_feather(\n",
    "    folder0 + 'oxaria_sebbes_pm_s15_2021_transients.ftr')\n",
    "# Status\n",
    "oxaria_sebbes_status_s15_2021 = oxaria_status_s15_2021.query(\n",
    "    'tag == \"scs-bgx-538\"')\n",
    "oxaria_sebbes_status_s15_2021.reset_index().to_feather(\n",
    "    folder0 + 'oxaria_sebbes_status_15_2021.ftr')\n",
    "# Climate\n",
    "oxaria_sebbes_climate_s15_2021 = oxaria_climate_s15_2021.query(\n",
    "    'tag == \"scs-bgx-538\"')\n",
    "oxaria_sebbes_climate_s15_2021.reset_index().to_feather(\n",
    "    folder0 + 'oxaria_sebbes_climate_s15_2021.ftr')"
   ]
  },
  {
   "cell_type": "code",
   "execution_count": 10,
   "metadata": {
    "execution": {
     "iopub.execute_input": "2022-05-04T23:29:17.018918Z",
     "iopub.status.busy": "2022-05-04T23:29:17.018576Z",
     "iopub.status.idle": "2022-05-04T23:29:17.032721Z",
     "shell.execute_reply": "2022-05-04T23:29:17.031987Z",
     "shell.execute_reply.started": "2022-05-04T23:29:17.018887Z"
    }
   },
   "outputs": [
    {
     "name": "stdout",
     "output_type": "stream",
     "text": [
      "<class 'pandas.core.frame.DataFrame'>\n",
      "MultiIndex: 50937 entries, ('scs-bgx-538', Timestamp('2020-06-05 00:15:00+0000', tz='UTC')) to ('scs-bgx-538', Timestamp('2021-10-01 00:00:00+0000', tz='UTC'))\n",
      "Data columns (total 8 columns):\n",
      " #   Column         Non-Null Count  Dtype  \n",
      "---  ------         --------------  -----  \n",
      " 0   val.hmd        50937 non-null  float32\n",
      " 1   val.tmp        50937 non-null  float32\n",
      " 2   name           0 non-null      object \n",
      " 3   mag_hmd_s20c   50937 non-null  float32\n",
      " 4   mag_tmp_s20c   50937 non-null  float32\n",
      " 5   mean_hmd_s20c  50937 non-null  float32\n",
      " 6   mean_tmp_s20c  50937 non-null  float32\n",
      " 7   max_hmd_s20c   11262 non-null  float32\n",
      "dtypes: float32(7), object(1)\n",
      "memory usage: 4.5+ MB\n"
     ]
    }
   ],
   "source": [
    "oxaria_sebbes_climate_s15_2021.info()"
   ]
  },
  {
   "cell_type": "code",
   "execution_count": 11,
   "metadata": {
    "ExecuteTime": {
     "end_time": "2021-10-01T15:23:20.943128Z",
     "start_time": "2021-10-01T15:23:20.814601Z"
    },
    "execution": {
     "iopub.execute_input": "2022-05-04T23:29:17.033694Z",
     "iopub.status.busy": "2022-05-04T23:29:17.033484Z",
     "iopub.status.idle": "2022-05-04T23:29:17.198514Z",
     "shell.execute_reply": "2022-05-04T23:29:17.198107Z",
     "shell.execute_reply.started": "2022-05-04T23:29:17.033679Z"
    }
   },
   "outputs": [],
   "source": [
    "# Get colocated sensor data - High St\n",
    "# --------------------------------------\n",
    "# Gases\n",
    "oxaria_highs_gases_s15_2021 = oxaria_gases_s15_2021.query(\n",
    "    'tag == \"scs-bgx-536\"')\n",
    "oxaria_highs_gases_s15_2021.reset_index().to_feather(\n",
    "    folder0 + 'oxaria_highs_gases_s15_2021_transients.ftr')\n",
    "# PM\n",
    "oxaria_highs_pm_s15_2021 = oxaria_pm_s15_2021.query(\n",
    "    'tag == \"scs-bgx-536\"')\n",
    "oxaria_highs_pm_s15_2021.reset_index().to_feather(\n",
    "    folder0 + 'oxaria_highs_pm_s15_2021_transients.ftr')\n",
    "# Status\n",
    "oxaria_highs_status_s15_2021 = oxaria_status_s15_2021.query(\n",
    "    'tag == \"scs-bgx-536\"')\n",
    "oxaria_highs_status_s15_2021.reset_index().to_feather(\n",
    "    folder0 + 'oxaria_highs_status_15_2021.ftr')\n",
    "# Climate\n",
    "oxaria_highs_climate_s15_2021 = oxaria_climate_s15_2021.query(\n",
    "    'tag == \"scs-bgx-536\"')\n",
    "oxaria_highs_climate_s15_2021.reset_index().to_feather(\n",
    "    folder0 + 'oxaria_highs_climate_s15_2021.ftr')"
   ]
  },
  {
   "cell_type": "code",
   "execution_count": 12,
   "metadata": {
    "ExecuteTime": {
     "end_time": "2021-10-01T15:23:26.416404Z",
     "start_time": "2021-10-01T15:23:26.405705Z"
    },
    "execution": {
     "iopub.execute_input": "2022-05-04T23:29:17.199952Z",
     "iopub.status.busy": "2022-05-04T23:29:17.199715Z",
     "iopub.status.idle": "2022-05-04T23:29:17.214172Z",
     "shell.execute_reply": "2022-05-04T23:29:17.213534Z",
     "shell.execute_reply.started": "2022-05-04T23:29:17.199919Z"
    }
   },
   "outputs": [
    {
     "name": "stdout",
     "output_type": "stream",
     "text": [
      "<class 'pandas.core.frame.DataFrame'>\n",
      "MultiIndex: 34361 entries, ('scs-bgx-536', Timestamp('2020-09-25 00:15:00+0000', tz='UTC')) to ('scs-bgx-536', Timestamp('2021-09-14 14:15:00+0000', tz='UTC'))\n",
      "Data columns (total 8 columns):\n",
      " #   Column         Non-Null Count  Dtype  \n",
      "---  ------         --------------  -----  \n",
      " 0   val.hmd        34361 non-null  float32\n",
      " 1   val.tmp        34361 non-null  float32\n",
      " 2   name           0 non-null      object \n",
      " 3   mag_hmd_s20c   34361 non-null  float32\n",
      " 4   mag_tmp_s20c   34361 non-null  float32\n",
      " 5   mean_hmd_s20c  34361 non-null  float32\n",
      " 6   mean_tmp_s20c  34361 non-null  float32\n",
      " 7   max_hmd_s20c   4795 non-null   float32\n",
      "dtypes: float32(7), object(1)\n",
      "memory usage: 3.8+ MB\n"
     ]
    }
   ],
   "source": [
    "oxaria_highs_climate_s15_2021.info()"
   ]
  },
  {
   "cell_type": "code",
   "execution_count": 13,
   "metadata": {
    "ExecuteTime": {
     "end_time": "2021-10-01T15:23:29.661015Z",
     "start_time": "2021-10-01T15:23:28.212128Z"
    },
    "execution": {
     "iopub.execute_input": "2022-05-04T23:29:17.215274Z",
     "iopub.status.busy": "2022-05-04T23:29:17.215067Z",
     "iopub.status.idle": "2022-05-04T23:29:19.441850Z",
     "shell.execute_reply": "2022-05-04T23:29:19.441363Z",
     "shell.execute_reply.started": "2022-05-04T23:29:17.215260Z"
    }
   },
   "outputs": [
    {
     "name": "stdout",
     "output_type": "stream",
     "text": [
      "<class 'pandas.core.frame.DataFrame'>\n",
      "MultiIndex: 129136 entries, ('scs-bgx-538', Timestamp('2020-06-05 00:15:00+0000', tz='UTC')) to ('scs-bgx-538', Timestamp('2021-10-01 00:00:00+0000', tz='UTC'))\n",
      "Data columns (total 58 columns):\n",
      " #   Column             Non-Null Count   Dtype  \n",
      "---  ------             --------------   -----  \n",
      " 0   val.no2.wev        129136 non-null  float32\n",
      " 1   val.no2.cnc        129136 non-null  float32\n",
      " 2   val.no2.aev        129136 non-null  float32\n",
      " 3   val.no2.wec        129136 non-null  float32\n",
      " 4   val.sht.hmd_g      129136 non-null  float32\n",
      " 5   val.sht.tmp_g      129136 non-null  float32\n",
      " 6   val.no2.cnc_1      128581 non-null  float32\n",
      " 7   name               0 non-null       object \n",
      " 8   mag_hmd_s20_g      129136 non-null  float32\n",
      " 9   mag_tmp_s20_g      129136 non-null  float32\n",
      " 10  mean_hmd_s20_g     129136 non-null  float32\n",
      " 11  mean_tmp_s20_g     129136 non-null  float32\n",
      " 12  exg.vb20.no2.cnc   10790 non-null   float32\n",
      " 13  val.hmd            129136 non-null  float32\n",
      " 14  val.tmp            129136 non-null  float32\n",
      " 15  mag_hmd_s20c       129136 non-null  float32\n",
      " 16  mag_tmp_s20c       129136 non-null  float32\n",
      " 17  mean_hmd_s20c      129136 non-null  float32\n",
      " 18  mean_tmp_s20c      129136 non-null  float32\n",
      " 19  max_hmd_s20c       10790 non-null   float32\n",
      " 20  val.mtf1           129136 non-null  float32\n",
      " 21  val.pm1            129136 non-null  float32\n",
      " 22  val.mtf5           129136 non-null  float32\n",
      " 23  val.pm2p5          129136 non-null  float32\n",
      " 24  val.mtf3           129136 non-null  float32\n",
      " 25  val.pm10           129136 non-null  float32\n",
      " 26  val.mtf7           129136 non-null  float32\n",
      " 27  val.per            129136 non-null  float32\n",
      " 28  val.sfr            129136 non-null  float32\n",
      " 29  val.sht.hmd_p      129136 non-null  float32\n",
      " 30  val.sht.tmp_p      129136 non-null  float32\n",
      " 31  val.pm10_1         108649 non-null  float32\n",
      " 32  val.pm2p5_1        108649 non-null  float32\n",
      " 33  val.pm1_1          108649 non-null  float32\n",
      " 34  mag_hmd_s20_p      129136 non-null  float32\n",
      " 35  mag_tmp_s20_p      129136 non-null  float32\n",
      " 36  mean_hmd_s20_p     129136 non-null  float32\n",
      " 37  mean_tmp_s20_p     129136 non-null  float32\n",
      " 38  exg.rn20.pm10      10790 non-null   float32\n",
      " 39  exg.rn20.pm1       10790 non-null   float32\n",
      " 40  exg.rn20.pm2p5     10790 non-null   float32\n",
      " 41  val.up.load.av15   129136 non-null  float32\n",
      " 42  val.up.load.av1    129136 non-null  float32\n",
      " 43  val.up.load.av5    129136 non-null  float32\n",
      " 44  val.up.users       129136 non-null  float32\n",
      " 45  val.psu.prot-batt  129136 non-null  float32\n",
      " 46  val.psu.rst        65472 non-null   float32\n",
      " 47  val.psu.chg        114588 non-null  float32\n",
      " 48  val.psu.pwr-in     129136 non-null  float32\n",
      " 49  val.psu.host-3v3   129136 non-null  float32\n",
      " 50  val.tmp.brd        118346 non-null  float32\n",
      " 51  val.gps.pos:0      63664 non-null   float32\n",
      " 52  val.gps.pos:1      63664 non-null   float32\n",
      " 53  val.gps.elv        63664 non-null   float32\n",
      " 54  val.gps.qual       63664 non-null   float32\n",
      " 55  val.psu.standby    63664 non-null   float32\n",
      " 56  val.psu.batt-flt   63664 non-null   float32\n",
      " 57  val.psu.in         10790 non-null   float32\n",
      "dtypes: float32(57), object(1)\n",
      "memory usage: 31.0+ MB\n"
     ]
    }
   ],
   "source": [
    "# Generate a St Ebbes base training dataset by merging useful scalar variables \n",
    "# from gases, pm, status & climate\n",
    "#-----------------------------------------------------------------------------\n",
    "try:\n",
    "    oxaria_sebbes_gases_s15_2021.set_index(['tag', 'rec'], inplace=True)\n",
    "except Exception:\n",
    "    pass\n",
    "try:\n",
    "    oxaria_sebbes_climate_s15_2021.set_index(['tag', 'rec'], inplace=True)\n",
    "except Exception:\n",
    "    pass\n",
    "try:\n",
    "    oxaria_sebbes_pm_s15_2021.set_index(['tag', 'rec'], inplace=True)\n",
    "except Exception:\n",
    "    pass\n",
    "try:\n",
    "    oxaria_sebbes_status_s15_2021.set_index(['tag', 'rec'], inplace=True)\n",
    "except Exception:\n",
    "    pass\n",
    "\n",
    "sebbes_train_s15_2021 = oxaria_sebbes_gases_s15_2021.merge(\n",
    "    oxaria_sebbes_climate_s15_2021,\n",
    "    left_index=True,\n",
    "    right_index=True,\n",
    "    how='inner',\n",
    "    suffixes=('_g', '_c')).merge(\n",
    "        oxaria_sebbes_pm_s15_2021,\n",
    "        left_index=True,\n",
    "        right_index=True,\n",
    "        how='inner',\n",
    "        suffixes=('_g', '_p')).merge(\n",
    "            oxaria_sebbes_status_s15_2021,\n",
    "            left_index=True,\n",
    "            right_index=True,\n",
    "            how='inner').drop(['name_x', 'name_y', 'name_c'],\n",
    "                              axis=1).rename({'name_g': 'name'}, axis=1)\n",
    "sebbes_train_s15_2021.info()"
   ]
  },
  {
   "cell_type": "code",
   "execution_count": 14,
   "metadata": {
    "ExecuteTime": {
     "end_time": "2021-10-01T15:23:36.383750Z",
     "start_time": "2021-10-01T15:23:35.260811Z"
    },
    "execution": {
     "iopub.execute_input": "2022-05-04T23:29:19.442643Z",
     "iopub.status.busy": "2022-05-04T23:29:19.442482Z",
     "iopub.status.idle": "2022-05-04T23:29:21.048816Z",
     "shell.execute_reply": "2022-05-04T23:29:21.047843Z",
     "shell.execute_reply.started": "2022-05-04T23:29:19.442609Z"
    }
   },
   "outputs": [
    {
     "name": "stdout",
     "output_type": "stream",
     "text": [
      "<class 'pandas.core.frame.DataFrame'>\n",
      "MultiIndex: 113042 entries, ('scs-bgx-536', Timestamp('2020-09-25 00:15:00+0000', tz='UTC')) to ('scs-bgx-536', Timestamp('2021-09-14 14:15:00+0000', tz='UTC'))\n",
      "Data columns (total 58 columns):\n",
      " #   Column             Non-Null Count   Dtype  \n",
      "---  ------             --------------   -----  \n",
      " 0   val.no2.wev        113042 non-null  float32\n",
      " 1   val.no2.cnc        113042 non-null  float32\n",
      " 2   val.no2.aev        113042 non-null  float32\n",
      " 3   val.no2.wec        113042 non-null  float32\n",
      " 4   val.sht.hmd_g      113042 non-null  float32\n",
      " 5   val.sht.tmp_g      113042 non-null  float32\n",
      " 6   val.no2.cnc_1      111360 non-null  float32\n",
      " 7   name               0 non-null       object \n",
      " 8   mag_hmd_s20_g      113042 non-null  float32\n",
      " 9   mag_tmp_s20_g      113042 non-null  float32\n",
      " 10  mean_hmd_s20_g     113042 non-null  float32\n",
      " 11  mean_tmp_s20_g     113042 non-null  float32\n",
      " 12  exg.vb20.no2.cnc   4180 non-null    float32\n",
      " 13  val.hmd            113042 non-null  float32\n",
      " 14  val.tmp            113042 non-null  float32\n",
      " 15  mag_hmd_s20c       113042 non-null  float32\n",
      " 16  mag_tmp_s20c       113042 non-null  float32\n",
      " 17  mean_hmd_s20c      113042 non-null  float32\n",
      " 18  mean_tmp_s20c      113042 non-null  float32\n",
      " 19  max_hmd_s20c       4180 non-null    float32\n",
      " 20  val.mtf1           113042 non-null  float32\n",
      " 21  val.pm1            113042 non-null  float32\n",
      " 22  val.mtf5           113042 non-null  float32\n",
      " 23  val.pm2p5          113042 non-null  float32\n",
      " 24  val.mtf3           113042 non-null  float32\n",
      " 25  val.pm10           113042 non-null  float32\n",
      " 26  val.mtf7           113042 non-null  float32\n",
      " 27  val.per            113042 non-null  float32\n",
      " 28  val.sfr            113042 non-null  float32\n",
      " 29  val.sht.hmd_p      113042 non-null  float32\n",
      " 30  val.sht.tmp_p      113042 non-null  float32\n",
      " 31  val.pm10_1         99868 non-null   float32\n",
      " 32  val.pm2p5_1        99868 non-null   float32\n",
      " 33  val.pm1_1          99868 non-null   float32\n",
      " 34  mag_hmd_s20_p      113042 non-null  float32\n",
      " 35  mag_tmp_s20_p      113042 non-null  float32\n",
      " 36  mean_hmd_s20_p     113042 non-null  float32\n",
      " 37  mean_tmp_s20_p     113042 non-null  float32\n",
      " 38  exg.rn20.pm10      4180 non-null    float32\n",
      " 39  exg.rn20.pm1       4180 non-null    float32\n",
      " 40  exg.rn20.pm2p5     4180 non-null    float32\n",
      " 41  val.up.load.av15   113042 non-null  float32\n",
      " 42  val.up.load.av1    113042 non-null  float32\n",
      " 43  val.up.load.av5    113042 non-null  float32\n",
      " 44  val.up.users       113042 non-null  float32\n",
      " 45  val.psu.prot-batt  113042 non-null  float32\n",
      " 46  val.psu.rst        54720 non-null   float32\n",
      " 47  val.psu.chg        103832 non-null  float32\n",
      " 48  val.psu.pwr-in     113042 non-null  float32\n",
      " 49  val.psu.host-3v3   113042 non-null  float32\n",
      " 50  val.tmp.brd        108862 non-null  float32\n",
      " 51  val.gps.pos:0      57958 non-null   float32\n",
      " 52  val.gps.pos:1      57958 non-null   float32\n",
      " 53  val.gps.elv        57958 non-null   float32\n",
      " 54  val.gps.qual       57867 non-null   float32\n",
      " 55  val.psu.standby    58322 non-null   float32\n",
      " 56  val.psu.batt-flt   58322 non-null   float32\n",
      " 57  val.psu.in         4180 non-null    float32\n",
      "dtypes: float32(57), object(1)\n",
      "memory usage: 27.0+ MB\n"
     ]
    }
   ],
   "source": [
    "# Generate a High St base training dataset by merging useful scalar variables \n",
    "# from gases, pm, status & climate\n",
    "#-----------------------------------------------------------------------------\n",
    "try:\n",
    "    oxaria_highs_gases_s15_2021.set_index(['tag', 'rec'], inplace=True)\n",
    "except Exception:\n",
    "    pass\n",
    "try:\n",
    "    oxaria_highs_climate_s15_2021.set_index(['tag', 'rec'], inplace=True)\n",
    "except Exception:\n",
    "    pass\n",
    "try:\n",
    "    oxaria_highs_pm_s15_2021.set_index(['tag', 'rec'], inplace=True)\n",
    "except Exception:\n",
    "    pass\n",
    "try:\n",
    "    oxaria_highs_status_s15_2021.set_index(['tag', 'rec'], inplace=True)\n",
    "except Exception:\n",
    "    pass\n",
    "\n",
    "highs_train_s15_2021 = oxaria_highs_gases_s15_2021.merge(\n",
    "    oxaria_highs_climate_s15_2021,\n",
    "    left_index=True,\n",
    "    right_index=True,\n",
    "    how='inner',\n",
    "    suffixes=('_g', '_c')).merge(\n",
    "        oxaria_highs_pm_s15_2021,\n",
    "        left_index=True,\n",
    "        right_index=True,\n",
    "        how='inner',\n",
    "        suffixes=('_g', '_p')).merge(\n",
    "            oxaria_highs_status_s15_2021,\n",
    "            left_index=True,\n",
    "            right_index=True,\n",
    "            how='inner').drop(['name_x', 'name_y', 'name_c'],\n",
    "                              axis=1).rename({'name_g': 'name'}, axis=1)\n",
    "highs_train_s15_2021.info()"
   ]
  },
  {
   "cell_type": "code",
   "execution_count": 15,
   "metadata": {
    "ExecuteTime": {
     "end_time": "2021-10-01T15:24:50.000191Z",
     "start_time": "2021-10-01T15:24:49.958499Z"
    },
    "execution": {
     "iopub.execute_input": "2022-05-04T23:29:21.051220Z",
     "iopub.status.busy": "2022-05-04T23:29:21.050230Z",
     "iopub.status.idle": "2022-05-04T23:29:21.101258Z",
     "shell.execute_reply": "2022-05-04T23:29:21.100654Z",
     "shell.execute_reply.started": "2022-05-04T23:29:21.051151Z"
    }
   },
   "outputs": [
    {
     "name": "stdout",
     "output_type": "stream",
     "text": [
      "<class 'pandas.core.frame.DataFrame'>\n",
      "DatetimeIndex: 63072 entries, 2020-01-01 00:15:00+00:00 to 2021-10-19 00:00:00+00:00\n",
      "Data columns (total 22 columns):\n",
      " #   Column         Non-Null Count  Dtype  \n",
      "---  ------         --------------  -----  \n",
      " 0   index_s        63072 non-null  int64  \n",
      " 1   sitecode_s     63072 non-null  object \n",
      " 2   name_s         63072 non-null  object \n",
      " 3   no_ppb_s       61781 non-null  float32\n",
      " 4   no2_ppb_s      61781 non-null  float32\n",
      " 5   pm10_ugg_s     63030 non-null  float32\n",
      " 6   o3_ppb_s       35051 non-null  float32\n",
      " 7   pm25_ugg_s     63030 non-null  float32\n",
      " 8   fidas_t_s      61317 non-null  float32\n",
      " 9   fidas_rh_s     61317 non-null  float32\n",
      " 10  index_h        63072 non-null  int64  \n",
      " 11  sitecode_h     63072 non-null  object \n",
      " 12  name_h         63072 non-null  object \n",
      " 13  no_ppb_h       62047 non-null  float32\n",
      " 14  no2_ppb_h      61482 non-null  float32\n",
      " 15  pm10_ugg_h     58935 non-null  float32\n",
      " 16  o3_ppb_h       0 non-null      float32\n",
      " 17  pm25_ugg_h     0 non-null      float32\n",
      " 18  fidas_t_h      0 non-null      float32\n",
      " 19  fidas_rh_h     0 non-null      float32\n",
      " 20  abs_no2_diff   61262 non-null  float32\n",
      " 21  abs_pm10_diff  58893 non-null  float32\n",
      "dtypes: float32(16), int64(2), object(4)\n",
      "memory usage: 7.2+ MB\n"
     ]
    }
   ],
   "source": [
    "# AURN data for both St Ebbes & High St\n",
    "#---------------------------------------\n",
    "auto_merged = pd.read_feather(folder0+'jun_to_sept_2021/auto_merged_ratified+2021_oct_update.ftr').set_index('rec').sort_index()\n",
    "auto_merged.info()\n"
   ]
  },
  {
   "cell_type": "code",
   "execution_count": 16,
   "metadata": {
    "ExecuteTime": {
     "end_time": "2021-10-01T15:25:03.342469Z",
     "start_time": "2021-10-01T15:25:03.198907Z"
    },
    "execution": {
     "iopub.execute_input": "2022-05-04T23:29:21.102696Z",
     "iopub.status.busy": "2022-05-04T23:29:21.102289Z",
     "iopub.status.idle": "2022-05-04T23:29:21.415223Z",
     "shell.execute_reply": "2022-05-04T23:29:21.414764Z",
     "shell.execute_reply.started": "2022-05-04T23:29:21.102668Z"
    }
   },
   "outputs": [
    {
     "name": "stdout",
     "output_type": "stream",
     "text": [
      "<class 'pandas.core.frame.DataFrame'>\n",
      "MultiIndex: 129136 entries, ('scs-bgx-538', Timestamp('2020-06-05 00:15:00+0000', tz='UTC')) to ('scs-bgx-538', Timestamp('2021-10-01 00:00:00+0000', tz='UTC'))\n",
      "Data columns (total 80 columns):\n",
      " #   Column             Non-Null Count   Dtype  \n",
      "---  ------             --------------   -----  \n",
      " 0   val.no2.wev        129136 non-null  float32\n",
      " 1   val.no2.cnc        129136 non-null  float32\n",
      " 2   val.no2.aev        129136 non-null  float32\n",
      " 3   val.no2.wec        129136 non-null  float32\n",
      " 4   val.sht.hmd_g      129136 non-null  float32\n",
      " 5   val.sht.tmp_g      129136 non-null  float32\n",
      " 6   val.no2.cnc_1      128581 non-null  float32\n",
      " 7   name               0 non-null       object \n",
      " 8   mag_hmd_s20_g      129136 non-null  float32\n",
      " 9   mag_tmp_s20_g      129136 non-null  float32\n",
      " 10  mean_hmd_s20_g     129136 non-null  float32\n",
      " 11  mean_tmp_s20_g     129136 non-null  float32\n",
      " 12  exg.vb20.no2.cnc   10790 non-null   float32\n",
      " 13  val.hmd            129136 non-null  float32\n",
      " 14  val.tmp            129136 non-null  float32\n",
      " 15  mag_hmd_s20c       129136 non-null  float32\n",
      " 16  mag_tmp_s20c       129136 non-null  float32\n",
      " 17  mean_hmd_s20c      129136 non-null  float32\n",
      " 18  mean_tmp_s20c      129136 non-null  float32\n",
      " 19  max_hmd_s20c       10790 non-null   float32\n",
      " 20  val.mtf1           129136 non-null  float32\n",
      " 21  val.pm1            129136 non-null  float32\n",
      " 22  val.mtf5           129136 non-null  float32\n",
      " 23  val.pm2p5          129136 non-null  float32\n",
      " 24  val.mtf3           129136 non-null  float32\n",
      " 25  val.pm10           129136 non-null  float32\n",
      " 26  val.mtf7           129136 non-null  float32\n",
      " 27  val.per            129136 non-null  float32\n",
      " 28  val.sfr            129136 non-null  float32\n",
      " 29  val.sht.hmd_p      129136 non-null  float32\n",
      " 30  val.sht.tmp_p      129136 non-null  float32\n",
      " 31  val.pm10_1         108649 non-null  float32\n",
      " 32  val.pm2p5_1        108649 non-null  float32\n",
      " 33  val.pm1_1          108649 non-null  float32\n",
      " 34  mag_hmd_s20_p      129136 non-null  float32\n",
      " 35  mag_tmp_s20_p      129136 non-null  float32\n",
      " 36  mean_hmd_s20_p     129136 non-null  float32\n",
      " 37  mean_tmp_s20_p     129136 non-null  float32\n",
      " 38  exg.rn20.pm10      10790 non-null   float32\n",
      " 39  exg.rn20.pm1       10790 non-null   float32\n",
      " 40  exg.rn20.pm2p5     10790 non-null   float32\n",
      " 41  val.up.load.av15   129136 non-null  float32\n",
      " 42  val.up.load.av1    129136 non-null  float32\n",
      " 43  val.up.load.av5    129136 non-null  float32\n",
      " 44  val.up.users       129136 non-null  float32\n",
      " 45  val.psu.prot-batt  129136 non-null  float32\n",
      " 46  val.psu.rst        65472 non-null   float32\n",
      " 47  val.psu.chg        114588 non-null  float32\n",
      " 48  val.psu.pwr-in     129136 non-null  float32\n",
      " 49  val.psu.host-3v3   129136 non-null  float32\n",
      " 50  val.tmp.brd        118346 non-null  float32\n",
      " 51  val.gps.pos:0      63664 non-null   float32\n",
      " 52  val.gps.pos:1      63664 non-null   float32\n",
      " 53  val.gps.elv        63664 non-null   float32\n",
      " 54  val.gps.qual       63664 non-null   float32\n",
      " 55  val.psu.standby    63664 non-null   float32\n",
      " 56  val.psu.batt-flt   63664 non-null   float32\n",
      " 57  val.psu.in         10790 non-null   float32\n",
      " 58  index_s            129136 non-null  int64  \n",
      " 59  sitecode_s         129136 non-null  object \n",
      " 60  name_s             129136 non-null  object \n",
      " 61  no_ppb_s           125806 non-null  float32\n",
      " 62  no2_ppb_s          125806 non-null  float32\n",
      " 63  pm10_ugg_s         128951 non-null  float32\n",
      " 64  o3_ppb_s           20130 non-null   float32\n",
      " 65  pm25_ugg_s         128951 non-null  float32\n",
      " 66  fidas_t_s          129008 non-null  float32\n",
      " 67  fidas_rh_s         129008 non-null  float32\n",
      " 68  index_h            129136 non-null  int64  \n",
      " 69  sitecode_h         129136 non-null  object \n",
      " 70  name_h             129136 non-null  object \n",
      " 71  no_ppb_h           128120 non-null  float32\n",
      " 72  no2_ppb_h          125800 non-null  float32\n",
      " 73  pm10_ugg_h         118577 non-null  float32\n",
      " 74  o3_ppb_h           0 non-null       float32\n",
      " 75  pm25_ugg_h         0 non-null       float32\n",
      " 76  fidas_t_h          0 non-null       float32\n",
      " 77  fidas_rh_h         0 non-null       float32\n",
      " 78  abs_no2_diff       125045 non-null  float32\n",
      " 79  abs_pm10_diff      118392 non-null  float32\n",
      "dtypes: float32(73), int64(2), object(5)\n",
      "memory usage: 43.8+ MB\n"
     ]
    }
   ],
   "source": [
    "# Merge auto / reference data on to sensor data by timestamp\n",
    "#------------------------------------------------------------\n",
    "sebbes_train_s15_2021 = sebbes_train_s15_2021.merge(auto_merged,how='inner',left_index=True,right_index=True)\n",
    "sebbes_train_s15_2021.reset_index().to_feather(folder0 + 'jun_to_sept_2021/sebbes_train_s15+2021_oct_update_transients.ftr')\n",
    "sebbes_train_s15_2021.info()"
   ]
  },
  {
   "cell_type": "code",
   "execution_count": 17,
   "metadata": {
    "ExecuteTime": {
     "end_time": "2021-10-01T15:25:40.689580Z",
     "start_time": "2021-10-01T15:25:40.562168Z"
    },
    "execution": {
     "iopub.execute_input": "2022-05-04T23:29:21.416409Z",
     "iopub.status.busy": "2022-05-04T23:29:21.416139Z",
     "iopub.status.idle": "2022-05-04T23:29:21.678473Z",
     "shell.execute_reply": "2022-05-04T23:29:21.677876Z",
     "shell.execute_reply.started": "2022-05-04T23:29:21.416382Z"
    },
    "tags": []
   },
   "outputs": [
    {
     "name": "stdout",
     "output_type": "stream",
     "text": [
      "<class 'pandas.core.frame.DataFrame'>\n",
      "MultiIndex: 113042 entries, ('scs-bgx-536', Timestamp('2020-09-25 00:15:00+0000', tz='UTC')) to ('scs-bgx-536', Timestamp('2021-09-14 14:15:00+0000', tz='UTC'))\n",
      "Data columns (total 80 columns):\n",
      " #   Column             Non-Null Count   Dtype  \n",
      "---  ------             --------------   -----  \n",
      " 0   val.no2.wev        113042 non-null  float32\n",
      " 1   val.no2.cnc        113042 non-null  float32\n",
      " 2   val.no2.aev        113042 non-null  float32\n",
      " 3   val.no2.wec        113042 non-null  float32\n",
      " 4   val.sht.hmd_g      113042 non-null  float32\n",
      " 5   val.sht.tmp_g      113042 non-null  float32\n",
      " 6   val.no2.cnc_1      111360 non-null  float32\n",
      " 7   name               0 non-null       object \n",
      " 8   mag_hmd_s20_g      113042 non-null  float32\n",
      " 9   mag_tmp_s20_g      113042 non-null  float32\n",
      " 10  mean_hmd_s20_g     113042 non-null  float32\n",
      " 11  mean_tmp_s20_g     113042 non-null  float32\n",
      " 12  exg.vb20.no2.cnc   4180 non-null    float32\n",
      " 13  val.hmd            113042 non-null  float32\n",
      " 14  val.tmp            113042 non-null  float32\n",
      " 15  mag_hmd_s20c       113042 non-null  float32\n",
      " 16  mag_tmp_s20c       113042 non-null  float32\n",
      " 17  mean_hmd_s20c      113042 non-null  float32\n",
      " 18  mean_tmp_s20c      113042 non-null  float32\n",
      " 19  max_hmd_s20c       4180 non-null    float32\n",
      " 20  val.mtf1           113042 non-null  float32\n",
      " 21  val.pm1            113042 non-null  float32\n",
      " 22  val.mtf5           113042 non-null  float32\n",
      " 23  val.pm2p5          113042 non-null  float32\n",
      " 24  val.mtf3           113042 non-null  float32\n",
      " 25  val.pm10           113042 non-null  float32\n",
      " 26  val.mtf7           113042 non-null  float32\n",
      " 27  val.per            113042 non-null  float32\n",
      " 28  val.sfr            113042 non-null  float32\n",
      " 29  val.sht.hmd_p      113042 non-null  float32\n",
      " 30  val.sht.tmp_p      113042 non-null  float32\n",
      " 31  val.pm10_1         99868 non-null   float32\n",
      " 32  val.pm2p5_1        99868 non-null   float32\n",
      " 33  val.pm1_1          99868 non-null   float32\n",
      " 34  mag_hmd_s20_p      113042 non-null  float32\n",
      " 35  mag_tmp_s20_p      113042 non-null  float32\n",
      " 36  mean_hmd_s20_p     113042 non-null  float32\n",
      " 37  mean_tmp_s20_p     113042 non-null  float32\n",
      " 38  exg.rn20.pm10      4180 non-null    float32\n",
      " 39  exg.rn20.pm1       4180 non-null    float32\n",
      " 40  exg.rn20.pm2p5     4180 non-null    float32\n",
      " 41  val.up.load.av15   113042 non-null  float32\n",
      " 42  val.up.load.av1    113042 non-null  float32\n",
      " 43  val.up.load.av5    113042 non-null  float32\n",
      " 44  val.up.users       113042 non-null  float32\n",
      " 45  val.psu.prot-batt  113042 non-null  float32\n",
      " 46  val.psu.rst        54720 non-null   float32\n",
      " 47  val.psu.chg        103832 non-null  float32\n",
      " 48  val.psu.pwr-in     113042 non-null  float32\n",
      " 49  val.psu.host-3v3   113042 non-null  float32\n",
      " 50  val.tmp.brd        108862 non-null  float32\n",
      " 51  val.gps.pos:0      57958 non-null   float32\n",
      " 52  val.gps.pos:1      57958 non-null   float32\n",
      " 53  val.gps.elv        57958 non-null   float32\n",
      " 54  val.gps.qual       57867 non-null   float32\n",
      " 55  val.psu.standby    58322 non-null   float32\n",
      " 56  val.psu.batt-flt   58322 non-null   float32\n",
      " 57  val.psu.in         4180 non-null    float32\n",
      " 58  index_s            113042 non-null  int64  \n",
      " 59  sitecode_s         113042 non-null  object \n",
      " 60  name_s             113042 non-null  object \n",
      " 61  no_ppb_s           110085 non-null  float32\n",
      " 62  no2_ppb_s          110085 non-null  float32\n",
      " 63  pm10_ugg_s         112878 non-null  float32\n",
      " 64  o3_ppb_s           9407 non-null    float32\n",
      " 65  pm25_ugg_s         112878 non-null  float32\n",
      " 66  fidas_t_s          112929 non-null  float32\n",
      " 67  fidas_rh_s         112929 non-null  float32\n",
      " 68  index_h            113042 non-null  int64  \n",
      " 69  sitecode_h         113042 non-null  object \n",
      " 70  name_h             113042 non-null  object \n",
      " 71  no_ppb_h           112387 non-null  float32\n",
      " 72  no2_ppb_h          110195 non-null  float32\n",
      " 73  pm10_ugg_h         103245 non-null  float32\n",
      " 74  o3_ppb_h           0 non-null       float32\n",
      " 75  pm25_ugg_h         0 non-null       float32\n",
      " 76  fidas_t_h          0 non-null       float32\n",
      " 77  fidas_rh_h         0 non-null       float32\n",
      " 78  abs_no2_diff       109511 non-null  float32\n",
      " 79  abs_pm10_diff      103081 non-null  float32\n",
      "dtypes: float32(73), int64(2), object(5)\n",
      "memory usage: 38.1+ MB\n"
     ]
    }
   ],
   "source": [
    "# Merge auto / reference data on to sensor data by timestamp\n",
    "#------------------------------------------------------------\n",
    "highs_train_s15_2021 = highs_train_s15_2021.merge(auto_merged,how='inner',left_index=True,right_index=True)\n",
    "highs_train_s15_2021.reset_index().to_feather(folder0 + 'jun_to_sept_2021/highs_train_s15+2021_oct_update_transients.ftr')\n",
    "highs_train_s15_2021.info()"
   ]
  }
 ],
 "metadata": {
  "interpreter": {
   "hash": "eedb1ef1f2e27fc7bbf52f5790c005c851adb1cad8d45b920d8b91a53d07397e"
  },
  "kernelspec": {
   "display_name": "Python 3.8.6 ('qoax')",
   "language": "python",
   "name": "python3"
  },
  "language_info": {
   "codemirror_mode": {
    "name": "ipython",
    "version": 3
   },
   "file_extension": ".py",
   "mimetype": "text/x-python",
   "name": "python",
   "nbconvert_exporter": "python",
   "pygments_lexer": "ipython3",
   "version": "3.8.6"
  },
  "toc": {
   "base_numbering": 1,
   "nav_menu": {},
   "number_sections": true,
   "sideBar": true,
   "skip_h1_title": false,
   "title_cell": "Table of Contents",
   "title_sidebar": "Contents",
   "toc_cell": false,
   "toc_position": {},
   "toc_section_display": true,
   "toc_window_display": false
  }
 },
 "nbformat": 4,
 "nbformat_minor": 4
}
