{
 "cells": [
  {
   "cell_type": "code",
   "execution_count": 7,
   "metadata": {
    "ExecuteTime": {
     "end_time": "2021-10-12T15:08:53.116475Z",
     "start_time": "2021-10-12T15:08:53.111572Z"
    },
    "execution": {
     "iopub.execute_input": "2022-04-22T16:15:58.979865Z",
     "iopub.status.busy": "2022-04-22T16:15:58.979589Z",
     "iopub.status.idle": "2022-04-22T16:15:58.984463Z",
     "shell.execute_reply": "2022-04-22T16:15:58.983877Z",
     "shell.execute_reply.started": "2022-04-22T16:15:58.979828Z"
    }
   },
   "outputs": [],
   "source": [
    "# Imports\n",
    "#---------\n",
    "import sys\n",
    "import pandas as pd\n",
    "import numpy as np\n",
    "import feather\n",
    "import os\n",
    "import gc\n",
    "import datetime as dt\n",
    "import matplotlib.pyplot as plt\n",
    "import matplotlib.dates as mdates\n",
    "from pandas.plotting import register_matplotlib_converters\n",
    "import matplotlib.ticker as ticker\n",
    "from matplotlib.dates import DateFormatter\n",
    "import matplotlib as mpl\n",
    "from datetime import timezone\n",
    "import pickle\n",
    "\n",
    "register_matplotlib_converters()\n",
    "\n",
    "# File locations\n",
    "#----------------\n",
    "data_home = './oxaria/processed/batch_3_jun21_oct21/'\n",
    "aurn_home = './oxaria/processed/aurn/'\n",
    "pngs = './oxaria/pngs/'"
   ]
  },
  {
   "cell_type": "code",
   "execution_count": 8,
   "metadata": {
    "ExecuteTime": {
     "end_time": "2021-10-12T15:09:19.551535Z",
     "start_time": "2021-10-12T15:09:19.475247Z"
    },
    "execution": {
     "iopub.execute_input": "2022-04-22T16:15:58.985799Z",
     "iopub.status.busy": "2022-04-22T16:15:58.985631Z",
     "iopub.status.idle": "2022-04-22T16:15:59.073458Z",
     "shell.execute_reply": "2022-04-22T16:15:59.072952Z",
     "shell.execute_reply.started": "2022-04-22T16:15:58.985771Z"
    }
   },
   "outputs": [],
   "source": [
    "# Load latest 15-minute data from Brian\n",
    "sebbes = pd.read_feather(aurn_home+'ox_auto_no2_pm_2019_2021_15m_jan22.ftr')\n",
    "\n",
    "# Get St Ebbes 2020 only \n",
    "sebbes = sebbes[(sebbes['sitecode'] == 'OX8') & \\\n",
    "                (sebbes['rec'] >= dt.datetime(2020,1,1,tzinfo=dt.timezone.utc))]\n",
    "\n",
    "# Load 15-minute data from Brian\n",
    "highst = pd.read_feather(aurn_home+'ox_auto_no2_pm_2019_2021_15m_jan22.ftr')\n",
    "\n",
    "# Get High St 2020 only \n",
    "highst = highst[(highst['sitecode'] == 'OX6') & \\\n",
    "                (highst['rec'] >= dt.datetime(2020,1,1,tzinfo=dt.timezone.utc))]"
   ]
  },
  {
   "cell_type": "code",
   "execution_count": 9,
   "metadata": {
    "ExecuteTime": {
     "end_time": "2021-10-12T15:09:19.564981Z",
     "start_time": "2021-10-12T15:09:19.552496Z"
    },
    "execution": {
     "iopub.execute_input": "2022-04-22T16:15:59.074347Z",
     "iopub.status.busy": "2022-04-22T16:15:59.074118Z",
     "iopub.status.idle": "2022-04-22T16:15:59.087618Z",
     "shell.execute_reply": "2022-04-22T16:15:59.087189Z",
     "shell.execute_reply.started": "2022-04-22T16:15:59.074334Z"
    }
   },
   "outputs": [
    {
     "data": {
      "text/html": [
       "<div>\n",
       "<style scoped>\n",
       "    .dataframe tbody tr th:only-of-type {\n",
       "        vertical-align: middle;\n",
       "    }\n",
       "\n",
       "    .dataframe tbody tr th {\n",
       "        vertical-align: top;\n",
       "    }\n",
       "\n",
       "    .dataframe thead th {\n",
       "        text-align: right;\n",
       "    }\n",
       "</style>\n",
       "<table border=\"1\" class=\"dataframe\">\n",
       "  <thead>\n",
       "    <tr style=\"text-align: right;\">\n",
       "      <th></th>\n",
       "      <th>sitecode</th>\n",
       "      <th>name</th>\n",
       "      <th>rec</th>\n",
       "      <th>no_ppb</th>\n",
       "      <th>no2_ppb</th>\n",
       "      <th>pm10_ugg</th>\n",
       "      <th>o3_ppb</th>\n",
       "      <th>pm25_ugg</th>\n",
       "      <th>fidas_t</th>\n",
       "      <th>fidas_rh</th>\n",
       "    </tr>\n",
       "  </thead>\n",
       "  <tbody>\n",
       "    <tr>\n",
       "      <th>245469</th>\n",
       "      <td>OX8</td>\n",
       "      <td>Oxford St Ebbes</td>\n",
       "      <td>2020-01-01 00:15:00+00:00</td>\n",
       "      <td>0.67</td>\n",
       "      <td>12.28</td>\n",
       "      <td>36.299999</td>\n",
       "      <td>15.730000</td>\n",
       "      <td>29.056700</td>\n",
       "      <td>6.2</td>\n",
       "      <td>91.500000</td>\n",
       "    </tr>\n",
       "    <tr>\n",
       "      <th>245470</th>\n",
       "      <td>OX8</td>\n",
       "      <td>Oxford St Ebbes</td>\n",
       "      <td>2020-01-01 00:30:00+00:00</td>\n",
       "      <td>0.86</td>\n",
       "      <td>12.76</td>\n",
       "      <td>38.700001</td>\n",
       "      <td>13.410000</td>\n",
       "      <td>33.113300</td>\n",
       "      <td>6.1</td>\n",
       "      <td>92.000000</td>\n",
       "    </tr>\n",
       "    <tr>\n",
       "      <th>245471</th>\n",
       "      <td>OX8</td>\n",
       "      <td>Oxford St Ebbes</td>\n",
       "      <td>2020-01-01 00:45:00+00:00</td>\n",
       "      <td>0.67</td>\n",
       "      <td>12.95</td>\n",
       "      <td>40.700001</td>\n",
       "      <td>10.520000</td>\n",
       "      <td>35.000099</td>\n",
       "      <td>6.1</td>\n",
       "      <td>91.900002</td>\n",
       "    </tr>\n",
       "    <tr>\n",
       "      <th>245472</th>\n",
       "      <td>OX8</td>\n",
       "      <td>Oxford St Ebbes</td>\n",
       "      <td>2020-01-01 01:00:00+00:00</td>\n",
       "      <td>NaN</td>\n",
       "      <td>NaN</td>\n",
       "      <td>36.099998</td>\n",
       "      <td>9.170000</td>\n",
       "      <td>30.660500</td>\n",
       "      <td>6.1</td>\n",
       "      <td>91.099998</td>\n",
       "    </tr>\n",
       "    <tr>\n",
       "      <th>245473</th>\n",
       "      <td>OX8</td>\n",
       "      <td>Oxford St Ebbes</td>\n",
       "      <td>2020-01-01 01:15:00+00:00</td>\n",
       "      <td>NaN</td>\n",
       "      <td>NaN</td>\n",
       "      <td>36.900002</td>\n",
       "      <td>8.780000</td>\n",
       "      <td>31.415199</td>\n",
       "      <td>5.9</td>\n",
       "      <td>90.699997</td>\n",
       "    </tr>\n",
       "    <tr>\n",
       "      <th>...</th>\n",
       "      <td>...</td>\n",
       "      <td>...</td>\n",
       "      <td>...</td>\n",
       "      <td>...</td>\n",
       "      <td>...</td>\n",
       "      <td>...</td>\n",
       "      <td>...</td>\n",
       "      <td>...</td>\n",
       "      <td>...</td>\n",
       "      <td>...</td>\n",
       "    </tr>\n",
       "    <tr>\n",
       "      <th>315640</th>\n",
       "      <td>OX8</td>\n",
       "      <td>Oxford St Ebbes</td>\n",
       "      <td>2021-12-31 23:00:00+00:00</td>\n",
       "      <td>0.33</td>\n",
       "      <td>4.58</td>\n",
       "      <td>10.400000</td>\n",
       "      <td>22.600000</td>\n",
       "      <td>6.886800</td>\n",
       "      <td>12.3</td>\n",
       "      <td>98.900002</td>\n",
       "    </tr>\n",
       "    <tr>\n",
       "      <th>315641</th>\n",
       "      <td>OX8</td>\n",
       "      <td>Oxford St Ebbes</td>\n",
       "      <td>2021-12-31 23:15:00+00:00</td>\n",
       "      <td>0.33</td>\n",
       "      <td>3.49</td>\n",
       "      <td>9.700000</td>\n",
       "      <td>23.200001</td>\n",
       "      <td>7.264200</td>\n",
       "      <td>12.4</td>\n",
       "      <td>99.800003</td>\n",
       "    </tr>\n",
       "    <tr>\n",
       "      <th>315642</th>\n",
       "      <td>OX8</td>\n",
       "      <td>Oxford St Ebbes</td>\n",
       "      <td>2021-12-31 23:30:00+00:00</td>\n",
       "      <td>0.33</td>\n",
       "      <td>2.62</td>\n",
       "      <td>8.600000</td>\n",
       "      <td>22.900000</td>\n",
       "      <td>6.698100</td>\n",
       "      <td>12.4</td>\n",
       "      <td>100.000000</td>\n",
       "    </tr>\n",
       "    <tr>\n",
       "      <th>315643</th>\n",
       "      <td>OX8</td>\n",
       "      <td>Oxford St Ebbes</td>\n",
       "      <td>2021-12-31 23:45:00+00:00</td>\n",
       "      <td>0.22</td>\n",
       "      <td>2.40</td>\n",
       "      <td>8.600000</td>\n",
       "      <td>22.500000</td>\n",
       "      <td>6.603800</td>\n",
       "      <td>12.4</td>\n",
       "      <td>100.000000</td>\n",
       "    </tr>\n",
       "    <tr>\n",
       "      <th>315644</th>\n",
       "      <td>OX8</td>\n",
       "      <td>Oxford St Ebbes</td>\n",
       "      <td>2022-01-01 00:00:00+00:00</td>\n",
       "      <td>0.33</td>\n",
       "      <td>3.05</td>\n",
       "      <td>9.100000</td>\n",
       "      <td>20.000000</td>\n",
       "      <td>6.981200</td>\n",
       "      <td>12.4</td>\n",
       "      <td>100.000000</td>\n",
       "    </tr>\n",
       "  </tbody>\n",
       "</table>\n",
       "<p>70176 rows × 10 columns</p>\n",
       "</div>"
      ],
      "text/plain": [
       "       sitecode             name                       rec  no_ppb  no2_ppb  \\\n",
       "245469      OX8  Oxford St Ebbes 2020-01-01 00:15:00+00:00    0.67    12.28   \n",
       "245470      OX8  Oxford St Ebbes 2020-01-01 00:30:00+00:00    0.86    12.76   \n",
       "245471      OX8  Oxford St Ebbes 2020-01-01 00:45:00+00:00    0.67    12.95   \n",
       "245472      OX8  Oxford St Ebbes 2020-01-01 01:00:00+00:00     NaN      NaN   \n",
       "245473      OX8  Oxford St Ebbes 2020-01-01 01:15:00+00:00     NaN      NaN   \n",
       "...         ...              ...                       ...     ...      ...   \n",
       "315640      OX8  Oxford St Ebbes 2021-12-31 23:00:00+00:00    0.33     4.58   \n",
       "315641      OX8  Oxford St Ebbes 2021-12-31 23:15:00+00:00    0.33     3.49   \n",
       "315642      OX8  Oxford St Ebbes 2021-12-31 23:30:00+00:00    0.33     2.62   \n",
       "315643      OX8  Oxford St Ebbes 2021-12-31 23:45:00+00:00    0.22     2.40   \n",
       "315644      OX8  Oxford St Ebbes 2022-01-01 00:00:00+00:00    0.33     3.05   \n",
       "\n",
       "         pm10_ugg     o3_ppb   pm25_ugg  fidas_t    fidas_rh  \n",
       "245469  36.299999  15.730000  29.056700      6.2   91.500000  \n",
       "245470  38.700001  13.410000  33.113300      6.1   92.000000  \n",
       "245471  40.700001  10.520000  35.000099      6.1   91.900002  \n",
       "245472  36.099998   9.170000  30.660500      6.1   91.099998  \n",
       "245473  36.900002   8.780000  31.415199      5.9   90.699997  \n",
       "...           ...        ...        ...      ...         ...  \n",
       "315640  10.400000  22.600000   6.886800     12.3   98.900002  \n",
       "315641   9.700000  23.200001   7.264200     12.4   99.800003  \n",
       "315642   8.600000  22.900000   6.698100     12.4  100.000000  \n",
       "315643   8.600000  22.500000   6.603800     12.4  100.000000  \n",
       "315644   9.100000  20.000000   6.981200     12.4  100.000000  \n",
       "\n",
       "[70176 rows x 10 columns]"
      ]
     },
     "execution_count": 9,
     "metadata": {},
     "output_type": "execute_result"
    }
   ],
   "source": [
    "sebbes"
   ]
  },
  {
   "cell_type": "code",
   "execution_count": 10,
   "metadata": {
    "ExecuteTime": {
     "end_time": "2021-10-12T15:09:19.955393Z",
     "start_time": "2021-10-12T15:09:19.566104Z"
    },
    "execution": {
     "iopub.execute_input": "2022-04-22T16:15:59.088455Z",
     "iopub.status.busy": "2022-04-22T16:15:59.088317Z",
     "iopub.status.idle": "2022-04-22T16:15:59.289323Z",
     "shell.execute_reply": "2022-04-22T16:15:59.289041Z",
     "shell.execute_reply.started": "2022-04-22T16:15:59.088442Z"
    }
   },
   "outputs": [
    {
     "data": {
      "text/plain": [
       "(-10.0, 100.0)"
      ]
     },
     "execution_count": 10,
     "metadata": {},
     "output_type": "execute_result"
    },
    {
     "data": {
      "image/png": "[encoded data removed]",
      "text/plain": [
       "<Figure size 504x504 with 1 Axes>"
      ]
     },
     "metadata": {
      "needs_background": "light"
     },
     "output_type": "display_data"
    }
   ],
   "source": [
    "# Plotting just to compare high st vs st ebbes\n",
    "#----------------------------------------------\n",
    "plt.figure(figsize=(7,7))\n",
    "plt.scatter(sebbes.no2_ppb, highst.no2_ppb)\n",
    "plt.title('NO2 High St vs. St Ebbes 2020')\n",
    "plt.ylabel('NO2 High St (ppb)')\n",
    "plt.xlabel('NO2 St Ebbes (ppb)')\n",
    "plt.ylim(-10,200)\n",
    "plt.xlim(-10,100)\n",
    "#plt.savefig(pngs+'highst_vs_sebbes_no2_2020-21_oct21_update.png')"
   ]
  },
  {
   "cell_type": "code",
   "execution_count": 11,
   "metadata": {
    "ExecuteTime": {
     "end_time": "2021-10-12T15:09:20.350928Z",
     "start_time": "2021-10-12T15:09:19.956798Z"
    },
    "execution": {
     "iopub.execute_input": "2022-04-22T16:15:59.290360Z",
     "iopub.status.busy": "2022-04-22T16:15:59.290200Z",
     "iopub.status.idle": "2022-04-22T16:15:59.497170Z",
     "shell.execute_reply": "2022-04-22T16:15:59.496863Z",
     "shell.execute_reply.started": "2022-04-22T16:15:59.290329Z"
    }
   },
   "outputs": [
    {
     "data": {
      "text/plain": [
       "(-10.0, 100.0)"
      ]
     },
     "execution_count": 11,
     "metadata": {},
     "output_type": "execute_result"
    },
    {
     "data": {
      "image/png": "[encoded data removed]",
      "text/plain": [
       "<Figure size 504x504 with 1 Axes>"
      ]
     },
     "metadata": {
      "needs_background": "light"
     },
     "output_type": "display_data"
    }
   ],
   "source": [
    "# Plotting just to compare high st vs st ebbes\n",
    "#----------------------------------------------\n",
    "plt.figure(figsize=(7,7))\n",
    "plt.scatter(sebbes.pm10_ugg, highst.pm10_ugg)\n",
    "plt.title('PM10 High St vs. St Ebbes 2020')\n",
    "plt.ylabel('PM10 High St (ugm-3)')\n",
    "plt.xlabel('PM10 St Ebbes (ugm-3)')\n",
    "plt.ylim(-10,150)\n",
    "plt.xlim(-10,100)\n",
    "#plt.savefig(pngs+'highst_vs_sebbes_pm10_2020-21_oct21_update.png')"
   ]
  },
  {
   "cell_type": "code",
   "execution_count": 12,
   "metadata": {
    "ExecuteTime": {
     "end_time": "2021-10-12T15:09:20.735473Z",
     "start_time": "2021-10-12T15:09:20.670519Z"
    },
    "execution": {
     "iopub.execute_input": "2022-04-22T16:15:59.498003Z",
     "iopub.status.busy": "2022-04-22T16:15:59.497794Z",
     "iopub.status.idle": "2022-04-22T16:15:59.612573Z",
     "shell.execute_reply": "2022-04-22T16:15:59.612200Z",
     "shell.execute_reply.started": "2022-04-22T16:15:59.497973Z"
    },
    "tags": []
   },
   "outputs": [
    {
     "name": "stdout",
     "output_type": "stream",
     "text": [
      "Ratified data 2020, provisional jan to may 2021\n",
      "No.of 15min periods across Oxaria network where no2 diff is <= 2ugm-3: 6148\n",
      "No.of 15min periods across Oxaria network where pm10 diff is <= 2ugm-3: 11822\n"
     ]
    }
   ],
   "source": [
    "# Merge St Ebbes & High St auto datasets & calc diff in no2 & pm10\n",
    "#------------------------------------------------------------------\n",
    "# Remove pm10_ugg <3 ugm-3 which persist because highst data are unratified\n",
    "highst['pm10_ugg'] = np.where(highst['pm10_ugg'] < 3, np.nan, highst['pm10_ugg'])\n",
    "\n",
    "# Merge\n",
    "auto_merged = sebbes.merge(highst,on='rec',copy=True,suffixes=('_s','_h'))\n",
    "# Calc absolute diffs of no2 & pm10\n",
    "auto_merged['abs_no2_diff'] = abs(auto_merged['no2_ppb_s']-auto_merged['no2_ppb_h'])\n",
    "auto_merged['abs_pm10_diff'] = abs(auto_merged['pm10_ugg_s']-auto_merged['pm10_ugg_h'])\n",
    "# Get list of dates when diffs <=1ppb & 2ugm-3 respectively\n",
    "convergent_no2 = list(auto_merged.query('abs_no2_diff <= 1')['rec'])\n",
    "convergent_pm10 = list(auto_merged.query('abs_pm10_diff <= 2')['rec'])\n",
    "auto_merged.to_feather(data_home+'auto_merged_ratified_2021_jan22_update.ftr')\n",
    "\n",
    "# Save lists as pickle files to be used later\n",
    "with open(data_home+'convergent_datelist_no2+2021_jan22_update.pkl', 'wb') as f:\n",
    "    pickle.dump(convergent_no2, f)\n",
    "    \n",
    "with open(data_home+'convergent_datelist_pm10+2021_jan22_update.pkl', 'wb') as f:\n",
    "    pickle.dump(convergent_pm10, f)\n",
    "\n",
    "# For info\n",
    "print('Ratified data 2020, provisional jan to may 2021')\n",
    "print('No.of 15min periods across Oxaria network where no2 diff is <= 2ugm-3: '+str(len(convergent_no2)))\n",
    "print('No.of 15min periods across Oxaria network where pm10 diff is <= 2ugm-3: '+str(len(convergent_pm10)))\n"
   ]
  }
 ],
 "metadata": {
  "kernelspec": {
   "display_name": "Python [conda env:qoax] *",
   "language": "python",
   "name": "conda-env-qoax-py"
  },
  "language_info": {
   "codemirror_mode": {
    "name": "ipython",
    "version": 3
   },
   "file_extension": ".py",
   "mimetype": "text/x-python",
   "name": "python",
   "nbconvert_exporter": "python",
   "pygments_lexer": "ipython3",
   "version": "3.8.6"
  },
  "toc": {
   "base_numbering": 1,
   "nav_menu": {},
   "number_sections": true,
   "sideBar": true,
   "skip_h1_title": false,
   "title_cell": "Table of Contents",
   "title_sidebar": "Contents",
   "toc_cell": false,
   "toc_position": {},
   "toc_section_display": true,
   "toc_window_display": false
  }
 },
 "nbformat": 4,
 "nbformat_minor": 4
}
