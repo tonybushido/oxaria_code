{
 "cells": [
  {
   "cell_type": "code",
   "execution_count": 1,
   "metadata": {
    "ExecuteTime": {
     "end_time": "2021-07-05T22:14:08.886656Z",
     "start_time": "2021-07-05T22:14:08.571552Z"
    }
   },
   "outputs": [],
   "source": [
    "# Imports\n",
    "#---------\n",
    "import sys\n",
    "import pandas as pd\n",
    "import numpy as np\n",
    "import feather\n",
    "import os\n",
    "import gc\n",
    "import datetime as dt\n",
    "import matplotlib.pyplot as plt\n",
    "import matplotlib.dates as mdates\n",
    "from pandas.plotting import register_matplotlib_converters\n",
    "import matplotlib.ticker as ticker\n",
    "from matplotlib.dates import DateFormatter\n",
    "import matplotlib as mpl\n",
    "from datetime import timezone\n",
    "\n",
    "register_matplotlib_converters()\n",
    "\n",
    "# File locations\n",
    "#----------------\n",
    "data_home = './oxaria/raw/2oxaria/json/gap_filling/batch_3_jun21_oct21/'\n",
    "pngs = './oxaria/pngs/gap_filling/'"
   ]
  },
  {
   "cell_type": "code",
   "execution_count": 2,
   "metadata": {
    "ExecuteTime": {
     "end_time": "2021-07-05T22:14:09.473567Z",
     "start_time": "2021-07-05T22:14:08.888468Z"
    }
   },
   "outputs": [
    {
     "name": "stdout",
     "output_type": "stream",
     "text": [
      "<class 'pandas.core.frame.DataFrame'>\n",
      "MultiIndex: 1583694 entries, ('scs-bgx-550', Timestamp('2021-06-21 10:01:59+0000', tz='UTC')) to ('scs-bgx-559', Timestamp('2021-09-30 23:59:20+0000', tz='UTC'))\n",
      "Data columns (total 3 columns):\n",
      " #   Column   Non-Null Count    Dtype  \n",
      "---  ------   --------------    -----  \n",
      " 0   val.hmd  1583694 non-null  float32\n",
      " 1   val.tmp  1583694 non-null  float32\n",
      " 2   name     1583694 non-null  object \n",
      "dtypes: float32(2), object(1)\n",
      "memory usage: 73.8+ MB\n"
     ]
    }
   ],
   "source": [
    "# Load the df \n",
    "#-------------\n",
    "oxaria2_climate = pd.read_feather(data_home+'oxaria2_climate_gf_oct.ftr').set_index(['tag','rec'])\n",
    "oxaria2_climate_lt = oxaria2_climate.iloc[:,[0,1,3]]\n",
    "\n",
    "# Checking out the data types \n",
    "#-----------------------------\n",
    "oxaria2_climate_lt.info()"
   ]
  },
  {
   "cell_type": "code",
   "execution_count": 3,
   "metadata": {
    "ExecuteTime": {
     "end_time": "2021-07-05T22:14:13.756610Z",
     "start_time": "2021-07-05T22:14:09.477091Z"
    }
   },
   "outputs": [],
   "source": [
    "# Some cleaning incase have missed anything\n",
    "#-------------------------------------------\n",
    "oxaria2_climate_lt = oxaria2_climate_lt[~oxaria2_climate.index.duplicated(keep='last')].reset_index()\n",
    "oxaria2_climate_lt = oxaria2_climate_lt.dropna(axis=0,subset=['tag']).set_index(['tag','rec']).sort_index()"
   ]
  },
  {
   "cell_type": "code",
   "execution_count": 4,
   "metadata": {
    "ExecuteTime": {
     "end_time": "2021-07-05T22:14:13.969997Z",
     "start_time": "2021-07-05T22:14:13.758233Z"
    }
   },
   "outputs": [],
   "source": [
    "# Save the df \n",
    "#-------------\n",
    "\n",
    "# There don't seem to be any outages that need removing so just saving\n",
    "oxaria2_climate_lt.reset_index().to_feather(data_home+'oxaria2_climate_stable_oct21.ftr')"
   ]
  }
 ],
 "metadata": {
  "kernelspec": {
   "display_name": "Python [conda env:qoax] *",
   "language": "python",
   "name": "conda-env-qoax-py"
  },
  "language_info": {
   "codemirror_mode": {
    "name": "ipython",
    "version": 3
   },
   "file_extension": ".py",
   "mimetype": "text/x-python",
   "name": "python",
   "nbconvert_exporter": "python",
   "pygments_lexer": "ipython3",
   "version": "3.8.6"
  },
  "toc": {
   "base_numbering": 1,
   "nav_menu": {},
   "number_sections": true,
   "sideBar": true,
   "skip_h1_title": false,
   "title_cell": "Table of Contents",
   "title_sidebar": "Contents",
   "toc_cell": false,
   "toc_position": {},
   "toc_section_display": true,
   "toc_window_display": false
  },
  "varInspector": {
   "cols": {
    "lenName": 16,
    "lenType": 16,
    "lenVar": 40
   },
   "kernels_config": {
    "python": {
     "delete_cmd_postfix": "",
     "delete_cmd_prefix": "del ",
     "library": "var_list.py",
     "varRefreshCmd": "print(var_dic_list())"
    },
    "r": {
     "delete_cmd_postfix": ") ",
     "delete_cmd_prefix": "rm(",
     "library": "var_list.r",
     "varRefreshCmd": "cat(var_dic_list()) "
    }
   },
   "types_to_exclude": [
    "module",
    "function",
    "builtin_function_or_method",
    "instance",
    "_Feature"
   ],
   "window_display": false
  }
 },
 "nbformat": 4,
 "nbformat_minor": 4
}
