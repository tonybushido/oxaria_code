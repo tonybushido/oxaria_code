{
 "cells": [
  {
   "cell_type": "code",
   "execution_count": 1,
   "metadata": {
    "ExecuteTime": {
     "end_time": "2021-07-05T22:54:00.791945Z",
     "start_time": "2021-07-05T22:54:00.478446Z"
    }
   },
   "outputs": [],
   "source": [
    "# Imports\n",
    "#---------\n",
    "import sys\n",
    "import pandas as pd\n",
    "import numpy as np\n",
    "import feather\n",
    "import os\n",
    "import gc\n",
    "import datetime as dt\n",
    "import matplotlib.pyplot as plt\n",
    "import matplotlib.dates as mdates\n",
    "from pandas.plotting import register_matplotlib_converters\n",
    "import matplotlib.ticker as ticker\n",
    "from matplotlib.dates import DateFormatter\n",
    "import matplotlib as mpl\n",
    "from datetime import timezone\n",
    "\n",
    "register_matplotlib_converters()\n",
    "\n",
    "# File locations\n",
    "#----------------\n",
    "data_home = './oxaria/raw/2oxaria/json/gap_filling/batch_3_jun21_oct21/'\n",
    "pngs = './oxaria/pngs/gap_filling/'"
   ]
  },
  {
   "cell_type": "code",
   "execution_count": 2,
   "metadata": {
    "ExecuteTime": {
     "end_time": "2021-07-05T22:54:17.377850Z",
     "start_time": "2021-07-05T22:54:15.765939Z"
    }
   },
   "outputs": [
    {
     "name": "stdout",
     "output_type": "stream",
     "text": [
      "<class 'pandas.core.frame.DataFrame'>\n",
      "MultiIndex: 1584390 entries, ('scs-bgx-550', Timestamp('2021-06-21 09:09:16+0000', tz='UTC')) to ('scs-bgx-559', Timestamp('2021-09-30 23:59:25+0000', tz='UTC'))\n",
      "Data columns (total 20 columns):\n",
      " #   Column             Non-Null Count    Dtype  \n",
      "---  ------             --------------    -----  \n",
      " 0   val.gps.pos:0      1579683 non-null  float32\n",
      " 1   val.gps.pos:1      1579683 non-null  float32\n",
      " 2   val.gps.elv        1579683 non-null  float32\n",
      " 3   val.gps.qual       1579853 non-null  float32\n",
      " 4   val.up.load.av15   1584390 non-null  float32\n",
      " 5   val.up.load.av1    1584390 non-null  float32\n",
      " 6   val.up.load.av5    1584390 non-null  float32\n",
      " 7   val.up.period      1584390 non-null  object \n",
      " 8   val.up.users       1584390 non-null  float32\n",
      " 9   val.psu.prot-batt  1450909 non-null  float32\n",
      " 10  val.psu.rst        1450909 non-null  object \n",
      " 11  val.psu.standby    1450909 non-null  object \n",
      " 12  val.psu.src        1450909 non-null  object \n",
      " 13  val.psu.in         1450909 non-null  object \n",
      " 14  val.psu.pwr-in     1450909 non-null  float32\n",
      " 15  val.psu.host-3v3   1450909 non-null  float32\n",
      " 16  val.psu.batt-flt   1450909 non-null  object \n",
      " 17  val.psu.chgr       1450909 non-null  object \n",
      " 18  val.tz.name        1584390 non-null  object \n",
      " 19  val.tz.utc-offset  1584390 non-null  object \n",
      "dtypes: float32(11), object(9)\n",
      "memory usage: 225.0+ MB\n"
     ]
    }
   ],
   "source": [
    "# Load the df \n",
    "#-------------\n",
    "oxaria2_status = pd.read_feather(data_home+'oxaria2_status_gf_oct.ftr').set_index(['tag','rec']).sort_index()\n",
    "oxaria2_status_lt = oxaria2_status.iloc[:,[8,9,10,11,12,13,14,15,16,17,18,19,20,21,22,23,24,25,26,27]]\n",
    "del oxaria2_status\n",
    "oxaria2_status_lt.info()"
   ]
  },
  {
   "cell_type": "code",
   "execution_count": 3,
   "metadata": {
    "ExecuteTime": {
     "end_time": "2021-07-05T22:55:02.137798Z",
     "start_time": "2021-07-05T22:54:57.056102Z"
    }
   },
   "outputs": [],
   "source": [
    "# Some cleaning incase have missed anything\n",
    "#-------------------------------------------\n",
    "oxaria2_status_lt = oxaria2_status_lt[~oxaria2_status_lt.index.duplicated(keep='last')].reset_index()\n",
    "oxaria2_status_lt = oxaria2_status_lt.dropna(axis=0,subset=['tag']).set_index(['tag','rec']).sort_index()"
   ]
  },
  {
   "cell_type": "code",
   "execution_count": 4,
   "metadata": {
    "ExecuteTime": {
     "end_time": "2021-07-05T22:55:34.672056Z",
     "start_time": "2021-07-05T22:55:34.058371Z"
    }
   },
   "outputs": [],
   "source": [
    "# Save the df \n",
    "#-------------\n",
    "# There don't seem to be any outages that need removing so just saving\n",
    "oxaria2_status_lt.reset_index().to_feather(data_home+'oxaria2_status_stable_oct21.ftr')"
   ]
  }
 ],
 "metadata": {
  "kernelspec": {
   "display_name": "Python [conda env:qoax] *",
   "language": "python",
   "name": "conda-env-qoax-py"
  },
  "language_info": {
   "codemirror_mode": {
    "name": "ipython",
    "version": 3
   },
   "file_extension": ".py",
   "mimetype": "text/x-python",
   "name": "python",
   "nbconvert_exporter": "python",
   "pygments_lexer": "ipython3",
   "version": "3.8.6"
  },
  "toc": {
   "base_numbering": 1,
   "nav_menu": {},
   "number_sections": true,
   "sideBar": true,
   "skip_h1_title": false,
   "title_cell": "Table of Contents",
   "title_sidebar": "Contents",
   "toc_cell": false,
   "toc_position": {},
   "toc_section_display": true,
   "toc_window_display": false
  },
  "varInspector": {
   "cols": {
    "lenName": 16,
    "lenType": 16,
    "lenVar": 40
   },
   "kernels_config": {
    "python": {
     "delete_cmd_postfix": "",
     "delete_cmd_prefix": "del ",
     "library": "var_list.py",
     "varRefreshCmd": "print(var_dic_list())"
    },
    "r": {
     "delete_cmd_postfix": ") ",
     "delete_cmd_prefix": "rm(",
     "library": "var_list.r",
     "varRefreshCmd": "cat(var_dic_list()) "
    }
   },
   "types_to_exclude": [
    "module",
    "function",
    "builtin_function_or_method",
    "instance",
    "_Feature"
   ],
   "window_display": false
  }
 },
 "nbformat": 4,
 "nbformat_minor": 4
}
