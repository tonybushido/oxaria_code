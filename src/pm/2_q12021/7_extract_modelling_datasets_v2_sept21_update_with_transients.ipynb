{
 "cells": [
  {
   "cell_type": "code",
   "execution_count": 1,
   "metadata": {
    "ExecuteTime": {
     "end_time": "2021-10-01T15:13:42.288297Z",
     "start_time": "2021-10-01T15:13:41.868417Z"
    }
   },
   "outputs": [],
   "source": [
    "# Imports\n",
    "# ---------\n",
    "import sys\n",
    "import pandas as pd\n",
    "import numpy as np\n",
    "import feather\n",
    "import os\n",
    "import gc\n",
    "import datetime as dt\n",
    "import matplotlib.pyplot as plt\n",
    "import matplotlib.dates as mdates\n",
    "from pandas.plotting import register_matplotlib_converters\n",
    "import matplotlib.ticker as ticker\n",
    "from matplotlib.dates import DateFormatter\n",
    "import matplotlib as mpl\n",
    "from datetime import timezone\n",
    "import pickle\n",
    "\n",
    "register_matplotlib_converters()\n",
    "\n",
    "# File locations\n",
    "# ----------------\n",
    "folder0 = '/home/tonyb/Gdrive/MinicondaProjects/oxaria/data/raw/0oxaria/gap_filling/'\n",
    "aurn = '/home/tonyb/Gdrive/MinicondaProjects/oxaria/data/aurn/'\n",
    "pngs = '/home/tonyb/Gdrive/MinicondaProjects/oxaria/data/pngs/gap_filling/'"
   ]
  },
  {
   "cell_type": "code",
   "execution_count": 2,
   "metadata": {
    "ExecuteTime": {
     "end_time": "2021-10-01T15:13:45.723891Z",
     "start_time": "2021-10-01T15:13:45.283696Z"
    }
   },
   "outputs": [],
   "source": [
    "# Read in stable 15min operational data Jan - Nov 2020\n",
    "# ------------------------------------------------------\n",
    "oxaria_gases_s15 = pd.read_feather(folder0 +\n",
    "                                   'oxaria_gases_536_stable15_transients.ftr').set_index(\n",
    "                                       ['tag', 'rec']).sort_index()\n",
    "oxaria_pm_s15 = pd.read_feather(folder0 +\n",
    "                                'oxaria_pm_536_stable15_transients.ftr').set_index(\n",
    "                                    ['tag', 'rec']).sort_index()\n",
    "oxaria_climate_s15 = pd.read_feather(folder0 +\n",
    "                                     'oxaria_climate_536_stable15_transients.ftr').set_index(\n",
    "                                         ['tag', 'rec']).sort_index()\n",
    "oxaria_status_s15 = pd.read_feather(folder0 +\n",
    "                                    'oxaria_status_stable15.ftr').set_index(\n",
    "                                        ['tag', 'rec']).sort_index()"
   ]
  },
  {
   "cell_type": "code",
   "execution_count": 13,
   "metadata": {
    "ExecuteTime": {
     "end_time": "2021-10-01T15:19:25.160484Z",
     "start_time": "2021-10-01T15:19:25.123682Z"
    }
   },
   "outputs": [
    {
     "name": "stdout",
     "output_type": "stream",
     "text": [
      "<class 'pandas.core.frame.DataFrame'>\n",
      "MultiIndex: 341623 entries, ('scs-bgx-536', Timestamp('2020-09-25 00:15:00+0000', tz='UTC')) to ('scs-bgx-559', Timestamp('2021-03-01 00:00:00+0000', tz='UTC'))\n",
      "Data columns (total 7 columns):\n",
      " #   Column         Non-Null Count   Dtype  \n",
      "---  ------         --------------   -----  \n",
      " 0   val.hmd        341623 non-null  float32\n",
      " 1   val.tmp        341623 non-null  float32\n",
      " 2   name           341623 non-null  object \n",
      " 3   mag_hmd_s20c   341622 non-null  float32\n",
      " 4   mag_tmp_s20c   341622 non-null  float32\n",
      " 5   mean_hmd_s20c  341622 non-null  float32\n",
      " 6   mean_tmp_s20c  341622 non-null  float32\n",
      "dtypes: float32(6), object(1)\n",
      "memory usage: 13.4+ MB\n",
      "<class 'pandas.core.frame.DataFrame'>\n",
      "MultiIndex: 234889 entries, ('scs-bgx-536', Timestamp('2021-01-01 00:15:00+0000', tz='UTC')) to ('scs-bgx-559', Timestamp('2021-06-01 00:00:00+0000', tz='UTC'))\n",
      "Data columns (total 3 columns):\n",
      " #   Column   Non-Null Count   Dtype  \n",
      "---  ------   --------------   -----  \n",
      " 0   val.hmd  234889 non-null  float32\n",
      " 1   val.tmp  234889 non-null  float32\n",
      " 2   name     234889 non-null  object \n",
      "dtypes: float32(2), object(1)\n",
      "memory usage: 4.9+ MB\n"
     ]
    }
   ],
   "source": [
    "oxaria_climate_s15.info()\n",
    "oxaria_climate_s15_q12021.info()"
   ]
  },
  {
   "cell_type": "code",
   "execution_count": 3,
   "metadata": {
    "ExecuteTime": {
     "end_time": "2021-10-01T15:23:13.614334Z",
     "start_time": "2021-10-01T15:23:13.377444Z"
    }
   },
   "outputs": [],
   "source": [
    "# Read in stable 15min operational data Jan - June 2021\n",
    "#------------------------------------------------------\n",
    "oxaria_gases_s15_q12021 = pd.read_feather(folder0 +\n",
    "                                   'q12021/oxaria_gases_536_stable15_q12021_transients.ftr').set_index(\n",
    "                                      ['tag', 'rec']).sort_index()\n",
    "oxaria_pm_s15_q12021 = pd.read_feather(folder0 +\n",
    "                                'q12021/oxaria_pm_536_stable15_q12021_transients.ftr').set_index(\n",
    "                                    ['tag', 'rec']).sort_index()\n",
    "oxaria_climate_s15_q12021 = pd.read_feather(folder0 +\n",
    "                                     'q12021/oxaria_climate_536_stable15_q12021_transients.ftr').set_index(\n",
    "                                         ['tag', 'rec']).sort_index()\n",
    "oxaria_status_s15_q12021 = pd.read_feather(folder0 +\n",
    "                                    'q12021/oxaria_status_536_stable15_q12021_transients.ftr').set_index(\n",
    "                                        ['tag', 'rec']).sort_index()"
   ]
  },
  {
   "cell_type": "code",
   "execution_count": 16,
   "metadata": {
    "ExecuteTime": {
     "end_time": "2021-10-01T15:23:15.800628Z",
     "start_time": "2021-10-01T15:23:15.573304Z"
    }
   },
   "outputs": [],
   "source": [
    "# Combine 2020 and 2021\n",
    "#-----------------------\n",
    "oxaria_gases_s15_2021 = pd.concat([oxaria_gases_s15,oxaria_gases_s15_q12021])\n",
    "oxaria_pm_s15_2021 = pd.concat([oxaria_pm_s15,oxaria_pm_s15_q12021])\n",
    "oxaria_climate_s15_2021 = pd.concat([oxaria_climate_s15,oxaria_climate_s15_q12021])\n",
    "oxaria_status_s15_2021 = pd.concat([oxaria_status_s15,oxaria_status_s15_q12021])\n"
   ]
  },
  {
   "cell_type": "code",
   "execution_count": 17,
   "metadata": {
    "ExecuteTime": {
     "end_time": "2021-10-01T15:23:19.423061Z",
     "start_time": "2021-10-01T15:23:19.246403Z"
    }
   },
   "outputs": [],
   "source": [
    "# Get colocated sensor data - St Ebbes\n",
    "# --------------------------------------\n",
    "# Gases\n",
    "oxaria_sebbes_gases_s15_2021 = oxaria_gases_s15_2021.query(\n",
    "    'tag == \"scs-bgx-538\"')\n",
    "oxaria_sebbes_gases_s15_2021.reset_index().to_feather(\n",
    "    folder0 + 'oxaria_sebbes_gases_536_s15_2021_transients.ftr')\n",
    "# PM\n",
    "oxaria_sebbes_pm_s15_2021 = oxaria_pm_s15_2021.query(\n",
    "    'tag == \"scs-bgx-538\"')\n",
    "oxaria_sebbes_pm_s15_2021.reset_index().to_feather(\n",
    "    folder0 + 'oxaria_sebbes_pm_536_s15_2021_transients.ftr')\n",
    "# Status\n",
    "oxaria_sebbes_status_s15_2021 = oxaria_status_s15_2021.query(\n",
    "    'tag == \"scs-bgx-538\"')\n",
    "oxaria_sebbes_status_s15_2021.reset_index().to_feather(\n",
    "    folder0 + 'oxaria_sebbes_status_15_2021.ftr')\n",
    "# Climate\n",
    "oxaria_sebbes_climate_s15_2021 = oxaria_climate_s15_2021.query(\n",
    "    'tag == \"scs-bgx-538\"')\n",
    "oxaria_sebbes_climate_s15_2021.reset_index().to_feather(\n",
    "    folder0 + 'oxaria_sebbes_climate_s15_2021.ftr')"
   ]
  },
  {
   "cell_type": "code",
   "execution_count": 18,
   "metadata": {
    "ExecuteTime": {
     "end_time": "2021-10-01T15:23:20.943128Z",
     "start_time": "2021-10-01T15:23:20.814601Z"
    }
   },
   "outputs": [],
   "source": [
    "# Get colocated sensor data - High St\n",
    "# --------------------------------------\n",
    "# Gases\n",
    "oxaria_highs_gases_s15_2021 = oxaria_gases_s15_2021.query(\n",
    "    'tag == \"scs-bgx-536\"')\n",
    "oxaria_highs_gases_s15_2021.reset_index().to_feather(\n",
    "    folder0 + 'oxaria_highs_gases_536_s15_2021_transients.ftr')\n",
    "# PM\n",
    "oxaria_highs_pm_s15_2021 = oxaria_pm_s15_2021.query(\n",
    "    'tag == \"scs-bgx-536\"')\n",
    "oxaria_highs_pm_s15_2021.reset_index().to_feather(\n",
    "    folder0 + 'oxaria_highs_pm_536_s15_2021_transients.ftr')\n",
    "# Status\n",
    "oxaria_highs_status_s15_2021 = oxaria_status_s15_2021.query(\n",
    "    'tag == \"scs-bgx-536\"')\n",
    "oxaria_highs_status_s15_2021.reset_index().to_feather(\n",
    "    folder0 + 'oxaria_highs_status_15_2021.ftr')\n",
    "# Climate\n",
    "oxaria_highs_climate_s15_2021 = oxaria_climate_s15_2021.query(\n",
    "    'tag == \"scs-bgx-536\"')\n",
    "oxaria_highs_climate_s15_2021.reset_index().to_feather(\n",
    "    folder0 + 'oxaria_highs_climate_s15_2021.ftr')"
   ]
  },
  {
   "cell_type": "code",
   "execution_count": 19,
   "metadata": {
    "ExecuteTime": {
     "end_time": "2021-10-01T15:23:26.416404Z",
     "start_time": "2021-10-01T15:23:26.405705Z"
    }
   },
   "outputs": [
    {
     "name": "stdout",
     "output_type": "stream",
     "text": [
      "<class 'pandas.core.frame.DataFrame'>\n",
      "MultiIndex: 29566 entries, ('scs-bgx-536', Timestamp('2020-09-25 00:15:00+0000', tz='UTC')) to ('scs-bgx-536', Timestamp('2021-06-01 00:00:00+0000', tz='UTC'))\n",
      "Data columns (total 7 columns):\n",
      " #   Column         Non-Null Count  Dtype  \n",
      "---  ------         --------------  -----  \n",
      " 0   val.hmd        29566 non-null  float32\n",
      " 1   val.tmp        29566 non-null  float32\n",
      " 2   name           29566 non-null  object \n",
      " 3   mag_hmd_s20c   29566 non-null  float32\n",
      " 4   mag_tmp_s20c   29566 non-null  float32\n",
      " 5   mean_hmd_s20c  29566 non-null  float32\n",
      " 6   mean_tmp_s20c  29566 non-null  float32\n",
      "dtypes: float32(6), object(1)\n",
      "memory usage: 2.4+ MB\n"
     ]
    }
   ],
   "source": [
    "oxaria_highs_climate_s15_2021.info()"
   ]
  },
  {
   "cell_type": "code",
   "execution_count": 20,
   "metadata": {
    "ExecuteTime": {
     "end_time": "2021-10-01T15:23:29.661015Z",
     "start_time": "2021-10-01T15:23:28.212128Z"
    }
   },
   "outputs": [
    {
     "name": "stdout",
     "output_type": "stream",
     "text": [
      "<class 'pandas.core.frame.DataFrame'>\n",
      "MultiIndex: 118346 entries, ('scs-bgx-538', Timestamp('2020-06-05 00:15:00+0000', tz='UTC')) to ('scs-bgx-538', Timestamp('2021-06-01 00:00:00+0000', tz='UTC'))\n",
      "Data columns (total 53 columns):\n",
      " #   Column             Non-Null Count   Dtype  \n",
      "---  ------             --------------   -----  \n",
      " 0   val.no2.wev        118346 non-null  float32\n",
      " 1   val.no2.cnc        118346 non-null  float32\n",
      " 2   val.no2.aev        118346 non-null  float32\n",
      " 3   val.no2.wec        118346 non-null  float32\n",
      " 4   val.sht.hmd_g      118346 non-null  float32\n",
      " 5   val.sht.tmp_g      118346 non-null  float32\n",
      " 6   val.no2.cnc_1      117825 non-null  float32\n",
      " 7   name               118346 non-null  object \n",
      " 8   mag_hmd_s20_g      118346 non-null  float32\n",
      " 9   mag_tmp_s20_g      118346 non-null  float32\n",
      " 10  mean_hmd_s20_g     118346 non-null  float32\n",
      " 11  mean_tmp_s20_g     118346 non-null  float32\n",
      " 12  exg.vb20.no2.cnc   0 non-null       float32\n",
      " 13  val.hmd            118346 non-null  float32\n",
      " 14  val.tmp            118346 non-null  float32\n",
      " 15  mag_hmd_s20c       118346 non-null  float32\n",
      " 16  mag_tmp_s20c       118346 non-null  float32\n",
      " 17  mean_hmd_s20c      118346 non-null  float32\n",
      " 18  mean_tmp_s20c      118346 non-null  float32\n",
      " 19  val.mtf1           118346 non-null  float32\n",
      " 20  val.pm1            118346 non-null  float32\n",
      " 21  val.mtf5           118346 non-null  float32\n",
      " 22  val.pm2p5          118346 non-null  float32\n",
      " 23  val.mtf3           118346 non-null  float32\n",
      " 24  val.pm10           118346 non-null  float32\n",
      " 25  val.mtf7           118346 non-null  float32\n",
      " 26  val.per            118346 non-null  float32\n",
      " 27  val.sfr            118346 non-null  float32\n",
      " 28  val.sht.hmd_p      118346 non-null  float32\n",
      " 29  val.sht.tmp_p      118346 non-null  float32\n",
      " 30  val.pm10_1         100703 non-null  float32\n",
      " 31  val.pm2p5_1        100703 non-null  float32\n",
      " 32  val.pm1_1          100703 non-null  float32\n",
      " 33  mag_hmd_s20_p      118346 non-null  float32\n",
      " 34  mag_tmp_s20_p      118346 non-null  float32\n",
      " 35  mean_hmd_s20_p     118346 non-null  float32\n",
      " 36  mean_tmp_s20_p     118346 non-null  float32\n",
      " 37  val.up.load.av15   118346 non-null  float32\n",
      " 38  val.up.load.av1    118346 non-null  float32\n",
      " 39  val.up.load.av5    118346 non-null  float32\n",
      " 40  val.up.users       118346 non-null  float32\n",
      " 41  val.psu.prot-batt  118346 non-null  float32\n",
      " 42  val.psu.rst        65472 non-null   float32\n",
      " 43  val.psu.chg        114588 non-null  float32\n",
      " 44  val.psu.pwr-in     118346 non-null  float32\n",
      " 45  val.psu.host-3v3   118346 non-null  float32\n",
      " 46  val.tmp.brd        118346 non-null  float32\n",
      " 47  val.gps.pos:0      52874 non-null   float32\n",
      " 48  val.gps.pos:1      52874 non-null   float32\n",
      " 49  val.gps.elv        52874 non-null   float32\n",
      " 50  val.gps.qual       52874 non-null   float32\n",
      " 51  val.psu.standby    52874 non-null   float32\n",
      " 52  val.psu.batt-flt   52874 non-null   float32\n",
      "dtypes: float32(52), object(1)\n",
      "memory usage: 26.2+ MB\n"
     ]
    }
   ],
   "source": [
    "# Generate a St Ebbes base training dataset by merging useful scalar variables \n",
    "# from gases, pm, status & climate\n",
    "#-----------------------------------------------------------------------------\n",
    "try:\n",
    "    oxaria_sebbes_gases_s15_2021.set_index(['tag', 'rec'], inplace=True)\n",
    "except Exception:\n",
    "    pass\n",
    "try:\n",
    "    oxaria_sebbes_climate_s15_2021.set_index(['tag', 'rec'], inplace=True)\n",
    "except Exception:\n",
    "    pass\n",
    "try:\n",
    "    oxaria_sebbes_pm_s15_2021.set_index(['tag', 'rec'], inplace=True)\n",
    "except Exception:\n",
    "    pass\n",
    "try:\n",
    "    oxaria_sebbes_status_s15_2021.set_index(['tag', 'rec'], inplace=True)\n",
    "except Exception:\n",
    "    pass\n",
    "\n",
    "sebbes_train_s15_2021 = oxaria_sebbes_gases_s15_2021.merge(\n",
    "    oxaria_sebbes_climate_s15_2021,\n",
    "    left_index=True,\n",
    "    right_index=True,\n",
    "    how='inner',\n",
    "    suffixes=('_g', '_c')).merge(\n",
    "        oxaria_sebbes_pm_s15_2021,\n",
    "        left_index=True,\n",
    "        right_index=True,\n",
    "        how='inner',\n",
    "        suffixes=('_g', '_p')).merge(\n",
    "            oxaria_sebbes_status_s15_2021,\n",
    "            left_index=True,\n",
    "            right_index=True,\n",
    "            how='inner').drop(['name_x', 'name_y', 'name_c'],\n",
    "                              axis=1).rename({'name_g': 'name'}, axis=1)\n",
    "sebbes_train_s15_2021.info()"
   ]
  },
  {
   "cell_type": "code",
   "execution_count": 21,
   "metadata": {
    "ExecuteTime": {
     "end_time": "2021-10-01T15:23:36.383750Z",
     "start_time": "2021-10-01T15:23:35.260811Z"
    }
   },
   "outputs": [
    {
     "name": "stdout",
     "output_type": "stream",
     "text": [
      "<class 'pandas.core.frame.DataFrame'>\n",
      "MultiIndex: 108862 entries, ('scs-bgx-536', Timestamp('2020-09-25 00:15:00+0000', tz='UTC')) to ('scs-bgx-536', Timestamp('2021-06-01 00:00:00+0000', tz='UTC'))\n",
      "Data columns (total 53 columns):\n",
      " #   Column             Non-Null Count   Dtype  \n",
      "---  ------             --------------   -----  \n",
      " 0   val.no2.wev        108862 non-null  float32\n",
      " 1   val.no2.cnc        108862 non-null  float32\n",
      " 2   val.no2.aev        108862 non-null  float32\n",
      " 3   val.no2.wec        108862 non-null  float32\n",
      " 4   val.sht.hmd_g      108862 non-null  float32\n",
      " 5   val.sht.tmp_g      108862 non-null  float32\n",
      " 6   val.no2.cnc_1      108284 non-null  float32\n",
      " 7   name               108862 non-null  object \n",
      " 8   mag_hmd_s20_g      108862 non-null  float32\n",
      " 9   mag_tmp_s20_g      108862 non-null  float32\n",
      " 10  mean_hmd_s20_g     108862 non-null  float32\n",
      " 11  mean_tmp_s20_g     108862 non-null  float32\n",
      " 12  exg.vb20.no2.cnc   0 non-null       float32\n",
      " 13  val.hmd            108862 non-null  float32\n",
      " 14  val.tmp            108862 non-null  float32\n",
      " 15  mag_hmd_s20c       108862 non-null  float32\n",
      " 16  mag_tmp_s20c       108862 non-null  float32\n",
      " 17  mean_hmd_s20c      108862 non-null  float32\n",
      " 18  mean_tmp_s20c      108862 non-null  float32\n",
      " 19  val.mtf1           108862 non-null  float32\n",
      " 20  val.pm1            108862 non-null  float32\n",
      " 21  val.mtf5           108862 non-null  float32\n",
      " 22  val.pm2p5          108862 non-null  float32\n",
      " 23  val.mtf3           108862 non-null  float32\n",
      " 24  val.pm10           108862 non-null  float32\n",
      " 25  val.mtf7           108862 non-null  float32\n",
      " 26  val.per            108862 non-null  float32\n",
      " 27  val.sfr            108862 non-null  float32\n",
      " 28  val.sht.hmd_p      108862 non-null  float32\n",
      " 29  val.sht.tmp_p      108862 non-null  float32\n",
      " 30  val.pm10_1         97340 non-null   float32\n",
      " 31  val.pm2p5_1        97340 non-null   float32\n",
      " 32  val.pm1_1          97340 non-null   float32\n",
      " 33  mag_hmd_s20_p      108862 non-null  float32\n",
      " 34  mag_tmp_s20_p      108862 non-null  float32\n",
      " 35  mean_hmd_s20_p     108862 non-null  float32\n",
      " 36  mean_tmp_s20_p     108862 non-null  float32\n",
      " 37  val.up.load.av15   108862 non-null  float32\n",
      " 38  val.up.load.av1    108862 non-null  float32\n",
      " 39  val.up.load.av5    108862 non-null  float32\n",
      " 40  val.up.users       108862 non-null  float32\n",
      " 41  val.psu.prot-batt  108862 non-null  float32\n",
      " 42  val.psu.rst        54720 non-null   float32\n",
      " 43  val.psu.chg        103832 non-null  float32\n",
      " 44  val.psu.pwr-in     108862 non-null  float32\n",
      " 45  val.psu.host-3v3   108862 non-null  float32\n",
      " 46  val.tmp.brd        108862 non-null  float32\n",
      " 47  val.gps.pos:0      54142 non-null   float32\n",
      " 48  val.gps.pos:1      54142 non-null   float32\n",
      " 49  val.gps.elv        54142 non-null   float32\n",
      " 50  val.gps.qual       54142 non-null   float32\n",
      " 51  val.psu.standby    54142 non-null   float32\n",
      " 52  val.psu.batt-flt   54142 non-null   float32\n",
      "dtypes: float32(52), object(1)\n",
      "memory usage: 23.4+ MB\n"
     ]
    }
   ],
   "source": [
    "# Generate a High St base training dataset by merging useful scalar variables \n",
    "# from gases, pm, status & climate\n",
    "#-----------------------------------------------------------------------------\n",
    "try:\n",
    "    oxaria_highs_gases_s15_2021.set_index(['tag', 'rec'], inplace=True)\n",
    "except Exception:\n",
    "    pass\n",
    "try:\n",
    "    oxaria_highs_climate_s15_2021.set_index(['tag', 'rec'], inplace=True)\n",
    "except Exception:\n",
    "    pass\n",
    "try:\n",
    "    oxaria_highs_pm_s15_2021.set_index(['tag', 'rec'], inplace=True)\n",
    "except Exception:\n",
    "    pass\n",
    "try:\n",
    "    oxaria_highs_status_s15_2021.set_index(['tag', 'rec'], inplace=True)\n",
    "except Exception:\n",
    "    pass\n",
    "\n",
    "highs_train_s15_2021 = oxaria_highs_gases_s15_2021.merge(\n",
    "    oxaria_highs_climate_s15_2021,\n",
    "    left_index=True,\n",
    "    right_index=True,\n",
    "    how='inner',\n",
    "    suffixes=('_g', '_c')).merge(\n",
    "        oxaria_highs_pm_s15_2021,\n",
    "        left_index=True,\n",
    "        right_index=True,\n",
    "        how='inner',\n",
    "        suffixes=('_g', '_p')).merge(\n",
    "            oxaria_highs_status_s15_2021,\n",
    "            left_index=True,\n",
    "            right_index=True,\n",
    "            how='inner').drop(['name_x', 'name_y', 'name_c'],\n",
    "                              axis=1).rename({'name_g': 'name'}, axis=1)\n",
    "highs_train_s15_2021.info()"
   ]
  },
  {
   "cell_type": "code",
   "execution_count": 22,
   "metadata": {
    "ExecuteTime": {
     "end_time": "2021-10-01T15:24:50.000191Z",
     "start_time": "2021-10-01T15:24:49.958499Z"
    }
   },
   "outputs": [
    {
     "name": "stdout",
     "output_type": "stream",
     "text": [
      "<class 'pandas.core.frame.DataFrame'>\n",
      "DatetimeIndex: 58464 entries, 2020-01-01 00:15:00+00:00 to 2021-09-01 00:00:00+00:00\n",
      "Data columns (total 20 columns):\n",
      " #   Column         Non-Null Count  Dtype  \n",
      "---  ------         --------------  -----  \n",
      " 0   sitecode_s     58464 non-null  object \n",
      " 1   name_s         58464 non-null  object \n",
      " 2   no_ppb_s       57221 non-null  float32\n",
      " 3   no2_ppb_s      57221 non-null  float32\n",
      " 4   pm10_ugg_s     58422 non-null  float32\n",
      " 5   o3_ppb_s       35051 non-null  float32\n",
      " 6   pm25_ugg_s     58422 non-null  float32\n",
      " 7   fidas_t_s      58437 non-null  float32\n",
      " 8   fidas_rh_s     58437 non-null  float32\n",
      " 9   sitecode_h     58464 non-null  object \n",
      " 10  name_h         58464 non-null  object \n",
      " 11  no_ppb_h       56975 non-null  float32\n",
      " 12  no2_ppb_h      56975 non-null  float32\n",
      " 13  pm10_ugg_h     55467 non-null  float32\n",
      " 14  o3_ppb_h       0 non-null      float32\n",
      " 15  pm25_ugg_h     0 non-null      float32\n",
      " 16  fidas_t_h      0 non-null      float32\n",
      " 17  fidas_rh_h     0 non-null      float32\n",
      " 18  abs_no2_diff   56758 non-null  float32\n",
      " 19  abs_pm10_diff  55426 non-null  float32\n",
      "dtypes: float32(16), object(4)\n",
      "memory usage: 5.8+ MB\n"
     ]
    }
   ],
   "source": [
    "# AURN data for both St Ebbes & High St\n",
    "#---------------------------------------\n",
    "auto_merged = pd.read_feather(folder0+'q12021/auto_merged_ratified+2021_sept_update.ftr').set_index('rec').sort_index()\n",
    "auto_merged.info()\n"
   ]
  },
  {
   "cell_type": "code",
   "execution_count": 23,
   "metadata": {
    "ExecuteTime": {
     "end_time": "2021-10-01T15:25:03.342469Z",
     "start_time": "2021-10-01T15:25:03.198907Z"
    }
   },
   "outputs": [
    {
     "name": "stdout",
     "output_type": "stream",
     "text": [
      "<class 'pandas.core.frame.DataFrame'>\n",
      "MultiIndex: 118346 entries, ('scs-bgx-538', Timestamp('2020-06-05 00:15:00+0000', tz='UTC')) to ('scs-bgx-538', Timestamp('2021-06-01 00:00:00+0000', tz='UTC'))\n",
      "Data columns (total 73 columns):\n",
      " #   Column             Non-Null Count   Dtype  \n",
      "---  ------             --------------   -----  \n",
      " 0   val.no2.wev        118346 non-null  float32\n",
      " 1   val.no2.cnc        118346 non-null  float32\n",
      " 2   val.no2.aev        118346 non-null  float32\n",
      " 3   val.no2.wec        118346 non-null  float32\n",
      " 4   val.sht.hmd_g      118346 non-null  float32\n",
      " 5   val.sht.tmp_g      118346 non-null  float32\n",
      " 6   val.no2.cnc_1      117825 non-null  float32\n",
      " 7   name               118346 non-null  object \n",
      " 8   mag_hmd_s20_g      118346 non-null  float32\n",
      " 9   mag_tmp_s20_g      118346 non-null  float32\n",
      " 10  mean_hmd_s20_g     118346 non-null  float32\n",
      " 11  mean_tmp_s20_g     118346 non-null  float32\n",
      " 12  exg.vb20.no2.cnc   0 non-null       float32\n",
      " 13  val.hmd            118346 non-null  float32\n",
      " 14  val.tmp            118346 non-null  float32\n",
      " 15  mag_hmd_s20c       118346 non-null  float32\n",
      " 16  mag_tmp_s20c       118346 non-null  float32\n",
      " 17  mean_hmd_s20c      118346 non-null  float32\n",
      " 18  mean_tmp_s20c      118346 non-null  float32\n",
      " 19  val.mtf1           118346 non-null  float32\n",
      " 20  val.pm1            118346 non-null  float32\n",
      " 21  val.mtf5           118346 non-null  float32\n",
      " 22  val.pm2p5          118346 non-null  float32\n",
      " 23  val.mtf3           118346 non-null  float32\n",
      " 24  val.pm10           118346 non-null  float32\n",
      " 25  val.mtf7           118346 non-null  float32\n",
      " 26  val.per            118346 non-null  float32\n",
      " 27  val.sfr            118346 non-null  float32\n",
      " 28  val.sht.hmd_p      118346 non-null  float32\n",
      " 29  val.sht.tmp_p      118346 non-null  float32\n",
      " 30  val.pm10_1         100703 non-null  float32\n",
      " 31  val.pm2p5_1        100703 non-null  float32\n",
      " 32  val.pm1_1          100703 non-null  float32\n",
      " 33  mag_hmd_s20_p      118346 non-null  float32\n",
      " 34  mag_tmp_s20_p      118346 non-null  float32\n",
      " 35  mean_hmd_s20_p     118346 non-null  float32\n",
      " 36  mean_tmp_s20_p     118346 non-null  float32\n",
      " 37  val.up.load.av15   118346 non-null  float32\n",
      " 38  val.up.load.av1    118346 non-null  float32\n",
      " 39  val.up.load.av5    118346 non-null  float32\n",
      " 40  val.up.users       118346 non-null  float32\n",
      " 41  val.psu.prot-batt  118346 non-null  float32\n",
      " 42  val.psu.rst        65472 non-null   float32\n",
      " 43  val.psu.chg        114588 non-null  float32\n",
      " 44  val.psu.pwr-in     118346 non-null  float32\n",
      " 45  val.psu.host-3v3   118346 non-null  float32\n",
      " 46  val.tmp.brd        118346 non-null  float32\n",
      " 47  val.gps.pos:0      52874 non-null   float32\n",
      " 48  val.gps.pos:1      52874 non-null   float32\n",
      " 49  val.gps.elv        52874 non-null   float32\n",
      " 50  val.gps.qual       52874 non-null   float32\n",
      " 51  val.psu.standby    52874 non-null   float32\n",
      " 52  val.psu.batt-flt   52874 non-null   float32\n",
      " 53  sitecode_s         118346 non-null  object \n",
      " 54  name_s             118346 non-null  object \n",
      " 55  no_ppb_s           115228 non-null  float32\n",
      " 56  no2_ppb_s          115228 non-null  float32\n",
      " 57  pm10_ugg_s         118173 non-null  float32\n",
      " 58  o3_ppb_s           20130 non-null   float32\n",
      " 59  pm25_ugg_s         118173 non-null  float32\n",
      " 60  fidas_t_s          118226 non-null  float32\n",
      " 61  fidas_rh_s         118226 non-null  float32\n",
      " 62  sitecode_h         118346 non-null  object \n",
      " 63  name_h             118346 non-null  object \n",
      " 64  no_ppb_h           115254 non-null  float32\n",
      " 65  no2_ppb_h          115254 non-null  float32\n",
      " 66  pm10_ugg_h         112649 non-null  float32\n",
      " 67  o3_ppb_h           0 non-null       float32\n",
      " 68  pm25_ugg_h         0 non-null       float32\n",
      " 69  fidas_t_h          0 non-null       float32\n",
      " 70  fidas_rh_h         0 non-null       float32\n",
      " 71  abs_no2_diff       114532 non-null  float32\n",
      " 72  abs_pm10_diff      112476 non-null  float32\n",
      "dtypes: float32(68), object(5)\n",
      "memory usage: 36.0+ MB\n"
     ]
    }
   ],
   "source": [
    "# Merge auto / reference data on to sensor data by timestamp\n",
    "#------------------------------------------------------------\n",
    "sebbes_train_s15_2021 = sebbes_train_s15_2021.merge(auto_merged,how='inner',left_index=True,right_index=True)\n",
    "sebbes_train_s15_2021.reset_index().to_feather(folder0 + 'q12021/sebbes_train_536_s15+2021_sept_update_transients.ftr')\n",
    "sebbes_train_s15_2021.info()"
   ]
  },
  {
   "cell_type": "code",
   "execution_count": 24,
   "metadata": {
    "ExecuteTime": {
     "end_time": "2021-10-01T15:25:40.689580Z",
     "start_time": "2021-10-01T15:25:40.562168Z"
    }
   },
   "outputs": [
    {
     "name": "stdout",
     "output_type": "stream",
     "text": [
      "<class 'pandas.core.frame.DataFrame'>\n",
      "MultiIndex: 108862 entries, ('scs-bgx-536', Timestamp('2020-09-25 00:15:00+0000', tz='UTC')) to ('scs-bgx-536', Timestamp('2021-06-01 00:00:00+0000', tz='UTC'))\n",
      "Data columns (total 73 columns):\n",
      " #   Column             Non-Null Count   Dtype  \n",
      "---  ------             --------------   -----  \n",
      " 0   val.no2.wev        108862 non-null  float32\n",
      " 1   val.no2.cnc        108862 non-null  float32\n",
      " 2   val.no2.aev        108862 non-null  float32\n",
      " 3   val.no2.wec        108862 non-null  float32\n",
      " 4   val.sht.hmd_g      108862 non-null  float32\n",
      " 5   val.sht.tmp_g      108862 non-null  float32\n",
      " 6   val.no2.cnc_1      108284 non-null  float32\n",
      " 7   name               108862 non-null  object \n",
      " 8   mag_hmd_s20_g      108862 non-null  float32\n",
      " 9   mag_tmp_s20_g      108862 non-null  float32\n",
      " 10  mean_hmd_s20_g     108862 non-null  float32\n",
      " 11  mean_tmp_s20_g     108862 non-null  float32\n",
      " 12  exg.vb20.no2.cnc   0 non-null       float32\n",
      " 13  val.hmd            108862 non-null  float32\n",
      " 14  val.tmp            108862 non-null  float32\n",
      " 15  mag_hmd_s20c       108862 non-null  float32\n",
      " 16  mag_tmp_s20c       108862 non-null  float32\n",
      " 17  mean_hmd_s20c      108862 non-null  float32\n",
      " 18  mean_tmp_s20c      108862 non-null  float32\n",
      " 19  val.mtf1           108862 non-null  float32\n",
      " 20  val.pm1            108862 non-null  float32\n",
      " 21  val.mtf5           108862 non-null  float32\n",
      " 22  val.pm2p5          108862 non-null  float32\n",
      " 23  val.mtf3           108862 non-null  float32\n",
      " 24  val.pm10           108862 non-null  float32\n",
      " 25  val.mtf7           108862 non-null  float32\n",
      " 26  val.per            108862 non-null  float32\n",
      " 27  val.sfr            108862 non-null  float32\n",
      " 28  val.sht.hmd_p      108862 non-null  float32\n",
      " 29  val.sht.tmp_p      108862 non-null  float32\n",
      " 30  val.pm10_1         97340 non-null   float32\n",
      " 31  val.pm2p5_1        97340 non-null   float32\n",
      " 32  val.pm1_1          97340 non-null   float32\n",
      " 33  mag_hmd_s20_p      108862 non-null  float32\n",
      " 34  mag_tmp_s20_p      108862 non-null  float32\n",
      " 35  mean_hmd_s20_p     108862 non-null  float32\n",
      " 36  mean_tmp_s20_p     108862 non-null  float32\n",
      " 37  val.up.load.av15   108862 non-null  float32\n",
      " 38  val.up.load.av1    108862 non-null  float32\n",
      " 39  val.up.load.av5    108862 non-null  float32\n",
      " 40  val.up.users       108862 non-null  float32\n",
      " 41  val.psu.prot-batt  108862 non-null  float32\n",
      " 42  val.psu.rst        54720 non-null   float32\n",
      " 43  val.psu.chg        103832 non-null  float32\n",
      " 44  val.psu.pwr-in     108862 non-null  float32\n",
      " 45  val.psu.host-3v3   108862 non-null  float32\n",
      " 46  val.tmp.brd        108862 non-null  float32\n",
      " 47  val.gps.pos:0      54142 non-null   float32\n",
      " 48  val.gps.pos:1      54142 non-null   float32\n",
      " 49  val.gps.elv        54142 non-null   float32\n",
      " 50  val.gps.qual       54142 non-null   float32\n",
      " 51  val.psu.standby    54142 non-null   float32\n",
      " 52  val.psu.batt-flt   54142 non-null   float32\n",
      " 53  sitecode_s         108862 non-null  object \n",
      " 54  name_s             108862 non-null  object \n",
      " 55  no_ppb_s           105995 non-null  float32\n",
      " 56  no2_ppb_s          105995 non-null  float32\n",
      " 57  pm10_ugg_s         108698 non-null  float32\n",
      " 58  o3_ppb_s           9407 non-null    float32\n",
      " 59  pm25_ugg_s         108698 non-null  float32\n",
      " 60  fidas_t_s          108749 non-null  float32\n",
      " 61  fidas_rh_s         108749 non-null  float32\n",
      " 62  sitecode_h         108862 non-null  object \n",
      " 63  name_h             108862 non-null  object \n",
      " 64  no_ppb_h           106111 non-null  float32\n",
      " 65  no2_ppb_h          106111 non-null  float32\n",
      " 66  pm10_ugg_h         103657 non-null  float32\n",
      " 67  o3_ppb_h           0 non-null       float32\n",
      " 68  pm25_ugg_h         0 non-null       float32\n",
      " 69  fidas_t_h          0 non-null       float32\n",
      " 70  fidas_rh_h         0 non-null       float32\n",
      " 71  abs_no2_diff       105444 non-null  float32\n",
      " 72  abs_pm10_diff      103493 non-null  float32\n",
      "dtypes: float32(68), object(5)\n",
      "memory usage: 32.9+ MB\n"
     ]
    }
   ],
   "source": [
    "# Merge auto / reference data on to sensor data by timestamp\n",
    "#------------------------------------------------------------\n",
    "highs_train_s15_2021 = highs_train_s15_2021.merge(auto_merged,how='inner',left_index=True,right_index=True)\n",
    "highs_train_s15_2021.reset_index().to_feather(folder0 + 'q12021/highs_train_536_s15+2021_sept_update_transients.ftr')\n",
    "highs_train_s15_2021.info()"
   ]
  }
 ],
 "metadata": {
  "kernelspec": {
   "display_name": "Python [conda env:qoax] *",
   "language": "python",
   "name": "conda-env-qoax-py"
  },
  "language_info": {
   "codemirror_mode": {
    "name": "ipython",
    "version": 3
   },
   "file_extension": ".py",
   "mimetype": "text/x-python",
   "name": "python",
   "nbconvert_exporter": "python",
   "pygments_lexer": "ipython3",
   "version": "3.8.6"
  },
  "toc": {
   "base_numbering": 1,
   "nav_menu": {},
   "number_sections": true,
   "sideBar": true,
   "skip_h1_title": false,
   "title_cell": "Table of Contents",
   "title_sidebar": "Contents",
   "toc_cell": false,
   "toc_position": {},
   "toc_section_display": true,
   "toc_window_display": false
  }
 },
 "nbformat": 4,
 "nbformat_minor": 4
}
