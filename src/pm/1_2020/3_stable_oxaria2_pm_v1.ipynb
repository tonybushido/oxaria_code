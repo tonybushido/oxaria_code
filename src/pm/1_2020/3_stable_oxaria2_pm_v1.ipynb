{
 "cells": [
  {
   "cell_type": "code",
   "execution_count": 1,
   "metadata": {
    "ExecuteTime": {
     "end_time": "2021-09-14T15:42:37.348824Z",
     "start_time": "2021-09-14T15:42:36.888443Z"
    }
   },
   "outputs": [],
   "source": [
    "# Imports\n",
    "#---------\n",
    "import sys\n",
    "import pandas as pd\n",
    "import numpy as np\n",
    "import feather\n",
    "import os\n",
    "import gc\n",
    "import datetime as dt\n",
    "import matplotlib.pyplot as plt\n",
    "import matplotlib.dates as mdates\n",
    "from pandas.plotting import register_matplotlib_converters\n",
    "import matplotlib.ticker as ticker\n",
    "from matplotlib.dates import DateFormatter\n",
    "import matplotlib as mpl\n",
    "from datetime import timezone\n",
    "\n",
    "register_matplotlib_converters()\n",
    "\n",
    "# File locations\n",
    "#----------------\n",
    "the_gases = '/home/tonyb/Gdrive/MinicondaProjects/oxaria/data/raw/2oxaria/json/gap_filling/'\n",
    "pngs = '/home/tonyb/Gdrive/MinicondaProjects/oxaria/data/pngs/gap_filling/'\n"
   ]
  },
  {
   "cell_type": "code",
   "execution_count": 2,
   "metadata": {
    "ExecuteTime": {
     "end_time": "2021-09-14T15:43:17.600258Z",
     "start_time": "2021-09-14T15:42:54.534685Z"
    }
   },
   "outputs": [],
   "source": [
    "# Load the df \n",
    "#-------------\n",
    "oxaria2_pm = pd.read_feather(the_gases+'oxaria2_pm_gf.ftr').set_index(['tag','rec'])"
   ]
  },
  {
   "cell_type": "code",
   "execution_count": 5,
   "metadata": {
    "ExecuteTime": {
     "end_time": "2021-09-15T09:56:42.089226Z",
     "start_time": "2021-09-15T09:56:35.115320Z"
    }
   },
   "outputs": [
    {
     "name": "stdout",
     "output_type": "stream",
     "text": [
      "<class 'pandas.core.frame.DataFrame'>\n",
      "MultiIndex: 25073064 entries, ('scs-bgx-550', Timestamp('2020-03-09 10:31:54+0000', tz='UTC')) to ('scs-bgx-559', Timestamp('2021-02-28 23:59:53+0000', tz='UTC'))\n",
      "Data columns (total 40 columns):\n",
      " #   Column                   Non-Null Count     Dtype  \n",
      "---  ------                   --------------     -----  \n",
      " 0   val.mtf1                 25073064 non-null  float32\n",
      " 1   val.pm1                  25073064 non-null  float32\n",
      " 2   val.mtf5                 25073064 non-null  float32\n",
      " 3   val.pm2p5                25073064 non-null  float32\n",
      " 4   val.bin:0                25073064 non-null  float32\n",
      " 5   val.bin:1                25073064 non-null  float32\n",
      " 6   val.bin:2                25073064 non-null  float32\n",
      " 7   val.bin:3                25073064 non-null  float32\n",
      " 8   val.bin:4                25073064 non-null  float32\n",
      " 9   val.bin:5                25073064 non-null  float32\n",
      " 10  val.bin:6                25073064 non-null  float32\n",
      " 11  val.bin:7                25073064 non-null  float32\n",
      " 12  val.bin:8                25073064 non-null  float32\n",
      " 13  val.bin:9                25073064 non-null  float32\n",
      " 14  val.bin:10               25073064 non-null  float32\n",
      " 15  val.bin:11               25073064 non-null  float32\n",
      " 16  val.bin:12               25073064 non-null  float32\n",
      " 17  val.bin:13               25073064 non-null  float32\n",
      " 18  val.bin:14               25073064 non-null  float32\n",
      " 19  val.bin:15               25073064 non-null  float32\n",
      " 20  val.bin:16               25073064 non-null  float32\n",
      " 21  val.bin:17               25073064 non-null  float32\n",
      " 22  val.bin:18               25073064 non-null  float32\n",
      " 23  val.bin:19               25073064 non-null  float32\n",
      " 24  val.bin:20               25073064 non-null  float32\n",
      " 25  val.bin:21               25073064 non-null  float32\n",
      " 26  val.bin:22               25073064 non-null  float32\n",
      " 27  val.bin:23               25073064 non-null  float32\n",
      " 28  val.mtf3                 25073064 non-null  float32\n",
      " 29  val.pm10                 25073064 non-null  float32\n",
      " 30  val.mtf7                 25073064 non-null  float32\n",
      " 31  val.per                  25073064 non-null  float32\n",
      " 32  val.sfr                  25073064 non-null  float32\n",
      " 33  val.sht.hmd              25073064 non-null  float32\n",
      " 34  val.sht.tmp              25073064 non-null  float32\n",
      " 35  src                      25073064 non-null  object \n",
      " 36  exg.islin/n3/vlgw.pm10   21505451 non-null  float32\n",
      " 37  exg.islin/n3/vlgw.pm1    22289470 non-null  float32\n",
      " 38  exg.islin/n3/vlgw.pm2p5  22289470 non-null  float32\n",
      " 39  name                     25073064 non-null  object \n",
      "dtypes: float32(38), object(2)\n",
      "memory usage: 4.8+ GB\n"
     ]
    }
   ],
   "source": [
    "oxaria2_pm.info(null_counts=True)"
   ]
  },
  {
   "cell_type": "code",
   "execution_count": 4,
   "metadata": {
    "ExecuteTime": {
     "end_time": "2021-09-15T09:56:13.270235Z",
     "start_time": "2021-09-15T09:51:00.740146Z"
    }
   },
   "outputs": [
    {
     "data": {
      "text/html": [
       "<div>\n",
       "<style scoped>\n",
       "    .dataframe tbody tr th:only-of-type {\n",
       "        vertical-align: middle;\n",
       "    }\n",
       "\n",
       "    .dataframe tbody tr th {\n",
       "        vertical-align: top;\n",
       "    }\n",
       "\n",
       "    .dataframe thead th {\n",
       "        text-align: right;\n",
       "    }\n",
       "</style>\n",
       "<table border=\"1\" class=\"dataframe\">\n",
       "  <thead>\n",
       "    <tr style=\"text-align: right;\">\n",
       "      <th></th>\n",
       "      <th></th>\n",
       "      <th>val.mtf1</th>\n",
       "      <th>val.pm1</th>\n",
       "      <th>val.mtf5</th>\n",
       "      <th>val.pm2p5</th>\n",
       "      <th>val.bin:0</th>\n",
       "      <th>val.bin:1</th>\n",
       "      <th>val.bin:2</th>\n",
       "      <th>val.bin:3</th>\n",
       "      <th>val.bin:4</th>\n",
       "      <th>val.bin:5</th>\n",
       "      <th>...</th>\n",
       "      <th>val.mtf7</th>\n",
       "      <th>val.per</th>\n",
       "      <th>val.sfr</th>\n",
       "      <th>val.sht.hmd</th>\n",
       "      <th>val.sht.tmp</th>\n",
       "      <th>src</th>\n",
       "      <th>exg.islin/n3/vlgw.pm10</th>\n",
       "      <th>exg.islin/n3/vlgw.pm1</th>\n",
       "      <th>exg.islin/n3/vlgw.pm2p5</th>\n",
       "      <th>name</th>\n",
       "    </tr>\n",
       "    <tr>\n",
       "      <th>tag</th>\n",
       "      <th>rec</th>\n",
       "      <th></th>\n",
       "      <th></th>\n",
       "      <th></th>\n",
       "      <th></th>\n",
       "      <th></th>\n",
       "      <th></th>\n",
       "      <th></th>\n",
       "      <th></th>\n",
       "      <th></th>\n",
       "      <th></th>\n",
       "      <th></th>\n",
       "      <th></th>\n",
       "      <th></th>\n",
       "      <th></th>\n",
       "      <th></th>\n",
       "      <th></th>\n",
       "      <th></th>\n",
       "      <th></th>\n",
       "      <th></th>\n",
       "      <th></th>\n",
       "      <th></th>\n",
       "    </tr>\n",
       "  </thead>\n",
       "  <tbody>\n",
       "    <tr>\n",
       "      <th rowspan=\"5\" valign=\"top\">scs-bgx-559</th>\n",
       "      <th>2021-02-28 23:59:13+00:00</th>\n",
       "      <td>29.0</td>\n",
       "      <td>3.5</td>\n",
       "      <td>45.0</td>\n",
       "      <td>6.8</td>\n",
       "      <td>1013.0</td>\n",
       "      <td>79.0</td>\n",
       "      <td>19.0</td>\n",
       "      <td>5.0</td>\n",
       "      <td>6.0</td>\n",
       "      <td>7.0</td>\n",
       "      <td>...</td>\n",
       "      <td>42.0</td>\n",
       "      <td>4.9</td>\n",
       "      <td>4.67</td>\n",
       "      <td>40.700001</td>\n",
       "      <td>15.7</td>\n",
       "      <td>N3</td>\n",
       "      <td>2.8</td>\n",
       "      <td>3.7</td>\n",
       "      <td>3.1</td>\n",
       "      <td>Speedwell St</td>\n",
       "    </tr>\n",
       "    <tr>\n",
       "      <th>2021-02-28 23:59:23+00:00</th>\n",
       "      <td>28.0</td>\n",
       "      <td>3.6</td>\n",
       "      <td>43.0</td>\n",
       "      <td>7.1</td>\n",
       "      <td>1029.0</td>\n",
       "      <td>103.0</td>\n",
       "      <td>20.0</td>\n",
       "      <td>5.0</td>\n",
       "      <td>11.0</td>\n",
       "      <td>2.0</td>\n",
       "      <td>...</td>\n",
       "      <td>0.0</td>\n",
       "      <td>4.9</td>\n",
       "      <td>4.86</td>\n",
       "      <td>40.700001</td>\n",
       "      <td>15.7</td>\n",
       "      <td>N3</td>\n",
       "      <td>5.5</td>\n",
       "      <td>3.8</td>\n",
       "      <td>3.2</td>\n",
       "      <td>Speedwell St</td>\n",
       "    </tr>\n",
       "    <tr>\n",
       "      <th>2021-02-28 23:59:33+00:00</th>\n",
       "      <td>29.0</td>\n",
       "      <td>3.5</td>\n",
       "      <td>54.0</td>\n",
       "      <td>5.9</td>\n",
       "      <td>976.0</td>\n",
       "      <td>94.0</td>\n",
       "      <td>23.0</td>\n",
       "      <td>9.0</td>\n",
       "      <td>4.0</td>\n",
       "      <td>3.0</td>\n",
       "      <td>...</td>\n",
       "      <td>0.0</td>\n",
       "      <td>4.9</td>\n",
       "      <td>4.78</td>\n",
       "      <td>40.700001</td>\n",
       "      <td>15.7</td>\n",
       "      <td>N3</td>\n",
       "      <td>2.3</td>\n",
       "      <td>3.7</td>\n",
       "      <td>2.7</td>\n",
       "      <td>Speedwell St</td>\n",
       "    </tr>\n",
       "    <tr>\n",
       "      <th>2021-02-28 23:59:43+00:00</th>\n",
       "      <td>29.0</td>\n",
       "      <td>3.5</td>\n",
       "      <td>33.0</td>\n",
       "      <td>7.3</td>\n",
       "      <td>981.0</td>\n",
       "      <td>86.0</td>\n",
       "      <td>22.0</td>\n",
       "      <td>5.0</td>\n",
       "      <td>5.0</td>\n",
       "      <td>10.0</td>\n",
       "      <td>...</td>\n",
       "      <td>46.0</td>\n",
       "      <td>4.9</td>\n",
       "      <td>4.75</td>\n",
       "      <td>40.700001</td>\n",
       "      <td>15.7</td>\n",
       "      <td>N3</td>\n",
       "      <td>2.3</td>\n",
       "      <td>3.7</td>\n",
       "      <td>3.3</td>\n",
       "      <td>Speedwell St</td>\n",
       "    </tr>\n",
       "    <tr>\n",
       "      <th>2021-02-28 23:59:53+00:00</th>\n",
       "      <td>28.0</td>\n",
       "      <td>3.1</td>\n",
       "      <td>35.0</td>\n",
       "      <td>6.0</td>\n",
       "      <td>932.0</td>\n",
       "      <td>68.0</td>\n",
       "      <td>22.0</td>\n",
       "      <td>9.0</td>\n",
       "      <td>5.0</td>\n",
       "      <td>2.0</td>\n",
       "      <td>...</td>\n",
       "      <td>54.0</td>\n",
       "      <td>4.9</td>\n",
       "      <td>4.90</td>\n",
       "      <td>40.700001</td>\n",
       "      <td>15.7</td>\n",
       "      <td>N3</td>\n",
       "      <td>2.1</td>\n",
       "      <td>3.3</td>\n",
       "      <td>2.7</td>\n",
       "      <td>Speedwell St</td>\n",
       "    </tr>\n",
       "  </tbody>\n",
       "</table>\n",
       "<p>5 rows × 40 columns</p>\n",
       "</div>"
      ],
      "text/plain": [
       "                                       val.mtf1  val.pm1  val.mtf5  val.pm2p5  \\\n",
       "tag         rec                                                                 \n",
       "scs-bgx-559 2021-02-28 23:59:13+00:00      29.0      3.5      45.0        6.8   \n",
       "            2021-02-28 23:59:23+00:00      28.0      3.6      43.0        7.1   \n",
       "            2021-02-28 23:59:33+00:00      29.0      3.5      54.0        5.9   \n",
       "            2021-02-28 23:59:43+00:00      29.0      3.5      33.0        7.3   \n",
       "            2021-02-28 23:59:53+00:00      28.0      3.1      35.0        6.0   \n",
       "\n",
       "                                       val.bin:0  val.bin:1  val.bin:2  \\\n",
       "tag         rec                                                          \n",
       "scs-bgx-559 2021-02-28 23:59:13+00:00     1013.0       79.0       19.0   \n",
       "            2021-02-28 23:59:23+00:00     1029.0      103.0       20.0   \n",
       "            2021-02-28 23:59:33+00:00      976.0       94.0       23.0   \n",
       "            2021-02-28 23:59:43+00:00      981.0       86.0       22.0   \n",
       "            2021-02-28 23:59:53+00:00      932.0       68.0       22.0   \n",
       "\n",
       "                                       val.bin:3  val.bin:4  val.bin:5  ...  \\\n",
       "tag         rec                                                         ...   \n",
       "scs-bgx-559 2021-02-28 23:59:13+00:00        5.0        6.0        7.0  ...   \n",
       "            2021-02-28 23:59:23+00:00        5.0       11.0        2.0  ...   \n",
       "            2021-02-28 23:59:33+00:00        9.0        4.0        3.0  ...   \n",
       "            2021-02-28 23:59:43+00:00        5.0        5.0       10.0  ...   \n",
       "            2021-02-28 23:59:53+00:00        9.0        5.0        2.0  ...   \n",
       "\n",
       "                                       val.mtf7  val.per  val.sfr  \\\n",
       "tag         rec                                                     \n",
       "scs-bgx-559 2021-02-28 23:59:13+00:00      42.0      4.9     4.67   \n",
       "            2021-02-28 23:59:23+00:00       0.0      4.9     4.86   \n",
       "            2021-02-28 23:59:33+00:00       0.0      4.9     4.78   \n",
       "            2021-02-28 23:59:43+00:00      46.0      4.9     4.75   \n",
       "            2021-02-28 23:59:53+00:00      54.0      4.9     4.90   \n",
       "\n",
       "                                       val.sht.hmd  val.sht.tmp  src  \\\n",
       "tag         rec                                                        \n",
       "scs-bgx-559 2021-02-28 23:59:13+00:00    40.700001         15.7   N3   \n",
       "            2021-02-28 23:59:23+00:00    40.700001         15.7   N3   \n",
       "            2021-02-28 23:59:33+00:00    40.700001         15.7   N3   \n",
       "            2021-02-28 23:59:43+00:00    40.700001         15.7   N3   \n",
       "            2021-02-28 23:59:53+00:00    40.700001         15.7   N3   \n",
       "\n",
       "                                       exg.islin/n3/vlgw.pm10  \\\n",
       "tag         rec                                                 \n",
       "scs-bgx-559 2021-02-28 23:59:13+00:00                     2.8   \n",
       "            2021-02-28 23:59:23+00:00                     5.5   \n",
       "            2021-02-28 23:59:33+00:00                     2.3   \n",
       "            2021-02-28 23:59:43+00:00                     2.3   \n",
       "            2021-02-28 23:59:53+00:00                     2.1   \n",
       "\n",
       "                                       exg.islin/n3/vlgw.pm1  \\\n",
       "tag         rec                                                \n",
       "scs-bgx-559 2021-02-28 23:59:13+00:00                    3.7   \n",
       "            2021-02-28 23:59:23+00:00                    3.8   \n",
       "            2021-02-28 23:59:33+00:00                    3.7   \n",
       "            2021-02-28 23:59:43+00:00                    3.7   \n",
       "            2021-02-28 23:59:53+00:00                    3.3   \n",
       "\n",
       "                                       exg.islin/n3/vlgw.pm2p5          name  \n",
       "tag         rec                                                               \n",
       "scs-bgx-559 2021-02-28 23:59:13+00:00                      3.1  Speedwell St  \n",
       "            2021-02-28 23:59:23+00:00                      3.2  Speedwell St  \n",
       "            2021-02-28 23:59:33+00:00                      2.7  Speedwell St  \n",
       "            2021-02-28 23:59:43+00:00                      3.3  Speedwell St  \n",
       "            2021-02-28 23:59:53+00:00                      2.7  Speedwell St  \n",
       "\n",
       "[5 rows x 40 columns]"
      ]
     },
     "execution_count": 4,
     "metadata": {},
     "output_type": "execute_result"
    }
   ],
   "source": [
    "oxaria2_pm.tail()"
   ]
  },
  {
   "cell_type": "code",
   "execution_count": 10,
   "metadata": {
    "ExecuteTime": {
     "end_time": "2021-06-29T12:09:38.334166Z",
     "start_time": "2021-06-29T12:09:05.029507Z"
    }
   },
   "outputs": [],
   "source": [
    "oxaria2_pm_lt = oxaria2_pm.iloc[:,[0,1,2,3,28,29,30,31,32,33,34,39]]\n",
    "del oxaria2_pm"
   ]
  },
  {
   "cell_type": "code",
   "execution_count": 11,
   "metadata": {
    "ExecuteTime": {
     "end_time": "2021-06-29T12:09:38.358196Z",
     "start_time": "2021-06-29T12:09:38.338660Z"
    }
   },
   "outputs": [
    {
     "name": "stdout",
     "output_type": "stream",
     "text": [
      "\n",
      " Loading Oxaria1 PM...\n",
      " \n",
      "\n",
      "<class 'pandas.core.frame.DataFrame'>\n",
      "MultiIndex: 25073064 entries, ('scs-bgx-550', Timestamp('2020-03-09 10:31:54+0000', tz='UTC')) to ('scs-bgx-559', Timestamp('2021-02-28 23:59:53+0000', tz='UTC'))\n",
      "Data columns (total 12 columns):\n",
      " #   Column       Dtype  \n",
      "---  ------       -----  \n",
      " 0   val.mtf1     float32\n",
      " 1   val.pm1      float32\n",
      " 2   val.mtf5     float32\n",
      " 3   val.pm2p5    float32\n",
      " 4   val.mtf3     float32\n",
      " 5   val.pm10     float32\n",
      " 6   val.mtf7     float32\n",
      " 7   val.per      float32\n",
      " 8   val.sfr      float32\n",
      " 9   val.sht.hmd  float32\n",
      " 10  val.sht.tmp  float32\n",
      " 11  name         object \n",
      "dtypes: float32(11), object(1)\n",
      "memory usage: 2.1+ GB\n"
     ]
    }
   ],
   "source": [
    "# Checking out the data types\n",
    "# -----------------------------\n",
    "print('\\n Loading Oxaria1 PM...\\n \\n')\n",
    "oxaria2_pm_lt.info()"
   ]
  },
  {
   "cell_type": "code",
   "execution_count": 12,
   "metadata": {
    "ExecuteTime": {
     "end_time": "2021-06-29T12:12:01.293875Z",
     "start_time": "2021-06-29T12:09:38.362786Z"
    }
   },
   "outputs": [
    {
     "name": "stdout",
     "output_type": "stream",
     "text": [
      "\n",
      " Cleaning duplicates & NAs in index (if any)...\n",
      "\n"
     ]
    }
   ],
   "source": [
    "# Some cleaning incase have missed anything\n",
    "#-------------------------------------------\n",
    "oxaria2_pm_lt = oxaria2_pm_lt[~oxaria2_pm_lt.index.duplicated(keep='last')]\n",
    "oxaria2_pm_lt = oxaria2_pm_lt.reset_index()\n",
    "oxaria2_pm_lt = oxaria2_pm_lt.dropna(axis=0,subset=['tag','rec']).set_index(['tag','rec'])\n",
    "oxaria2_pm_lt.sort_index()\n",
    "print('\\n Cleaning duplicates & NAs in index (if any)...\\n')"
   ]
  },
  {
   "cell_type": "code",
   "execution_count": 13,
   "metadata": {
    "ExecuteTime": {
     "end_time": "2021-06-29T12:12:04.418832Z",
     "start_time": "2021-06-29T12:12:01.297745Z"
    }
   },
   "outputs": [
    {
     "name": "stdout",
     "output_type": "stream",
     "text": [
      "Index(['\\n Unique tags loaded...\\n \\nscs-bgx-550',\n",
      "       '\\n Unique tags loaded...\\n \\nscs-bgx-551',\n",
      "       '\\n Unique tags loaded...\\n \\nscs-bgx-552',\n",
      "       '\\n Unique tags loaded...\\n \\nscs-bgx-553',\n",
      "       '\\n Unique tags loaded...\\n \\nscs-bgx-554',\n",
      "       '\\n Unique tags loaded...\\n \\nscs-bgx-555',\n",
      "       '\\n Unique tags loaded...\\n \\nscs-bgx-556',\n",
      "       '\\n Unique tags loaded...\\n \\nscs-bgx-557',\n",
      "       '\\n Unique tags loaded...\\n \\nscs-bgx-558',\n",
      "       '\\n Unique tags loaded...\\n \\nscs-bgx-559'],\n",
      "      dtype='object', name='tag')\n"
     ]
    }
   ],
   "source": [
    "# Get a list of unique tags\n",
    "#---------------------------\n",
    "tags = oxaria2_pm_lt.index.get_level_values(0).unique()\n",
    "print('\\n Unique tags loaded...\\n \\n'+tags)"
   ]
  },
  {
   "cell_type": "code",
   "execution_count": 14,
   "metadata": {
    "ExecuteTime": {
     "end_time": "2021-06-29T12:12:04.433047Z",
     "start_time": "2021-06-29T12:12:04.423646Z"
    }
   },
   "outputs": [
    {
     "name": "stdout",
     "output_type": "stream",
     "text": [
      "\n",
      " Applying variable start date filters of each sensor...\n",
      " \n",
      "{'scs-bgx-550': datetime.datetime(2020, 12, 15, 0, 0, tzinfo=datetime.timezone.utc), 'scs-bgx-551': datetime.datetime(2020, 7, 20, 0, 0, tzinfo=datetime.timezone.utc), 'scs-bgx-552': datetime.datetime(2020, 12, 15, 0, 0, tzinfo=datetime.timezone.utc), 'scs-bgx-553': datetime.datetime(2020, 7, 1, 0, 0, tzinfo=datetime.timezone.utc), 'scs-bgx-554': datetime.datetime(2020, 7, 1, 0, 0, tzinfo=datetime.timezone.utc), 'scs-bgx-555': datetime.datetime(2020, 12, 15, 0, 0, tzinfo=datetime.timezone.utc), 'scs-bgx-556': datetime.datetime(2020, 7, 20, 0, 0, tzinfo=datetime.timezone.utc), 'scs-bgx-557': datetime.datetime(2020, 7, 1, 0, 0, tzinfo=datetime.timezone.utc), 'scs-bgx-558': datetime.datetime(2020, 12, 15, 0, 0, tzinfo=datetime.timezone.utc), 'scs-bgx-559': datetime.datetime(2020, 12, 15, 0, 0, tzinfo=datetime.timezone.utc)}\n"
     ]
    }
   ],
   "source": [
    "# Define the start dates for stable operation\n",
    "#---------------------------------------------\n",
    "start_dates = ['2020-12-15T00:00:00','2020-07-20T00:00:00','2020-12-15T00:00:00','2020-07-01T00:00:00', \\\n",
    "               '2020-07-01T00:00:00','2020-12-15T00:00:00','2020-07-20T00:00:00','2020-07-01T00:00:00', \\\n",
    "               '2020-12-15T00:00:00','2020-12-15T00:00:00']\n",
    "dates_list = [dt.datetime.fromisoformat(date).replace(tzinfo=timezone.utc) for date in start_dates]\n",
    "dates_dict = dict(zip(tags,dates_list))\n",
    "print('\\n Applying variable start date filters of each sensor...\\n \\n'+str(dates_dict))"
   ]
  },
  {
   "cell_type": "code",
   "execution_count": 15,
   "metadata": {
    "ExecuteTime": {
     "end_time": "2021-06-29T12:12:48.187327Z",
     "start_time": "2021-06-29T12:12:04.439027Z"
    }
   },
   "outputs": [
    {
     "name": "stdout",
     "output_type": "stream",
     "text": [
      "\n",
      " Applying start date filters...\n",
      "\n",
      "<class 'pandas.core.frame.DataFrame'>\n",
      "MultiIndex: 11999103 entries, ('scs-bgx-550', Timestamp('2020-12-23 14:59:37+0000', tz='UTC')) to ('scs-bgx-559', Timestamp('2021-02-28 23:59:53+0000', tz='UTC'))\n",
      "Data columns (total 12 columns):\n",
      " #   Column       Dtype  \n",
      "---  ------       -----  \n",
      " 0   val.mtf1     float32\n",
      " 1   val.pm1      float32\n",
      " 2   val.mtf5     float32\n",
      " 3   val.pm2p5    float32\n",
      " 4   val.mtf3     float32\n",
      " 5   val.pm10     float32\n",
      " 6   val.mtf7     float32\n",
      " 7   val.per      float32\n",
      " 8   val.sfr      float32\n",
      " 9   val.sht.hmd  float32\n",
      " 10  val.sht.tmp  float32\n",
      " 11  name         object \n",
      "dtypes: float32(11), object(1)\n",
      "memory usage: 1.0+ GB\n",
      "None\n",
      "\n",
      " Applying sensible empirical filters...\n",
      " \n",
      "condition =  ((tmpdf['val.sfr'] < 2.0) |              (tmpdf['val.sht.tmp'] < -10.0) |              (tmpdf['val.sht.tmp'] > 35.0) |              (tmpdf['val.sht.hmd'] < 35.0)) \n",
      "\n",
      "\n",
      " Writing to  /home/tonyb/Gdrive/MinicondaProjects/oxaria/data/raw/2oxaria/json/gap_filling/oxaria2_pm_stable_356_2feb21.ftr\n",
      "\n",
      "All done! 😀\n"
     ]
    }
   ],
   "source": [
    "# Select periods of stable operation from the df of all gases sesnor data\n",
    "#-------------------------------------------------------------------------\n",
    "print('\\n Applying start date filters...\\n')\n",
    "\n",
    "tmp = []\n",
    "\n",
    "for k,v in dates_dict.items():\n",
    "    df = oxaria2_pm_lt.query('tag == @k & rec >= @v')\n",
    "    tmp.append(df)\n",
    "tmpdf = pd.concat(tmp)\n",
    "print(tmpdf.info())\n",
    "\n",
    "# Apply empirical filters\n",
    "#-------------------------\n",
    "print(\"\\n Applying sensible empirical filters...\\n \\ncondition =  ((tmpdf['val.sfr'] < 2.0) | \\\n",
    "             (tmpdf['val.sht.tmp'] < -10.0) | \\\n",
    "             (tmpdf['val.sht.tmp'] > 35.0) | \\\n",
    "             (tmpdf['val.sht.hmd'] < 35.0)) \\n\")\n",
    "\n",
    "cols = ['val.pm10','val.pm2p5','val.pm1']\n",
    "\n",
    "condition =  ((tmpdf['val.sfr'] < 2.0) | \\\n",
    "             (tmpdf['val.sht.tmp'] < -10.0) | \\\n",
    "             (tmpdf['val.sht.tmp'] > 35.0) | \\\n",
    "             (tmpdf['val.sht.hmd'] < 35.0))\n",
    "\n",
    "for col in cols:\n",
    "    tmpdf[col+'_1'] = np.where(condition, np.nan, tmpdf[col]) \n",
    "    \n",
    "# Save to feather\n",
    "#-----------------\n",
    "print('\\n Writing to  '+the_gases+'oxaria2_pm_stable_356_2feb21.ftr\\n')\n",
    "tmpdf.reset_index().to_feather(the_gases+'oxaria2_pm_stable_356_2feb21.ftr')\n",
    "print('All done! \\U0001F600')"
   ]
  }
 ],
 "metadata": {
  "kernelspec": {
   "display_name": "Python [conda env:qoax] *",
   "language": "python",
   "name": "conda-env-qoax-py"
  },
  "language_info": {
   "codemirror_mode": {
    "name": "ipython",
    "version": 3
   },
   "file_extension": ".py",
   "mimetype": "text/x-python",
   "name": "python",
   "nbconvert_exporter": "python",
   "pygments_lexer": "ipython3",
   "version": "3.8.6"
  },
  "toc": {
   "base_numbering": 1,
   "nav_menu": {},
   "number_sections": true,
   "sideBar": true,
   "skip_h1_title": false,
   "title_cell": "Table of Contents",
   "title_sidebar": "Contents",
   "toc_cell": false,
   "toc_position": {},
   "toc_section_display": true,
   "toc_window_display": false
  },
  "varInspector": {
   "cols": {
    "lenName": 16,
    "lenType": 16,
    "lenVar": 40
   },
   "kernels_config": {
    "python": {
     "delete_cmd_postfix": "",
     "delete_cmd_prefix": "del ",
     "library": "var_list.py",
     "varRefreshCmd": "print(var_dic_list())"
    },
    "r": {
     "delete_cmd_postfix": ") ",
     "delete_cmd_prefix": "rm(",
     "library": "var_list.r",
     "varRefreshCmd": "cat(var_dic_list()) "
    }
   },
   "types_to_exclude": [
    "module",
    "function",
    "builtin_function_or_method",
    "instance",
    "_Feature"
   ],
   "window_display": false
  }
 },
 "nbformat": 4,
 "nbformat_minor": 4
}
