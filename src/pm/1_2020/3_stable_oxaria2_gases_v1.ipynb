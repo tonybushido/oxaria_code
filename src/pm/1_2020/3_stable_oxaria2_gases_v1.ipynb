{
 "cells": [
  {
   "cell_type": "code",
   "execution_count": 1,
   "metadata": {
    "ExecuteTime": {
     "end_time": "2021-06-29T09:16:34.335424Z",
     "start_time": "2021-06-29T09:16:33.950225Z"
    }
   },
   "outputs": [],
   "source": [
    "# Imports\n",
    "#---------\n",
    "import sys\n",
    "import pandas as pd\n",
    "import numpy as np\n",
    "import feather\n",
    "import os\n",
    "import gc\n",
    "import datetime as dt\n",
    "import matplotlib.pyplot as plt\n",
    "import matplotlib.dates as mdates\n",
    "from pandas.plotting import register_matplotlib_converters\n",
    "import matplotlib.ticker as ticker\n",
    "from matplotlib.dates import DateFormatter\n",
    "import matplotlib as mpl\n",
    "from datetime import timezone\n",
    "\n",
    "register_matplotlib_converters()\n",
    "\n",
    "# File locations\n",
    "#----------------\n",
    "the_gases = '/home/tonyb/Gdrive/MinicondaProjects/oxaria/data/raw/2oxaria/json/gap_filling/'\n",
    "pngs = '/home/tonyb/Gdrive/MinicondaProjects/oxaria/data/pngs/gap_filling/'\n"
   ]
  },
  {
   "cell_type": "code",
   "execution_count": 2,
   "metadata": {
    "ExecuteTime": {
     "end_time": "2021-06-29T09:16:46.321414Z",
     "start_time": "2021-06-29T09:16:34.336616Z"
    }
   },
   "outputs": [
    {
     "name": "stdout",
     "output_type": "stream",
     "text": [
      "\n",
      "Loading Oxaria1 gases (no2 only)...\n",
      " \n",
      "\n",
      "<class 'pandas.core.frame.DataFrame'>\n",
      "MultiIndex: 25337336 entries, ('scs-bgx-550', Timestamp('2020-06-01 00:00:08+0000', tz='UTC')) to ('scs-bgx-559', Timestamp('2020-10-29 16:55:47+0000', tz='UTC'))\n",
      "Data columns (total 7 columns):\n",
      " #   Column       Dtype  \n",
      "---  ------       -----  \n",
      " 0   val.no2.wev  float32\n",
      " 1   val.no2.cnc  float32\n",
      " 2   val.no2.aev  float32\n",
      " 3   val.no2.wec  float32\n",
      " 4   val.sht.hmd  float32\n",
      " 5   val.sht.tmp  float32\n",
      " 6   name         object \n",
      "dtypes: float32(6), object(1)\n",
      "memory usage: 1.6+ GB\n"
     ]
    }
   ],
   "source": [
    "# Load the df \n",
    "#-------------\n",
    "oxaria2_gases_lt = pd.read_feather(the_gases+'oxaria2_gases_gf.ftr').set_index(['tag','rec'])\n",
    "print('\\n'+'Loading Oxaria1 gases (no2 only)...\\n \\n')\n",
    "oxaria2_gases_lt.info()\n"
   ]
  },
  {
   "cell_type": "code",
   "execution_count": 3,
   "metadata": {
    "ExecuteTime": {
     "end_time": "2021-06-29T09:17:55.392595Z",
     "start_time": "2021-06-29T09:16:46.322980Z"
    }
   },
   "outputs": [
    {
     "name": "stdout",
     "output_type": "stream",
     "text": [
      "\n",
      " Cleaning duplicates & NAs in index (if any)...\n",
      "\n"
     ]
    }
   ],
   "source": [
    "# Some cleaning incase have missed anything\n",
    "#-------------------------------------------\n",
    "oxaria2_gases_lt = oxaria2_gases_lt[~oxaria2_gases_lt.index.duplicated(keep='last')]\n",
    "oxaria2_gases_lt = oxaria2_gases_lt.reset_index()\n",
    "oxaria2_gases_lt = oxaria2_gases_lt.dropna(axis=0,subset=['tag']).set_index(['tag','rec'])\n",
    "oxaria2_gases_lt.sort_index()\n",
    "print('\\n Cleaning duplicates & NAs in index (if any)...\\n')"
   ]
  },
  {
   "cell_type": "code",
   "execution_count": 4,
   "metadata": {
    "ExecuteTime": {
     "end_time": "2021-06-29T09:17:56.590423Z",
     "start_time": "2021-06-29T09:17:55.394529Z"
    }
   },
   "outputs": [
    {
     "name": "stdout",
     "output_type": "stream",
     "text": [
      "Index(['\\n Unique tags loaded...\\nscs-bgx-550',\n",
      "       '\\n Unique tags loaded...\\nscs-bgx-551',\n",
      "       '\\n Unique tags loaded...\\nscs-bgx-552',\n",
      "       '\\n Unique tags loaded...\\nscs-bgx-553',\n",
      "       '\\n Unique tags loaded...\\nscs-bgx-554',\n",
      "       '\\n Unique tags loaded...\\nscs-bgx-555',\n",
      "       '\\n Unique tags loaded...\\nscs-bgx-556',\n",
      "       '\\n Unique tags loaded...\\nscs-bgx-557',\n",
      "       '\\n Unique tags loaded...\\nscs-bgx-558',\n",
      "       '\\n Unique tags loaded...\\nscs-bgx-559'],\n",
      "      dtype='object', name='tag')\n"
     ]
    }
   ],
   "source": [
    "# Get a list of unique tags\n",
    "#---------------------------\n",
    "tags = oxaria2_gases_lt.index.get_level_values(0).unique()\n",
    "print('\\n Unique tags loaded...\\n'+tags)"
   ]
  },
  {
   "cell_type": "code",
   "execution_count": 5,
   "metadata": {
    "ExecuteTime": {
     "end_time": "2021-06-29T09:17:56.598713Z",
     "start_time": "2021-06-29T09:17:56.593734Z"
    }
   },
   "outputs": [
    {
     "name": "stdout",
     "output_type": "stream",
     "text": [
      "\n",
      " Applying variable start date filters of each sensor...\n",
      " \n",
      "{'scs-bgx-550': datetime.datetime(2020, 12, 15, 0, 0, tzinfo=datetime.timezone.utc), 'scs-bgx-551': datetime.datetime(2020, 7, 20, 0, 0, tzinfo=datetime.timezone.utc), 'scs-bgx-552': datetime.datetime(2020, 12, 15, 0, 0, tzinfo=datetime.timezone.utc), 'scs-bgx-553': datetime.datetime(2020, 7, 1, 0, 0, tzinfo=datetime.timezone.utc), 'scs-bgx-554': datetime.datetime(2020, 7, 1, 0, 0, tzinfo=datetime.timezone.utc), 'scs-bgx-555': datetime.datetime(2020, 12, 15, 0, 0, tzinfo=datetime.timezone.utc), 'scs-bgx-556': datetime.datetime(2020, 7, 20, 0, 0, tzinfo=datetime.timezone.utc), 'scs-bgx-557': datetime.datetime(2020, 7, 1, 0, 0, tzinfo=datetime.timezone.utc), 'scs-bgx-558': datetime.datetime(2020, 12, 15, 0, 0, tzinfo=datetime.timezone.utc), 'scs-bgx-559': datetime.datetime(2020, 12, 15, 0, 0, tzinfo=datetime.timezone.utc)}\n"
     ]
    }
   ],
   "source": [
    "# Define the start dates for stable operation\n",
    "#---------------------------------------------\n",
    "start_dates = ['2020-12-15T00:00:00','2020-07-20T00:00:00','2020-12-15T00:00:00','2020-07-01T00:00:00', \\\n",
    "               '2020-07-01T00:00:00','2020-12-15T00:00:00','2020-07-20T00:00:00','2020-07-01T00:00:00', \\\n",
    "               '2020-12-15T00:00:00','2020-12-15T00:00:00']\n",
    "\n",
    "dates_list = [dt.datetime.fromisoformat(date).replace(tzinfo=timezone.utc) for date in start_dates]\n",
    "dates_dict = dict(zip(tags,dates_list))\n",
    "print('\\n Applying variable start date filters of each sensor...\\n \\n'+str(dates_dict))"
   ]
  },
  {
   "cell_type": "code",
   "execution_count": 6,
   "metadata": {
    "ExecuteTime": {
     "end_time": "2021-06-29T09:18:16.715912Z",
     "start_time": "2021-06-29T09:17:56.600190Z"
    },
    "scrolled": false
   },
   "outputs": [
    {
     "name": "stdout",
     "output_type": "stream",
     "text": [
      "\n",
      " Applying start date filters...\n",
      "\n",
      "<class 'pandas.core.frame.DataFrame'>\n",
      "MultiIndex: 11812689 entries, ('scs-bgx-550', Timestamp('2021-01-01 00:00:02+0000', tz='UTC')) to ('scs-bgx-559', Timestamp('2020-12-31 23:59:55+0000', tz='UTC'))\n",
      "Data columns (total 7 columns):\n",
      " #   Column       Dtype  \n",
      "---  ------       -----  \n",
      " 0   val.no2.wev  float32\n",
      " 1   val.no2.cnc  float32\n",
      " 2   val.no2.aev  float32\n",
      " 3   val.no2.wec  float32\n",
      " 4   val.sht.hmd  float32\n",
      " 5   val.sht.tmp  float32\n",
      " 6   name         object \n",
      "dtypes: float32(6), object(1)\n",
      "memory usage: 805.3+ MB\n",
      "None\n",
      "\n",
      " Applying sensible empirical filters...\n",
      "condition =  ((tmpdf['val.sht.tmp'] < -10.0) |              (tmpdf['val.sht.tmp'] > 35.0) |              (tmpdf['val.sht.hmd'] < 35.0))\n",
      "\n",
      "\n",
      " Writing to  /home/tonyb/Gdrive/MinicondaProjects/oxaria/data/raw/2oxaria/json/gap_filling/oxaria2_gases_stable_536_2feb21.ftr\n",
      "\n",
      "All done! 😀\n"
     ]
    }
   ],
   "source": [
    "# Select periods of stable operation from the df of all gases sesnor data\n",
    "#-------------------------------------------------------------------------\n",
    "print('\\n Applying start date filters...\\n')\n",
    "\n",
    "tmp = []\n",
    "\n",
    "for k,v in dates_dict.items():\n",
    "    df = oxaria2_gases_lt.query('tag == @k & rec >= @v')\n",
    "    tmp.append(df)\n",
    "tmpdf = pd.concat(tmp)\n",
    "print(tmpdf.info())\n",
    "\n",
    "# Apply empirical filters\n",
    "#-------------------------\n",
    "\n",
    "print(\"\\n Applying sensible empirical filters...\\ncondition =  ((tmpdf['val.sht.tmp'] < -10.0) | \\\n",
    "             (tmpdf['val.sht.tmp'] > 35.0) | \\\n",
    "             (tmpdf['val.sht.hmd'] < 35.0))\\n\")\n",
    "\n",
    "cols = ['val.no2.cnc']\n",
    "\n",
    "condition =  ((tmpdf['val.sht.tmp'] < -10.0) | \\\n",
    "             (tmpdf['val.sht.tmp'] > 35.0) | \\\n",
    "             (tmpdf['val.sht.hmd'] < 35.0))\n",
    "\n",
    "for col in cols:\n",
    "    tmpdf[col+'_1'] = np.where(condition, np.nan, tmpdf[col])\n",
    "\n",
    "    \n",
    "# Save to feather\n",
    "#-----------------\n",
    "print('\\n Writing to  '+the_gases+'oxaria2_gases_stable_536_2feb21.ftr\\n')\n",
    "tmpdf.reset_index().to_feather(the_gases+'oxaria2_gases_stable_536_2feb21.ftr')\n",
    "print('All done! \\U0001F600')"
   ]
  }
 ],
 "metadata": {
  "kernelspec": {
   "display_name": "Python [conda env:qoax] *",
   "language": "python",
   "name": "conda-env-qoax-py"
  },
  "language_info": {
   "codemirror_mode": {
    "name": "ipython",
    "version": 3
   },
   "file_extension": ".py",
   "mimetype": "text/x-python",
   "name": "python",
   "nbconvert_exporter": "python",
   "pygments_lexer": "ipython3",
   "version": "3.8.6"
  },
  "toc": {
   "base_numbering": 1,
   "nav_menu": {},
   "number_sections": true,
   "sideBar": true,
   "skip_h1_title": false,
   "title_cell": "Table of Contents",
   "title_sidebar": "Contents",
   "toc_cell": false,
   "toc_position": {},
   "toc_section_display": true,
   "toc_window_display": false
  },
  "varInspector": {
   "cols": {
    "lenName": 16,
    "lenType": 16,
    "lenVar": 40
   },
   "kernels_config": {
    "python": {
     "delete_cmd_postfix": "",
     "delete_cmd_prefix": "del ",
     "library": "var_list.py",
     "varRefreshCmd": "print(var_dic_list())"
    },
    "r": {
     "delete_cmd_postfix": ") ",
     "delete_cmd_prefix": "rm(",
     "library": "var_list.r",
     "varRefreshCmd": "cat(var_dic_list()) "
    }
   },
   "types_to_exclude": [
    "module",
    "function",
    "builtin_function_or_method",
    "instance",
    "_Feature"
   ],
   "window_display": false
  }
 },
 "nbformat": 4,
 "nbformat_minor": 4
}
