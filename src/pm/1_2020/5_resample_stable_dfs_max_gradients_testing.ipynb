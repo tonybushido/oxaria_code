{
 "cells": [
  {
   "cell_type": "code",
   "execution_count": 2,
   "metadata": {
    "ExecuteTime": {
     "end_time": "2021-09-19T09:54:24.465433Z",
     "start_time": "2021-09-19T09:54:24.460525Z"
    }
   },
   "outputs": [],
   "source": [
    "# Imports\n",
    "#---------\n",
    "import sys\n",
    "import pandas as pd\n",
    "import numpy as np\n",
    "import feather\n",
    "import os\n",
    "import gc\n",
    "import datetime as dt\n",
    "\n",
    "# List of good Oxaria1 location names to zip with tags \n",
    "# mus be in numerical order of tags\n",
    "#------------------------------------------------------\n",
    "ox1_location_names = ['High St','South Parks Rd','St Ebbes','Jesus College', \\\n",
    "                  'Marsten','The Plain','Worcester College','John Radcliffe']\n",
    "\n",
    "#['High St','South Parks Rd','St Ebbes','Jesus College', \\\n",
    "#                      'New Marston','The Plain','Worcester College']\n",
    "\n",
    "# List of good Oxaria2 location names to zip with tags \n",
    "# must be in numerical order of tags\n",
    "# NB. 'St Peters' (555) omitted because it has not run (yet)\n",
    "#------------------------------------------------------\n",
    "ox2_location_names = ['Windmill School','Said Business School','County Hall','Divinity Road', \\\n",
    "                  'Jahlul Bayt Mosque','St Giles','Warneford Hospital', \\\n",
    "                  'Spare','Speedwell St']\n"
   ]
  },
  {
   "cell_type": "code",
   "execution_count": 26,
   "metadata": {
    "ExecuteTime": {
     "end_time": "2021-09-19T11:23:21.139304Z",
     "start_time": "2021-09-19T11:23:21.132210Z"
    }
   },
   "outputs": [],
   "source": [
    "# Function to load stable Oxaria feathers & aggregate to 15-min minute \n",
    "#----------------------------------------------------------------------\n",
    "\n",
    "def resample_15min_max(in_df):\n",
    "    df = in_df.set_index(['tag', 'rec'])\n",
    "    df = df.groupby([pd.Grouper(level='tag'),\n",
    "                     pd.Grouper(level='rec',\n",
    "                                freq='15min',\n",
    "                                label='right',\n",
    "                                convention='end',\n",
    "                                origin='epoch'\n",
    "                                )]).max()\n",
    "    df = df.astype({col: 'int32' for col in\n",
    "                    df.select_dtypes('int64').columns})\n",
    "    df = df.astype({col: np.float32 for col in\n",
    "                    df.select_dtypes('float64').columns})\n",
    "    df.reset_index(inplace=True)\n",
    "    df['rec'] = df['rec'].dt.strftime('%Y-%m-%d %H:%M:%S.%f%z')\n",
    "    df['rec'] = pd.to_datetime(df['rec'],\n",
    "                               errors='coerce',\n",
    "                               utc=True,\n",
    "                               unit='ns',\n",
    "                               origin='unix',\n",
    "                               infer_datetime_format=True)\n",
    "    return df\n",
    "\n",
    "def resample_15min(df):\n",
    "    df = df.set_index(['tag','rec'])\n",
    "    df = df.groupby([pd.Grouper(level='tag'), \\\n",
    "                     pd.Grouper(level='rec', \\\n",
    "                                freq='15min', \\\n",
    "                                label='right', \\\n",
    "                                convention='end', \\\n",
    "                                origin='epoch'\n",
    "                               )]).mean()\n",
    "    df = df.astype({col: 'int32' for col in \\\n",
    "                    df.select_dtypes('int64').columns})\n",
    "    df = df.astype({col: np.float32 for col in \\\n",
    "                    df.select_dtypes('float64').columns})\n",
    "    df.reset_index(inplace=True)\n",
    "    df['rec'] = df['rec'].dt.strftime('%Y-%m-%d %H:%M:%S.%f%z')\n",
    "    df['rec'] = pd.to_datetime(df['rec'], \\\n",
    "                               errors='coerce', \\\n",
    "                               utc=True, \\\n",
    "                               unit='ns', \\\n",
    "                               origin='unix', \\\n",
    "                               infer_datetime_format=True)\n",
    "    return df\n"
   ]
  },
  {
   "cell_type": "code",
   "execution_count": 27,
   "metadata": {
    "ExecuteTime": {
     "end_time": "2021-09-19T11:23:41.215217Z",
     "start_time": "2021-09-19T11:23:23.018239Z"
    }
   },
   "outputs": [],
   "source": [
    "### Calc 15-min averages for space &n comparison with auto data - oxaria1\n",
    "#-----------------------------------------------------------------------\n",
    "\n",
    "# File locations\n",
    "folder = '/home/tonyb/Gdrive/MinicondaProjects/oxaria/data/raw/1oxaria/json/gap_filling/'\n",
    "\n",
    "# Get dfs\n",
    "oxaria1_gases_stable = pd.read_feather(folder+'oxaria1_gases_stable_536_2feb21.ftr')\n",
    "oxaria1_pm_stable = pd.read_feather(folder+'oxaria1_pm_stable_536_2feb21.ftr')\n",
    "oxaria1_gases_stable_15min = resample_15min(oxaria1_gases_stable)"
   ]
  },
  {
   "cell_type": "code",
   "execution_count": 56,
   "metadata": {
    "ExecuteTime": {
     "end_time": "2021-09-20T11:04:15.771008Z",
     "start_time": "2021-09-20T11:04:15.751219Z"
    }
   },
   "outputs": [],
   "source": [
    "# Add gradients for rh & temp\n",
    "#-----------------------------\n",
    "def calc_gradients(df):\n",
    "    df['hmd_s10'] = df.loc[:,['val.sht.hmd']].diff().div(10)\n",
    "    df['hmd_s20'] = df.loc[:,['val.sht.hmd']].diff(2).div(20)\n",
    "    df['hmd_s30'] = df.loc[:,['val.sht.hmd']].diff(3).div(30)\n",
    "    df['hmd_s40'] = df.loc[:,['val.sht.hmd']].diff(4).div(40)\n",
    "    df['tmp_s10'] = df.loc[:,['val.sht.tmp']].diff().div(10)\n",
    "    df['tmp_s20'] = df.loc[:,['val.sht.tmp']].diff(2).div(20)\n",
    "    df['tmp_s30'] = df.loc[:,['val.sht.tmp']].diff(3).div(30)\n",
    "    df['tmp_s40'] = df.loc[:,['val.sht.tmp']].diff(4).div(40)\n",
    "    df['wev_s10'] = df.loc[:,['val.no2.wev']].diff().div(10)\n",
    "    df['wev_s20'] = df.loc[:,['val.no2.wev']].diff(2).div(20)\n",
    "    df['wev_s30'] = df.loc[:,['val.no2.wev']].diff(3).div(30)\n",
    "    df['wev_s40'] = df.loc[:,['val.no2.wev']].diff(4).div(40)\n",
    "    df = df.iloc[:,[0,1,10,11,12,13,14,15,16,17,18,19,20,21]]\n",
    "    return df"
   ]
  },
  {
   "cell_type": "code",
   "execution_count": 55,
   "metadata": {
    "ExecuteTime": {
     "end_time": "2021-09-20T11:03:30.319435Z",
     "start_time": "2021-09-20T11:03:30.293155Z"
    }
   },
   "outputs": [
    {
     "name": "stdout",
     "output_type": "stream",
     "text": [
      "<class 'pandas.core.frame.DataFrame'>\n",
      "RangeIndex: 18680104 entries, 0 to 18680103\n",
      "Data columns (total 19 columns):\n",
      " #   Column         Dtype              \n",
      "---  ------         -----              \n",
      " 0   tag            object             \n",
      " 1   rec            datetime64[ns, UTC]\n",
      " 2   val.no2.wev    float32            \n",
      " 3   val.no2.cnc    float32            \n",
      " 4   val.no2.aev    float32            \n",
      " 5   val.no2.wec    float32            \n",
      " 6   val.sht.hmd    float32            \n",
      " 7   val.sht.tmp    float32            \n",
      " 8   name           object             \n",
      " 9   val.no2.cnc_1  float32            \n",
      " 10  hmd_s10        float32            \n",
      " 11  hmd_s20        float32            \n",
      " 12  hmd_s30        float32            \n",
      " 13  hmd_s40        float32            \n",
      " 14  tmp_s10        float32            \n",
      " 15  tmp_s20        float32            \n",
      " 16  tmp_s30        float32            \n",
      " 17  tmp_s40        float32            \n",
      " 18  wev_s10        float32            \n",
      "dtypes: datetime64[ns, UTC](1), float32(16), object(2)\n",
      "memory usage: 1.5+ GB\n"
     ]
    }
   ],
   "source": [
    "oxaria1_gases_stable.info()"
   ]
  },
  {
   "cell_type": "code",
   "execution_count": 57,
   "metadata": {
    "ExecuteTime": {
     "end_time": "2021-09-20T11:04:28.405782Z",
     "start_time": "2021-09-20T11:04:21.932332Z"
    }
   },
   "outputs": [
    {
     "data": {
      "text/html": [
       "<div>\n",
       "<style scoped>\n",
       "    .dataframe tbody tr th:only-of-type {\n",
       "        vertical-align: middle;\n",
       "    }\n",
       "\n",
       "    .dataframe tbody tr th {\n",
       "        vertical-align: top;\n",
       "    }\n",
       "\n",
       "    .dataframe thead th {\n",
       "        text-align: right;\n",
       "    }\n",
       "</style>\n",
       "<table border=\"1\" class=\"dataframe\">\n",
       "  <thead>\n",
       "    <tr style=\"text-align: right;\">\n",
       "      <th></th>\n",
       "      <th>tag</th>\n",
       "      <th>rec</th>\n",
       "      <th>hmd_s10</th>\n",
       "      <th>hmd_s20</th>\n",
       "      <th>hmd_s30</th>\n",
       "      <th>hmd_s40</th>\n",
       "      <th>tmp_s10</th>\n",
       "      <th>tmp_s20</th>\n",
       "      <th>tmp_s30</th>\n",
       "      <th>tmp_s40</th>\n",
       "      <th>wev_s10</th>\n",
       "      <th>wev_s20</th>\n",
       "      <th>wev_s30</th>\n",
       "      <th>wev_s40</th>\n",
       "    </tr>\n",
       "  </thead>\n",
       "  <tbody>\n",
       "    <tr>\n",
       "      <th>0</th>\n",
       "      <td>scs-bgx-536</td>\n",
       "      <td>2020-09-25 00:00:04+00:00</td>\n",
       "      <td>NaN</td>\n",
       "      <td>NaN</td>\n",
       "      <td>NaN</td>\n",
       "      <td>NaN</td>\n",
       "      <td>NaN</td>\n",
       "      <td>NaN</td>\n",
       "      <td>NaN</td>\n",
       "      <td>NaN</td>\n",
       "      <td>NaN</td>\n",
       "      <td>NaN</td>\n",
       "      <td>NaN</td>\n",
       "      <td>NaN</td>\n",
       "    </tr>\n",
       "    <tr>\n",
       "      <th>1</th>\n",
       "      <td>scs-bgx-536</td>\n",
       "      <td>2020-09-25 00:00:14+00:00</td>\n",
       "      <td>0.020000</td>\n",
       "      <td>NaN</td>\n",
       "      <td>NaN</td>\n",
       "      <td>NaN</td>\n",
       "      <td>0.00</td>\n",
       "      <td>NaN</td>\n",
       "      <td>NaN</td>\n",
       "      <td>NaN</td>\n",
       "      <td>0.000031</td>\n",
       "      <td>NaN</td>\n",
       "      <td>NaN</td>\n",
       "      <td>NaN</td>\n",
       "    </tr>\n",
       "    <tr>\n",
       "      <th>2</th>\n",
       "      <td>scs-bgx-536</td>\n",
       "      <td>2020-09-25 00:00:24+00:00</td>\n",
       "      <td>0.010000</td>\n",
       "      <td>0.015</td>\n",
       "      <td>NaN</td>\n",
       "      <td>NaN</td>\n",
       "      <td>0.00</td>\n",
       "      <td>0.000</td>\n",
       "      <td>NaN</td>\n",
       "      <td>NaN</td>\n",
       "      <td>0.000038</td>\n",
       "      <td>0.000034</td>\n",
       "      <td>NaN</td>\n",
       "      <td>NaN</td>\n",
       "    </tr>\n",
       "    <tr>\n",
       "      <th>3</th>\n",
       "      <td>scs-bgx-536</td>\n",
       "      <td>2020-09-25 00:00:34+00:00</td>\n",
       "      <td>0.000000</td>\n",
       "      <td>0.005</td>\n",
       "      <td>0.010000</td>\n",
       "      <td>NaN</td>\n",
       "      <td>0.00</td>\n",
       "      <td>0.000</td>\n",
       "      <td>0.000000</td>\n",
       "      <td>NaN</td>\n",
       "      <td>0.000006</td>\n",
       "      <td>0.000022</td>\n",
       "      <td>0.000025</td>\n",
       "      <td>NaN</td>\n",
       "    </tr>\n",
       "    <tr>\n",
       "      <th>4</th>\n",
       "      <td>scs-bgx-536</td>\n",
       "      <td>2020-09-25 00:00:44+00:00</td>\n",
       "      <td>0.010001</td>\n",
       "      <td>0.005</td>\n",
       "      <td>0.006667</td>\n",
       "      <td>0.0100</td>\n",
       "      <td>0.00</td>\n",
       "      <td>0.000</td>\n",
       "      <td>0.000000</td>\n",
       "      <td>0.0000</td>\n",
       "      <td>0.000012</td>\n",
       "      <td>0.000009</td>\n",
       "      <td>0.000019</td>\n",
       "      <td>0.000022</td>\n",
       "    </tr>\n",
       "    <tr>\n",
       "      <th>...</th>\n",
       "      <td>...</td>\n",
       "      <td>...</td>\n",
       "      <td>...</td>\n",
       "      <td>...</td>\n",
       "      <td>...</td>\n",
       "      <td>...</td>\n",
       "      <td>...</td>\n",
       "      <td>...</td>\n",
       "      <td>...</td>\n",
       "      <td>...</td>\n",
       "      <td>...</td>\n",
       "      <td>...</td>\n",
       "      <td>...</td>\n",
       "      <td>...</td>\n",
       "    </tr>\n",
       "    <tr>\n",
       "      <th>18680099</th>\n",
       "      <td>scs-bgx-543</td>\n",
       "      <td>2021-02-28 23:59:14+00:00</td>\n",
       "      <td>-0.010000</td>\n",
       "      <td>-0.005</td>\n",
       "      <td>-0.003333</td>\n",
       "      <td>-0.0025</td>\n",
       "      <td>0.00</td>\n",
       "      <td>0.005</td>\n",
       "      <td>0.003333</td>\n",
       "      <td>0.0000</td>\n",
       "      <td>-0.000006</td>\n",
       "      <td>0.000000</td>\n",
       "      <td>0.000006</td>\n",
       "      <td>0.000008</td>\n",
       "    </tr>\n",
       "    <tr>\n",
       "      <th>18680100</th>\n",
       "      <td>scs-bgx-543</td>\n",
       "      <td>2021-02-28 23:59:24+00:00</td>\n",
       "      <td>0.000000</td>\n",
       "      <td>-0.005</td>\n",
       "      <td>-0.003333</td>\n",
       "      <td>-0.0025</td>\n",
       "      <td>0.00</td>\n",
       "      <td>0.000</td>\n",
       "      <td>0.003333</td>\n",
       "      <td>0.0025</td>\n",
       "      <td>0.000000</td>\n",
       "      <td>-0.000003</td>\n",
       "      <td>0.000000</td>\n",
       "      <td>0.000005</td>\n",
       "    </tr>\n",
       "    <tr>\n",
       "      <th>18680101</th>\n",
       "      <td>scs-bgx-543</td>\n",
       "      <td>2021-02-28 23:59:34+00:00</td>\n",
       "      <td>0.000000</td>\n",
       "      <td>0.000</td>\n",
       "      <td>-0.003333</td>\n",
       "      <td>-0.0025</td>\n",
       "      <td>-0.01</td>\n",
       "      <td>-0.005</td>\n",
       "      <td>-0.003333</td>\n",
       "      <td>0.0000</td>\n",
       "      <td>0.000006</td>\n",
       "      <td>0.000003</td>\n",
       "      <td>0.000000</td>\n",
       "      <td>0.000002</td>\n",
       "    </tr>\n",
       "    <tr>\n",
       "      <th>18680102</th>\n",
       "      <td>scs-bgx-543</td>\n",
       "      <td>2021-02-28 23:59:44+00:00</td>\n",
       "      <td>0.000000</td>\n",
       "      <td>0.000</td>\n",
       "      <td>0.000000</td>\n",
       "      <td>-0.0025</td>\n",
       "      <td>0.01</td>\n",
       "      <td>0.000</td>\n",
       "      <td>0.000000</td>\n",
       "      <td>0.0000</td>\n",
       "      <td>0.000013</td>\n",
       "      <td>0.000010</td>\n",
       "      <td>0.000006</td>\n",
       "      <td>0.000003</td>\n",
       "    </tr>\n",
       "    <tr>\n",
       "      <th>18680103</th>\n",
       "      <td>scs-bgx-543</td>\n",
       "      <td>2021-02-28 23:59:54+00:00</td>\n",
       "      <td>0.000000</td>\n",
       "      <td>0.000</td>\n",
       "      <td>0.000000</td>\n",
       "      <td>0.0000</td>\n",
       "      <td>-0.01</td>\n",
       "      <td>0.000</td>\n",
       "      <td>-0.003333</td>\n",
       "      <td>-0.0025</td>\n",
       "      <td>0.000000</td>\n",
       "      <td>0.000006</td>\n",
       "      <td>0.000006</td>\n",
       "      <td>0.000005</td>\n",
       "    </tr>\n",
       "  </tbody>\n",
       "</table>\n",
       "<p>18680104 rows × 14 columns</p>\n",
       "</div>"
      ],
      "text/plain": [
       "                  tag                       rec   hmd_s10  hmd_s20   hmd_s30  \\\n",
       "0         scs-bgx-536 2020-09-25 00:00:04+00:00       NaN      NaN       NaN   \n",
       "1         scs-bgx-536 2020-09-25 00:00:14+00:00  0.020000      NaN       NaN   \n",
       "2         scs-bgx-536 2020-09-25 00:00:24+00:00  0.010000    0.015       NaN   \n",
       "3         scs-bgx-536 2020-09-25 00:00:34+00:00  0.000000    0.005  0.010000   \n",
       "4         scs-bgx-536 2020-09-25 00:00:44+00:00  0.010001    0.005  0.006667   \n",
       "...               ...                       ...       ...      ...       ...   \n",
       "18680099  scs-bgx-543 2021-02-28 23:59:14+00:00 -0.010000   -0.005 -0.003333   \n",
       "18680100  scs-bgx-543 2021-02-28 23:59:24+00:00  0.000000   -0.005 -0.003333   \n",
       "18680101  scs-bgx-543 2021-02-28 23:59:34+00:00  0.000000    0.000 -0.003333   \n",
       "18680102  scs-bgx-543 2021-02-28 23:59:44+00:00  0.000000    0.000  0.000000   \n",
       "18680103  scs-bgx-543 2021-02-28 23:59:54+00:00  0.000000    0.000  0.000000   \n",
       "\n",
       "          hmd_s40  tmp_s10  tmp_s20   tmp_s30  tmp_s40   wev_s10   wev_s20  \\\n",
       "0             NaN      NaN      NaN       NaN      NaN       NaN       NaN   \n",
       "1             NaN     0.00      NaN       NaN      NaN  0.000031       NaN   \n",
       "2             NaN     0.00    0.000       NaN      NaN  0.000038  0.000034   \n",
       "3             NaN     0.00    0.000  0.000000      NaN  0.000006  0.000022   \n",
       "4          0.0100     0.00    0.000  0.000000   0.0000  0.000012  0.000009   \n",
       "...           ...      ...      ...       ...      ...       ...       ...   \n",
       "18680099  -0.0025     0.00    0.005  0.003333   0.0000 -0.000006  0.000000   \n",
       "18680100  -0.0025     0.00    0.000  0.003333   0.0025  0.000000 -0.000003   \n",
       "18680101  -0.0025    -0.01   -0.005 -0.003333   0.0000  0.000006  0.000003   \n",
       "18680102  -0.0025     0.01    0.000  0.000000   0.0000  0.000013  0.000010   \n",
       "18680103   0.0000    -0.01    0.000 -0.003333  -0.0025  0.000000  0.000006   \n",
       "\n",
       "           wev_s30   wev_s40  \n",
       "0              NaN       NaN  \n",
       "1              NaN       NaN  \n",
       "2              NaN       NaN  \n",
       "3         0.000025       NaN  \n",
       "4         0.000019  0.000022  \n",
       "...            ...       ...  \n",
       "18680099  0.000006  0.000008  \n",
       "18680100  0.000000  0.000005  \n",
       "18680101  0.000000  0.000002  \n",
       "18680102  0.000006  0.000003  \n",
       "18680103  0.000006  0.000005  \n",
       "\n",
       "[18680104 rows x 14 columns]"
      ]
     },
     "execution_count": 57,
     "metadata": {},
     "output_type": "execute_result"
    }
   ],
   "source": [
    "calc_gradients(df=oxaria1_gases_stable)"
   ]
  },
  {
   "cell_type": "code",
   "execution_count": 14,
   "metadata": {
    "ExecuteTime": {
     "end_time": "2021-09-19T11:00:27.823371Z",
     "start_time": "2021-09-19T11:00:24.859303Z"
    }
   },
   "outputs": [
    {
     "name": "stdout",
     "output_type": "stream",
     "text": [
      "<class 'pandas.core.frame.DataFrame'>\n",
      "RangeIndex: 18680104 entries, 0 to 18680103\n",
      "Data columns (total 18 columns):\n",
      " #   Column         Dtype              \n",
      "---  ------         -----              \n",
      " 0   tag            object             \n",
      " 1   rec            datetime64[ns, UTC]\n",
      " 2   val.no2.wev    float32            \n",
      " 3   val.no2.cnc    float32            \n",
      " 4   val.no2.aev    float32            \n",
      " 5   val.no2.wec    float32            \n",
      " 6   val.sht.hmd    float32            \n",
      " 7   val.sht.tmp    float32            \n",
      " 8   name           object             \n",
      " 9   val.no2.cnc_1  float32            \n",
      " 10  hmd_s10        float32            \n",
      " 11  hmd_s20        float32            \n",
      " 12  hmd_s30        float32            \n",
      " 13  hmd_s40        float32            \n",
      " 14  tmp_s10        float32            \n",
      " 15  tmp_s20        float32            \n",
      " 16  tmp_s30        float32            \n",
      " 17  tmp_s40        float32            \n",
      "dtypes: datetime64[ns, UTC](1), float32(15), object(2)\n",
      "memory usage: 1.5+ GB\n",
      "<class 'pandas.core.frame.DataFrame'>\n",
      "RangeIndex: 18680104 entries, 0 to 18680103\n",
      "Data columns (total 10 columns):\n",
      " #   Column   Dtype              \n",
      "---  ------   -----              \n",
      " 0   tag      object             \n",
      " 1   rec      datetime64[ns, UTC]\n",
      " 2   hmd_s10  float32            \n",
      " 3   hmd_s20  float32            \n",
      " 4   hmd_s30  float32            \n",
      " 5   hmd_s40  float32            \n",
      " 6   tmp_s10  float32            \n",
      " 7   tmp_s20  float32            \n",
      " 8   tmp_s30  float32            \n",
      " 9   tmp_s40  float32            \n",
      "dtypes: datetime64[ns, UTC](1), float32(8), object(1)\n",
      "memory usage: 855.1+ MB\n"
     ]
    }
   ],
   "source": [
    "# Apply gradients function\n",
    "#--------------------------\n",
    "oxaria1_gases_stable.info()\n",
    "junk = calc_gradients(df=oxaria1_gases_stable)\n",
    "junk.info()"
   ]
  },
  {
   "cell_type": "code",
   "execution_count": 42,
   "metadata": {
    "ExecuteTime": {
     "end_time": "2021-09-20T10:35:44.190667Z",
     "start_time": "2021-09-20T10:35:14.218988Z"
    }
   },
   "outputs": [
    {
     "name": "stdout",
     "output_type": "stream",
     "text": [
      "<class 'pandas.core.frame.DataFrame'>\n",
      "MultiIndex: 207987 entries, ('scs-bgx-536', Timestamp('2020-09-25 00:15:00+0000', tz='UTC')) to ('scs-bgx-543', Timestamp('2021-03-01 00:00:00+0000', tz='UTC'))\n",
      "Data columns (total 8 columns):\n",
      " #   Column   Non-Null Count   Dtype  \n",
      "---  ------   --------------   -----  \n",
      " 0   hmd_s10  207987 non-null  float32\n",
      " 1   hmd_s20  207987 non-null  float32\n",
      " 2   hmd_s30  207987 non-null  float32\n",
      " 3   hmd_s40  207987 non-null  float32\n",
      " 4   tmp_s10  207987 non-null  float32\n",
      " 5   tmp_s20  207987 non-null  float32\n",
      " 6   tmp_s30  207987 non-null  float32\n",
      " 7   tmp_s40  207987 non-null  float32\n",
      "dtypes: float32(8)\n",
      "memory usage: 8.6+ MB\n"
     ]
    }
   ],
   "source": [
    "junk_max = resample_15min_max(junk).set_index(['tag','rec'])\n",
    "junk_max.info()"
   ]
  },
  {
   "cell_type": "code",
   "execution_count": 38,
   "metadata": {
    "ExecuteTime": {
     "end_time": "2021-09-20T10:33:05.069810Z",
     "start_time": "2021-09-20T10:32:33.971939Z"
    }
   },
   "outputs": [
    {
     "name": "stdout",
     "output_type": "stream",
     "text": [
      "<class 'pandas.core.frame.DataFrame'>\n",
      "MultiIndex: 207987 entries, ('scs-bgx-536', Timestamp('2020-09-25 00:15:00+0000', tz='UTC')) to ('scs-bgx-543', Timestamp('2021-03-01 00:00:00+0000', tz='UTC'))\n",
      "Data columns (total 8 columns):\n",
      " #   Column   Non-Null Count   Dtype  \n",
      "---  ------   --------------   -----  \n",
      " 0   hmd_s10  207987 non-null  float32\n",
      " 1   hmd_s20  207987 non-null  float32\n",
      " 2   hmd_s30  207987 non-null  float32\n",
      " 3   hmd_s40  207987 non-null  float32\n",
      " 4   tmp_s10  207987 non-null  float32\n",
      " 5   tmp_s20  207987 non-null  float32\n",
      " 6   tmp_s30  207987 non-null  float32\n",
      " 7   tmp_s40  207987 non-null  float32\n",
      "dtypes: float32(8)\n",
      "memory usage: 8.6+ MB\n"
     ]
    }
   ],
   "source": [
    "junk_avg = resample_15min(junk).set_index(['tag','rec'])\n",
    "junk_avg.info()"
   ]
  },
  {
   "cell_type": "code",
   "execution_count": 43,
   "metadata": {
    "ExecuteTime": {
     "end_time": "2021-09-20T10:35:55.828878Z",
     "start_time": "2021-09-20T10:35:55.700362Z"
    }
   },
   "outputs": [
    {
     "data": {
      "text/html": [
       "<div>\n",
       "<style scoped>\n",
       "    .dataframe tbody tr th:only-of-type {\n",
       "        vertical-align: middle;\n",
       "    }\n",
       "\n",
       "    .dataframe tbody tr th {\n",
       "        vertical-align: top;\n",
       "    }\n",
       "\n",
       "    .dataframe thead th {\n",
       "        text-align: right;\n",
       "    }\n",
       "</style>\n",
       "<table border=\"1\" class=\"dataframe\">\n",
       "  <thead>\n",
       "    <tr style=\"text-align: right;\">\n",
       "      <th></th>\n",
       "      <th>hmd_s10</th>\n",
       "      <th>hmd_s20</th>\n",
       "      <th>hmd_s30</th>\n",
       "      <th>hmd_s40</th>\n",
       "      <th>tmp_s10</th>\n",
       "      <th>tmp_s20</th>\n",
       "      <th>tmp_s30</th>\n",
       "      <th>tmp_s40</th>\n",
       "    </tr>\n",
       "  </thead>\n",
       "  <tbody>\n",
       "    <tr>\n",
       "      <th>count</th>\n",
       "      <td>207987.000000</td>\n",
       "      <td>207987.000000</td>\n",
       "      <td>207987.000000</td>\n",
       "      <td>207987.000000</td>\n",
       "      <td>207987.000000</td>\n",
       "      <td>207987.000000</td>\n",
       "      <td>207987.000000</td>\n",
       "      <td>207987.000000</td>\n",
       "    </tr>\n",
       "    <tr>\n",
       "      <th>mean</th>\n",
       "      <td>0.047020</td>\n",
       "      <td>0.065935</td>\n",
       "      <td>0.075502</td>\n",
       "      <td>0.081365</td>\n",
       "      <td>0.010481</td>\n",
       "      <td>0.011056</td>\n",
       "      <td>0.011453</td>\n",
       "      <td>0.011756</td>\n",
       "    </tr>\n",
       "    <tr>\n",
       "      <th>std</th>\n",
       "      <td>0.050457</td>\n",
       "      <td>0.068349</td>\n",
       "      <td>0.076157</td>\n",
       "      <td>0.080804</td>\n",
       "      <td>0.005180</td>\n",
       "      <td>0.005806</td>\n",
       "      <td>0.006206</td>\n",
       "      <td>0.006499</td>\n",
       "    </tr>\n",
       "    <tr>\n",
       "      <th>min</th>\n",
       "      <td>0.000000</td>\n",
       "      <td>0.000000</td>\n",
       "      <td>0.000000</td>\n",
       "      <td>0.000000</td>\n",
       "      <td>0.000000</td>\n",
       "      <td>0.000000</td>\n",
       "      <td>0.000000</td>\n",
       "      <td>0.000000</td>\n",
       "    </tr>\n",
       "    <tr>\n",
       "      <th>25%</th>\n",
       "      <td>0.020000</td>\n",
       "      <td>0.030000</td>\n",
       "      <td>0.030000</td>\n",
       "      <td>0.030000</td>\n",
       "      <td>0.010000</td>\n",
       "      <td>0.010000</td>\n",
       "      <td>0.010000</td>\n",
       "      <td>0.010000</td>\n",
       "    </tr>\n",
       "    <tr>\n",
       "      <th>50%</th>\n",
       "      <td>0.030000</td>\n",
       "      <td>0.040000</td>\n",
       "      <td>0.050000</td>\n",
       "      <td>0.060000</td>\n",
       "      <td>0.010000</td>\n",
       "      <td>0.010000</td>\n",
       "      <td>0.010000</td>\n",
       "      <td>0.010000</td>\n",
       "    </tr>\n",
       "    <tr>\n",
       "      <th>75%</th>\n",
       "      <td>0.060000</td>\n",
       "      <td>0.080000</td>\n",
       "      <td>0.090000</td>\n",
       "      <td>0.100000</td>\n",
       "      <td>0.010000</td>\n",
       "      <td>0.010000</td>\n",
       "      <td>0.010000</td>\n",
       "      <td>0.010000</td>\n",
       "    </tr>\n",
       "    <tr>\n",
       "      <th>max</th>\n",
       "      <td>2.360000</td>\n",
       "      <td>4.430000</td>\n",
       "      <td>4.520000</td>\n",
       "      <td>4.470000</td>\n",
       "      <td>1.350000</td>\n",
       "      <td>1.350000</td>\n",
       "      <td>1.360000</td>\n",
       "      <td>1.360000</td>\n",
       "    </tr>\n",
       "  </tbody>\n",
       "</table>\n",
       "</div>"
      ],
      "text/plain": [
       "             hmd_s10        hmd_s20        hmd_s30        hmd_s40  \\\n",
       "count  207987.000000  207987.000000  207987.000000  207987.000000   \n",
       "mean        0.047020       0.065935       0.075502       0.081365   \n",
       "std         0.050457       0.068349       0.076157       0.080804   \n",
       "min         0.000000       0.000000       0.000000       0.000000   \n",
       "25%         0.020000       0.030000       0.030000       0.030000   \n",
       "50%         0.030000       0.040000       0.050000       0.060000   \n",
       "75%         0.060000       0.080000       0.090000       0.100000   \n",
       "max         2.360000       4.430000       4.520000       4.470000   \n",
       "\n",
       "             tmp_s10        tmp_s20        tmp_s30        tmp_s40  \n",
       "count  207987.000000  207987.000000  207987.000000  207987.000000  \n",
       "mean        0.010481       0.011056       0.011453       0.011756  \n",
       "std         0.005180       0.005806       0.006206       0.006499  \n",
       "min         0.000000       0.000000       0.000000       0.000000  \n",
       "25%         0.010000       0.010000       0.010000       0.010000  \n",
       "50%         0.010000       0.010000       0.010000       0.010000  \n",
       "75%         0.010000       0.010000       0.010000       0.010000  \n",
       "max         1.350000       1.350000       1.360000       1.360000  "
      ]
     },
     "execution_count": 43,
     "metadata": {},
     "output_type": "execute_result"
    }
   ],
   "source": [
    "junk_max.describe()\n"
   ]
  },
  {
   "cell_type": "code",
   "execution_count": 41,
   "metadata": {
    "ExecuteTime": {
     "end_time": "2021-09-20T10:33:40.841155Z",
     "start_time": "2021-09-20T10:33:40.684337Z"
    }
   },
   "outputs": [
    {
     "data": {
      "text/html": [
       "<div>\n",
       "<style scoped>\n",
       "    .dataframe tbody tr th:only-of-type {\n",
       "        vertical-align: middle;\n",
       "    }\n",
       "\n",
       "    .dataframe tbody tr th {\n",
       "        vertical-align: top;\n",
       "    }\n",
       "\n",
       "    .dataframe thead th {\n",
       "        text-align: right;\n",
       "    }\n",
       "</style>\n",
       "<table border=\"1\" class=\"dataframe\">\n",
       "  <thead>\n",
       "    <tr style=\"text-align: right;\">\n",
       "      <th></th>\n",
       "      <th>hmd_s10</th>\n",
       "      <th>hmd_s20</th>\n",
       "      <th>hmd_s30</th>\n",
       "      <th>hmd_s40</th>\n",
       "      <th>tmp_s10</th>\n",
       "      <th>tmp_s20</th>\n",
       "      <th>tmp_s30</th>\n",
       "      <th>tmp_s40</th>\n",
       "    </tr>\n",
       "  </thead>\n",
       "  <tbody>\n",
       "    <tr>\n",
       "      <th>count</th>\n",
       "      <td>2.079870e+05</td>\n",
       "      <td>2.079870e+05</td>\n",
       "      <td>2.079870e+05</td>\n",
       "      <td>2.079870e+05</td>\n",
       "      <td>2.079870e+05</td>\n",
       "      <td>2.079870e+05</td>\n",
       "      <td>2.079870e+05</td>\n",
       "      <td>2.079870e+05</td>\n",
       "    </tr>\n",
       "    <tr>\n",
       "      <th>mean</th>\n",
       "      <td>2.318062e-07</td>\n",
       "      <td>4.554312e-07</td>\n",
       "      <td>6.051459e-07</td>\n",
       "      <td>7.864879e-07</td>\n",
       "      <td>-2.503215e-07</td>\n",
       "      <td>-4.893107e-07</td>\n",
       "      <td>-7.108113e-07</td>\n",
       "      <td>-9.417857e-07</td>\n",
       "    </tr>\n",
       "    <tr>\n",
       "      <th>std</th>\n",
       "      <td>1.472662e-03</td>\n",
       "      <td>2.912970e-03</td>\n",
       "      <td>4.333523e-03</td>\n",
       "      <td>5.741024e-03</td>\n",
       "      <td>3.149613e-04</td>\n",
       "      <td>6.250782e-04</td>\n",
       "      <td>9.332670e-04</td>\n",
       "      <td>1.243575e-03</td>\n",
       "    </tr>\n",
       "    <tr>\n",
       "      <th>min</th>\n",
       "      <td>-4.752809e-02</td>\n",
       "      <td>-9.606742e-02</td>\n",
       "      <td>-1.451685e-01</td>\n",
       "      <td>-1.934831e-01</td>\n",
       "      <td>-5.428572e-02</td>\n",
       "      <td>-1.085714e-01</td>\n",
       "      <td>-1.614286e-01</td>\n",
       "      <td>-2.171429e-01</td>\n",
       "    </tr>\n",
       "    <tr>\n",
       "      <th>25%</th>\n",
       "      <td>-5.555556e-04</td>\n",
       "      <td>-1.111111e-03</td>\n",
       "      <td>-1.555566e-03</td>\n",
       "      <td>-2.111113e-03</td>\n",
       "      <td>-1.111115e-04</td>\n",
       "      <td>-2.247189e-04</td>\n",
       "      <td>-3.370799e-04</td>\n",
       "      <td>-5.555534e-04</td>\n",
       "    </tr>\n",
       "    <tr>\n",
       "      <th>50%</th>\n",
       "      <td>6.208817e-11</td>\n",
       "      <td>1.111094e-04</td>\n",
       "      <td>1.123578e-04</td>\n",
       "      <td>2.222188e-04</td>\n",
       "      <td>0.000000e+00</td>\n",
       "      <td>0.000000e+00</td>\n",
       "      <td>0.000000e+00</td>\n",
       "      <td>0.000000e+00</td>\n",
       "    </tr>\n",
       "    <tr>\n",
       "      <th>75%</th>\n",
       "      <td>6.666650e-04</td>\n",
       "      <td>1.222229e-03</td>\n",
       "      <td>1.888885e-03</td>\n",
       "      <td>2.444449e-03</td>\n",
       "      <td>1.111115e-04</td>\n",
       "      <td>2.222231e-04</td>\n",
       "      <td>3.333346e-04</td>\n",
       "      <td>4.444461e-04</td>\n",
       "    </tr>\n",
       "    <tr>\n",
       "      <th>max</th>\n",
       "      <td>1.014285e-01</td>\n",
       "      <td>2.014285e-01</td>\n",
       "      <td>3.014286e-01</td>\n",
       "      <td>3.985715e-01</td>\n",
       "      <td>1.466667e-02</td>\n",
       "      <td>2.922222e-02</td>\n",
       "      <td>4.400000e-02</td>\n",
       "      <td>5.866667e-02</td>\n",
       "    </tr>\n",
       "  </tbody>\n",
       "</table>\n",
       "</div>"
      ],
      "text/plain": [
       "            hmd_s10       hmd_s20       hmd_s30       hmd_s40       tmp_s10  \\\n",
       "count  2.079870e+05  2.079870e+05  2.079870e+05  2.079870e+05  2.079870e+05   \n",
       "mean   2.318062e-07  4.554312e-07  6.051459e-07  7.864879e-07 -2.503215e-07   \n",
       "std    1.472662e-03  2.912970e-03  4.333523e-03  5.741024e-03  3.149613e-04   \n",
       "min   -4.752809e-02 -9.606742e-02 -1.451685e-01 -1.934831e-01 -5.428572e-02   \n",
       "25%   -5.555556e-04 -1.111111e-03 -1.555566e-03 -2.111113e-03 -1.111115e-04   \n",
       "50%    6.208817e-11  1.111094e-04  1.123578e-04  2.222188e-04  0.000000e+00   \n",
       "75%    6.666650e-04  1.222229e-03  1.888885e-03  2.444449e-03  1.111115e-04   \n",
       "max    1.014285e-01  2.014285e-01  3.014286e-01  3.985715e-01  1.466667e-02   \n",
       "\n",
       "            tmp_s20       tmp_s30       tmp_s40  \n",
       "count  2.079870e+05  2.079870e+05  2.079870e+05  \n",
       "mean  -4.893107e-07 -7.108113e-07 -9.417857e-07  \n",
       "std    6.250782e-04  9.332670e-04  1.243575e-03  \n",
       "min   -1.085714e-01 -1.614286e-01 -2.171429e-01  \n",
       "25%   -2.247189e-04 -3.370799e-04 -5.555534e-04  \n",
       "50%    0.000000e+00  0.000000e+00  0.000000e+00  \n",
       "75%    2.222231e-04  3.333346e-04  4.444461e-04  \n",
       "max    2.922222e-02  4.400000e-02  5.866667e-02  "
      ]
     },
     "execution_count": 41,
     "metadata": {},
     "output_type": "execute_result"
    }
   ],
   "source": [
    "junk_avg.describe()"
   ]
  },
  {
   "cell_type": "code",
   "execution_count": 28,
   "metadata": {
    "ExecuteTime": {
     "end_time": "2021-09-19T11:33:03.355705Z",
     "start_time": "2021-09-19T11:33:03.269328Z"
    }
   },
   "outputs": [
    {
     "name": "stdout",
     "output_type": "stream",
     "text": [
      "<class 'pandas.core.frame.DataFrame'>\n",
      "Int64Index: 207987 entries, 0 to 207986\n",
      "Data columns (total 17 columns):\n",
      " #   Column         Non-Null Count   Dtype              \n",
      "---  ------         --------------   -----              \n",
      " 0   tag            207987 non-null  object             \n",
      " 1   rec            207987 non-null  datetime64[ns, UTC]\n",
      " 2   val.no2.wev    207987 non-null  float32            \n",
      " 3   val.no2.cnc    207987 non-null  float32            \n",
      " 4   val.no2.aev    207987 non-null  float32            \n",
      " 5   val.no2.wec    207987 non-null  float32            \n",
      " 6   val.sht.hmd    207987 non-null  float32            \n",
      " 7   val.sht.tmp    207987 non-null  float32            \n",
      " 8   val.no2.cnc_1  204124 non-null  float32            \n",
      " 9   hmd_s10        207987 non-null  float32            \n",
      " 10  hmd_s20        207987 non-null  float32            \n",
      " 11  hmd_s30        207987 non-null  float32            \n",
      " 12  hmd_s40        207987 non-null  float32            \n",
      " 13  tmp_s10        207987 non-null  float32            \n",
      " 14  tmp_s20        207987 non-null  float32            \n",
      " 15  tmp_s30        207987 non-null  float32            \n",
      " 16  tmp_s40        207987 non-null  float32            \n",
      "dtypes: datetime64[ns, UTC](1), float32(15), object(1)\n",
      "memory usage: 16.7+ MB\n"
     ]
    }
   ],
   "source": [
    "test = oxaria1_gases_stable_15min.merge(junk_max, on=['tag','rec'])\n",
    "test.info()"
   ]
  },
  {
   "cell_type": "code",
   "execution_count": 47,
   "metadata": {
    "ExecuteTime": {
     "end_time": "2021-09-20T10:50:42.515141Z",
     "start_time": "2021-09-20T10:50:42.345755Z"
    }
   },
   "outputs": [
    {
     "data": {
      "text/html": [
       "<div>\n",
       "<style scoped>\n",
       "    .dataframe tbody tr th:only-of-type {\n",
       "        vertical-align: middle;\n",
       "    }\n",
       "\n",
       "    .dataframe tbody tr th {\n",
       "        vertical-align: top;\n",
       "    }\n",
       "\n",
       "    .dataframe thead th {\n",
       "        text-align: right;\n",
       "    }\n",
       "</style>\n",
       "<table border=\"1\" class=\"dataframe\">\n",
       "  <thead>\n",
       "    <tr style=\"text-align: right;\">\n",
       "      <th></th>\n",
       "      <th>tag</th>\n",
       "      <th>rec</th>\n",
       "      <th>val.no2.wev</th>\n",
       "      <th>val.no2.cnc</th>\n",
       "      <th>val.no2.aev</th>\n",
       "      <th>val.no2.wec</th>\n",
       "      <th>val.sht.hmd</th>\n",
       "      <th>val.sht.tmp</th>\n",
       "      <th>val.no2.cnc_1</th>\n",
       "      <th>hmd_s10</th>\n",
       "      <th>hmd_s20</th>\n",
       "      <th>hmd_s30</th>\n",
       "      <th>hmd_s40</th>\n",
       "      <th>tmp_s10</th>\n",
       "      <th>tmp_s20</th>\n",
       "      <th>tmp_s30</th>\n",
       "      <th>tmp_s40</th>\n",
       "    </tr>\n",
       "  </thead>\n",
       "  <tbody>\n",
       "    <tr>\n",
       "      <th>0</th>\n",
       "      <td>scs-bgx-536</td>\n",
       "      <td>2020-09-25 00:15:00+00:00</td>\n",
       "      <td>0.284314</td>\n",
       "      <td>-1886.685547</td>\n",
       "      <td>0.271670</td>\n",
       "      <td>-0.000338</td>\n",
       "      <td>73.198891</td>\n",
       "      <td>9.683333</td>\n",
       "      <td>-1886.685547</td>\n",
       "      <td>5.617976e-04</td>\n",
       "      <td>0.001250</td>\n",
       "      <td>0.002184</td>\n",
       "      <td>2.906986e-03</td>\n",
       "      <td>0.000000</td>\n",
       "      <td>-0.000114</td>\n",
       "      <td>-0.000115</td>\n",
       "      <td>-0.000116</td>\n",
       "    </tr>\n",
       "    <tr>\n",
       "      <th>1</th>\n",
       "      <td>scs-bgx-536</td>\n",
       "      <td>2020-09-25 00:30:00+00:00</td>\n",
       "      <td>0.283953</td>\n",
       "      <td>-1888.198853</td>\n",
       "      <td>0.271637</td>\n",
       "      <td>-0.000640</td>\n",
       "      <td>72.821114</td>\n",
       "      <td>9.601111</td>\n",
       "      <td>-1888.198853</td>\n",
       "      <td>-1.111094e-04</td>\n",
       "      <td>-0.000444</td>\n",
       "      <td>-0.001111</td>\n",
       "      <td>-1.555549e-03</td>\n",
       "      <td>-0.000111</td>\n",
       "      <td>-0.000111</td>\n",
       "      <td>-0.000333</td>\n",
       "      <td>-0.000556</td>\n",
       "    </tr>\n",
       "    <tr>\n",
       "      <th>2</th>\n",
       "      <td>scs-bgx-536</td>\n",
       "      <td>2020-09-25 00:45:00+00:00</td>\n",
       "      <td>0.284208</td>\n",
       "      <td>-1887.843384</td>\n",
       "      <td>0.271754</td>\n",
       "      <td>-0.000570</td>\n",
       "      <td>73.252220</td>\n",
       "      <td>9.592222</td>\n",
       "      <td>-1887.843384</td>\n",
       "      <td>-6.208817e-11</td>\n",
       "      <td>-0.000222</td>\n",
       "      <td>-0.000222</td>\n",
       "      <td>1.111010e-04</td>\n",
       "      <td>0.000111</td>\n",
       "      <td>0.000222</td>\n",
       "      <td>0.000444</td>\n",
       "      <td>0.000667</td>\n",
       "    </tr>\n",
       "    <tr>\n",
       "      <th>3</th>\n",
       "      <td>scs-bgx-536</td>\n",
       "      <td>2020-09-25 01:00:00+00:00</td>\n",
       "      <td>0.283667</td>\n",
       "      <td>-1887.250610</td>\n",
       "      <td>0.271336</td>\n",
       "      <td>-0.000451</td>\n",
       "      <td>72.476402</td>\n",
       "      <td>9.657304</td>\n",
       "      <td>-1887.250610</td>\n",
       "      <td>-7.865220e-04</td>\n",
       "      <td>-0.001461</td>\n",
       "      <td>-0.002472</td>\n",
       "      <td>-3.932584e-03</td>\n",
       "      <td>-0.000112</td>\n",
       "      <td>-0.000225</td>\n",
       "      <td>-0.000337</td>\n",
       "      <td>-0.000449</td>\n",
       "    </tr>\n",
       "    <tr>\n",
       "      <th>4</th>\n",
       "      <td>scs-bgx-536</td>\n",
       "      <td>2020-09-25 01:15:00+00:00</td>\n",
       "      <td>0.283602</td>\n",
       "      <td>-1893.280884</td>\n",
       "      <td>0.272056</td>\n",
       "      <td>-0.001656</td>\n",
       "      <td>72.530334</td>\n",
       "      <td>9.629213</td>\n",
       "      <td>-1893.280884</td>\n",
       "      <td>6.741556e-04</td>\n",
       "      <td>0.001348</td>\n",
       "      <td>0.002247</td>\n",
       "      <td>3.370787e-03</td>\n",
       "      <td>0.000112</td>\n",
       "      <td>0.000225</td>\n",
       "      <td>0.000337</td>\n",
       "      <td>0.000337</td>\n",
       "    </tr>\n",
       "    <tr>\n",
       "      <th>...</th>\n",
       "      <td>...</td>\n",
       "      <td>...</td>\n",
       "      <td>...</td>\n",
       "      <td>...</td>\n",
       "      <td>...</td>\n",
       "      <td>...</td>\n",
       "      <td>...</td>\n",
       "      <td>...</td>\n",
       "      <td>...</td>\n",
       "      <td>...</td>\n",
       "      <td>...</td>\n",
       "      <td>...</td>\n",
       "      <td>...</td>\n",
       "      <td>...</td>\n",
       "      <td>...</td>\n",
       "      <td>...</td>\n",
       "      <td>...</td>\n",
       "    </tr>\n",
       "    <tr>\n",
       "      <th>207982</th>\n",
       "      <td>scs-bgx-543</td>\n",
       "      <td>2021-02-28 23:00:00+00:00</td>\n",
       "      <td>0.300216</td>\n",
       "      <td>52.606743</td>\n",
       "      <td>0.286882</td>\n",
       "      <td>-0.002752</td>\n",
       "      <td>74.002251</td>\n",
       "      <td>7.867416</td>\n",
       "      <td>52.606743</td>\n",
       "      <td>0.000000e+00</td>\n",
       "      <td>0.000112</td>\n",
       "      <td>0.000000</td>\n",
       "      <td>-2.092860e-11</td>\n",
       "      <td>-0.000225</td>\n",
       "      <td>-0.000562</td>\n",
       "      <td>-0.000899</td>\n",
       "      <td>-0.001236</td>\n",
       "    </tr>\n",
       "    <tr>\n",
       "      <th>207983</th>\n",
       "      <td>scs-bgx-543</td>\n",
       "      <td>2021-02-28 23:15:00+00:00</td>\n",
       "      <td>0.299576</td>\n",
       "      <td>50.563332</td>\n",
       "      <td>0.286804</td>\n",
       "      <td>-0.003206</td>\n",
       "      <td>73.886665</td>\n",
       "      <td>7.693333</td>\n",
       "      <td>50.563332</td>\n",
       "      <td>-3.333282e-04</td>\n",
       "      <td>-0.000889</td>\n",
       "      <td>-0.001222</td>\n",
       "      <td>-1.777768e-03</td>\n",
       "      <td>-0.000222</td>\n",
       "      <td>-0.000333</td>\n",
       "      <td>-0.000444</td>\n",
       "      <td>-0.000556</td>\n",
       "    </tr>\n",
       "    <tr>\n",
       "      <th>207984</th>\n",
       "      <td>scs-bgx-543</td>\n",
       "      <td>2021-02-28 23:30:00+00:00</td>\n",
       "      <td>0.299264</td>\n",
       "      <td>49.524445</td>\n",
       "      <td>0.286788</td>\n",
       "      <td>-0.003436</td>\n",
       "      <td>73.771111</td>\n",
       "      <td>7.546667</td>\n",
       "      <td>49.524445</td>\n",
       "      <td>-1.111179e-04</td>\n",
       "      <td>-0.000111</td>\n",
       "      <td>-0.000111</td>\n",
       "      <td>-1.111179e-04</td>\n",
       "      <td>-0.000111</td>\n",
       "      <td>-0.000222</td>\n",
       "      <td>-0.000333</td>\n",
       "      <td>-0.000444</td>\n",
       "    </tr>\n",
       "    <tr>\n",
       "      <th>207985</th>\n",
       "      <td>scs-bgx-543</td>\n",
       "      <td>2021-02-28 23:45:00+00:00</td>\n",
       "      <td>0.299331</td>\n",
       "      <td>49.886517</td>\n",
       "      <td>0.286818</td>\n",
       "      <td>-0.003355</td>\n",
       "      <td>73.812363</td>\n",
       "      <td>7.401124</td>\n",
       "      <td>49.886517</td>\n",
       "      <td>0.000000e+00</td>\n",
       "      <td>0.000000</td>\n",
       "      <td>0.000000</td>\n",
       "      <td>1.123664e-04</td>\n",
       "      <td>-0.000112</td>\n",
       "      <td>-0.000225</td>\n",
       "      <td>-0.000337</td>\n",
       "      <td>-0.000562</td>\n",
       "    </tr>\n",
       "    <tr>\n",
       "      <th>207986</th>\n",
       "      <td>scs-bgx-543</td>\n",
       "      <td>2021-03-01 00:00:00+00:00</td>\n",
       "      <td>0.299041</td>\n",
       "      <td>49.033333</td>\n",
       "      <td>0.286775</td>\n",
       "      <td>-0.003545</td>\n",
       "      <td>73.856667</td>\n",
       "      <td>7.297778</td>\n",
       "      <td>49.033333</td>\n",
       "      <td>2.222273e-04</td>\n",
       "      <td>0.000444</td>\n",
       "      <td>0.000556</td>\n",
       "      <td>6.666735e-04</td>\n",
       "      <td>-0.000222</td>\n",
       "      <td>-0.000333</td>\n",
       "      <td>-0.000556</td>\n",
       "      <td>-0.000556</td>\n",
       "    </tr>\n",
       "  </tbody>\n",
       "</table>\n",
       "<p>207987 rows × 17 columns</p>\n",
       "</div>"
      ],
      "text/plain": [
       "                tag                       rec  val.no2.wev  val.no2.cnc  \\\n",
       "0       scs-bgx-536 2020-09-25 00:15:00+00:00     0.284314 -1886.685547   \n",
       "1       scs-bgx-536 2020-09-25 00:30:00+00:00     0.283953 -1888.198853   \n",
       "2       scs-bgx-536 2020-09-25 00:45:00+00:00     0.284208 -1887.843384   \n",
       "3       scs-bgx-536 2020-09-25 01:00:00+00:00     0.283667 -1887.250610   \n",
       "4       scs-bgx-536 2020-09-25 01:15:00+00:00     0.283602 -1893.280884   \n",
       "...             ...                       ...          ...          ...   \n",
       "207982  scs-bgx-543 2021-02-28 23:00:00+00:00     0.300216    52.606743   \n",
       "207983  scs-bgx-543 2021-02-28 23:15:00+00:00     0.299576    50.563332   \n",
       "207984  scs-bgx-543 2021-02-28 23:30:00+00:00     0.299264    49.524445   \n",
       "207985  scs-bgx-543 2021-02-28 23:45:00+00:00     0.299331    49.886517   \n",
       "207986  scs-bgx-543 2021-03-01 00:00:00+00:00     0.299041    49.033333   \n",
       "\n",
       "        val.no2.aev  val.no2.wec  val.sht.hmd  val.sht.tmp  val.no2.cnc_1  \\\n",
       "0          0.271670    -0.000338    73.198891     9.683333   -1886.685547   \n",
       "1          0.271637    -0.000640    72.821114     9.601111   -1888.198853   \n",
       "2          0.271754    -0.000570    73.252220     9.592222   -1887.843384   \n",
       "3          0.271336    -0.000451    72.476402     9.657304   -1887.250610   \n",
       "4          0.272056    -0.001656    72.530334     9.629213   -1893.280884   \n",
       "...             ...          ...          ...          ...            ...   \n",
       "207982     0.286882    -0.002752    74.002251     7.867416      52.606743   \n",
       "207983     0.286804    -0.003206    73.886665     7.693333      50.563332   \n",
       "207984     0.286788    -0.003436    73.771111     7.546667      49.524445   \n",
       "207985     0.286818    -0.003355    73.812363     7.401124      49.886517   \n",
       "207986     0.286775    -0.003545    73.856667     7.297778      49.033333   \n",
       "\n",
       "             hmd_s10   hmd_s20   hmd_s30       hmd_s40   tmp_s10   tmp_s20  \\\n",
       "0       5.617976e-04  0.001250  0.002184  2.906986e-03  0.000000 -0.000114   \n",
       "1      -1.111094e-04 -0.000444 -0.001111 -1.555549e-03 -0.000111 -0.000111   \n",
       "2      -6.208817e-11 -0.000222 -0.000222  1.111010e-04  0.000111  0.000222   \n",
       "3      -7.865220e-04 -0.001461 -0.002472 -3.932584e-03 -0.000112 -0.000225   \n",
       "4       6.741556e-04  0.001348  0.002247  3.370787e-03  0.000112  0.000225   \n",
       "...              ...       ...       ...           ...       ...       ...   \n",
       "207982  0.000000e+00  0.000112  0.000000 -2.092860e-11 -0.000225 -0.000562   \n",
       "207983 -3.333282e-04 -0.000889 -0.001222 -1.777768e-03 -0.000222 -0.000333   \n",
       "207984 -1.111179e-04 -0.000111 -0.000111 -1.111179e-04 -0.000111 -0.000222   \n",
       "207985  0.000000e+00  0.000000  0.000000  1.123664e-04 -0.000112 -0.000225   \n",
       "207986  2.222273e-04  0.000444  0.000556  6.666735e-04 -0.000222 -0.000333   \n",
       "\n",
       "         tmp_s30   tmp_s40  \n",
       "0      -0.000115 -0.000116  \n",
       "1      -0.000333 -0.000556  \n",
       "2       0.000444  0.000667  \n",
       "3      -0.000337 -0.000449  \n",
       "4       0.000337  0.000337  \n",
       "...          ...       ...  \n",
       "207982 -0.000899 -0.001236  \n",
       "207983 -0.000444 -0.000556  \n",
       "207984 -0.000333 -0.000444  \n",
       "207985 -0.000337 -0.000562  \n",
       "207986 -0.000556 -0.000556  \n",
       "\n",
       "[207987 rows x 17 columns]"
      ]
     },
     "execution_count": 47,
     "metadata": {},
     "output_type": "execute_result"
    }
   ],
   "source": [
    "test_avg = oxaria1_gases_stable_15min.merge(junk_avg, on=['tag','rec'])\n",
    "test_avg"
   ]
  },
  {
   "cell_type": "code",
   "execution_count": 36,
   "metadata": {
    "ExecuteTime": {
     "end_time": "2021-09-19T12:01:17.695548Z",
     "start_time": "2021-09-19T12:01:16.425408Z"
    }
   },
   "outputs": [
    {
     "data": {
      "text/plain": [
       "<matplotlib.legend.Legend at 0x7f96d37e66a0>"
      ]
     },
     "execution_count": 36,
     "metadata": {},
     "output_type": "execute_result"
    },
    {
     "data": {
      "image/png": "[encoded data removed]",
      "text/plain": [
       "<Figure size 360x360 with 1 Axes>"
      ]
     },
     "metadata": {
      "needs_background": "light"
     },
     "output_type": "display_data"
    }
   ],
   "source": [
    "import matplotlib.pyplot as plt\n",
    "import matplotlib.dates as mdates\n",
    "from pandas.plotting import register_matplotlib_converters\n",
    "import matplotlib.ticker as ticker\n",
    "from matplotlib.dates import DateFormatter\n",
    "import matplotlib as mpl\n",
    "import seaborn as sns\n",
    "from scipy import stats\n",
    "import sklearn.metrics\n",
    "import numpy as np\n",
    "\n",
    "x = (test.set_index(['tag','rec']).query('tag == \"scs-bgx-538\"')['hmd_s10'])\n",
    "y = (test.set_index(['tag','rec']).query('tag == \"scs-bgx-538\"')['val.no2.wev'])\n",
    "\n",
    "mae_dat = sklearn.metrics.mean_absolute_error(y.values, x.values)\n",
    "slope, intercept, r_value, p_value, std_err = stats.linregress(x.values, y.values)\n",
    "\n",
    "fig, ax = plt.subplots(1,1, figsize=(5,5))\n",
    "\n",
    "sns.regplot(x=x,y=y,\n",
    "            scatter_kws={'s': 3},\n",
    "                    line_kws={\n",
    "                        'label': 'y={0: .5f}x+{1: .5f}, \\nR-sqd={2: .4f}, \\nMAE={3:.4f}'.format(slope, intercept, r_value**2, mae_dat),\n",
    "                        'color': 'k',\n",
    "                        'lw': 1\n",
    "                    },\n",
    "            truncate=False,\n",
    "            ax=ax\n",
    "           )\n",
    "#ax.set_xlim(-1,1)\n",
    "#ax.set_ylim(-0.002,0.002)\n",
    "ax.grid()\n",
    "ax.legend(framealpha=0.99, loc='upper left')\n"
   ]
  },
  {
   "cell_type": "code",
   "execution_count": 49,
   "metadata": {
    "ExecuteTime": {
     "end_time": "2021-09-20T10:53:20.939746Z",
     "start_time": "2021-09-20T10:53:17.616526Z"
    }
   },
   "outputs": [
    {
     "data": {
      "text/plain": [
       "<matplotlib.legend.Legend at 0x7f9532b36af0>"
      ]
     },
     "execution_count": 49,
     "metadata": {},
     "output_type": "execute_result"
    },
    {
     "data": {
      "image/png": "[encoded data removed]",
      "text/plain": [
       "<Figure size 360x360 with 1 Axes>"
      ]
     },
     "metadata": {
      "needs_background": "light"
     },
     "output_type": "display_data"
    }
   ],
   "source": [
    "import matplotlib.pyplot as plt\n",
    "import matplotlib.dates as mdates\n",
    "from pandas.plotting import register_matplotlib_converters\n",
    "import matplotlib.ticker as ticker\n",
    "from matplotlib.dates import DateFormatter\n",
    "import matplotlib as mpl\n",
    "import seaborn as sns\n",
    "from scipy import stats\n",
    "import sklearn.metrics\n",
    "import numpy as np\n",
    "\n",
    "x = (test_avg.set_index(['tag','rec']).query('tag == \"scs-bgx-538\"')['hmd_s30'])\n",
    "y = (test_avg.set_index(['tag','rec']).query('tag == \"scs-bgx-538\"')['val.no2.wev'])\n",
    "\n",
    "mae_dat = sklearn.metrics.mean_absolute_error(y.values, x.values)\n",
    "slope, intercept, r_value, p_value, std_err = stats.linregress(x.values, y.values)\n",
    "\n",
    "fig, ax = plt.subplots(1,1, figsize=(5,5))\n",
    "\n",
    "sns.regplot(x=x,y=y,\n",
    "            scatter_kws={'s': 3},\n",
    "                    line_kws={\n",
    "                        'label': 'y={0: .5f}x+{1: .5f}, \\nR-sqd={2: .4f}, \\nMAE={3:.4f}'.format(slope, intercept, r_value**2, mae_dat),\n",
    "                        'color': 'k',\n",
    "                        'lw': 1\n",
    "                    },\n",
    "            truncate=False,\n",
    "            ax=ax\n",
    "           )\n",
    "#ax.set_xlim(-1,1)\n",
    "#ax.set_ylim(-0.002,0.002)\n",
    "ax.grid()\n",
    "ax.legend(framealpha=0.99, loc='lower left')\n"
   ]
  },
  {
   "cell_type": "code",
   "execution_count": 50,
   "metadata": {
    "ExecuteTime": {
     "end_time": "2021-09-20T10:54:36.481713Z",
     "start_time": "2021-09-20T10:54:33.332425Z"
    }
   },
   "outputs": [
    {
     "data": {
      "text/plain": [
       "<matplotlib.legend.Legend at 0x7f9532922a60>"
      ]
     },
     "execution_count": 50,
     "metadata": {},
     "output_type": "execute_result"
    },
    {
     "data": {
      "image/png": "[encoded data removed]",
      "text/plain": [
       "<Figure size 360x360 with 1 Axes>"
      ]
     },
     "metadata": {
      "needs_background": "light"
     },
     "output_type": "display_data"
    }
   ],
   "source": [
    "import matplotlib.pyplot as plt\n",
    "import matplotlib.dates as mdates\n",
    "from pandas.plotting import register_matplotlib_converters\n",
    "import matplotlib.ticker as ticker\n",
    "from matplotlib.dates import DateFormatter\n",
    "import matplotlib as mpl\n",
    "import seaborn as sns\n",
    "from scipy import stats\n",
    "import sklearn.metrics\n",
    "import numpy as np\n",
    "\n",
    "x = (test_avg.set_index(['tag','rec']).query('tag == \"scs-bgx-538\"')['hmd_s40'])\n",
    "y = (test_avg.set_index(['tag','rec']).query('tag == \"scs-bgx-538\"')['val.no2.wev'])\n",
    "\n",
    "mae_dat = sklearn.metrics.mean_absolute_error(y.values, x.values)\n",
    "slope, intercept, r_value, p_value, std_err = stats.linregress(x.values, y.values)\n",
    "\n",
    "fig, ax = plt.subplots(1,1, figsize=(5,5))\n",
    "\n",
    "sns.regplot(x=x,y=y,\n",
    "            scatter_kws={'s': 3},\n",
    "                    line_kws={\n",
    "                        'label': 'y={0: .5f}x+{1: .5f}, \\nR-sqd={2: .4f}, \\nMAE={3:.4f}'.format(slope, intercept, r_value**2, mae_dat),\n",
    "                        'color': 'k',\n",
    "                        'lw': 1\n",
    "                    },\n",
    "            truncate=False,\n",
    "            ax=ax\n",
    "           )\n",
    "#ax.set_xlim(-1,1)\n",
    "#ax.set_ylim(-0.002,0.002)\n",
    "ax.grid()\n",
    "ax.legend(framealpha=0.99, loc='lower left')\n"
   ]
  },
  {
   "cell_type": "code",
   "execution_count": 35,
   "metadata": {
    "ExecuteTime": {
     "end_time": "2021-06-29T12:07:18.134419Z",
     "start_time": "2021-06-29T12:07:18.037853Z"
    }
   },
   "outputs": [
    {
     "name": "stdout",
     "output_type": "stream",
     "text": [
      "Gases done.\n"
     ]
    }
   ],
   "source": [
    "# Add names back on - oxaria1 gases\n",
    "# -----------------------------\n",
    "\n",
    "# Let list of tags\n",
    "# ------------------\n",
    "devices = oxaria1_gases_stable_15min.reset_index()['tag'].unique()\n",
    "\n",
    "# Zip together with the tags as a dictionary * convert to df\n",
    "# ------------------------------------------------------------\n",
    "device_names = dict(zip(devices, ox1_location_names))\n",
    "df_device_names = pd.DataFrame.from_dict(device_names,\n",
    "                                         orient='index',\n",
    "                                         columns=['name'])\n",
    "df_device_names.index.name = 'tag'\n",
    "\n",
    "# Merge with gases_4gas\n",
    "# -----------------------\n",
    "oxaria1_gases_stable_15min = oxaria1_gases_stable_15min.set_index(['tag','rec']).merge(df_device_names,\n",
    "                                                              how='left',\n",
    "                                                              left_index=True,\n",
    "                                                              right_index=True)\n",
    "print('Gases done.')"
   ]
  },
  {
   "cell_type": "code",
   "execution_count": 36,
   "metadata": {
    "ExecuteTime": {
     "end_time": "2021-06-29T12:07:18.235048Z",
     "start_time": "2021-06-29T12:07:18.137993Z"
    }
   },
   "outputs": [
    {
     "name": "stdout",
     "output_type": "stream",
     "text": [
      "PM done.\n"
     ]
    }
   ],
   "source": [
    "# Add names back on - oxaria1 pm\n",
    "#-----------------------------\n",
    "\n",
    "# Let list of tags \n",
    "#------------------\n",
    "devices = oxaria1_pm_stable_15min.reset_index()['tag'].unique()\n",
    "\n",
    "# Zip together with the tags as a dictionary * convert to df\n",
    "#------------------------------------------------------------\n",
    "device_names = dict(zip(devices, ox1_location_names))\n",
    "df_device_names = pd.DataFrame.from_dict(device_names, \\\n",
    "                                         orient='index', \\\n",
    "                                         columns=['name'])\n",
    "df_device_names.index.name = 'tag'\n",
    "\n",
    "# Merge with gases_4gas\n",
    "# -----------------------\n",
    "oxaria1_pm_stable_15min = oxaria1_pm_stable_15min.set_index(['tag','rec']).merge(df_device_names,\n",
    "                                                        how='left',\n",
    "                                                        left_index=True,\n",
    "                                                        right_index=True)\n",
    "print('PM done.')"
   ]
  },
  {
   "cell_type": "code",
   "execution_count": 37,
   "metadata": {
    "ExecuteTime": {
     "end_time": "2021-06-29T12:07:18.331057Z",
     "start_time": "2021-06-29T12:07:18.238939Z"
    }
   },
   "outputs": [
    {
     "name": "stdout",
     "output_type": "stream",
     "text": [
      "Climate done.\n"
     ]
    }
   ],
   "source": [
    "# Add names back on - oxaria1 climate\n",
    "# -----------------------------\n",
    "\n",
    "# Let list of tags\n",
    "# ------------------\n",
    "devices = oxaria1_climate_stable_15min.reset_index()['tag'].unique()\n",
    "\n",
    "# Zip together with the tags as a dictionary * convert to df\n",
    "# ------------------------------------------------------------\n",
    "device_names = dict(zip(devices, ox1_location_names))\n",
    "df_device_names = pd.DataFrame.from_dict(device_names,\n",
    "                                         orient='index',\n",
    "                                         columns=['name'])\n",
    "df_device_names.index.name = 'tag'\n",
    "\n",
    "# Merge with gases_4gas\n",
    "# -----------------------\n",
    "oxaria1_climate_stable_15min = oxaria1_climate_stable_15min.set_index(['tag','rec']).merge(df_device_names,\n",
    "                                                                  how='left',\n",
    "                                                                  left_index=True,\n",
    "                                                                  right_index=True)\n",
    "print('Climate done.')"
   ]
  },
  {
   "cell_type": "code",
   "execution_count": 38,
   "metadata": {
    "ExecuteTime": {
     "end_time": "2021-06-29T12:07:18.427208Z",
     "start_time": "2021-06-29T12:07:18.334961Z"
    }
   },
   "outputs": [
    {
     "name": "stdout",
     "output_type": "stream",
     "text": [
      "Status done.\n"
     ]
    }
   ],
   "source": [
    "# Add names back on - oxaria1 status\n",
    "# -----------------------------\n",
    "\n",
    "# Let list of tags\n",
    "# ------------------\n",
    "devices = oxaria1_status_stable_15min.reset_index()['tag'].unique()\n",
    "\n",
    "# Zip together with the tags as a dictionary * convert to df\n",
    "# ------------------------------------------------------------\n",
    "device_names = dict(zip(devices, ox1_location_names))\n",
    "df_device_names = pd.DataFrame.from_dict(device_names,\n",
    "                                         orient='index',\n",
    "                                         columns=['name'])\n",
    "df_device_names.index.name = 'tag'\n",
    "\n",
    "# Merge with gases_4gas\n",
    "# -----------------------\n",
    "oxaria1_status_stable_15min = oxaria1_status_stable_15min.set_index(['tag','rec']).merge(df_device_names,\n",
    "                                                                  how='left',\n",
    "                                                                  left_index=True,\n",
    "                                                                  right_index=True)\n",
    "print('Status done.')"
   ]
  },
  {
   "cell_type": "code",
   "execution_count": 45,
   "metadata": {
    "ExecuteTime": {
     "end_time": "2021-06-29T12:31:42.598258Z",
     "start_time": "2021-06-29T12:31:21.795808Z"
    },
    "scrolled": false
   },
   "outputs": [
    {
     "name": "stdout",
     "output_type": "stream",
     "text": [
      "Loading Oxaria2 gases, pm, climate, status & resampling...\n",
      "\n",
      "Joining Oxaria2 names back on, resample drops non-numeric columns...\n"
     ]
    }
   ],
   "source": [
    "# Calc 15-min averages - oxaria2\n",
    "#-----------------------------------------------------------------------\n",
    "\n",
    "print('Loading Oxaria2 gases, pm, climate, status & resampling...')\n",
    "\n",
    "# File locations\n",
    "the_folder = '/home/tonyb/Gdrive/MinicondaProjects/oxaria/data/raw/2oxaria/json/gap_filling/'\n",
    "\n",
    "# Apply the function\n",
    "oxaria2_gases_stable_15min = resample_15min(in_ftr=the_folder+'oxaria2_gases_stable_536_2feb21.ftr', \\\n",
    "                                            out_ftr=the_folder+'oxaria2_gases_stable_536_2feb21_15min.ftr')\n",
    "\n",
    "oxaria2_pm_stable_15min = resample_15min(in_ftr=the_folder+'oxaria2_pm_stable_356_2feb21.ftr', \\\n",
    "                                         out_ftr=the_folder+'oxaria2_pm_stable_536_2feb21_15min.ftr')\n",
    "\n",
    "oxaria2_climate_stable_15min = resample_15min(in_ftr=the_folder+'oxaria2_climate_stable_356_2feb21.ftr', \\\n",
    "                                            out_ftr=the_folder+'oxaria2_climate_stable_536_2feb21_15min.ftr')\n",
    "\n",
    "oxaria2_status_stable_15min = resample_15min(in_ftr=the_folder+'oxaria2_status_stable_356_2feb21.ftr', \\\n",
    "                                         out_ftr=the_folder+'oxaria2_status_stable_356_2feb21.ftr')\n",
    "\n",
    "print('\\nJoining Oxaria2 names back on, resample drops non-numeric columns...')\n"
   ]
  },
  {
   "cell_type": "code",
   "execution_count": 46,
   "metadata": {
    "ExecuteTime": {
     "end_time": "2021-06-29T12:31:42.631049Z",
     "start_time": "2021-06-29T12:31:42.599905Z"
    }
   },
   "outputs": [
    {
     "name": "stdout",
     "output_type": "stream",
     "text": [
      "Gases done.\n"
     ]
    }
   ],
   "source": [
    "# Add names back on - oxaria2 pm\n",
    "#-----------------------------------\n",
    "\n",
    "# Let list of tags \n",
    "#------------------\n",
    "devices = oxaria2_pm_stable_15min['tag'].unique()\n",
    "\n",
    "# Zip together with the tags as a dictionary * convert to df\n",
    "#------------------------------------------------------------\n",
    "device_names = dict(zip(devices, ox2_location_names))\n",
    "df_device_names = pd.DataFrame.from_dict(device_names, orient='index', columns=['name'])\n",
    "df_device_names.index.name = 'tag'\n",
    "\n",
    "# Merge with gases_4gas\n",
    "#-----------------------\n",
    "oxaria2_pm_stable_15min = oxaria2_pm_stable_15min.set_index(['tag','rec']).merge(df_device_names, how='left', left_index=True, right_index=True)\n",
    "\n",
    "print('Gases done.')"
   ]
  },
  {
   "cell_type": "code",
   "execution_count": 47,
   "metadata": {
    "ExecuteTime": {
     "end_time": "2021-06-29T12:31:42.656615Z",
     "start_time": "2021-06-29T12:31:42.632873Z"
    }
   },
   "outputs": [
    {
     "name": "stdout",
     "output_type": "stream",
     "text": [
      "PM done.\n"
     ]
    }
   ],
   "source": [
    "# Add names back on - oxaria2 gases\n",
    "#-----------------------------------\n",
    "\n",
    "# Let list of tags \n",
    "#------------------\n",
    "devices = oxaria2_gases_stable_15min['tag'].unique()\n",
    "\n",
    "# Zip together with the tags as a dictionary * convert to df\n",
    "#------------------------------------------------------------\n",
    "device_names = dict(zip(devices, ox2_location_names))\n",
    "df_device_names = pd.DataFrame.from_dict(device_names, orient='index', columns=['name'])\n",
    "df_device_names.index.name = 'tag'\n",
    "\n",
    "# Merge with gases_4gas\n",
    "#-----------------------\n",
    "oxaria2_gases_stable_15min = oxaria2_gases_stable_15min.set_index(['tag','rec']).merge(df_device_names, how='left', left_index=True, right_index=True)\n",
    "\n",
    "print('PM done.')"
   ]
  },
  {
   "cell_type": "code",
   "execution_count": 48,
   "metadata": {
    "ExecuteTime": {
     "end_time": "2021-06-29T12:31:42.680333Z",
     "start_time": "2021-06-29T12:31:42.657922Z"
    }
   },
   "outputs": [
    {
     "name": "stdout",
     "output_type": "stream",
     "text": [
      "Climate done.\n"
     ]
    }
   ],
   "source": [
    "# Add names back on - oxaria2 climate\n",
    "#-----------------------------------\n",
    "\n",
    "# Let list of tags \n",
    "#------------------\n",
    "devices = oxaria2_climate_stable_15min['tag'].unique()\n",
    "\n",
    "# Zip together with the tags as a dictionary * convert to df\n",
    "#------------------------------------------------------------\n",
    "device_names = dict(zip(devices, ox2_location_names))\n",
    "df_device_names = pd.DataFrame.from_dict(device_names, orient='index', columns=['name'])\n",
    "df_device_names.index.name = 'tag'\n",
    "\n",
    "# Merge with climate_4gas\n",
    "#-----------------------\n",
    "oxaria2_climate_stable_15min = oxaria2_climate_stable_15min.set_index(['tag','rec']).merge(df_device_names, how='left', left_index=True, right_index=True)\n",
    "\n",
    "print('Climate done.')"
   ]
  },
  {
   "cell_type": "code",
   "execution_count": 49,
   "metadata": {
    "ExecuteTime": {
     "end_time": "2021-06-29T12:31:42.706575Z",
     "start_time": "2021-06-29T12:31:42.681867Z"
    }
   },
   "outputs": [
    {
     "name": "stdout",
     "output_type": "stream",
     "text": [
      "Status done.\n"
     ]
    }
   ],
   "source": [
    "# Add names back on - oxaria2 status\n",
    "#-----------------------------------\n",
    "\n",
    "# Let list of tags \n",
    "#------------------\n",
    "devices = oxaria2_status_stable_15min['tag'].unique()\n",
    "\n",
    "# Zip together with the tags as a dictionary * convert to df\n",
    "#------------------------------------------------------------\n",
    "device_names = dict(zip(devices, ox2_location_names))\n",
    "df_device_names = pd.DataFrame.from_dict(device_names, orient='index', columns=['name'])\n",
    "df_device_names.index.name = 'tag'\n",
    "\n",
    "# Merge with status_4gas\n",
    "#-----------------------\n",
    "oxaria2_status_stable_15min = oxaria2_status_stable_15min.set_index(['tag','rec']).merge(df_device_names, how='left', left_index=True, right_index=True)\n",
    "\n",
    "print('Status done.')"
   ]
  },
  {
   "cell_type": "code",
   "execution_count": 50,
   "metadata": {
    "ExecuteTime": {
     "end_time": "2021-06-29T12:31:42.958722Z",
     "start_time": "2021-06-29T12:31:42.708304Z"
    }
   },
   "outputs": [
    {
     "name": "stdout",
     "output_type": "stream",
     "text": [
      "Combining Oxaria 1 & 2 gases...\n",
      " \n",
      " Saving to /home/tonyb/Gdrive/MinicondaProjects/oxaria/data/raw/0oxaria/gap_filling/oxaria_gases_536_stable.ftr\n",
      "<class 'pandas.core.frame.DataFrame'>\n",
      "MultiIndex: 339525 entries, ('scs-bgx-536', Timestamp('2020-09-25 00:15:00+0000', tz='UTC')) to ('scs-bgx-559', Timestamp('2021-03-01 00:00:00+0000', tz='UTC'))\n",
      "Data columns (total 8 columns):\n",
      " #   Column         Non-Null Count   Dtype  \n",
      "---  ------         --------------   -----  \n",
      " 0   val.no2.wev    339525 non-null  float32\n",
      " 1   val.no2.cnc    339525 non-null  float32\n",
      " 2   val.no2.aev    339525 non-null  float32\n",
      " 3   val.no2.wec    339525 non-null  float32\n",
      " 4   val.sht.hmd    339525 non-null  float32\n",
      " 5   val.sht.tmp    339525 non-null  float32\n",
      " 6   val.no2.cnc_1  335248 non-null  float32\n",
      " 7   name           339525 non-null  object \n",
      "dtypes: float32(7), object(1)\n",
      "memory usage: 14.8+ MB\n"
     ]
    }
   ],
   "source": [
    "# Concat oxaria 1, 2 & do some housekeeping & checks - gases\n",
    "#------------------------------------------------------------\n",
    "print('Combining Oxaria 1 & 2 gases...\\n \\n Saving to /home/tonyb/Gdrive/MinicondaProjects/oxaria/data/raw/0oxaria/gap_filling/oxaria_gases_536_stable.ftr')\n",
    "\n",
    "oxaria_gases_stbl15 = pd.concat([oxaria1_gases_stable_15min, \\\n",
    "                                 oxaria2_gases_stable_15min])\n",
    "oxaria_gases_stbl15.head()\n",
    "\n",
    "oxaria_gases_stbl15 = oxaria_gases_stbl15[~oxaria_gases_stbl15.index.duplicated(keep='last')].sort_index()\n",
    "\n",
    "oxaria_gases_stbl15.reset_index().to_feather('/home/tonyb/Gdrive/MinicondaProjects/oxaria/data/raw/0oxaria/gap_filling/oxaria_gases_536_stable15.ftr')\n",
    "oxaria_gases_stbl15.info()"
   ]
  },
  {
   "cell_type": "code",
   "execution_count": 51,
   "metadata": {
    "ExecuteTime": {
     "end_time": "2021-06-29T12:31:43.262835Z",
     "start_time": "2021-06-29T12:31:42.960034Z"
    }
   },
   "outputs": [
    {
     "name": "stdout",
     "output_type": "stream",
     "text": [
      "Combining Oxaria 1 & 2 pm...\n",
      " \n",
      " Saving to /home/tonyb/Gdrive/MinicondaProjects/oxaria/data/raw/0oxaria/gap_filling/oxaria_pm_536_stable.ftr\n",
      "<class 'pandas.core.frame.DataFrame'>\n",
      "MultiIndex: 341622 entries, ('scs-bgx-536', Timestamp('2020-09-25 00:15:00+0000', tz='UTC')) to ('scs-bgx-559', Timestamp('2021-03-01 00:00:00+0000', tz='UTC'))\n",
      "Data columns (total 15 columns):\n",
      " #   Column       Non-Null Count   Dtype  \n",
      "---  ------       --------------   -----  \n",
      " 0   val.mtf1     341622 non-null  float32\n",
      " 1   val.pm1      341622 non-null  float32\n",
      " 2   val.mtf5     341622 non-null  float32\n",
      " 3   val.pm2p5    341622 non-null  float32\n",
      " 4   val.mtf3     341622 non-null  float32\n",
      " 5   val.pm10     341622 non-null  float32\n",
      " 6   val.mtf7     341622 non-null  float32\n",
      " 7   val.per      341622 non-null  float32\n",
      " 8   val.sfr      341622 non-null  float32\n",
      " 9   val.sht.hmd  341622 non-null  float32\n",
      " 10  val.sht.tmp  341622 non-null  float32\n",
      " 11  val.pm10_1   263122 non-null  float32\n",
      " 12  val.pm2p5_1  263122 non-null  float32\n",
      " 13  val.pm1_1    263122 non-null  float32\n",
      " 14  name         341622 non-null  object \n",
      "dtypes: float32(14), object(1)\n",
      "memory usage: 24.0+ MB\n"
     ]
    }
   ],
   "source": [
    "# Concat oxaria 1, 2 & do some housekeeping & checks - pm\n",
    "#---------------------------------------------------------\n",
    "print('Combining Oxaria 1 & 2 pm...\\n \\n Saving to /home/tonyb/Gdrive/MinicondaProjects/oxaria/data/raw/0oxaria/gap_filling/oxaria_pm_536_stable.ftr')\n",
    "\n",
    "oxaria_pm_stbl15 = pd.concat([oxaria1_pm_stable_15min, \\\n",
    "                              oxaria2_pm_stable_15min])\n",
    "oxaria_pm_stbl15 = oxaria_pm_stbl15[~oxaria_pm_stbl15.index.duplicated(keep='last')].sort_index()\n",
    "oxaria_pm_stbl15.reset_index().to_feather('/home/tonyb/Gdrive/MinicondaProjects/oxaria/data/raw/0oxaria/gap_filling/oxaria_pm_536_stable15.ftr')\n",
    "oxaria_pm_stbl15.info()\n"
   ]
  },
  {
   "cell_type": "code",
   "execution_count": 52,
   "metadata": {
    "ExecuteTime": {
     "end_time": "2021-06-29T12:31:43.546904Z",
     "start_time": "2021-06-29T12:31:43.264990Z"
    }
   },
   "outputs": [
    {
     "name": "stdout",
     "output_type": "stream",
     "text": [
      "Combining Oxaria 1 & 2 climate...\n",
      " \n",
      " Saving to /home/tonyb/Gdrive/MinicondaProjects/oxaria/data/raw/0oxaria/gap_filling/oxaria_climate_536_stable.ftr\n",
      "<class 'pandas.core.frame.DataFrame'>\n",
      "MultiIndex: 341623 entries, ('scs-bgx-536', Timestamp('2020-09-25 00:15:00+0000', tz='UTC')) to ('scs-bgx-559', Timestamp('2021-03-01 00:00:00+0000', tz='UTC'))\n",
      "Data columns (total 3 columns):\n",
      " #   Column   Non-Null Count   Dtype  \n",
      "---  ------   --------------   -----  \n",
      " 0   val.hmd  341623 non-null  float32\n",
      " 1   val.tmp  341623 non-null  float32\n",
      " 2   name     341623 non-null  object \n",
      "dtypes: float32(2), object(1)\n",
      "memory usage: 8.4+ MB\n"
     ]
    }
   ],
   "source": [
    "# Concat oxaria 1, 2 & do some housekeeping & checks - climate\n",
    "#--------------------------------------------------------------\n",
    "print('Combining Oxaria 1 & 2 climate...\\n \\n Saving to /home/tonyb/Gdrive/MinicondaProjects/oxaria/data/raw/0oxaria/gap_filling/oxaria_climate_536_stable.ftr')\n",
    "\n",
    "oxaria_climate_stbl15 = pd.concat([oxaria1_climate_stable_15min, \\\n",
    "                              oxaria2_climate_stable_15min]).drop(labels='index', axis=1)\n",
    "oxaria_climate_stbl15 = oxaria_climate_stbl15[~oxaria_climate_stbl15.index.duplicated(keep='last')].sort_index()\n",
    "oxaria_climate_stbl15.reset_index().to_feather('/home/tonyb/Gdrive/MinicondaProjects/oxaria/data/raw/0oxaria/gap_filling/oxaria_climate_536_stable15.ftr')\n",
    "oxaria_climate_stbl15.info()\n"
   ]
  },
  {
   "cell_type": "code",
   "execution_count": 53,
   "metadata": {
    "ExecuteTime": {
     "end_time": "2021-06-29T12:31:43.857029Z",
     "start_time": "2021-06-29T12:31:43.548700Z"
    }
   },
   "outputs": [
    {
     "name": "stdout",
     "output_type": "stream",
     "text": [
      "Combining Oxaria 1 & 2 status...\n",
      " \n",
      " Saving to /home/tonyb/Gdrive/MinicondaProjects/oxaria/data/raw/0oxaria/gap_filling/oxaria_status_536_stable.ftr\n",
      "<class 'pandas.core.frame.DataFrame'>\n",
      "MultiIndex: 341622 entries, ('scs-bgx-536', Timestamp('2020-09-25 00:15:00+0000', tz='UTC')) to ('scs-bgx-559', Timestamp('2021-03-01 00:15:00+0000', tz='UTC'))\n",
      "Data columns (total 11 columns):\n",
      " #   Column             Non-Null Count   Dtype  \n",
      "---  ------             --------------   -----  \n",
      " 0   val.up.load.av15   341622 non-null  float32\n",
      " 1   val.up.load.av1    341622 non-null  float32\n",
      " 2   val.up.load.av5    341622 non-null  float32\n",
      " 3   val.up.users       341622 non-null  float32\n",
      " 4   val.psu.prot-batt  341064 non-null  float32\n",
      " 5   val.psu.rst        341064 non-null  float32\n",
      " 6   val.psu.chg        341064 non-null  float32\n",
      " 7   val.psu.pwr-in     341064 non-null  float32\n",
      " 8   val.psu.host-3v3   341064 non-null  float32\n",
      " 9   val.tmp.brd        341622 non-null  float32\n",
      " 10  name               341622 non-null  object \n",
      "dtypes: float32(10), object(1)\n",
      "memory usage: 18.8+ MB\n",
      "All done! 😀\n"
     ]
    }
   ],
   "source": [
    "# Concat oxaria 1, 2 & do some housekeeping & checks - status\n",
    "#-------------------------------------------------------------\n",
    "print('Combining Oxaria 1 & 2 status...\\n \\n Saving to /home/tonyb/Gdrive/MinicondaProjects/oxaria/data/raw/0oxaria/gap_filling/oxaria_status_536_stable.ftr')\n",
    "\n",
    "oxaria_status_stbl15 = pd.concat([oxaria1_status_stable_15min, \\\n",
    "                              oxaria2_status_stable_15min])\n",
    "oxaria_status_stbl15 = oxaria_status_stbl15[~oxaria_status_stbl15.index.duplicated(keep='last')].sort_index()\n",
    "oxaria_status_stbl15.reset_index().to_feather('/home/tonyb/Gdrive/MinicondaProjects/oxaria/data/raw/0oxaria/gap_filling/oxaria_status_536_stable15.ftr')\n",
    "oxaria_status_stbl15.info()\n",
    "\n",
    "print('All done! \\U0001F600')"
   ]
  }
 ],
 "metadata": {
  "kernelspec": {
   "display_name": "Python [conda env:qoax] *",
   "language": "python",
   "name": "conda-env-qoax-py"
  },
  "language_info": {
   "codemirror_mode": {
    "name": "ipython",
    "version": 3
   },
   "file_extension": ".py",
   "mimetype": "text/x-python",
   "name": "python",
   "nbconvert_exporter": "python",
   "pygments_lexer": "ipython3",
   "version": "3.8.6"
  },
  "toc": {
   "base_numbering": 1,
   "nav_menu": {},
   "number_sections": true,
   "sideBar": true,
   "skip_h1_title": false,
   "title_cell": "Table of Contents",
   "title_sidebar": "Contents",
   "toc_cell": false,
   "toc_position": {},
   "toc_section_display": true,
   "toc_window_display": false
  },
  "varInspector": {
   "cols": {
    "lenName": 16,
    "lenType": 16,
    "lenVar": 40
   },
   "kernels_config": {
    "python": {
     "delete_cmd_postfix": "",
     "delete_cmd_prefix": "del ",
     "library": "var_list.py",
     "varRefreshCmd": "print(var_dic_list())"
    },
    "r": {
     "delete_cmd_postfix": ") ",
     "delete_cmd_prefix": "rm(",
     "library": "var_list.r",
     "varRefreshCmd": "cat(var_dic_list()) "
    }
   },
   "types_to_exclude": [
    "module",
    "function",
    "builtin_function_or_method",
    "instance",
    "_Feature"
   ],
   "window_display": false
  }
 },
 "nbformat": 4,
 "nbformat_minor": 4
}
