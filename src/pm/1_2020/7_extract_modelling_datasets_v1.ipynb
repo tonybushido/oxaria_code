{
 "cells": [
  {
   "cell_type": "code",
   "execution_count": 1,
   "metadata": {
    "ExecuteTime": {
     "end_time": "2021-08-26T10:57:36.963564Z",
     "start_time": "2021-08-26T10:57:36.124339Z"
    }
   },
   "outputs": [],
   "source": [
    "# Imports\n",
    "# ---------\n",
    "import sys\n",
    "import pandas as pd\n",
    "import numpy as np\n",
    "import feather\n",
    "import os\n",
    "import gc\n",
    "import datetime as dt\n",
    "import matplotlib.pyplot as plt\n",
    "import matplotlib.dates as mdates\n",
    "from pandas.plotting import register_matplotlib_converters\n",
    "import matplotlib.ticker as ticker\n",
    "from matplotlib.dates import DateFormatter\n",
    "import matplotlib as mpl\n",
    "from datetime import timezone\n",
    "import pickle\n",
    "\n",
    "register_matplotlib_converters()\n",
    "\n",
    "# File locations\n",
    "# ----------------\n",
    "the_folder = '/home/tonyb/Gdrive/MinicondaProjects/oxaria/data/raw/0oxaria/gap_filling/'\n",
    "oxaria0 = '/home/tonyb/Gdrive/MinicondaProjects/oxaria/data/raw/0oxaria/'\n",
    "aurn = '/home/tonyb/Gdrive/MinicondaProjects/oxaria/data/aurn/'\n",
    "pngs = '/home/tonyb/Gdrive/MinicondaProjects/oxaria/data/pngs/gap_filling/'\n",
    "the_files = '/home/tonyb/Gdrive/MinicondaProjects/oxaria/data/raw/1oxaria/'"
   ]
  },
  {
   "cell_type": "code",
   "execution_count": 2,
   "metadata": {
    "ExecuteTime": {
     "end_time": "2021-08-26T10:57:37.828051Z",
     "start_time": "2021-08-26T10:57:36.967743Z"
    }
   },
   "outputs": [],
   "source": [
    "# Read in stable 15min operational data Jan - Nov 2020\n",
    "# ------------------------------------------------------\n",
    "oxaria_gases_s15 = pd.read_feather(the_folder +\n",
    "                                   'oxaria_gases_536_stable15.ftr').set_index(\n",
    "                                       ['tag', 'rec']).sort_index()\n",
    "oxaria_pm_s15 = pd.read_feather(the_folder +\n",
    "                                'oxaria_pm_536_stable15.ftr').set_index(\n",
    "                                    ['tag', 'rec']).sort_index()\n",
    "oxaria_climate_s15 = pd.read_feather(the_folder +\n",
    "                                     'oxaria_climate_536_stable15.ftr').set_index(\n",
    "                                         ['tag', 'rec']).sort_index()\n",
    "oxaria_status_s15 = pd.read_feather(the_folder +\n",
    "                                    'oxaria_status_536_stable15.ftr').set_index(\n",
    "                                        ['tag', 'rec']).sort_index()"
   ]
  },
  {
   "cell_type": "code",
   "execution_count": 3,
   "metadata": {
    "ExecuteTime": {
     "end_time": "2021-08-26T10:57:38.061040Z",
     "start_time": "2021-08-26T10:57:37.832219Z"
    }
   },
   "outputs": [],
   "source": [
    "# Get colocated sensor data - St Ebbes\n",
    "# --------------------------------------\n",
    "oxaria_sebbes_gases_s15 = oxaria_gases_s15.query('tag == \"scs-bgx-538\"')\n",
    "oxaria_sebbes_gases_s15.reset_index().to_feather(\n",
    "    the_folder + 'oxaria_sebbes_gases_536_s15.ftr')\n",
    "oxaria_sebbes_pm_s15 = oxaria_pm_s15.query('tag == \"scs-bgx-538\"')\n",
    "oxaria_sebbes_pm_s15.reset_index().to_feather(\n",
    "    the_folder + 'oxaria_sebbes_pm_536_s15.ftr')\n",
    "oxaria_sebbes_status_s15 = oxaria_status_s15.query('tag == \"scs-bgx-538\"')\n",
    "oxaria_sebbes_status_s15.reset_index().to_feather(\n",
    "    the_folder + 'oxaria_sebbes_536_status_15.ftr')\n",
    "oxaria_sebbes_climate_s15 = oxaria_climate_s15.query('tag == \"scs-bgx-538\"')\n",
    "oxaria_sebbes_climate_s15.reset_index().to_feather(\n",
    "    the_folder + 'oxaria_sebbes_536_climate_s15.ftr')"
   ]
  },
  {
   "cell_type": "code",
   "execution_count": 4,
   "metadata": {
    "ExecuteTime": {
     "end_time": "2021-08-26T10:57:38.270366Z",
     "start_time": "2021-08-26T10:57:38.063543Z"
    }
   },
   "outputs": [],
   "source": [
    "# Get colocated sensor data - High St\n",
    "# --------------------------------------\n",
    "oxaria_highs_gases_s15 = oxaria_gases_s15.query('tag == \"scs-bgx-536\"')\n",
    "oxaria_highs_gases_s15.reset_index().to_feather(\n",
    "    the_folder + 'oxaria_highs_gases_536_s15.ftr')\n",
    "oxaria_highs_pm_s15 = oxaria_pm_s15.query('tag == \"scs-bgx-536\"')\n",
    "oxaria_highs_pm_s15.reset_index().to_feather(\n",
    "    the_folder + 'oxaria_highs_pm_536_s15.ftr')\n",
    "oxaria_highs_status_s15 = oxaria_status_s15.query('tag == \"scs-bgx-536\"')\n",
    "oxaria_highs_status_s15.reset_index().to_feather(\n",
    "    the_folder + 'oxaria_highs_536_status_15.ftr')\n",
    "oxaria_highs_climate_s15 = oxaria_climate_s15.query('tag == \"scs-bgx-536\"')\n",
    "oxaria_highs_climate_s15.reset_index().to_feather(\n",
    "    the_folder + 'oxaria_highs_536_climate_s15.ftr')"
   ]
  },
  {
   "cell_type": "code",
   "execution_count": 5,
   "metadata": {
    "ExecuteTime": {
     "end_time": "2021-08-26T10:57:38.863618Z",
     "start_time": "2021-08-26T10:57:38.272867Z"
    }
   },
   "outputs": [
    {
     "name": "stdout",
     "output_type": "stream",
     "text": [
      "<class 'pandas.core.frame.DataFrame'>\n",
      "MultiIndex: 25824 entries, ('scs-bgx-538', Timestamp('2020-06-05 00:15:00+0000', tz='UTC')) to ('scs-bgx-538', Timestamp('2021-03-01 00:00:00+0000', tz='UTC'))\n",
      "Data columns (total 34 columns):\n",
      " #   Column             Non-Null Count  Dtype  \n",
      "---  ------             --------------  -----  \n",
      " 0   val.no2.wev        25824 non-null  float32\n",
      " 1   val.no2.cnc        25824 non-null  float32\n",
      " 2   val.no2.aev        25824 non-null  float32\n",
      " 3   val.no2.wec        25824 non-null  float32\n",
      " 4   val.sht.hmd_g      25824 non-null  float32\n",
      " 5   val.sht.tmp_g      25824 non-null  float32\n",
      " 6   val.no2.cnc_1      25613 non-null  float32\n",
      " 7   name               25824 non-null  object \n",
      " 8   val.hmd            25824 non-null  float32\n",
      " 9   val.tmp            25824 non-null  float32\n",
      " 10  val.mtf1           25824 non-null  float32\n",
      " 11  val.pm1            25824 non-null  float32\n",
      " 12  val.mtf5           25824 non-null  float32\n",
      " 13  val.pm2p5          25824 non-null  float32\n",
      " 14  val.mtf3           25824 non-null  float32\n",
      " 15  val.pm10           25824 non-null  float32\n",
      " 16  val.mtf7           25824 non-null  float32\n",
      " 17  val.per            25824 non-null  float32\n",
      " 18  val.sfr            25824 non-null  float32\n",
      " 19  val.sht.hmd_p      25824 non-null  float32\n",
      " 20  val.sht.tmp_p      25824 non-null  float32\n",
      " 21  val.pm10_1         21775 non-null  float32\n",
      " 22  val.pm2p5_1        21775 non-null  float32\n",
      " 23  val.pm1_1          21775 non-null  float32\n",
      " 24  val.up.load.av15   25824 non-null  float32\n",
      " 25  val.up.load.av1    25824 non-null  float32\n",
      " 26  val.up.load.av5    25824 non-null  float32\n",
      " 27  val.up.users       25824 non-null  float32\n",
      " 28  val.psu.prot-batt  25824 non-null  float32\n",
      " 29  val.psu.rst        25824 non-null  float32\n",
      " 30  val.psu.chg        25824 non-null  float32\n",
      " 31  val.psu.pwr-in     25824 non-null  float32\n",
      " 32  val.psu.host-3v3   25824 non-null  float32\n",
      " 33  val.tmp.brd        25824 non-null  float32\n",
      "dtypes: float32(33), object(1)\n",
      "memory usage: 6.4+ MB\n"
     ]
    }
   ],
   "source": [
    "# Generate a base training dataset by merging useful scalar variables from gases, pm, status & climate\n",
    "# ------------------------------------------------------------------------------------------------------\n",
    "sebbes_train_s15 = oxaria_sebbes_gases_s15.merge(\n",
    "    oxaria_sebbes_climate_s15,\n",
    "    left_index=True,\n",
    "    right_index=True,\n",
    "    how='inner',\n",
    "    suffixes=('_g', '_c')).merge(\n",
    "        oxaria_sebbes_pm_s15,\n",
    "        left_index=True,\n",
    "        right_index=True,\n",
    "        how='inner',\n",
    "        suffixes=('_g', '_p')).merge(\n",
    "            oxaria_sebbes_status_s15,\n",
    "            left_index=True,\n",
    "            right_index=True,\n",
    "            how='inner').drop(['name_x', 'name_y', 'name_c'], axis=1).rename({'name_g': 'name'}, axis=1)\n",
    "sebbes_train_s15.info()"
   ]
  },
  {
   "cell_type": "code",
   "execution_count": 6,
   "metadata": {
    "ExecuteTime": {
     "end_time": "2021-08-26T10:57:39.382226Z",
     "start_time": "2021-08-26T10:57:38.867390Z"
    }
   },
   "outputs": [
    {
     "name": "stdout",
     "output_type": "stream",
     "text": [
      "<class 'pandas.core.frame.DataFrame'>\n",
      "MultiIndex: 15072 entries, ('scs-bgx-536', Timestamp('2020-09-25 00:15:00+0000', tz='UTC')) to ('scs-bgx-536', Timestamp('2021-03-01 00:00:00+0000', tz='UTC'))\n",
      "Data columns (total 34 columns):\n",
      " #   Column             Non-Null Count  Dtype  \n",
      "---  ------             --------------  -----  \n",
      " 0   val.no2.wev        15072 non-null  float32\n",
      " 1   val.no2.cnc        15072 non-null  float32\n",
      " 2   val.no2.aev        15072 non-null  float32\n",
      " 3   val.no2.wec        15072 non-null  float32\n",
      " 4   val.sht.hmd_g      15072 non-null  float32\n",
      " 5   val.sht.tmp_g      15072 non-null  float32\n",
      " 6   val.no2.cnc_1      15072 non-null  float32\n",
      " 7   name               15072 non-null  object \n",
      " 8   val.hmd            15072 non-null  float32\n",
      " 9   val.tmp            15072 non-null  float32\n",
      " 10  val.mtf1           15072 non-null  float32\n",
      " 11  val.pm1            15072 non-null  float32\n",
      " 12  val.mtf5           15072 non-null  float32\n",
      " 13  val.pm2p5          15072 non-null  float32\n",
      " 14  val.mtf3           15072 non-null  float32\n",
      " 15  val.pm10           15072 non-null  float32\n",
      " 16  val.mtf7           15072 non-null  float32\n",
      " 17  val.per            15072 non-null  float32\n",
      " 18  val.sfr            15072 non-null  float32\n",
      " 19  val.sht.hmd_p      15072 non-null  float32\n",
      " 20  val.sht.tmp_p      15072 non-null  float32\n",
      " 21  val.pm10_1         14311 non-null  float32\n",
      " 22  val.pm2p5_1        14311 non-null  float32\n",
      " 23  val.pm1_1          14311 non-null  float32\n",
      " 24  val.up.load.av15   15072 non-null  float32\n",
      " 25  val.up.load.av1    15072 non-null  float32\n",
      " 26  val.up.load.av5    15072 non-null  float32\n",
      " 27  val.up.users       15072 non-null  float32\n",
      " 28  val.psu.prot-batt  15072 non-null  float32\n",
      " 29  val.psu.rst        15072 non-null  float32\n",
      " 30  val.psu.chg        15072 non-null  float32\n",
      " 31  val.psu.pwr-in     15072 non-null  float32\n",
      " 32  val.psu.host-3v3   15072 non-null  float32\n",
      " 33  val.tmp.brd        15072 non-null  float32\n",
      "dtypes: float32(33), object(1)\n",
      "memory usage: 4.3+ MB\n"
     ]
    }
   ],
   "source": [
    "# Generate a base training dataset by merging useful scalar variables from gases, pm, status & climate\n",
    "# ------------------------------------------------------------------------------------------------------\n",
    "highs_train_s15 = oxaria_highs_gases_s15.merge(\n",
    "    oxaria_highs_climate_s15,\n",
    "    left_index=True,\n",
    "    right_index=True,\n",
    "    how='inner',\n",
    "    suffixes=('_g', '_c')).merge(\n",
    "        oxaria_highs_pm_s15,\n",
    "        left_index=True,\n",
    "        right_index=True,\n",
    "        how='inner',\n",
    "        suffixes=('_g', '_p')).merge(\n",
    "            oxaria_highs_status_s15,\n",
    "            left_index=True,\n",
    "            right_index=True,\n",
    "            how='inner').drop(['name_x', 'name_y', 'name_c'], axis=1).rename({'name_g': 'name'}, axis=1)\n",
    "highs_train_s15.info()"
   ]
  },
  {
   "cell_type": "code",
   "execution_count": 7,
   "metadata": {
    "ExecuteTime": {
     "end_time": "2021-08-26T10:57:39.433532Z",
     "start_time": "2021-08-26T10:57:39.385052Z"
    }
   },
   "outputs": [
    {
     "name": "stdout",
     "output_type": "stream",
     "text": [
      "<class 'pandas.core.frame.DataFrame'>\n",
      "DatetimeIndex: 35136 entries, 2020-01-01 00:15:00+00:00 to 2021-01-01 00:00:00+00:00\n",
      "Data columns (total 20 columns):\n",
      " #   Column         Non-Null Count  Dtype  \n",
      "---  ------         --------------  -----  \n",
      " 0   sitecode_s     35136 non-null  object \n",
      " 1   name_s         35136 non-null  object \n",
      " 2   no_ppb_s       34398 non-null  float32\n",
      " 3   no2_ppb_s      34398 non-null  float32\n",
      " 4   pm10_ugg_s     35120 non-null  float32\n",
      " 5   o3_ppb_s       35051 non-null  float32\n",
      " 6   pm25_ugg_s     35120 non-null  float32\n",
      " 7   fidas_t_s      35125 non-null  float32\n",
      " 8   fidas_rh_s     35125 non-null  float32\n",
      " 9   sitecode_h     35136 non-null  object \n",
      " 10  name_h         35136 non-null  object \n",
      " 11  no_ppb_h       34189 non-null  float32\n",
      " 12  no2_ppb_h      34189 non-null  float32\n",
      " 13  pm10_ugg_h     34549 non-null  float32\n",
      " 14  o3_ppb_h       0 non-null      float32\n",
      " 15  pm25_ugg_h     0 non-null      float32\n",
      " 16  fidas_t_h      0 non-null      float32\n",
      " 17  fidas_rh_h     0 non-null      float32\n",
      " 18  abs_no2_diff   34056 non-null  float32\n",
      " 19  abs_pm10_diff  34533 non-null  float32\n",
      "dtypes: float32(16), object(4)\n",
      "memory usage: 3.5+ MB\n"
     ]
    }
   ],
   "source": [
    "# AURN data for both St Ebbes & High St\n",
    "# ---------------------------------------\n",
    "auto_merged = pd.read_feather('/home/tonyb/Gdrive/MinicondaProjects/oxaria/data/raw/0oxaria/' +\n",
    "                              'auto_merged_ratified.ftr').set_index('rec').sort_index()\n",
    "auto_merged.info()"
   ]
  },
  {
   "cell_type": "code",
   "execution_count": 8,
   "metadata": {
    "ExecuteTime": {
     "end_time": "2021-08-26T10:57:39.538694Z",
     "start_time": "2021-08-26T10:57:39.437104Z"
    }
   },
   "outputs": [
    {
     "name": "stdout",
     "output_type": "stream",
     "text": [
      "<class 'pandas.core.frame.DataFrame'>\n",
      "MultiIndex: 20160 entries, ('scs-bgx-538', Timestamp('2020-06-05 00:15:00+0000', tz='UTC')) to ('scs-bgx-538', Timestamp('2021-01-01 00:00:00+0000', tz='UTC'))\n",
      "Data columns (total 54 columns):\n",
      " #   Column             Non-Null Count  Dtype  \n",
      "---  ------             --------------  -----  \n",
      " 0   val.no2.wev        20160 non-null  float32\n",
      " 1   val.no2.cnc        20160 non-null  float32\n",
      " 2   val.no2.aev        20160 non-null  float32\n",
      " 3   val.no2.wec        20160 non-null  float32\n",
      " 4   val.sht.hmd_g      20160 non-null  float32\n",
      " 5   val.sht.tmp_g      20160 non-null  float32\n",
      " 6   val.no2.cnc_1      19949 non-null  float32\n",
      " 7   name               20160 non-null  object \n",
      " 8   val.hmd            20160 non-null  float32\n",
      " 9   val.tmp            20160 non-null  float32\n",
      " 10  val.mtf1           20160 non-null  float32\n",
      " 11  val.pm1            20160 non-null  float32\n",
      " 12  val.mtf5           20160 non-null  float32\n",
      " 13  val.pm2p5          20160 non-null  float32\n",
      " 14  val.mtf3           20160 non-null  float32\n",
      " 15  val.pm10           20160 non-null  float32\n",
      " 16  val.mtf7           20160 non-null  float32\n",
      " 17  val.per            20160 non-null  float32\n",
      " 18  val.sfr            20160 non-null  float32\n",
      " 19  val.sht.hmd_p      20160 non-null  float32\n",
      " 20  val.sht.tmp_p      20160 non-null  float32\n",
      " 21  val.pm10_1         16772 non-null  float32\n",
      " 22  val.pm2p5_1        16772 non-null  float32\n",
      " 23  val.pm1_1          16772 non-null  float32\n",
      " 24  val.up.load.av15   20160 non-null  float32\n",
      " 25  val.up.load.av1    20160 non-null  float32\n",
      " 26  val.up.load.av5    20160 non-null  float32\n",
      " 27  val.up.users       20160 non-null  float32\n",
      " 28  val.psu.prot-batt  20160 non-null  float32\n",
      " 29  val.psu.rst        20160 non-null  float32\n",
      " 30  val.psu.chg        20160 non-null  float32\n",
      " 31  val.psu.pwr-in     20160 non-null  float32\n",
      " 32  val.psu.host-3v3   20160 non-null  float32\n",
      " 33  val.tmp.brd        20160 non-null  float32\n",
      " 34  sitecode_s         20160 non-null  object \n",
      " 35  name_s             20160 non-null  object \n",
      " 36  no_ppb_s           19708 non-null  float32\n",
      " 37  no2_ppb_s          19708 non-null  float32\n",
      " 38  pm10_ugg_s         20151 non-null  float32\n",
      " 39  o3_ppb_s           20130 non-null  float32\n",
      " 40  pm25_ugg_s         20151 non-null  float32\n",
      " 41  fidas_t_s          20153 non-null  float32\n",
      " 42  fidas_rh_s         20153 non-null  float32\n",
      " 43  sitecode_h         20160 non-null  object \n",
      " 44  name_h             20160 non-null  object \n",
      " 45  no_ppb_h           19556 non-null  float32\n",
      " 46  no2_ppb_h          19556 non-null  float32\n",
      " 47  pm10_ugg_h         19786 non-null  float32\n",
      " 48  o3_ppb_h           0 non-null      float32\n",
      " 49  pm25_ugg_h         0 non-null      float32\n",
      " 50  fidas_t_h          0 non-null      float32\n",
      " 51  fidas_rh_h         0 non-null      float32\n",
      " 52  abs_no2_diff       19471 non-null  float32\n",
      " 53  abs_pm10_diff      19777 non-null  float32\n",
      "dtypes: float32(49), object(5)\n",
      "memory usage: 4.8+ MB\n"
     ]
    }
   ],
   "source": [
    "# Merge auto / reference data on to sensor data by timestamp\n",
    "#------------------------------------------------------------\n",
    "sebbes_train_s15 = sebbes_train_s15.merge(auto_merged,how='inner',left_index=True,right_index=True)\n",
    "sebbes_train_s15.reset_index().to_feather(the_folder + 'sebbes_train_536_s15_ratified.ftr')\n",
    "sebbes_train_s15.info()\n"
   ]
  },
  {
   "cell_type": "code",
   "execution_count": 9,
   "metadata": {
    "ExecuteTime": {
     "end_time": "2021-08-26T10:57:39.619509Z",
     "start_time": "2021-08-26T10:57:39.543648Z"
    }
   },
   "outputs": [
    {
     "name": "stdout",
     "output_type": "stream",
     "text": [
      "<class 'pandas.core.frame.DataFrame'>\n",
      "MultiIndex: 9408 entries, ('scs-bgx-536', Timestamp('2020-09-25 00:15:00+0000', tz='UTC')) to ('scs-bgx-536', Timestamp('2021-01-01 00:00:00+0000', tz='UTC'))\n",
      "Data columns (total 54 columns):\n",
      " #   Column             Non-Null Count  Dtype  \n",
      "---  ------             --------------  -----  \n",
      " 0   val.no2.wev        9408 non-null   float32\n",
      " 1   val.no2.cnc        9408 non-null   float32\n",
      " 2   val.no2.aev        9408 non-null   float32\n",
      " 3   val.no2.wec        9408 non-null   float32\n",
      " 4   val.sht.hmd_g      9408 non-null   float32\n",
      " 5   val.sht.tmp_g      9408 non-null   float32\n",
      " 6   val.no2.cnc_1      9408 non-null   float32\n",
      " 7   name               9408 non-null   object \n",
      " 8   val.hmd            9408 non-null   float32\n",
      " 9   val.tmp            9408 non-null   float32\n",
      " 10  val.mtf1           9408 non-null   float32\n",
      " 11  val.pm1            9408 non-null   float32\n",
      " 12  val.mtf5           9408 non-null   float32\n",
      " 13  val.pm2p5          9408 non-null   float32\n",
      " 14  val.mtf3           9408 non-null   float32\n",
      " 15  val.pm10           9408 non-null   float32\n",
      " 16  val.mtf7           9408 non-null   float32\n",
      " 17  val.per            9408 non-null   float32\n",
      " 18  val.sfr            9408 non-null   float32\n",
      " 19  val.sht.hmd_p      9408 non-null   float32\n",
      " 20  val.sht.tmp_p      9408 non-null   float32\n",
      " 21  val.pm10_1         9129 non-null   float32\n",
      " 22  val.pm2p5_1        9129 non-null   float32\n",
      " 23  val.pm1_1          9129 non-null   float32\n",
      " 24  val.up.load.av15   9408 non-null   float32\n",
      " 25  val.up.load.av1    9408 non-null   float32\n",
      " 26  val.up.load.av5    9408 non-null   float32\n",
      " 27  val.up.users       9408 non-null   float32\n",
      " 28  val.psu.prot-batt  9408 non-null   float32\n",
      " 29  val.psu.rst        9408 non-null   float32\n",
      " 30  val.psu.chg        9408 non-null   float32\n",
      " 31  val.psu.pwr-in     9408 non-null   float32\n",
      " 32  val.psu.host-3v3   9408 non-null   float32\n",
      " 33  val.tmp.brd        9408 non-null   float32\n",
      " 34  sitecode_s         9408 non-null   object \n",
      " 35  name_s             9408 non-null   object \n",
      " 36  no_ppb_s           9228 non-null   float32\n",
      " 37  no2_ppb_s          9228 non-null   float32\n",
      " 38  pm10_ugg_s         9408 non-null   float32\n",
      " 39  o3_ppb_s           9407 non-null   float32\n",
      " 40  pm25_ugg_s         9408 non-null   float32\n",
      " 41  fidas_t_s          9408 non-null   float32\n",
      " 42  fidas_rh_s         9408 non-null   float32\n",
      " 43  sitecode_h         9408 non-null   object \n",
      " 44  name_h             9408 non-null   object \n",
      " 45  no_ppb_h           9171 non-null   float32\n",
      " 46  no2_ppb_h          9171 non-null   float32\n",
      " 47  pm10_ugg_h         9201 non-null   float32\n",
      " 48  o3_ppb_h           0 non-null      float32\n",
      " 49  pm25_ugg_h         0 non-null      float32\n",
      " 50  fidas_t_h          0 non-null      float32\n",
      " 51  fidas_rh_h         0 non-null      float32\n",
      " 52  abs_no2_diff       9143 non-null   float32\n",
      " 53  abs_pm10_diff      9201 non-null   float32\n",
      "dtypes: float32(49), object(5)\n",
      "memory usage: 2.4+ MB\n"
     ]
    }
   ],
   "source": [
    "# Merge auto / reference data on to sensor data by timestamp\n",
    "#------------------------------------------------------------\n",
    "highs_train_s15 = highs_train_s15.merge(auto_merged,how='inner',left_index=True,right_index=True)\n",
    "highs_train_s15.reset_index().to_feather(the_folder + 'highs_train_536_s15_ratified.ftr')\n",
    "highs_train_s15.info()\n"
   ]
  },
  {
   "cell_type": "code",
   "execution_count": 10,
   "metadata": {
    "ExecuteTime": {
     "end_time": "2021-08-26T10:57:39.670346Z",
     "start_time": "2021-08-26T10:57:39.623230Z"
    },
    "scrolled": true
   },
   "outputs": [],
   "source": [
    "# Pull out data points at other locations where evidence shows that\n",
    "# background & roadside conditions converge\n",
    "# -------------------------------------------------------------------\n",
    "# Load datetimes when High St & St Ebbes no2\n",
    "with open(oxaria0+'convergent_datelist_no2_ratified.pkl', \"rb\") as input_file:\n",
    "    convergent_no2 = pickle.load(input_file)\n",
    "\n",
    "with open(oxaria0+'convergent_datelist_pm10_ratified.pkl', \"rb\") as input_file:\n",
    "    convergent_pm10 = pickle.load(input_file)"
   ]
  },
  {
   "cell_type": "code",
   "execution_count": 11,
   "metadata": {
    "ExecuteTime": {
     "end_time": "2021-08-26T10:57:39.900724Z",
     "start_time": "2021-08-26T10:57:39.673023Z"
    }
   },
   "outputs": [],
   "source": [
    "convergent_gases_observations = []\n",
    "\n",
    "dfg = oxaria_gases_s15.query('tag != \"scs-bgx-538\"')\n",
    "\n",
    "for k,v in dfg.groupby('tag'):\n",
    "    v.reset_index(inplace=True)\n",
    "    if v.iloc[0,1] in convergent_no2:\n",
    "        convergent_gases_observations.append(v)\n",
    "convergent_gases_obs = pd.concat(convergent_gases_observations)\n",
    "convergent_gases_obs.set_index(['tag','rec'],inplace=True)\n",
    "convergent_gases_obs.sort_index(inplace=True)\n",
    "convergent_gases_obs.reset_index().to_feather(the_folder+'convergent_gases_obs_536_s15_ratified.ftr')\n"
   ]
  },
  {
   "cell_type": "code",
   "execution_count": 12,
   "metadata": {
    "ExecuteTime": {
     "end_time": "2021-08-26T10:57:40.197111Z",
     "start_time": "2021-08-26T10:57:39.903406Z"
    }
   },
   "outputs": [],
   "source": [
    "convergent_pm_observations = []\n",
    "\n",
    "dfp = oxaria_pm_s15.query('tag != \"scs-bgx-538\"')\n",
    "\n",
    "for k,v in dfp.groupby('tag'):\n",
    "    v.reset_index(inplace=True)\n",
    "    if v.iloc[0,1] in convergent_pm10:\n",
    "        convergent_pm_observations.append(v)\n",
    "convergent_pm_obs = pd.concat(convergent_pm_observations)\n",
    "convergent_pm_obs.set_index(['tag','rec'],inplace=True)\n",
    "convergent_pm_obs.sort_index(inplace=True)\n",
    "convergent_pm_obs.reset_index().to_feather(the_folder+'convergent_pm_obs_536_s15_ratified.ftr')\n"
   ]
  },
  {
   "cell_type": "code",
   "execution_count": 13,
   "metadata": {
    "ExecuteTime": {
     "end_time": "2021-08-26T10:57:40.491540Z",
     "start_time": "2021-08-26T10:57:40.199838Z"
    }
   },
   "outputs": [
    {
     "data": {
      "text/html": [
       "<div>\n",
       "<style scoped>\n",
       "    .dataframe tbody tr th:only-of-type {\n",
       "        vertical-align: middle;\n",
       "    }\n",
       "\n",
       "    .dataframe tbody tr th {\n",
       "        vertical-align: top;\n",
       "    }\n",
       "\n",
       "    .dataframe thead th {\n",
       "        text-align: right;\n",
       "    }\n",
       "</style>\n",
       "<table border=\"1\" class=\"dataframe\">\n",
       "  <thead>\n",
       "    <tr style=\"text-align: right;\">\n",
       "      <th></th>\n",
       "      <th></th>\n",
       "      <th>val.hmd</th>\n",
       "      <th>val.tmp</th>\n",
       "      <th>name</th>\n",
       "    </tr>\n",
       "    <tr>\n",
       "      <th>tag</th>\n",
       "      <th>rec</th>\n",
       "      <th></th>\n",
       "      <th></th>\n",
       "      <th></th>\n",
       "    </tr>\n",
       "  </thead>\n",
       "  <tbody>\n",
       "    <tr>\n",
       "      <th rowspan=\"5\" valign=\"top\">scs-bgx-536</th>\n",
       "      <th>2020-09-25 00:15:00+00:00</th>\n",
       "      <td>73.160004</td>\n",
       "      <td>9.673333</td>\n",
       "      <td>High St</td>\n",
       "    </tr>\n",
       "    <tr>\n",
       "      <th>2020-09-25 00:30:00+00:00</th>\n",
       "      <td>72.820000</td>\n",
       "      <td>9.600000</td>\n",
       "      <td>High St</td>\n",
       "    </tr>\n",
       "    <tr>\n",
       "      <th>2020-09-25 00:45:00+00:00</th>\n",
       "      <td>73.286667</td>\n",
       "      <td>9.593333</td>\n",
       "      <td>High St</td>\n",
       "    </tr>\n",
       "    <tr>\n",
       "      <th>2020-09-25 01:00:00+00:00</th>\n",
       "      <td>72.466667</td>\n",
       "      <td>9.653334</td>\n",
       "      <td>High St</td>\n",
       "    </tr>\n",
       "    <tr>\n",
       "      <th>2020-09-25 01:15:00+00:00</th>\n",
       "      <td>72.513336</td>\n",
       "      <td>9.633333</td>\n",
       "      <td>High St</td>\n",
       "    </tr>\n",
       "    <tr>\n",
       "      <th>...</th>\n",
       "      <th>...</th>\n",
       "      <td>...</td>\n",
       "      <td>...</td>\n",
       "      <td>...</td>\n",
       "    </tr>\n",
       "    <tr>\n",
       "      <th rowspan=\"5\" valign=\"top\">scs-bgx-559</th>\n",
       "      <th>2021-02-28 23:00:00+00:00</th>\n",
       "      <td>70.559998</td>\n",
       "      <td>9.240000</td>\n",
       "      <td>Speedwell St</td>\n",
       "    </tr>\n",
       "    <tr>\n",
       "      <th>2021-02-28 23:15:00+00:00</th>\n",
       "      <td>70.580002</td>\n",
       "      <td>9.060000</td>\n",
       "      <td>Speedwell St</td>\n",
       "    </tr>\n",
       "    <tr>\n",
       "      <th>2021-02-28 23:30:00+00:00</th>\n",
       "      <td>70.206665</td>\n",
       "      <td>8.920000</td>\n",
       "      <td>Speedwell St</td>\n",
       "    </tr>\n",
       "    <tr>\n",
       "      <th>2021-02-28 23:45:00+00:00</th>\n",
       "      <td>70.566666</td>\n",
       "      <td>8.573334</td>\n",
       "      <td>Speedwell St</td>\n",
       "    </tr>\n",
       "    <tr>\n",
       "      <th>2021-03-01 00:00:00+00:00</th>\n",
       "      <td>71.066666</td>\n",
       "      <td>8.306666</td>\n",
       "      <td>Speedwell St</td>\n",
       "    </tr>\n",
       "  </tbody>\n",
       "</table>\n",
       "<p>134242 rows × 3 columns</p>\n",
       "</div>"
      ],
      "text/plain": [
       "                                         val.hmd   val.tmp          name\n",
       "tag         rec                                                         \n",
       "scs-bgx-536 2020-09-25 00:15:00+00:00  73.160004  9.673333       High St\n",
       "            2020-09-25 00:30:00+00:00  72.820000  9.600000       High St\n",
       "            2020-09-25 00:45:00+00:00  73.286667  9.593333       High St\n",
       "            2020-09-25 01:00:00+00:00  72.466667  9.653334       High St\n",
       "            2020-09-25 01:15:00+00:00  72.513336  9.633333       High St\n",
       "...                                          ...       ...           ...\n",
       "scs-bgx-559 2021-02-28 23:00:00+00:00  70.559998  9.240000  Speedwell St\n",
       "            2021-02-28 23:15:00+00:00  70.580002  9.060000  Speedwell St\n",
       "            2021-02-28 23:30:00+00:00  70.206665  8.920000  Speedwell St\n",
       "            2021-02-28 23:45:00+00:00  70.566666  8.573334  Speedwell St\n",
       "            2021-03-01 00:00:00+00:00  71.066666  8.306666  Speedwell St\n",
       "\n",
       "[134242 rows x 3 columns]"
      ]
     },
     "metadata": {},
     "output_type": "display_data"
    }
   ],
   "source": [
    "convergent_climate_observations = []\n",
    "\n",
    "dfc = oxaria_climate_s15.query('tag != \"scs-bgx-538\"')\n",
    "\n",
    "for k,v in dfc.groupby('tag'):\n",
    "    v.reset_index(inplace=True)\n",
    "    if v.iloc[0,1] in convergent_no2 or v.iloc[0,1] in convergent_pm10:\n",
    "        convergent_climate_observations.append(v)\n",
    "convergent_climate_obs = pd.concat(convergent_climate_observations)\n",
    "convergent_climate_obs.set_index(['tag','rec'],inplace=True)\n",
    "convergent_climate_obs.sort_index(inplace=True)\n",
    "convergent_climate_obs.reset_index().to_feather(the_folder+'convergent_climate_obs_536_s15_ratified.ftr')\n",
    "display(convergent_climate_obs)"
   ]
  },
  {
   "cell_type": "code",
   "execution_count": 14,
   "metadata": {
    "ExecuteTime": {
     "end_time": "2021-08-26T10:57:40.821118Z",
     "start_time": "2021-08-26T10:57:40.494259Z"
    }
   },
   "outputs": [],
   "source": [
    "convergent_status_observations = []\n",
    "\n",
    "dfs = oxaria_status_s15.query('tag != \"scs-bgx-538\"')\n",
    "\n",
    "for k,v in dfs.groupby('tag'):\n",
    "    v.reset_index(inplace=True)\n",
    "    if v.iloc[0,1] in convergent_no2 or v.iloc[0,1] in convergent_pm10:\n",
    "        convergent_status_observations.append(v)\n",
    "convergent_status_obs = pd.concat(convergent_status_observations)\n",
    "convergent_status_obs.set_index(['tag','rec'],inplace=True)\n",
    "convergent_status_obs.sort_index(inplace=True)\n",
    "convergent_status_obs.reset_index().to_feather(the_folder+'convergent_status_obs_536_s15_ratified.ftr')\n"
   ]
  },
  {
   "cell_type": "code",
   "execution_count": 15,
   "metadata": {
    "ExecuteTime": {
     "end_time": "2021-08-26T10:57:40.847513Z",
     "start_time": "2021-08-26T10:57:40.823749Z"
    }
   },
   "outputs": [
    {
     "name": "stdout",
     "output_type": "stream",
     "text": [
      "<class 'pandas.core.frame.DataFrame'>\n",
      "MultiIndex: 78815 entries, ('scs-bgx-552', Timestamp('2020-12-15 00:15:00+0000', tz='UTC')) to ('scs-bgx-559', Timestamp('2021-03-01 00:00:00+0000', tz='UTC'))\n",
      "Data columns (total 8 columns):\n",
      " #   Column         Non-Null Count  Dtype  \n",
      "---  ------         --------------  -----  \n",
      " 0   val.no2.wev    78815 non-null  float32\n",
      " 1   val.no2.cnc    78815 non-null  float32\n",
      " 2   val.no2.aev    78815 non-null  float32\n",
      " 3   val.no2.wec    78815 non-null  float32\n",
      " 4   val.sht.hmd    78815 non-null  float32\n",
      " 5   val.sht.tmp    78815 non-null  float32\n",
      " 6   val.no2.cnc_1  78607 non-null  float32\n",
      " 7   name           78815 non-null  object \n",
      "dtypes: float32(7), object(1)\n",
      "memory usage: 3.7+ MB\n"
     ]
    }
   ],
   "source": [
    "convergent_gases_obs.info()"
   ]
  },
  {
   "cell_type": "code",
   "execution_count": 16,
   "metadata": {
    "ExecuteTime": {
     "end_time": "2021-08-26T10:57:40.881526Z",
     "start_time": "2021-08-26T10:57:40.850332Z"
    }
   },
   "outputs": [
    {
     "name": "stdout",
     "output_type": "stream",
     "text": [
      "<class 'pandas.core.frame.DataFrame'>\n",
      "MultiIndex: 119649 entries, ('scs-bgx-536', Timestamp('2020-09-25 00:15:00+0000', tz='UTC')) to ('scs-bgx-557', Timestamp('2021-03-01 00:00:00+0000', tz='UTC'))\n",
      "Data columns (total 15 columns):\n",
      " #   Column       Non-Null Count   Dtype  \n",
      "---  ------       --------------   -----  \n",
      " 0   val.mtf1     119649 non-null  float32\n",
      " 1   val.pm1      119649 non-null  float32\n",
      " 2   val.mtf5     119649 non-null  float32\n",
      " 3   val.pm2p5    119649 non-null  float32\n",
      " 4   val.mtf3     119649 non-null  float32\n",
      " 5   val.pm10     119649 non-null  float32\n",
      " 6   val.mtf7     119649 non-null  float32\n",
      " 7   val.per      119649 non-null  float32\n",
      " 8   val.sfr      119649 non-null  float32\n",
      " 9   val.sht.hmd  119649 non-null  float32\n",
      " 10  val.sht.tmp  119649 non-null  float32\n",
      " 11  val.pm10_1   93799 non-null   float32\n",
      " 12  val.pm2p5_1  93799 non-null   float32\n",
      " 13  val.pm1_1    93799 non-null   float32\n",
      " 14  name         119649 non-null  object \n",
      "dtypes: float32(14), object(1)\n",
      "memory usage: 9.4+ MB\n"
     ]
    }
   ],
   "source": [
    "convergent_pm_obs.info()"
   ]
  }
 ],
 "metadata": {
  "kernelspec": {
   "display_name": "Python [conda env:qoax] *",
   "language": "python",
   "name": "conda-env-qoax-py"
  },
  "language_info": {
   "codemirror_mode": {
    "name": "ipython",
    "version": 3
   },
   "file_extension": ".py",
   "mimetype": "text/x-python",
   "name": "python",
   "nbconvert_exporter": "python",
   "pygments_lexer": "ipython3",
   "version": "3.8.6"
  },
  "toc": {
   "base_numbering": 1,
   "nav_menu": {},
   "number_sections": true,
   "sideBar": true,
   "skip_h1_title": false,
   "title_cell": "Table of Contents",
   "title_sidebar": "Contents",
   "toc_cell": false,
   "toc_position": {},
   "toc_section_display": true,
   "toc_window_display": false
  }
 },
 "nbformat": 4,
 "nbformat_minor": 4
}
