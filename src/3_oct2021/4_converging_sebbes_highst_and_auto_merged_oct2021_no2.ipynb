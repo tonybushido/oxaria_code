{
 "cells": [
  {
   "cell_type": "code",
   "execution_count": 1,
   "metadata": {
    "ExecuteTime": {
     "end_time": "2021-10-12T15:08:53.116475Z",
     "start_time": "2021-10-12T15:08:53.111572Z"
    }
   },
   "outputs": [],
   "source": [
    "# Imports\n",
    "#---------\n",
    "import sys\n",
    "import pandas as pd\n",
    "import numpy as np\n",
    "import feather\n",
    "import os\n",
    "import gc\n",
    "import datetime as dt\n",
    "import matplotlib.pyplot as plt\n",
    "import matplotlib.dates as mdates\n",
    "from pandas.plotting import register_matplotlib_converters\n",
    "import matplotlib.ticker as ticker\n",
    "from matplotlib.dates import DateFormatter\n",
    "import matplotlib as mpl\n",
    "from datetime import timezone\n",
    "import pickle\n",
    "\n",
    "register_matplotlib_converters()\n",
    "\n",
    "# File locations\n",
    "#----------------\n",
    "data_home = '/home/tonyb/Gdrive/MinicondaProjects/oxaria/data/raw/0oxaria/gap_filling/q12021/'\n",
    "aurn_home = '/home/tonyb/Gdrive/MinicondaProjects/oxaria/data/aurn/'\n",
    "pngs = '/home/tonyb/Gdrive/MinicondaProjects/oxaria/data/pngs/'"
   ]
  },
  {
   "cell_type": "code",
   "execution_count": 2,
   "metadata": {
    "ExecuteTime": {
     "end_time": "2021-10-12T15:09:19.551535Z",
     "start_time": "2021-10-12T15:09:19.475247Z"
    }
   },
   "outputs": [],
   "source": [
    "# Load latest 15-minute data from Brian\n",
    "sebbes = pd.read_feather(aurn_home+'ox_auto_no2_pm_2019_2021_15m_oct21.ftr')\n",
    "\n",
    "# Get St Ebbes 2020 only \n",
    "sebbes = sebbes[(sebbes['sitecode'] == 'OX8') & \\\n",
    "                (sebbes['rec'] >= dt.datetime(2020,1,1,tzinfo=dt.timezone.utc))]\n",
    "\n",
    "# Load 15-minute data from Brian\n",
    "highst = pd.read_feather(aurn_home+'ox_auto_no2_pm_2019_2021_15m_oct21.ftr')\n",
    "\n",
    "# Get High St 2020 only \n",
    "highst = highst[(highst['sitecode'] == 'OX6') & \\\n",
    "                (highst['rec'] >= dt.datetime(2020,1,1,tzinfo=dt.timezone.utc))]"
   ]
  },
  {
   "cell_type": "code",
   "execution_count": 3,
   "metadata": {
    "ExecuteTime": {
     "end_time": "2021-10-12T15:09:19.564981Z",
     "start_time": "2021-10-12T15:09:19.552496Z"
    }
   },
   "outputs": [
    {
     "data": {
      "text/html": [
       "<div>\n",
       "<style scoped>\n",
       "    .dataframe tbody tr th:only-of-type {\n",
       "        vertical-align: middle;\n",
       "    }\n",
       "\n",
       "    .dataframe tbody tr th {\n",
       "        vertical-align: top;\n",
       "    }\n",
       "\n",
       "    .dataframe thead th {\n",
       "        text-align: right;\n",
       "    }\n",
       "</style>\n",
       "<table border=\"1\" class=\"dataframe\">\n",
       "  <thead>\n",
       "    <tr style=\"text-align: right;\">\n",
       "      <th></th>\n",
       "      <th>index</th>\n",
       "      <th>sitecode</th>\n",
       "      <th>name</th>\n",
       "      <th>rec</th>\n",
       "      <th>no_ppb</th>\n",
       "      <th>no2_ppb</th>\n",
       "      <th>pm10_ugg</th>\n",
       "      <th>o3_ppb</th>\n",
       "      <th>pm25_ugg</th>\n",
       "      <th>fidas_t</th>\n",
       "      <th>fidas_rh</th>\n",
       "    </tr>\n",
       "  </thead>\n",
       "  <tbody>\n",
       "    <tr>\n",
       "      <th>231261</th>\n",
       "      <td>231261</td>\n",
       "      <td>OX8</td>\n",
       "      <td>Oxford St Ebbes</td>\n",
       "      <td>2020-01-01 00:15:00+00:00</td>\n",
       "      <td>0.67</td>\n",
       "      <td>12.28</td>\n",
       "      <td>36.299999</td>\n",
       "      <td>15.73</td>\n",
       "      <td>29.056700</td>\n",
       "      <td>6.2</td>\n",
       "      <td>91.500000</td>\n",
       "    </tr>\n",
       "    <tr>\n",
       "      <th>231262</th>\n",
       "      <td>231262</td>\n",
       "      <td>OX8</td>\n",
       "      <td>Oxford St Ebbes</td>\n",
       "      <td>2020-01-01 00:30:00+00:00</td>\n",
       "      <td>0.86</td>\n",
       "      <td>12.76</td>\n",
       "      <td>38.700001</td>\n",
       "      <td>13.41</td>\n",
       "      <td>33.113300</td>\n",
       "      <td>6.1</td>\n",
       "      <td>92.000000</td>\n",
       "    </tr>\n",
       "    <tr>\n",
       "      <th>231263</th>\n",
       "      <td>231263</td>\n",
       "      <td>OX8</td>\n",
       "      <td>Oxford St Ebbes</td>\n",
       "      <td>2020-01-01 00:45:00+00:00</td>\n",
       "      <td>0.67</td>\n",
       "      <td>12.95</td>\n",
       "      <td>40.700001</td>\n",
       "      <td>10.52</td>\n",
       "      <td>35.000099</td>\n",
       "      <td>6.1</td>\n",
       "      <td>91.900002</td>\n",
       "    </tr>\n",
       "    <tr>\n",
       "      <th>231264</th>\n",
       "      <td>231264</td>\n",
       "      <td>OX8</td>\n",
       "      <td>Oxford St Ebbes</td>\n",
       "      <td>2020-01-01 01:00:00+00:00</td>\n",
       "      <td>NaN</td>\n",
       "      <td>NaN</td>\n",
       "      <td>36.099998</td>\n",
       "      <td>9.17</td>\n",
       "      <td>30.660500</td>\n",
       "      <td>6.1</td>\n",
       "      <td>91.099998</td>\n",
       "    </tr>\n",
       "    <tr>\n",
       "      <th>231265</th>\n",
       "      <td>231265</td>\n",
       "      <td>OX8</td>\n",
       "      <td>Oxford St Ebbes</td>\n",
       "      <td>2020-01-01 01:15:00+00:00</td>\n",
       "      <td>NaN</td>\n",
       "      <td>NaN</td>\n",
       "      <td>36.900002</td>\n",
       "      <td>8.78</td>\n",
       "      <td>31.415199</td>\n",
       "      <td>5.9</td>\n",
       "      <td>90.699997</td>\n",
       "    </tr>\n",
       "    <tr>\n",
       "      <th>...</th>\n",
       "      <td>...</td>\n",
       "      <td>...</td>\n",
       "      <td>...</td>\n",
       "      <td>...</td>\n",
       "      <td>...</td>\n",
       "      <td>...</td>\n",
       "      <td>...</td>\n",
       "      <td>...</td>\n",
       "      <td>...</td>\n",
       "      <td>...</td>\n",
       "      <td>...</td>\n",
       "    </tr>\n",
       "    <tr>\n",
       "      <th>294328</th>\n",
       "      <td>294328</td>\n",
       "      <td>OX8</td>\n",
       "      <td>Oxford St Ebbes</td>\n",
       "      <td>2021-10-18 23:00:00+00:00</td>\n",
       "      <td>2.30</td>\n",
       "      <td>5.30</td>\n",
       "      <td>6.400000</td>\n",
       "      <td>NaN</td>\n",
       "      <td>2.830200</td>\n",
       "      <td>NaN</td>\n",
       "      <td>NaN</td>\n",
       "    </tr>\n",
       "    <tr>\n",
       "      <th>294329</th>\n",
       "      <td>294329</td>\n",
       "      <td>OX8</td>\n",
       "      <td>Oxford St Ebbes</td>\n",
       "      <td>2021-10-18 23:15:00+00:00</td>\n",
       "      <td>1.00</td>\n",
       "      <td>5.60</td>\n",
       "      <td>5.100000</td>\n",
       "      <td>NaN</td>\n",
       "      <td>2.075500</td>\n",
       "      <td>NaN</td>\n",
       "      <td>NaN</td>\n",
       "    </tr>\n",
       "    <tr>\n",
       "      <th>294330</th>\n",
       "      <td>294330</td>\n",
       "      <td>OX8</td>\n",
       "      <td>Oxford St Ebbes</td>\n",
       "      <td>2021-10-18 23:30:00+00:00</td>\n",
       "      <td>1.00</td>\n",
       "      <td>5.60</td>\n",
       "      <td>5.100000</td>\n",
       "      <td>NaN</td>\n",
       "      <td>2.075500</td>\n",
       "      <td>NaN</td>\n",
       "      <td>NaN</td>\n",
       "    </tr>\n",
       "    <tr>\n",
       "      <th>294331</th>\n",
       "      <td>294331</td>\n",
       "      <td>OX8</td>\n",
       "      <td>Oxford St Ebbes</td>\n",
       "      <td>2021-10-18 23:45:00+00:00</td>\n",
       "      <td>1.00</td>\n",
       "      <td>5.60</td>\n",
       "      <td>5.100000</td>\n",
       "      <td>NaN</td>\n",
       "      <td>2.075500</td>\n",
       "      <td>NaN</td>\n",
       "      <td>NaN</td>\n",
       "    </tr>\n",
       "    <tr>\n",
       "      <th>294332</th>\n",
       "      <td>294332</td>\n",
       "      <td>OX8</td>\n",
       "      <td>Oxford St Ebbes</td>\n",
       "      <td>2021-10-19 00:00:00+00:00</td>\n",
       "      <td>1.00</td>\n",
       "      <td>5.60</td>\n",
       "      <td>5.100000</td>\n",
       "      <td>NaN</td>\n",
       "      <td>2.075500</td>\n",
       "      <td>NaN</td>\n",
       "      <td>NaN</td>\n",
       "    </tr>\n",
       "  </tbody>\n",
       "</table>\n",
       "<p>63072 rows × 11 columns</p>\n",
       "</div>"
      ],
      "text/plain": [
       "         index sitecode             name                       rec  no_ppb  \\\n",
       "231261  231261      OX8  Oxford St Ebbes 2020-01-01 00:15:00+00:00    0.67   \n",
       "231262  231262      OX8  Oxford St Ebbes 2020-01-01 00:30:00+00:00    0.86   \n",
       "231263  231263      OX8  Oxford St Ebbes 2020-01-01 00:45:00+00:00    0.67   \n",
       "231264  231264      OX8  Oxford St Ebbes 2020-01-01 01:00:00+00:00     NaN   \n",
       "231265  231265      OX8  Oxford St Ebbes 2020-01-01 01:15:00+00:00     NaN   \n",
       "...        ...      ...              ...                       ...     ...   \n",
       "294328  294328      OX8  Oxford St Ebbes 2021-10-18 23:00:00+00:00    2.30   \n",
       "294329  294329      OX8  Oxford St Ebbes 2021-10-18 23:15:00+00:00    1.00   \n",
       "294330  294330      OX8  Oxford St Ebbes 2021-10-18 23:30:00+00:00    1.00   \n",
       "294331  294331      OX8  Oxford St Ebbes 2021-10-18 23:45:00+00:00    1.00   \n",
       "294332  294332      OX8  Oxford St Ebbes 2021-10-19 00:00:00+00:00    1.00   \n",
       "\n",
       "        no2_ppb   pm10_ugg  o3_ppb   pm25_ugg  fidas_t   fidas_rh  \n",
       "231261    12.28  36.299999   15.73  29.056700      6.2  91.500000  \n",
       "231262    12.76  38.700001   13.41  33.113300      6.1  92.000000  \n",
       "231263    12.95  40.700001   10.52  35.000099      6.1  91.900002  \n",
       "231264      NaN  36.099998    9.17  30.660500      6.1  91.099998  \n",
       "231265      NaN  36.900002    8.78  31.415199      5.9  90.699997  \n",
       "...         ...        ...     ...        ...      ...        ...  \n",
       "294328     5.30   6.400000     NaN   2.830200      NaN        NaN  \n",
       "294329     5.60   5.100000     NaN   2.075500      NaN        NaN  \n",
       "294330     5.60   5.100000     NaN   2.075500      NaN        NaN  \n",
       "294331     5.60   5.100000     NaN   2.075500      NaN        NaN  \n",
       "294332     5.60   5.100000     NaN   2.075500      NaN        NaN  \n",
       "\n",
       "[63072 rows x 11 columns]"
      ]
     },
     "execution_count": 3,
     "metadata": {},
     "output_type": "execute_result"
    }
   ],
   "source": [
    "sebbes"
   ]
  },
  {
   "cell_type": "code",
   "execution_count": 3,
   "metadata": {
    "ExecuteTime": {
     "end_time": "2021-10-12T15:09:19.955393Z",
     "start_time": "2021-10-12T15:09:19.566104Z"
    }
   },
   "outputs": [
    {
     "data": {
      "image/png": "[encoded data removed]",
      "text/plain": [
       "<Figure size 504x504 with 1 Axes>"
      ]
     },
     "metadata": {
      "needs_background": "light"
     },
     "output_type": "display_data"
    }
   ],
   "source": [
    "# Plotting just to compare high st vs st ebbes\n",
    "#----------------------------------------------\n",
    "plt.figure(figsize=(7,7))\n",
    "plt.scatter(sebbes.no2_ppb, highst.no2_ppb)\n",
    "plt.title('NO2 High St vs. St Ebbes 2020')\n",
    "plt.ylabel('NO2 High St (ppb)')\n",
    "plt.xlabel('NO2 St Ebbes (ppb)')\n",
    "plt.ylim(-10,200)\n",
    "plt.xlim(-10,100)\n",
    "plt.savefig(pngs+'highst_vs_sebbes_no2_2020-21_oct21_update.png')"
   ]
  },
  {
   "cell_type": "code",
   "execution_count": 4,
   "metadata": {
    "ExecuteTime": {
     "end_time": "2021-10-12T15:09:20.350928Z",
     "start_time": "2021-10-12T15:09:19.956798Z"
    }
   },
   "outputs": [
    {
     "data": {
      "image/png": "[encoded data removed]",
      "text/plain": [
       "<Figure size 504x504 with 1 Axes>"
      ]
     },
     "metadata": {
      "needs_background": "light"
     },
     "output_type": "display_data"
    }
   ],
   "source": [
    "# Plotting just to compare high st vs st ebbes\n",
    "#----------------------------------------------\n",
    "plt.figure(figsize=(7,7))\n",
    "plt.scatter(sebbes.pm10_ugg, highst.pm10_ugg)\n",
    "plt.title('PM10 High St vs. St Ebbes 2020')\n",
    "plt.ylabel('PM10 High St (ugm-3)')\n",
    "plt.xlabel('PM10 St Ebbes (ugm-3)')\n",
    "plt.ylim(-10,150)\n",
    "plt.xlim(-10,100)\n",
    "plt.savefig(pngs+'highst_vs_sebbes_pm10_2020-21_oct21_update.png')"
   ]
  },
  {
   "cell_type": "code",
   "execution_count": 6,
   "metadata": {
    "ExecuteTime": {
     "end_time": "2021-10-12T15:09:20.735473Z",
     "start_time": "2021-10-12T15:09:20.670519Z"
    }
   },
   "outputs": [
    {
     "name": "stdout",
     "output_type": "stream",
     "text": [
      "Ratified data 2020, provisional jan to may 2021\n",
      "No.of 15min periods across Oxaria network where no2 diff is <= 2ugm-3: 6006\n",
      "No.of 15min periods across Oxaria network where pm10 diff is <= 2ugm-3: 10182\n"
     ]
    }
   ],
   "source": [
    "# Merge St Ebbes & High St auto datasets & calc diff in no2 & pm10\n",
    "#------------------------------------------------------------------\n",
    "# Remove pm10_ugg <3 ugm-3 which persist because highst data are unratified\n",
    "highst['pm10_ugg'] = np.where(highst['pm10_ugg'] < 3, np.nan, highst['pm10_ugg'])\n",
    "\n",
    "# Merge\n",
    "auto_merged = sebbes.merge(highst,on='rec',copy=True,suffixes=('_s','_h'))\n",
    "# Calc absolute diffs of no2 & pm10\n",
    "auto_merged['abs_no2_diff'] = abs(auto_merged['no2_ppb_s']-auto_merged['no2_ppb_h'])\n",
    "auto_merged['abs_pm10_diff'] = abs(auto_merged['pm10_ugg_s']-auto_merged['pm10_ugg_h'])\n",
    "# Get list of dates when diffs <=1ppb & 2ugm-3 respectively\n",
    "convergent_no2 = list(auto_merged.query('abs_no2_diff <= 1')['rec'])\n",
    "convergent_pm10 = list(auto_merged.query('abs_pm10_diff <= 2')['rec'])\n",
    "auto_merged.to_feather(data_home+'auto_merged_ratified+2021_oct_update.ftr')\n",
    "\n",
    "# Save lists as pickle files to be used later\n",
    "with open(data_home+'convergent_datelist_no2+2021_oct_update.pkl', 'wb') as f:\n",
    "    pickle.dump(convergent_no2, f)\n",
    "    \n",
    "with open(data_home+'convergent_datelist_pm10+2021_oct_update.pkl', 'wb') as f:\n",
    "    pickle.dump(convergent_pm10, f)\n",
    "\n",
    "# For info\n",
    "print('Ratified data 2020, provisional jan to may 2021')\n",
    "print('No.of 15min periods across Oxaria network where no2 diff is <= 2ugm-3: '+str(len(convergent_no2)))\n",
    "print('No.of 15min periods across Oxaria network where pm10 diff is <= 2ugm-3: '+str(len(convergent_pm10)))\n"
   ]
  }
 ],
 "metadata": {
  "kernelspec": {
   "display_name": "Python [conda env:qoax] *",
   "language": "python",
   "name": "conda-env-qoax-py"
  },
  "language_info": {
   "codemirror_mode": {
    "name": "ipython",
    "version": 3
   },
   "file_extension": ".py",
   "mimetype": "text/x-python",
   "name": "python",
   "nbconvert_exporter": "python",
   "pygments_lexer": "ipython3",
   "version": "3.8.6"
  },
  "toc": {
   "base_numbering": 1,
   "nav_menu": {},
   "number_sections": true,
   "sideBar": true,
   "skip_h1_title": false,
   "title_cell": "Table of Contents",
   "title_sidebar": "Contents",
   "toc_cell": false,
   "toc_position": {},
   "toc_section_display": true,
   "toc_window_display": false
  }
 },
 "nbformat": 4,
 "nbformat_minor": 4
}
