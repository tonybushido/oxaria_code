{
 "cells": [
  {
   "cell_type": "code",
   "execution_count": 1,
   "metadata": {
    "ExecuteTime": {
     "end_time": "2021-07-05T22:54:00.791945Z",
     "start_time": "2021-07-05T22:54:00.478446Z"
    }
   },
   "outputs": [],
   "source": [
    "# Imports\n",
    "#---------\n",
    "import sys\n",
    "import pandas as pd\n",
    "import numpy as np\n",
    "import feather\n",
    "import os\n",
    "import gc\n",
    "import datetime as dt\n",
    "import matplotlib.pyplot as plt\n",
    "import matplotlib.dates as mdates\n",
    "from pandas.plotting import register_matplotlib_converters\n",
    "import matplotlib.ticker as ticker\n",
    "from matplotlib.dates import DateFormatter\n",
    "import matplotlib as mpl\n",
    "from datetime import timezone\n",
    "\n",
    "register_matplotlib_converters()\n",
    "\n",
    "# File locations\n",
    "#----------------\n",
    "the_gases = './oxaria/data/raw/2oxaria/json/gap_filling/batch_2_feb21_may21/'\n",
    "pngs = './oxaria/data/pngs/gap_filling/'"
   ]
  },
  {
   "cell_type": "code",
   "execution_count": 2,
   "metadata": {
    "ExecuteTime": {
     "end_time": "2021-07-05T22:54:17.377850Z",
     "start_time": "2021-07-05T22:54:15.765939Z"
    }
   },
   "outputs": [
    {
     "name": "stdout",
     "output_type": "stream",
     "text": [
      "<class 'pandas.core.frame.DataFrame'>\n",
      "MultiIndex: 1853714 entries, ('scs-bgx-550', Timestamp('2021-01-01 00:00:37+0000', tz='UTC')) to ('scs-bgx-559', Timestamp('2021-05-31 23:58:34+0000', tz='UTC'))\n",
      "Data columns (total 20 columns):\n",
      " #   Column             Dtype  \n",
      "---  ------             -----  \n",
      " 0   val.gps.pos:0      float32\n",
      " 1   val.gps.pos:1      float32\n",
      " 2   val.gps.elv        float32\n",
      " 3   val.gps.qual       float32\n",
      " 4   val.up.load.av15   float32\n",
      " 5   val.up.load.av1    float32\n",
      " 6   val.up.load.av5    float32\n",
      " 7   val.up.period      object \n",
      " 8   val.up.users       float32\n",
      " 9   val.psu.prot-batt  float32\n",
      " 10  val.psu.rst        object \n",
      " 11  val.psu.chg        float32\n",
      " 12  val.psu.standby    object \n",
      " 13  val.psu.pwr-in     float32\n",
      " 14  val.psu.host-3v3   float32\n",
      " 15  val.psu.batt-flt   object \n",
      " 16  val.tz.name        object \n",
      " 17  val.tz.utc-offset  object \n",
      " 18  val.tmp.brd        float32\n",
      " 19  val.psu.src        object \n",
      "dtypes: float32(13), object(7)\n",
      "memory usage: 251.0+ MB\n"
     ]
    }
   ],
   "source": [
    "# Load the df \n",
    "#-------------\n",
    "oxaria2_status = pd.read_feather(the_gases+'oxaria2_status_q12021_gf.ftr').set_index(['tag','rec']).sort_index()\n",
    "oxaria2_status_lt = oxaria2_status.iloc[:,[8,9,10,11,12,13,14,15,16,17,18,19,20,21,22,23,24,25,26,27]]\n",
    "del oxaria2_status\n",
    "oxaria2_status_lt.info()"
   ]
  },
  {
   "cell_type": "code",
   "execution_count": 3,
   "metadata": {
    "ExecuteTime": {
     "end_time": "2021-07-05T22:55:02.137798Z",
     "start_time": "2021-07-05T22:54:57.056102Z"
    }
   },
   "outputs": [],
   "source": [
    "# Some cleaning incase have missed anything\n",
    "#-------------------------------------------\n",
    "oxaria2_status_lt = oxaria2_status_lt[~oxaria2_status_lt.index.duplicated(keep='last')].reset_index()\n",
    "oxaria2_status_lt = oxaria2_status_lt.dropna(axis=0,subset=['tag']).set_index(['tag','rec']).sort_index()"
   ]
  },
  {
   "cell_type": "code",
   "execution_count": 4,
   "metadata": {
    "ExecuteTime": {
     "end_time": "2021-07-05T22:55:34.672056Z",
     "start_time": "2021-07-05T22:55:34.058371Z"
    }
   },
   "outputs": [],
   "source": [
    "# Save the df \n",
    "#-------------\n",
    "# There don't seem to be any outages that need removing so just saving\n",
    "oxaria2_status_lt.reset_index().to_feather(the_gases+'oxaria2_status_stable_q12021_gf.ftr')"
   ]
  }
 ],
 "metadata": {
  "kernelspec": {
   "display_name": "Python [conda env:qoax] *",
   "language": "python",
   "name": "conda-env-qoax-py"
  },
  "language_info": {
   "codemirror_mode": {
    "name": "ipython",
    "version": 3
   },
   "file_extension": ".py",
   "mimetype": "text/x-python",
   "name": "python",
   "nbconvert_exporter": "python",
   "pygments_lexer": "ipython3",
   "version": "3.8.6"
  },
  "toc": {
   "base_numbering": 1,
   "nav_menu": {},
   "number_sections": true,
   "sideBar": true,
   "skip_h1_title": false,
   "title_cell": "Table of Contents",
   "title_sidebar": "Contents",
   "toc_cell": false,
   "toc_position": {},
   "toc_section_display": true,
   "toc_window_display": false
  },
  "varInspector": {
   "cols": {
    "lenName": 16,
    "lenType": 16,
    "lenVar": 40
   },
   "kernels_config": {
    "python": {
     "delete_cmd_postfix": "",
     "delete_cmd_prefix": "del ",
     "library": "var_list.py",
     "varRefreshCmd": "print(var_dic_list())"
    },
    "r": {
     "delete_cmd_postfix": ") ",
     "delete_cmd_prefix": "rm(",
     "library": "var_list.r",
     "varRefreshCmd": "cat(var_dic_list()) "
    }
   },
   "types_to_exclude": [
    "module",
    "function",
    "builtin_function_or_method",
    "instance",
    "_Feature"
   ],
   "window_display": false
  }
 },
 "nbformat": 4,
 "nbformat_minor": 4
}
