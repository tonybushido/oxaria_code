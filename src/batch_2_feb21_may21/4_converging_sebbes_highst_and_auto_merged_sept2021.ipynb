{
 "cells": [
  {
   "cell_type": "code",
   "execution_count": 10,
   "metadata": {
    "ExecuteTime": {
     "end_time": "2021-10-12T15:08:53.116475Z",
     "start_time": "2021-10-12T15:08:53.111572Z"
    }
   },
   "outputs": [],
   "source": [
    "# Imports\n",
    "#---------\n",
    "import sys\n",
    "import pandas as pd\n",
    "import numpy as np\n",
    "import feather\n",
    "import os\n",
    "import gc\n",
    "import datetime as dt\n",
    "import matplotlib.pyplot as plt\n",
    "import matplotlib.dates as mdates\n",
    "from pandas.plotting import register_matplotlib_converters\n",
    "import matplotlib.ticker as ticker\n",
    "from matplotlib.dates import DateFormatter\n",
    "import matplotlib as mpl\n",
    "from datetime import timezone\n",
    "import pickle\n",
    "\n",
    "register_matplotlib_converters()\n",
    "\n",
    "# File locations\n",
    "#----------------\n",
    "data_home = './oxaria/processed/batch_2_feb21_may21/'\n",
    "aurn_home = './oxaria/processed/aurn/'\n",
    "pngs = './oxaria/pngs/'"
   ]
  },
  {
   "cell_type": "code",
   "execution_count": 12,
   "metadata": {
    "ExecuteTime": {
     "end_time": "2021-10-12T15:09:19.551535Z",
     "start_time": "2021-10-12T15:09:19.475247Z"
    }
   },
   "outputs": [],
   "source": [
    "# Load latest 15-minute data from Brian\n",
    "sebbes = pd.read_feather(aurn_home+'ox_auto_no2_pm_2019_2021_15m_sept21.ftr')\n",
    "\n",
    "# Get St Ebbes 2020 only \n",
    "sebbes = sebbes[(sebbes['sitecode'] == 'OX8') & \\\n",
    "                (sebbes['rec'] >= dt.datetime(2020,1,1,tzinfo=dt.timezone.utc))]\n",
    "\n",
    "# Load 15-minute data from Brian\n",
    "highst = pd.read_feather(aurn_home+'ox_auto_no2_pm_2019_2021_15m_sept21.ftr')\n",
    "\n",
    "# Get High St 2020 only \n",
    "highst = highst[(highst['sitecode'] == 'OX6') & \\\n",
    "                (highst['rec'] >= dt.datetime(2020,1,1,tzinfo=dt.timezone.utc))]"
   ]
  },
  {
   "cell_type": "code",
   "execution_count": 13,
   "metadata": {
    "ExecuteTime": {
     "end_time": "2021-10-12T15:09:19.564981Z",
     "start_time": "2021-10-12T15:09:19.552496Z"
    }
   },
   "outputs": [
    {
     "data": {
      "text/html": [
       "<div>\n",
       "<style scoped>\n",
       "    .dataframe tbody tr th:only-of-type {\n",
       "        vertical-align: middle;\n",
       "    }\n",
       "\n",
       "    .dataframe tbody tr th {\n",
       "        vertical-align: top;\n",
       "    }\n",
       "\n",
       "    .dataframe thead th {\n",
       "        text-align: right;\n",
       "    }\n",
       "</style>\n",
       "<table border=\"1\" class=\"dataframe\">\n",
       "  <thead>\n",
       "    <tr style=\"text-align: right;\">\n",
       "      <th></th>\n",
       "      <th>sitecode</th>\n",
       "      <th>name</th>\n",
       "      <th>rec</th>\n",
       "      <th>no_ppb</th>\n",
       "      <th>no2_ppb</th>\n",
       "      <th>pm10_ugg</th>\n",
       "      <th>o3_ppb</th>\n",
       "      <th>pm25_ugg</th>\n",
       "      <th>fidas_t</th>\n",
       "      <th>fidas_rh</th>\n",
       "    </tr>\n",
       "  </thead>\n",
       "  <tbody>\n",
       "    <tr>\n",
       "      <th>222045</th>\n",
       "      <td>OX8</td>\n",
       "      <td>Oxford St Ebbes</td>\n",
       "      <td>2020-01-01 00:15:00+00:00</td>\n",
       "      <td>0.67</td>\n",
       "      <td>12.28</td>\n",
       "      <td>36.299999</td>\n",
       "      <td>15.73</td>\n",
       "      <td>29.056700</td>\n",
       "      <td>6.2</td>\n",
       "      <td>91.500000</td>\n",
       "    </tr>\n",
       "    <tr>\n",
       "      <th>222046</th>\n",
       "      <td>OX8</td>\n",
       "      <td>Oxford St Ebbes</td>\n",
       "      <td>2020-01-01 00:30:00+00:00</td>\n",
       "      <td>0.86</td>\n",
       "      <td>12.76</td>\n",
       "      <td>38.700001</td>\n",
       "      <td>13.41</td>\n",
       "      <td>33.113300</td>\n",
       "      <td>6.1</td>\n",
       "      <td>92.000000</td>\n",
       "    </tr>\n",
       "    <tr>\n",
       "      <th>222047</th>\n",
       "      <td>OX8</td>\n",
       "      <td>Oxford St Ebbes</td>\n",
       "      <td>2020-01-01 00:45:00+00:00</td>\n",
       "      <td>0.67</td>\n",
       "      <td>12.95</td>\n",
       "      <td>40.700001</td>\n",
       "      <td>10.52</td>\n",
       "      <td>35.000099</td>\n",
       "      <td>6.1</td>\n",
       "      <td>91.900002</td>\n",
       "    </tr>\n",
       "    <tr>\n",
       "      <th>222048</th>\n",
       "      <td>OX8</td>\n",
       "      <td>Oxford St Ebbes</td>\n",
       "      <td>2020-01-01 01:00:00+00:00</td>\n",
       "      <td>NaN</td>\n",
       "      <td>NaN</td>\n",
       "      <td>36.099998</td>\n",
       "      <td>9.17</td>\n",
       "      <td>30.660500</td>\n",
       "      <td>6.1</td>\n",
       "      <td>91.099998</td>\n",
       "    </tr>\n",
       "    <tr>\n",
       "      <th>222049</th>\n",
       "      <td>OX8</td>\n",
       "      <td>Oxford St Ebbes</td>\n",
       "      <td>2020-01-01 01:15:00+00:00</td>\n",
       "      <td>NaN</td>\n",
       "      <td>NaN</td>\n",
       "      <td>36.900002</td>\n",
       "      <td>8.78</td>\n",
       "      <td>31.415199</td>\n",
       "      <td>5.9</td>\n",
       "      <td>90.699997</td>\n",
       "    </tr>\n",
       "    <tr>\n",
       "      <th>...</th>\n",
       "      <td>...</td>\n",
       "      <td>...</td>\n",
       "      <td>...</td>\n",
       "      <td>...</td>\n",
       "      <td>...</td>\n",
       "      <td>...</td>\n",
       "      <td>...</td>\n",
       "      <td>...</td>\n",
       "      <td>...</td>\n",
       "      <td>...</td>\n",
       "    </tr>\n",
       "    <tr>\n",
       "      <th>280504</th>\n",
       "      <td>OX8</td>\n",
       "      <td>Oxford St Ebbes</td>\n",
       "      <td>2021-08-31 23:00:00+00:00</td>\n",
       "      <td>0.20</td>\n",
       "      <td>3.50</td>\n",
       "      <td>8.100000</td>\n",
       "      <td>NaN</td>\n",
       "      <td>5.849100</td>\n",
       "      <td>14.4</td>\n",
       "      <td>79.000000</td>\n",
       "    </tr>\n",
       "    <tr>\n",
       "      <th>280505</th>\n",
       "      <td>OX8</td>\n",
       "      <td>Oxford St Ebbes</td>\n",
       "      <td>2021-08-31 23:15:00+00:00</td>\n",
       "      <td>0.31</td>\n",
       "      <td>3.30</td>\n",
       "      <td>9.400000</td>\n",
       "      <td>NaN</td>\n",
       "      <td>6.320800</td>\n",
       "      <td>14.4</td>\n",
       "      <td>79.099998</td>\n",
       "    </tr>\n",
       "    <tr>\n",
       "      <th>280506</th>\n",
       "      <td>OX8</td>\n",
       "      <td>Oxford St Ebbes</td>\n",
       "      <td>2021-08-31 23:30:00+00:00</td>\n",
       "      <td>0.31</td>\n",
       "      <td>2.78</td>\n",
       "      <td>8.700000</td>\n",
       "      <td>NaN</td>\n",
       "      <td>5.754700</td>\n",
       "      <td>14.4</td>\n",
       "      <td>79.199997</td>\n",
       "    </tr>\n",
       "    <tr>\n",
       "      <th>280507</th>\n",
       "      <td>OX8</td>\n",
       "      <td>Oxford St Ebbes</td>\n",
       "      <td>2021-08-31 23:45:00+00:00</td>\n",
       "      <td>0.20</td>\n",
       "      <td>2.47</td>\n",
       "      <td>8.600000</td>\n",
       "      <td>NaN</td>\n",
       "      <td>5.094400</td>\n",
       "      <td>14.4</td>\n",
       "      <td>79.400002</td>\n",
       "    </tr>\n",
       "    <tr>\n",
       "      <th>280508</th>\n",
       "      <td>OX8</td>\n",
       "      <td>Oxford St Ebbes</td>\n",
       "      <td>2021-09-01 00:00:00+00:00</td>\n",
       "      <td>0.20</td>\n",
       "      <td>2.58</td>\n",
       "      <td>9.300000</td>\n",
       "      <td>NaN</td>\n",
       "      <td>4.717000</td>\n",
       "      <td>14.4</td>\n",
       "      <td>80.000000</td>\n",
       "    </tr>\n",
       "  </tbody>\n",
       "</table>\n",
       "<p>58464 rows × 10 columns</p>\n",
       "</div>"
      ],
      "text/plain": [
       "       sitecode             name                       rec  no_ppb  no2_ppb  \\\n",
       "222045      OX8  Oxford St Ebbes 2020-01-01 00:15:00+00:00    0.67    12.28   \n",
       "222046      OX8  Oxford St Ebbes 2020-01-01 00:30:00+00:00    0.86    12.76   \n",
       "222047      OX8  Oxford St Ebbes 2020-01-01 00:45:00+00:00    0.67    12.95   \n",
       "222048      OX8  Oxford St Ebbes 2020-01-01 01:00:00+00:00     NaN      NaN   \n",
       "222049      OX8  Oxford St Ebbes 2020-01-01 01:15:00+00:00     NaN      NaN   \n",
       "...         ...              ...                       ...     ...      ...   \n",
       "280504      OX8  Oxford St Ebbes 2021-08-31 23:00:00+00:00    0.20     3.50   \n",
       "280505      OX8  Oxford St Ebbes 2021-08-31 23:15:00+00:00    0.31     3.30   \n",
       "280506      OX8  Oxford St Ebbes 2021-08-31 23:30:00+00:00    0.31     2.78   \n",
       "280507      OX8  Oxford St Ebbes 2021-08-31 23:45:00+00:00    0.20     2.47   \n",
       "280508      OX8  Oxford St Ebbes 2021-09-01 00:00:00+00:00    0.20     2.58   \n",
       "\n",
       "         pm10_ugg  o3_ppb   pm25_ugg  fidas_t   fidas_rh  \n",
       "222045  36.299999   15.73  29.056700      6.2  91.500000  \n",
       "222046  38.700001   13.41  33.113300      6.1  92.000000  \n",
       "222047  40.700001   10.52  35.000099      6.1  91.900002  \n",
       "222048  36.099998    9.17  30.660500      6.1  91.099998  \n",
       "222049  36.900002    8.78  31.415199      5.9  90.699997  \n",
       "...           ...     ...        ...      ...        ...  \n",
       "280504   8.100000     NaN   5.849100     14.4  79.000000  \n",
       "280505   9.400000     NaN   6.320800     14.4  79.099998  \n",
       "280506   8.700000     NaN   5.754700     14.4  79.199997  \n",
       "280507   8.600000     NaN   5.094400     14.4  79.400002  \n",
       "280508   9.300000     NaN   4.717000     14.4  80.000000  \n",
       "\n",
       "[58464 rows x 10 columns]"
      ]
     },
     "execution_count": 13,
     "metadata": {},
     "output_type": "execute_result"
    }
   ],
   "source": [
    "sebbes"
   ]
  },
  {
   "cell_type": "code",
   "execution_count": 14,
   "metadata": {
    "ExecuteTime": {
     "end_time": "2021-10-12T15:09:19.955393Z",
     "start_time": "2021-10-12T15:09:19.566104Z"
    }
   },
   "outputs": [
    {
     "data": {
      "image/png": "[encoded data removed]",
      "text/plain": [
       "<Figure size 504x504 with 1 Axes>"
      ]
     },
     "metadata": {
      "needs_background": "light"
     },
     "output_type": "display_data"
    }
   ],
   "source": [
    "# Plotting just to compare high st vs st ebbes\n",
    "#----------------------------------------------\n",
    "plt.figure(figsize=(7,7))\n",
    "plt.scatter(sebbes.no2_ppb, highst.no2_ppb)\n",
    "plt.title('NO2 High St vs. St Ebbes 2020')\n",
    "plt.ylabel('NO2 High St (ppb)')\n",
    "plt.xlabel('St Ebbes (ppb)')\n",
    "plt.ylim(-10,100)\n",
    "plt.xlim(-10,100)\n",
    "plt.savefig(pngs+'highst_vs_sebbes_no2_2020-21_sept21_update.png')"
   ]
  },
  {
   "cell_type": "code",
   "execution_count": 15,
   "metadata": {
    "ExecuteTime": {
     "end_time": "2021-10-12T15:09:20.350928Z",
     "start_time": "2021-10-12T15:09:19.956798Z"
    }
   },
   "outputs": [
    {
     "data": {
      "image/png": "[encoded data removed]",
      "text/plain": [
       "<Figure size 504x504 with 1 Axes>"
      ]
     },
     "metadata": {
      "needs_background": "light"
     },
     "output_type": "display_data"
    }
   ],
   "source": [
    "# Plotting just to compare high st vs st ebbes\n",
    "#----------------------------------------------\n",
    "plt.figure(figsize=(7,7))\n",
    "plt.scatter(sebbes.pm10_ugg, highst.pm10_ugg)\n",
    "plt.title('NO2 High St vs. St Ebbes 2020')\n",
    "plt.ylabel('NO2 High St (ppb)')\n",
    "plt.xlabel('St Ebbes (ppb)')\n",
    "plt.ylim(-10,100)\n",
    "plt.xlim(-10,100)\n",
    "plt.savefig(pngs+'highst_vs_sebbes_pm10_2020-21_sept21_update.png')"
   ]
  },
  {
   "cell_type": "code",
   "execution_count": 16,
   "metadata": {
    "ExecuteTime": {
     "end_time": "2021-10-12T15:09:20.363206Z",
     "start_time": "2021-10-12T15:09:20.352138Z"
    }
   },
   "outputs": [
    {
     "data": {
      "text/html": [
       "<div>\n",
       "<style scoped>\n",
       "    .dataframe tbody tr th:only-of-type {\n",
       "        vertical-align: middle;\n",
       "    }\n",
       "\n",
       "    .dataframe tbody tr th {\n",
       "        vertical-align: top;\n",
       "    }\n",
       "\n",
       "    .dataframe thead th {\n",
       "        text-align: right;\n",
       "    }\n",
       "</style>\n",
       "<table border=\"1\" class=\"dataframe\">\n",
       "  <thead>\n",
       "    <tr style=\"text-align: right;\">\n",
       "      <th></th>\n",
       "      <th>sitecode</th>\n",
       "      <th>name</th>\n",
       "      <th>rec</th>\n",
       "      <th>no_ppb</th>\n",
       "      <th>no2_ppb</th>\n",
       "      <th>pm10_ugg</th>\n",
       "      <th>o3_ppb</th>\n",
       "      <th>pm25_ugg</th>\n",
       "      <th>fidas_t</th>\n",
       "      <th>fidas_rh</th>\n",
       "    </tr>\n",
       "  </thead>\n",
       "  <tbody>\n",
       "    <tr>\n",
       "      <th>128542</th>\n",
       "      <td>OX6</td>\n",
       "      <td>Oxford High St</td>\n",
       "      <td>2020-01-01 00:15:00+00:00</td>\n",
       "      <td>3.37</td>\n",
       "      <td>14.360000</td>\n",
       "      <td>47.400002</td>\n",
       "      <td>NaN</td>\n",
       "      <td>NaN</td>\n",
       "      <td>NaN</td>\n",
       "      <td>NaN</td>\n",
       "    </tr>\n",
       "    <tr>\n",
       "      <th>128543</th>\n",
       "      <td>OX6</td>\n",
       "      <td>Oxford High St</td>\n",
       "      <td>2020-01-01 00:30:00+00:00</td>\n",
       "      <td>6.23</td>\n",
       "      <td>16.760000</td>\n",
       "      <td>47.700001</td>\n",
       "      <td>NaN</td>\n",
       "      <td>NaN</td>\n",
       "      <td>NaN</td>\n",
       "      <td>NaN</td>\n",
       "    </tr>\n",
       "    <tr>\n",
       "      <th>128544</th>\n",
       "      <td>OX6</td>\n",
       "      <td>Oxford High St</td>\n",
       "      <td>2020-01-01 00:45:00+00:00</td>\n",
       "      <td>7.56</td>\n",
       "      <td>18.070000</td>\n",
       "      <td>35.799999</td>\n",
       "      <td>NaN</td>\n",
       "      <td>NaN</td>\n",
       "      <td>NaN</td>\n",
       "      <td>NaN</td>\n",
       "    </tr>\n",
       "    <tr>\n",
       "      <th>128545</th>\n",
       "      <td>OX6</td>\n",
       "      <td>Oxford High St</td>\n",
       "      <td>2020-01-01 01:00:00+00:00</td>\n",
       "      <td>NaN</td>\n",
       "      <td>NaN</td>\n",
       "      <td>32.799999</td>\n",
       "      <td>NaN</td>\n",
       "      <td>NaN</td>\n",
       "      <td>NaN</td>\n",
       "      <td>NaN</td>\n",
       "    </tr>\n",
       "    <tr>\n",
       "      <th>128546</th>\n",
       "      <td>OX6</td>\n",
       "      <td>Oxford High St</td>\n",
       "      <td>2020-01-01 01:15:00+00:00</td>\n",
       "      <td>NaN</td>\n",
       "      <td>NaN</td>\n",
       "      <td>32.400002</td>\n",
       "      <td>NaN</td>\n",
       "      <td>NaN</td>\n",
       "      <td>NaN</td>\n",
       "      <td>NaN</td>\n",
       "    </tr>\n",
       "    <tr>\n",
       "      <th>...</th>\n",
       "      <td>...</td>\n",
       "      <td>...</td>\n",
       "      <td>...</td>\n",
       "      <td>...</td>\n",
       "      <td>...</td>\n",
       "      <td>...</td>\n",
       "      <td>...</td>\n",
       "      <td>...</td>\n",
       "      <td>...</td>\n",
       "      <td>...</td>\n",
       "    </tr>\n",
       "    <tr>\n",
       "      <th>187001</th>\n",
       "      <td>OX6</td>\n",
       "      <td>Oxford High St</td>\n",
       "      <td>2021-08-31 23:00:00+00:00</td>\n",
       "      <td>18.10</td>\n",
       "      <td>17.299999</td>\n",
       "      <td>14.700000</td>\n",
       "      <td>NaN</td>\n",
       "      <td>NaN</td>\n",
       "      <td>NaN</td>\n",
       "      <td>NaN</td>\n",
       "    </tr>\n",
       "    <tr>\n",
       "      <th>187002</th>\n",
       "      <td>OX6</td>\n",
       "      <td>Oxford High St</td>\n",
       "      <td>2021-08-31 23:15:00+00:00</td>\n",
       "      <td>8.00</td>\n",
       "      <td>12.700000</td>\n",
       "      <td>16.900000</td>\n",
       "      <td>NaN</td>\n",
       "      <td>NaN</td>\n",
       "      <td>NaN</td>\n",
       "      <td>NaN</td>\n",
       "    </tr>\n",
       "    <tr>\n",
       "      <th>187003</th>\n",
       "      <td>OX6</td>\n",
       "      <td>Oxford High St</td>\n",
       "      <td>2021-08-31 23:30:00+00:00</td>\n",
       "      <td>6.60</td>\n",
       "      <td>8.300000</td>\n",
       "      <td>11.600000</td>\n",
       "      <td>NaN</td>\n",
       "      <td>NaN</td>\n",
       "      <td>NaN</td>\n",
       "      <td>NaN</td>\n",
       "    </tr>\n",
       "    <tr>\n",
       "      <th>187004</th>\n",
       "      <td>OX6</td>\n",
       "      <td>Oxford High St</td>\n",
       "      <td>2021-08-31 23:45:00+00:00</td>\n",
       "      <td>6.80</td>\n",
       "      <td>7.600000</td>\n",
       "      <td>11.300000</td>\n",
       "      <td>NaN</td>\n",
       "      <td>NaN</td>\n",
       "      <td>NaN</td>\n",
       "      <td>NaN</td>\n",
       "    </tr>\n",
       "    <tr>\n",
       "      <th>187005</th>\n",
       "      <td>OX6</td>\n",
       "      <td>Oxford High St</td>\n",
       "      <td>2021-09-01 00:00:00+00:00</td>\n",
       "      <td>4.20</td>\n",
       "      <td>6.400000</td>\n",
       "      <td>15.300000</td>\n",
       "      <td>NaN</td>\n",
       "      <td>NaN</td>\n",
       "      <td>NaN</td>\n",
       "      <td>NaN</td>\n",
       "    </tr>\n",
       "  </tbody>\n",
       "</table>\n",
       "<p>58464 rows × 10 columns</p>\n",
       "</div>"
      ],
      "text/plain": [
       "       sitecode            name                       rec  no_ppb    no2_ppb  \\\n",
       "128542      OX6  Oxford High St 2020-01-01 00:15:00+00:00    3.37  14.360000   \n",
       "128543      OX6  Oxford High St 2020-01-01 00:30:00+00:00    6.23  16.760000   \n",
       "128544      OX6  Oxford High St 2020-01-01 00:45:00+00:00    7.56  18.070000   \n",
       "128545      OX6  Oxford High St 2020-01-01 01:00:00+00:00     NaN        NaN   \n",
       "128546      OX6  Oxford High St 2020-01-01 01:15:00+00:00     NaN        NaN   \n",
       "...         ...             ...                       ...     ...        ...   \n",
       "187001      OX6  Oxford High St 2021-08-31 23:00:00+00:00   18.10  17.299999   \n",
       "187002      OX6  Oxford High St 2021-08-31 23:15:00+00:00    8.00  12.700000   \n",
       "187003      OX6  Oxford High St 2021-08-31 23:30:00+00:00    6.60   8.300000   \n",
       "187004      OX6  Oxford High St 2021-08-31 23:45:00+00:00    6.80   7.600000   \n",
       "187005      OX6  Oxford High St 2021-09-01 00:00:00+00:00    4.20   6.400000   \n",
       "\n",
       "         pm10_ugg  o3_ppb  pm25_ugg  fidas_t  fidas_rh  \n",
       "128542  47.400002     NaN       NaN      NaN       NaN  \n",
       "128543  47.700001     NaN       NaN      NaN       NaN  \n",
       "128544  35.799999     NaN       NaN      NaN       NaN  \n",
       "128545  32.799999     NaN       NaN      NaN       NaN  \n",
       "128546  32.400002     NaN       NaN      NaN       NaN  \n",
       "...           ...     ...       ...      ...       ...  \n",
       "187001  14.700000     NaN       NaN      NaN       NaN  \n",
       "187002  16.900000     NaN       NaN      NaN       NaN  \n",
       "187003  11.600000     NaN       NaN      NaN       NaN  \n",
       "187004  11.300000     NaN       NaN      NaN       NaN  \n",
       "187005  15.300000     NaN       NaN      NaN       NaN  \n",
       "\n",
       "[58464 rows x 10 columns]"
      ]
     },
     "execution_count": 16,
     "metadata": {},
     "output_type": "execute_result"
    }
   ],
   "source": [
    "highst"
   ]
  },
  {
   "cell_type": "code",
   "execution_count": 17,
   "metadata": {
    "ExecuteTime": {
     "end_time": "2021-10-12T15:09:20.368531Z",
     "start_time": "2021-10-12T15:09:20.364289Z"
    }
   },
   "outputs": [],
   "source": [
    "df= highst.copy(deep=True)"
   ]
  },
  {
   "cell_type": "code",
   "execution_count": 18,
   "metadata": {
    "ExecuteTime": {
     "end_time": "2021-10-12T15:09:20.668760Z",
     "start_time": "2021-10-12T15:09:20.370042Z"
    }
   },
   "outputs": [
    {
     "data": {
      "text/plain": [
       "(-10.0, 100.0)"
      ]
     },
     "execution_count": 18,
     "metadata": {},
     "output_type": "execute_result"
    },
    {
     "data": {
      "image/png": "[encoded data removed]",
      "text/plain": [
       "<Figure size 504x504 with 1 Axes>"
      ]
     },
     "metadata": {
      "needs_background": "light"
     },
     "output_type": "display_data"
    }
   ],
   "source": [
    "# Plotting just to compare high st vs st ebbes\n",
    "#----------------------------------------------\n",
    "plt.figure(figsize=(7,7))\n",
    "df['pm10_ugg'] = np.where(df['pm10_ugg'] < 3, np.nan, df['pm10_ugg'])\n",
    "plt.scatter(sebbes.pm10_ugg, df.pm10_ugg)\n",
    "plt.title('NO2 High St vs. St Ebbes 2020')\n",
    "plt.ylabel('NO2 High St (ppb)')\n",
    "plt.xlabel('St Ebbes (ppb)')\n",
    "plt.ylim(-10,100)\n",
    "plt.xlim(-10,100)\n",
    "#plt.savefig(pngs+'highst_vs_sebbes_pm10_2020-21_sept21_update.png')"
   ]
  },
  {
   "cell_type": "code",
   "execution_count": 19,
   "metadata": {
    "ExecuteTime": {
     "end_time": "2021-10-12T15:09:20.735473Z",
     "start_time": "2021-10-12T15:09:20.670519Z"
    }
   },
   "outputs": [
    {
     "name": "stdout",
     "output_type": "stream",
     "text": [
      "Ratified data 2020, provisional jan to may 2021\n",
      "No.of 15min periods across Oxaria network where no2 diff is <= 2ugm-3: 4032\n",
      "No.of 15min periods across Oxaria network where pm10 diff is <= 2ugm-3: 9501\n"
     ]
    }
   ],
   "source": [
    "# Merge St Ebbes & High St auto datasets & calc diff in no2 & pm10\n",
    "#------------------------------------------------------------------\n",
    "# Remove pm10_ugg <3 ugm-3 which persist because highst data are unratified\n",
    "highst['pm10_ugg'] = np.where(highst['pm10_ugg'] < 3, np.nan, df['pm10_ugg'])\n",
    "\n",
    "# Merge\n",
    "auto_merged = sebbes.merge(highst,on='rec',copy=True,suffixes=('_s','_h'))\n",
    "# Calc absolute diffs of no2 & pm10\n",
    "auto_merged['abs_no2_diff'] = abs(auto_merged['no2_ppb_s']-auto_merged['no2_ppb_h'])\n",
    "auto_merged['abs_pm10_diff'] = abs(auto_merged['pm10_ugg_s']-auto_merged['pm10_ugg_h'])\n",
    "# Get list of dates when diffs <=1ppb & 2ugm-3 respectively\n",
    "convergent_no2 = list(auto_merged.query('abs_no2_diff <= 1')['rec'])\n",
    "convergent_pm10 = list(auto_merged.query('abs_pm10_diff <= 2')['rec'])\n",
    "auto_merged.to_feather(data_home+'auto_merged_ratified+2021_sept_update.ftr')\n",
    "\n",
    "# Save lists as pickle files to be used later\n",
    "with open(data_home+'convergent_datelist_no2+2021_sept_update.pkl', 'wb') as f:\n",
    "    pickle.dump(convergent_no2, f)\n",
    "    \n",
    "with open(data_home+'convergent_datelist_pm10+2021_sept_update.pkl', 'wb') as f:\n",
    "    pickle.dump(convergent_pm10, f)\n",
    "\n",
    "# For info\n",
    "print('Ratified data 2020, provisional jan to may 2021')\n",
    "print('No.of 15min periods across Oxaria network where no2 diff is <= 2ugm-3: '+str(len(convergent_no2)))\n",
    "print('No.of 15min periods across Oxaria network where pm10 diff is <= 2ugm-3: '+str(len(convergent_pm10)))\n"
   ]
  }
 ],
 "metadata": {
  "kernelspec": {
   "display_name": "Python [conda env:qoax] *",
   "language": "python",
   "name": "conda-env-qoax-py"
  },
  "language_info": {
   "codemirror_mode": {
    "name": "ipython",
    "version": 3
   },
   "file_extension": ".py",
   "mimetype": "text/x-python",
   "name": "python",
   "nbconvert_exporter": "python",
   "pygments_lexer": "ipython3",
   "version": "3.8.6"
  },
  "toc": {
   "base_numbering": 1,
   "nav_menu": {},
   "number_sections": true,
   "sideBar": true,
   "skip_h1_title": false,
   "title_cell": "Table of Contents",
   "title_sidebar": "Contents",
   "toc_cell": false,
   "toc_position": {},
   "toc_section_display": true,
   "toc_window_display": false
  }
 },
 "nbformat": 4,
 "nbformat_minor": 4
}
