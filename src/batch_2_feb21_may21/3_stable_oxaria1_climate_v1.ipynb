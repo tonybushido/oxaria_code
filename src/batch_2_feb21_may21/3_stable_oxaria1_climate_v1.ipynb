{
 "cells": [
  {
   "cell_type": "code",
   "execution_count": 7,
   "metadata": {
    "ExecuteTime": {
     "end_time": "2021-07-05T21:39:15.008094Z",
     "start_time": "2021-07-05T21:39:15.004609Z"
    }
   },
   "outputs": [],
   "source": [
    "# Imports\n",
    "# ---------\n",
    "import sys\n",
    "import pandas as pd\n",
    "import numpy as np\n",
    "import feather\n",
    "import os\n",
    "import gc\n",
    "import datetime as dt\n",
    "import matplotlib.pyplot as plt\n",
    "import matplotlib.dates as mdates\n",
    "from pandas.plotting import register_matplotlib_converters\n",
    "import matplotlib.ticker as ticker\n",
    "from matplotlib.dates import DateFormatter\n",
    "import matplotlib as mpl\n",
    "from datetime import timezone\n",
    "\n",
    "register_matplotlib_converters()\n",
    "\n",
    "# File locations\n",
    "# ----------------\n",
    "the_gases = './oxaria/processed/batch_2_feb21_may21/'\n",
    "pngs = './oxaria/data/pngs/gap_filling/'"
   ]
  },
  {
   "cell_type": "code",
   "execution_count": 11,
   "metadata": {
    "ExecuteTime": {
     "end_time": "2021-07-05T21:41:39.986518Z",
     "start_time": "2021-07-05T21:41:39.241612Z"
    }
   },
   "outputs": [
    {
     "name": "stdout",
     "output_type": "stream",
     "text": [
      "<class 'pandas.core.frame.DataFrame'>\n",
      "MultiIndex: 1704883 entries, ('scs-bgx-536', Timestamp('2021-01-01 00:00:11+0000', tz='UTC')) to ('scs-bgx-543', Timestamp('2021-05-31 23:59:48+0000', tz='UTC'))\n",
      "Data columns (total 3 columns):\n",
      " #   Column       Dtype  \n",
      "---  ------       -----  \n",
      " 0   val.hmd      float32\n",
      " 1   val.tmp      float32\n",
      " 2   insert_date  object \n",
      "dtypes: float32(2), object(1)\n",
      "memory usage: 127.2+ MB\n"
     ]
    }
   ],
   "source": [
    "# Load the df\n",
    "# -------------\n",
    "oxaria1_climate = pd.read_feather(\n",
    "    the_gases+'oxaria1_climate_q12021_gf.ftr').set_index(['tag', 'rec'])\n",
    "oxaria1_climate_lt = oxaria1_climate.iloc[:, [0, 1, 3]]\n",
    "del oxaria1_climate\n",
    "\n",
    "# Checking out the data types \n",
    "#-----------------------------\n",
    "oxaria1_climate_lt.info()\n"
   ]
  },
  {
   "cell_type": "code",
   "execution_count": 9,
   "metadata": {
    "ExecuteTime": {
     "end_time": "2021-07-05T21:39:20.594613Z",
     "start_time": "2021-07-05T21:39:15.764646Z"
    }
   },
   "outputs": [],
   "source": [
    "# Some cleaning incase have missed anything\n",
    "#-------------------------------------------\n",
    "oxaria1_climate_lt = oxaria1_climate_lt[~oxaria1_climate.index.duplicated(keep='last')]\n",
    "oxaria1_climate_lt = oxaria1_climate_lt.reset_index()\n",
    "oxaria1_climate_lt = oxaria1_climate_lt.dropna(axis=0,subset=['tag']).set_index(['tag','rec']).sort_index()"
   ]
  },
  {
   "cell_type": "code",
   "execution_count": 10,
   "metadata": {
    "ExecuteTime": {
     "end_time": "2021-07-05T21:39:31.031279Z",
     "start_time": "2021-07-05T21:39:30.827779Z"
    }
   },
   "outputs": [],
   "source": [
    "# Save the df\n",
    "# -------------\n",
    "# There don't seem to be any outages that need removing so just saving\n",
    "oxaria1_climate_lt.reset_index().to_feather(\n",
    "    the_gases+'oxaria1_climate_stable_536_q12021.ftr')"
   ]
  }
 ],
 "metadata": {
  "kernelspec": {
   "display_name": "Python [conda env:qoax] *",
   "language": "python",
   "name": "conda-env-qoax-py"
  },
  "language_info": {
   "codemirror_mode": {
    "name": "ipython",
    "version": 3
   },
   "file_extension": ".py",
   "mimetype": "text/x-python",
   "name": "python",
   "nbconvert_exporter": "python",
   "pygments_lexer": "ipython3",
   "version": "3.8.6"
  },
  "toc": {
   "base_numbering": 1,
   "nav_menu": {},
   "number_sections": true,
   "sideBar": true,
   "skip_h1_title": false,
   "title_cell": "Table of Contents",
   "title_sidebar": "Contents",
   "toc_cell": false,
   "toc_position": {},
   "toc_section_display": true,
   "toc_window_display": false
  },
  "varInspector": {
   "cols": {
    "lenName": 16,
    "lenType": 16,
    "lenVar": 40
   },
   "kernels_config": {
    "python": {
     "delete_cmd_postfix": "",
     "delete_cmd_prefix": "del ",
     "library": "var_list.py",
     "varRefreshCmd": "print(var_dic_list())"
    },
    "r": {
     "delete_cmd_postfix": ") ",
     "delete_cmd_prefix": "rm(",
     "library": "var_list.r",
     "varRefreshCmd": "cat(var_dic_list()) "
    }
   },
   "types_to_exclude": [
    "module",
    "function",
    "builtin_function_or_method",
    "instance",
    "_Feature"
   ],
   "window_display": false
  }
 },
 "nbformat": 4,
 "nbformat_minor": 4
}
