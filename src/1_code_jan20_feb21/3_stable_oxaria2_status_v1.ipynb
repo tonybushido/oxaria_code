{
 "cells": [
  {
   "cell_type": "code",
   "execution_count": 1,
   "metadata": {
    "ExecuteTime": {
     "end_time": "2021-06-29T09:17:56.439442Z",
     "start_time": "2021-06-29T09:17:55.946491Z"
    }
   },
   "outputs": [],
   "source": [
    "# Imports\n",
    "#---------\n",
    "import sys\n",
    "import pandas as pd\n",
    "import numpy as np\n",
    "import feather\n",
    "import os\n",
    "import gc\n",
    "import datetime as dt\n",
    "import matplotlib.pyplot as plt\n",
    "import matplotlib.dates as mdates\n",
    "from pandas.plotting import register_matplotlib_converters\n",
    "import matplotlib.ticker as ticker\n",
    "from matplotlib.dates import DateFormatter\n",
    "import matplotlib as mpl\n",
    "from datetime import timezone\n",
    "\n",
    "register_matplotlib_converters()\n",
    "\n",
    "# File locations\n",
    "#----------------\n",
    "the_gases = '/home/tonyb/Gdrive/MinicondaProjects/oxaria/data/raw/2oxaria/json/gap_filling/'\n",
    "pngs = '/home/tonyb/Gdrive/MinicondaProjects/oxaria/data/pngs/gap_filling/'\n"
   ]
  },
  {
   "cell_type": "code",
   "execution_count": 2,
   "metadata": {
    "ExecuteTime": {
     "end_time": "2021-06-29T09:18:02.178975Z",
     "start_time": "2021-06-29T09:17:56.441012Z"
    }
   },
   "outputs": [],
   "source": [
    "# Load the df \n",
    "#-------------\n",
    "oxaria2_status = pd.read_feather(the_gases+'oxaria2_status_gf.ftr').set_index(['tag','rec']).sort_index()\n",
    "oxaria2_status_lt = oxaria2_status.iloc[:,[12,13,14,15,16,17,18,19,20,21,22,23,24,25,26,27]]\n",
    "del oxaria2_status\n"
   ]
  },
  {
   "cell_type": "code",
   "execution_count": 3,
   "metadata": {
    "ExecuteTime": {
     "end_time": "2021-06-29T09:18:02.271285Z",
     "start_time": "2021-06-29T09:18:02.181974Z"
    }
   },
   "outputs": [
    {
     "name": "stdout",
     "output_type": "stream",
     "text": [
      "\n",
      "Loading Oxaria2 climate...\n",
      "\n",
      "<class 'pandas.core.frame.DataFrame'>\n",
      "MultiIndex: 4254074 entries, ('scs-bgx-550', Timestamp('2020-03-09 10:31:48+0000', tz='UTC')) to ('scs-bgx-559', Timestamp('2021-02-28 23:59:37+0000', tz='UTC'))\n",
      "Data columns (total 16 columns):\n",
      " #   Column             Dtype  \n",
      "---  ------             -----  \n",
      " 0   val.up.load.av15   float32\n",
      " 1   val.up.load.av1    float32\n",
      " 2   val.up.load.av5    float32\n",
      " 3   val.up.period      object \n",
      " 4   val.up.users       float32\n",
      " 5   val.psu.prot-batt  float32\n",
      " 6   val.psu.rst        float32\n",
      " 7   val.psu.chg        float32\n",
      " 8   val.psu.standby    object \n",
      " 9   val.psu.pwr-in     float32\n",
      " 10  val.psu.host-3v3   float32\n",
      " 11  val.psu.batt-flt   object \n",
      " 12  val.tz.name        object \n",
      " 13  val.tz.utc-offset  object \n",
      " 14  val.tmp.brd        float32\n",
      " 15  name               object \n",
      "dtypes: float32(10), object(6)\n",
      "memory usage: 564.2+ MB\n"
     ]
    }
   ],
   "source": [
    "# Checking out the data types \n",
    "#-----------------------------\n",
    "print('\\n'+'Loading Oxaria2 climate...\\n')\n",
    "oxaria2_status_lt.info()\n"
   ]
  },
  {
   "cell_type": "code",
   "execution_count": 4,
   "metadata": {
    "ExecuteTime": {
     "end_time": "2021-06-29T09:18:18.342292Z",
     "start_time": "2021-06-29T09:18:02.273982Z"
    }
   },
   "outputs": [
    {
     "name": "stdout",
     "output_type": "stream",
     "text": [
      "\n",
      " Cleaning duplicates & NAs in index (if any)...\n",
      "\n"
     ]
    }
   ],
   "source": [
    "# Some cleaning incase have missed anything\n",
    "#-------------------------------------------\n",
    "oxaria2_status_lt = oxaria2_status_lt[~oxaria2_status_lt.index.duplicated(keep='last')]\n",
    "oxaria2_status_lt = oxaria2_status_lt.reset_index()\n",
    "oxaria2_status_lt = oxaria2_status_lt.dropna(axis=0,subset=['tag']).set_index(['tag','rec'])\n",
    "oxaria2_status_lt.sort_index()\n",
    "print('\\n Cleaning duplicates & NAs in index (if any)...\\n')"
   ]
  },
  {
   "cell_type": "code",
   "execution_count": 5,
   "metadata": {
    "ExecuteTime": {
     "end_time": "2021-06-29T09:18:18.525165Z",
     "start_time": "2021-06-29T09:18:18.343987Z"
    }
   },
   "outputs": [
    {
     "name": "stdout",
     "output_type": "stream",
     "text": [
      "\n",
      " Unique tags loaded...\n",
      " \n",
      " Index(['scs-bgx-550', 'scs-bgx-551', 'scs-bgx-552', 'scs-bgx-553',\n",
      "       'scs-bgx-554', 'scs-bgx-555', 'scs-bgx-556', 'scs-bgx-557',\n",
      "       'scs-bgx-558', 'scs-bgx-559'],\n",
      "      dtype='object', name='tag')\n"
     ]
    }
   ],
   "source": [
    "# Get a list of unique tags\n",
    "#---------------------------\n",
    "tags = oxaria2_status_lt.index.get_level_values(0).unique()\n",
    "print('\\n Unique tags loaded...\\n \\n', tags)"
   ]
  },
  {
   "cell_type": "code",
   "execution_count": 6,
   "metadata": {
    "ExecuteTime": {
     "end_time": "2021-06-29T09:18:18.531436Z",
     "start_time": "2021-06-29T09:18:18.528186Z"
    }
   },
   "outputs": [
    {
     "name": "stdout",
     "output_type": "stream",
     "text": [
      "\n",
      " Applying variable start date filters of each sensor...\n",
      " \n",
      "{'scs-bgx-550': datetime.datetime(2020, 12, 15, 0, 0, tzinfo=datetime.timezone.utc), 'scs-bgx-551': datetime.datetime(2020, 7, 20, 0, 0, tzinfo=datetime.timezone.utc), 'scs-bgx-552': datetime.datetime(2020, 12, 15, 0, 0, tzinfo=datetime.timezone.utc), 'scs-bgx-553': datetime.datetime(2020, 7, 1, 0, 0, tzinfo=datetime.timezone.utc), 'scs-bgx-554': datetime.datetime(2020, 7, 1, 0, 0, tzinfo=datetime.timezone.utc), 'scs-bgx-555': datetime.datetime(2020, 12, 15, 0, 0, tzinfo=datetime.timezone.utc), 'scs-bgx-556': datetime.datetime(2020, 7, 20, 0, 0, tzinfo=datetime.timezone.utc), 'scs-bgx-557': datetime.datetime(2020, 7, 1, 0, 0, tzinfo=datetime.timezone.utc), 'scs-bgx-558': datetime.datetime(2020, 12, 15, 0, 0, tzinfo=datetime.timezone.utc), 'scs-bgx-559': datetime.datetime(2020, 12, 15, 0, 0, tzinfo=datetime.timezone.utc)}\n"
     ]
    }
   ],
   "source": [
    "# Start dates for the devices\n",
    "#-----------------------------\n",
    "start_dates = ['2020-12-15T00:00:00','2020-07-20T00:00:00','2020-12-15T00:00:00','2020-07-01T00:00:00', \\\n",
    "               '2020-07-01T00:00:00','2020-12-15T00:00:00','2020-07-20T00:00:00','2020-07-01T00:00:00', \\\n",
    "               '2020-12-15T00:00:00','2020-12-15T00:00:00']\n",
    "dates_list = [dt.datetime.fromisoformat(date).replace(tzinfo=timezone.utc) for date in start_dates]\n",
    "\n",
    "# Gen dict of tags & start dates\n",
    "#--------------------------------\n",
    "dates_dict = dict(zip(tags,dates_list))\n",
    "print('\\n Applying variable start date filters of each sensor...\\n \\n'+str(dates_dict))"
   ]
  },
  {
   "cell_type": "code",
   "execution_count": 10,
   "metadata": {
    "ExecuteTime": {
     "end_time": "2021-06-29T12:29:21.465484Z",
     "start_time": "2021-06-29T12:29:18.377137Z"
    }
   },
   "outputs": [
    {
     "name": "stdout",
     "output_type": "stream",
     "text": [
      "\n",
      " Applying start date filters...\n",
      "\n",
      "<class 'pandas.core.frame.DataFrame'>\n",
      "MultiIndex: 2000435 entries, ('scs-bgx-550', Timestamp('2020-12-23 14:59:33+0000', tz='UTC')) to ('scs-bgx-559', Timestamp('2021-02-28 23:59:37+0000', tz='UTC'))\n",
      "Data columns (total 16 columns):\n",
      " #   Column             Dtype  \n",
      "---  ------             -----  \n",
      " 0   val.up.load.av15   float32\n",
      " 1   val.up.load.av1    float32\n",
      " 2   val.up.load.av5    float32\n",
      " 3   val.up.period      object \n",
      " 4   val.up.users       float32\n",
      " 5   val.psu.prot-batt  float32\n",
      " 6   val.psu.rst        float32\n",
      " 7   val.psu.chg        float32\n",
      " 8   val.psu.standby    object \n",
      " 9   val.psu.pwr-in     float32\n",
      " 10  val.psu.host-3v3   float32\n",
      " 11  val.psu.batt-flt   object \n",
      " 12  val.tz.name        object \n",
      " 13  val.tz.utc-offset  object \n",
      " 14  val.tmp.brd        float32\n",
      " 15  name               object \n",
      "dtypes: float32(10), object(6)\n",
      "memory usage: 270.6+ MB\n",
      "None\n",
      "\n",
      " Writing to  /home/tonyb/Gdrive/MinicondaProjects/oxaria/data/raw/2oxaria/json/gap_filling/oxaria2_status_stable_356_2feb21.ftr\n",
      "\n",
      "All done! 😀\n"
     ]
    }
   ],
   "source": [
    "# Select periods of stable operation from the df of all gases sesnor data\n",
    "#-------------------------------------------------------------------------\n",
    "print('\\n Applying start date filters...\\n')\n",
    "\n",
    "tmp = []\n",
    "\n",
    "for k,v in dates_dict.items():\n",
    "    df = oxaria2_status_lt.query('tag == @k & rec >= @v')\n",
    "    tmp.append(df)\n",
    "tmpdf = pd.concat(tmp)\n",
    "print(tmpdf.info())\n",
    "\n",
    "# Save the df \n",
    "#-------------\n",
    "print('\\n Writing to  '+the_gases+'oxaria2_status_stable_356_2feb21.ftr\\n')\n",
    "tmpdf.reset_index().to_feather(the_gases+'oxaria2_status_stable_356_2feb21.ftr')\n",
    "print('All done! \\U0001F600')"
   ]
  }
 ],
 "metadata": {
  "kernelspec": {
   "display_name": "Python [conda env:qoax] *",
   "language": "python",
   "name": "conda-env-qoax-py"
  },
  "language_info": {
   "codemirror_mode": {
    "name": "ipython",
    "version": 3
   },
   "file_extension": ".py",
   "mimetype": "text/x-python",
   "name": "python",
   "nbconvert_exporter": "python",
   "pygments_lexer": "ipython3",
   "version": "3.8.6"
  },
  "toc": {
   "base_numbering": 1,
   "nav_menu": {},
   "number_sections": true,
   "sideBar": true,
   "skip_h1_title": false,
   "title_cell": "Table of Contents",
   "title_sidebar": "Contents",
   "toc_cell": false,
   "toc_position": {},
   "toc_section_display": true,
   "toc_window_display": false
  },
  "varInspector": {
   "cols": {
    "lenName": 16,
    "lenType": 16,
    "lenVar": 40
   },
   "kernels_config": {
    "python": {
     "delete_cmd_postfix": "",
     "delete_cmd_prefix": "del ",
     "library": "var_list.py",
     "varRefreshCmd": "print(var_dic_list())"
    },
    "r": {
     "delete_cmd_postfix": ") ",
     "delete_cmd_prefix": "rm(",
     "library": "var_list.r",
     "varRefreshCmd": "cat(var_dic_list()) "
    }
   },
   "types_to_exclude": [
    "module",
    "function",
    "builtin_function_or_method",
    "instance",
    "_Feature"
   ],
   "window_display": false
  }
 },
 "nbformat": 4,
 "nbformat_minor": 4
}
